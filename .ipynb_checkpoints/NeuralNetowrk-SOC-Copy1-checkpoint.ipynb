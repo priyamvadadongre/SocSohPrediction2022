{
 "cells": [
  {
   "cell_type": "code",
   "execution_count": 170,
   "id": "01df10a3",
   "metadata": {},
   "outputs": [],
   "source": [
    "import numpy as np\n",
    "import pandas as pd\n",
    "import matplotlib.pyplot as plt\n",
    "import pyswarms as ps\n",
    "import random\n",
    "from pandas import DataFrame\n",
    "from pandas import concat\n",
    "from sklearn.preprocessing import MinMaxScaler\n",
    "\n",
    "from scipy.optimize import differential_evolution\n",
    "\n",
    "from sklearn.compose import ColumnTransformer\n",
    "from sklearn.linear_model import LinearRegression\n",
    "from sklearn.model_selection import train_test_split\n",
    "from sklearn.preprocessing import StandardScaler\n",
    "from sklearn.metrics import mean_squared_error"
   ]
  },
  {
   "cell_type": "code",
   "execution_count": 171,
   "id": "2e8c5652",
   "metadata": {},
   "outputs": [],
   "source": [
    "Rand = 42\n",
    "random.seed(Rand)\n",
    "np.random.seed(Rand)"
   ]
  },
  {
   "cell_type": "code",
   "execution_count": 172,
   "id": "cc1b4fad",
   "metadata": {},
   "outputs": [
    {
     "data": {
      "text/html": [
       "<div>\n",
       "<style scoped>\n",
       "    .dataframe tbody tr th:only-of-type {\n",
       "        vertical-align: middle;\n",
       "    }\n",
       "\n",
       "    .dataframe tbody tr th {\n",
       "        vertical-align: top;\n",
       "    }\n",
       "\n",
       "    .dataframe thead th {\n",
       "        text-align: right;\n",
       "    }\n",
       "</style>\n",
       "<table border=\"1\" class=\"dataframe\">\n",
       "  <thead>\n",
       "    <tr style=\"text-align: right;\">\n",
       "      <th></th>\n",
       "      <th>TimeStamp</th>\n",
       "      <th>Voltage</th>\n",
       "      <th>Current</th>\n",
       "      <th>Full charge Capacity</th>\n",
       "      <th>Remaining Capacity</th>\n",
       "      <th>Cell 1 Voltage</th>\n",
       "      <th>Cell 2 Voltage</th>\n",
       "      <th>Relative State of Charge</th>\n",
       "    </tr>\n",
       "  </thead>\n",
       "  <tbody>\n",
       "    <tr>\n",
       "      <th>0</th>\n",
       "      <td>2021-08-16 16:59:15.766</td>\n",
       "      <td>8472</td>\n",
       "      <td>0</td>\n",
       "      <td>4888</td>\n",
       "      <td>4888</td>\n",
       "      <td>4220</td>\n",
       "      <td>4251</td>\n",
       "      <td>100</td>\n",
       "    </tr>\n",
       "    <tr>\n",
       "      <th>1</th>\n",
       "      <td>2021-08-16 16:59:17.768</td>\n",
       "      <td>8472</td>\n",
       "      <td>0</td>\n",
       "      <td>4888</td>\n",
       "      <td>4888</td>\n",
       "      <td>4220</td>\n",
       "      <td>4251</td>\n",
       "      <td>100</td>\n",
       "    </tr>\n",
       "    <tr>\n",
       "      <th>2</th>\n",
       "      <td>2021-08-16 16:59:19.766</td>\n",
       "      <td>8472</td>\n",
       "      <td>0</td>\n",
       "      <td>4888</td>\n",
       "      <td>4888</td>\n",
       "      <td>4220</td>\n",
       "      <td>4251</td>\n",
       "      <td>100</td>\n",
       "    </tr>\n",
       "    <tr>\n",
       "      <th>3</th>\n",
       "      <td>2021-08-16 16:59:21.766</td>\n",
       "      <td>8471</td>\n",
       "      <td>0</td>\n",
       "      <td>4888</td>\n",
       "      <td>4888</td>\n",
       "      <td>4220</td>\n",
       "      <td>4251</td>\n",
       "      <td>100</td>\n",
       "    </tr>\n",
       "    <tr>\n",
       "      <th>4</th>\n",
       "      <td>2021-08-16 16:59:23.766</td>\n",
       "      <td>8471</td>\n",
       "      <td>0</td>\n",
       "      <td>4888</td>\n",
       "      <td>4888</td>\n",
       "      <td>4220</td>\n",
       "      <td>4251</td>\n",
       "      <td>100</td>\n",
       "    </tr>\n",
       "  </tbody>\n",
       "</table>\n",
       "</div>"
      ],
      "text/plain": [
       "                 TimeStamp  Voltage  Current  Full charge Capacity  \\\n",
       "0  2021-08-16 16:59:15.766     8472        0                  4888   \n",
       "1  2021-08-16 16:59:17.768     8472        0                  4888   \n",
       "2  2021-08-16 16:59:19.766     8472        0                  4888   \n",
       "3  2021-08-16 16:59:21.766     8471        0                  4888   \n",
       "4  2021-08-16 16:59:23.766     8471        0                  4888   \n",
       "\n",
       "   Remaining Capacity  Cell 1 Voltage  Cell 2 Voltage  \\\n",
       "0                4888            4220            4251   \n",
       "1                4888            4220            4251   \n",
       "2                4888            4220            4251   \n",
       "3                4888            4220            4251   \n",
       "4                4888            4220            4251   \n",
       "\n",
       "   Relative State of Charge  \n",
       "0                       100  \n",
       "1                       100  \n",
       "2                       100  \n",
       "3                       100  \n",
       "4                       100  "
      ]
     },
     "execution_count": 172,
     "metadata": {},
     "output_type": "execute_result"
    }
   ],
   "source": [
    "from pandas import read_csv\n",
    "from matplotlib import pyplot\n",
    "# load dataset\n",
    "dataset = read_csv('soc1.csv')\n",
    "\n",
    "dataset.head()"
   ]
  },
  {
   "cell_type": "code",
   "execution_count": 173,
   "id": "306e6e10",
   "metadata": {},
   "outputs": [
    {
     "name": "stdout",
     "output_type": "stream",
     "text": [
      "                         Voltage  Current  Full charge Capacity  \\\n",
      "TimeStamp                                                         \n",
      "2021-08-16 16:59:15.766     8472        0                  4888   \n",
      "2021-08-16 16:59:17.768     8472        0                  4888   \n",
      "2021-08-16 16:59:19.766     8472        0                  4888   \n",
      "2021-08-16 16:59:21.766     8471        0                  4888   \n",
      "2021-08-16 16:59:23.766     8471        0                  4888   \n",
      "...                          ...      ...                   ...   \n",
      "2021-08-16 17:49:27.127     7002    -3627                  4888   \n",
      "2021-08-16 17:49:27.932     7001    -3625                  3045   \n",
      "2021-08-16 17:49:31.176     7000    -3625                  3045   \n",
      "2021-08-16 17:49:31.933     7000    -3626                  3045   \n",
      "2021-08-16 17:49:35.159     7001    -3625                  3045   \n",
      "\n",
      "                         Remaining Capacity  Cell 1 Voltage  Cell 2 Voltage  \n",
      "TimeStamp                                                                    \n",
      "2021-08-16 16:59:15.766                4888            4220            4251  \n",
      "2021-08-16 16:59:17.768                4888            4220            4251  \n",
      "2021-08-16 16:59:19.766                4888            4220            4251  \n",
      "2021-08-16 16:59:21.766                4888            4220            4251  \n",
      "2021-08-16 16:59:23.766                4888            4220            4251  \n",
      "...                                     ...             ...             ...  \n",
      "2021-08-16 17:49:27.127                1844            3494            3507  \n",
      "2021-08-16 17:49:27.932                   0            3493            3507  \n",
      "2021-08-16 17:49:31.176                   0            3493            3507  \n",
      "2021-08-16 17:49:31.933                   0            3493            3506  \n",
      "2021-08-16 17:49:35.159                   0            3492            3506  \n",
      "\n",
      "[1503 rows x 6 columns]\n",
      "TimeStamp\n",
      "2021-08-16 16:59:15.766    100\n",
      "2021-08-16 16:59:17.768    100\n",
      "2021-08-16 16:59:19.766    100\n",
      "2021-08-16 16:59:21.766    100\n",
      "2021-08-16 16:59:23.766    100\n",
      "                          ... \n",
      "2021-08-16 17:49:27.127     38\n",
      "2021-08-16 17:49:27.932      0\n",
      "2021-08-16 17:49:31.176      0\n",
      "2021-08-16 17:49:31.933      0\n",
      "2021-08-16 17:49:35.159      0\n",
      "Name: Relative State of Charge, Length: 1503, dtype: int64\n"
     ]
    }
   ],
   "source": [
    "dataset = read_csv('soc1.csv', header=0, index_col=0)\n",
    "#values = dataset.values\n",
    "# ensure all data is float\n",
    "# values = values.astype('float32')\n",
    "# print(values)\n",
    "# normalize features\n",
    "x=dataset.drop(['Relative State of Charge'],axis=1)\n",
    "y=dataset['Relative State of Charge']\n",
    "print(x)\n",
    "print(y)\n",
    "scaler = MinMaxScaler(feature_range=(0, 1))\n"
   ]
  },
  {
   "cell_type": "code",
   "execution_count": 174,
   "id": "54733c06",
   "metadata": {},
   "outputs": [
    {
     "data": {
      "text/plain": [
       "(1503, 6)"
      ]
     },
     "execution_count": 174,
     "metadata": {},
     "output_type": "execute_result"
    }
   ],
   "source": [
    "x.shape"
   ]
  },
  {
   "cell_type": "code",
   "execution_count": 175,
   "id": "aba25d63",
   "metadata": {},
   "outputs": [
    {
     "name": "stdout",
     "output_type": "stream",
     "text": [
      "TimeStamp\n",
      "2021-08-16 16:59:15.766    100\n",
      "2021-08-16 16:59:17.768    100\n",
      "2021-08-16 16:59:19.766    100\n",
      "2021-08-16 16:59:21.766    100\n",
      "2021-08-16 16:59:23.766    100\n",
      "                          ... \n",
      "2021-08-16 17:49:27.127     38\n",
      "2021-08-16 17:49:27.932      0\n",
      "2021-08-16 17:49:31.176      0\n",
      "2021-08-16 17:49:31.933      0\n",
      "2021-08-16 17:49:35.159      0\n",
      "Name: Relative State of Charge, Length: 1503, dtype: int64\n"
     ]
    }
   ],
   "source": [
    "# y = values[:, -1]\n",
    "y.shape\n",
    "print(y)"
   ]
  },
  {
   "cell_type": "code",
   "execution_count": 176,
   "id": "cfb41c17",
   "metadata": {},
   "outputs": [],
   "source": [
    "# x = values[:,:-1]"
   ]
  },
  {
   "cell_type": "code",
   "execution_count": 177,
   "id": "b7d75070",
   "metadata": {},
   "outputs": [
    {
     "data": {
      "text/html": [
       "<div>\n",
       "<style scoped>\n",
       "    .dataframe tbody tr th:only-of-type {\n",
       "        vertical-align: middle;\n",
       "    }\n",
       "\n",
       "    .dataframe tbody tr th {\n",
       "        vertical-align: top;\n",
       "    }\n",
       "\n",
       "    .dataframe thead th {\n",
       "        text-align: right;\n",
       "    }\n",
       "</style>\n",
       "<table border=\"1\" class=\"dataframe\">\n",
       "  <thead>\n",
       "    <tr style=\"text-align: right;\">\n",
       "      <th></th>\n",
       "      <th>Voltage</th>\n",
       "      <th>Current</th>\n",
       "      <th>Full charge Capacity</th>\n",
       "      <th>Remaining Capacity</th>\n",
       "      <th>Cell 1 Voltage</th>\n",
       "      <th>Cell 2 Voltage</th>\n",
       "    </tr>\n",
       "    <tr>\n",
       "      <th>TimeStamp</th>\n",
       "      <th></th>\n",
       "      <th></th>\n",
       "      <th></th>\n",
       "      <th></th>\n",
       "      <th></th>\n",
       "      <th></th>\n",
       "    </tr>\n",
       "  </thead>\n",
       "  <tbody>\n",
       "    <tr>\n",
       "      <th>2021-08-16 16:59:15.766</th>\n",
       "      <td>8472</td>\n",
       "      <td>0</td>\n",
       "      <td>4888</td>\n",
       "      <td>4888</td>\n",
       "      <td>4220</td>\n",
       "      <td>4251</td>\n",
       "    </tr>\n",
       "    <tr>\n",
       "      <th>2021-08-16 16:59:17.768</th>\n",
       "      <td>8472</td>\n",
       "      <td>0</td>\n",
       "      <td>4888</td>\n",
       "      <td>4888</td>\n",
       "      <td>4220</td>\n",
       "      <td>4251</td>\n",
       "    </tr>\n",
       "    <tr>\n",
       "      <th>2021-08-16 16:59:19.766</th>\n",
       "      <td>8472</td>\n",
       "      <td>0</td>\n",
       "      <td>4888</td>\n",
       "      <td>4888</td>\n",
       "      <td>4220</td>\n",
       "      <td>4251</td>\n",
       "    </tr>\n",
       "    <tr>\n",
       "      <th>2021-08-16 16:59:21.766</th>\n",
       "      <td>8471</td>\n",
       "      <td>0</td>\n",
       "      <td>4888</td>\n",
       "      <td>4888</td>\n",
       "      <td>4220</td>\n",
       "      <td>4251</td>\n",
       "    </tr>\n",
       "    <tr>\n",
       "      <th>2021-08-16 16:59:23.766</th>\n",
       "      <td>8471</td>\n",
       "      <td>0</td>\n",
       "      <td>4888</td>\n",
       "      <td>4888</td>\n",
       "      <td>4220</td>\n",
       "      <td>4251</td>\n",
       "    </tr>\n",
       "    <tr>\n",
       "      <th>...</th>\n",
       "      <td>...</td>\n",
       "      <td>...</td>\n",
       "      <td>...</td>\n",
       "      <td>...</td>\n",
       "      <td>...</td>\n",
       "      <td>...</td>\n",
       "    </tr>\n",
       "    <tr>\n",
       "      <th>2021-08-16 17:49:27.127</th>\n",
       "      <td>7002</td>\n",
       "      <td>-3627</td>\n",
       "      <td>4888</td>\n",
       "      <td>1844</td>\n",
       "      <td>3494</td>\n",
       "      <td>3507</td>\n",
       "    </tr>\n",
       "    <tr>\n",
       "      <th>2021-08-16 17:49:27.932</th>\n",
       "      <td>7001</td>\n",
       "      <td>-3625</td>\n",
       "      <td>3045</td>\n",
       "      <td>0</td>\n",
       "      <td>3493</td>\n",
       "      <td>3507</td>\n",
       "    </tr>\n",
       "    <tr>\n",
       "      <th>2021-08-16 17:49:31.176</th>\n",
       "      <td>7000</td>\n",
       "      <td>-3625</td>\n",
       "      <td>3045</td>\n",
       "      <td>0</td>\n",
       "      <td>3493</td>\n",
       "      <td>3507</td>\n",
       "    </tr>\n",
       "    <tr>\n",
       "      <th>2021-08-16 17:49:31.933</th>\n",
       "      <td>7000</td>\n",
       "      <td>-3626</td>\n",
       "      <td>3045</td>\n",
       "      <td>0</td>\n",
       "      <td>3493</td>\n",
       "      <td>3506</td>\n",
       "    </tr>\n",
       "    <tr>\n",
       "      <th>2021-08-16 17:49:35.159</th>\n",
       "      <td>7001</td>\n",
       "      <td>-3625</td>\n",
       "      <td>3045</td>\n",
       "      <td>0</td>\n",
       "      <td>3492</td>\n",
       "      <td>3506</td>\n",
       "    </tr>\n",
       "  </tbody>\n",
       "</table>\n",
       "<p>1503 rows × 6 columns</p>\n",
       "</div>"
      ],
      "text/plain": [
       "                         Voltage  Current  Full charge Capacity  \\\n",
       "TimeStamp                                                         \n",
       "2021-08-16 16:59:15.766     8472        0                  4888   \n",
       "2021-08-16 16:59:17.768     8472        0                  4888   \n",
       "2021-08-16 16:59:19.766     8472        0                  4888   \n",
       "2021-08-16 16:59:21.766     8471        0                  4888   \n",
       "2021-08-16 16:59:23.766     8471        0                  4888   \n",
       "...                          ...      ...                   ...   \n",
       "2021-08-16 17:49:27.127     7002    -3627                  4888   \n",
       "2021-08-16 17:49:27.932     7001    -3625                  3045   \n",
       "2021-08-16 17:49:31.176     7000    -3625                  3045   \n",
       "2021-08-16 17:49:31.933     7000    -3626                  3045   \n",
       "2021-08-16 17:49:35.159     7001    -3625                  3045   \n",
       "\n",
       "                         Remaining Capacity  Cell 1 Voltage  Cell 2 Voltage  \n",
       "TimeStamp                                                                    \n",
       "2021-08-16 16:59:15.766                4888            4220            4251  \n",
       "2021-08-16 16:59:17.768                4888            4220            4251  \n",
       "2021-08-16 16:59:19.766                4888            4220            4251  \n",
       "2021-08-16 16:59:21.766                4888            4220            4251  \n",
       "2021-08-16 16:59:23.766                4888            4220            4251  \n",
       "...                                     ...             ...             ...  \n",
       "2021-08-16 17:49:27.127                1844            3494            3507  \n",
       "2021-08-16 17:49:27.932                   0            3493            3507  \n",
       "2021-08-16 17:49:31.176                   0            3493            3507  \n",
       "2021-08-16 17:49:31.933                   0            3493            3506  \n",
       "2021-08-16 17:49:35.159                   0            3492            3506  \n",
       "\n",
       "[1503 rows x 6 columns]"
      ]
     },
     "execution_count": 177,
     "metadata": {},
     "output_type": "execute_result"
    }
   ],
   "source": [
    "x"
   ]
  },
  {
   "cell_type": "code",
   "execution_count": 178,
   "id": "bc5a91b3",
   "metadata": {},
   "outputs": [
    {
     "name": "stdout",
     "output_type": "stream",
     "text": [
      "                         Voltage  Current  Full charge Capacity  \\\n",
      "TimeStamp                                                         \n",
      "2021-08-16 16:59:15.766     8472        0                  4888   \n",
      "2021-08-16 16:59:17.768     8472        0                  4888   \n",
      "2021-08-16 16:59:19.766     8472        0                  4888   \n",
      "2021-08-16 16:59:21.766     8471        0                  4888   \n",
      "2021-08-16 16:59:23.766     8471        0                  4888   \n",
      "...                          ...      ...                   ...   \n",
      "2021-08-16 17:39:19.093     7126    -3646                  4888   \n",
      "2021-08-16 17:39:19.930     7124    -3645                  4888   \n",
      "2021-08-16 17:39:23.123     7128    -3647                  4888   \n",
      "2021-08-16 17:39:23.930     7124    -3646                  4888   \n",
      "2021-08-16 17:39:27.078     7124    -3646                  4888   \n",
      "\n",
      "                         Remaining Capacity  Cell 1 Voltage  Cell 2 Voltage  \n",
      "TimeStamp                                                                    \n",
      "2021-08-16 16:59:15.766                4888            4220            4251  \n",
      "2021-08-16 16:59:17.768                4888            4220            4251  \n",
      "2021-08-16 16:59:19.766                4888            4220            4251  \n",
      "2021-08-16 16:59:21.766                4888            4220            4251  \n",
      "2021-08-16 16:59:23.766                4888            4220            4251  \n",
      "...                                     ...             ...             ...  \n",
      "2021-08-16 17:39:19.093                2454            3557            3572  \n",
      "2021-08-16 17:39:19.930                2453            3557            3568  \n",
      "2021-08-16 17:39:23.123                2450            3556            3572  \n",
      "2021-08-16 17:39:23.930                2449            3556            3568  \n",
      "2021-08-16 17:39:27.078                2446            3556            3571  \n",
      "\n",
      "[1202 rows x 6 columns]\n"
     ]
    },
    {
     "ename": "KeyError",
     "evalue": "\"['TimeStamp'] not found in axis\"",
     "output_type": "error",
     "traceback": [
      "\u001b[1;31m---------------------------------------------------------------------------\u001b[0m",
      "\u001b[1;31mKeyError\u001b[0m                                  Traceback (most recent call last)",
      "\u001b[1;32m<ipython-input-178-51e4fd8299c4>\u001b[0m in \u001b[0;36m<module>\u001b[1;34m\u001b[0m\n\u001b[0;32m      1\u001b[0m \u001b[0mx_train\u001b[0m\u001b[1;33m,\u001b[0m \u001b[0mx_test\u001b[0m\u001b[1;33m,\u001b[0m \u001b[0my_train\u001b[0m\u001b[1;33m,\u001b[0m \u001b[0my_test\u001b[0m \u001b[1;33m=\u001b[0m \u001b[0mtrain_test_split\u001b[0m\u001b[1;33m(\u001b[0m\u001b[0mx\u001b[0m\u001b[1;33m,\u001b[0m \u001b[0my\u001b[0m\u001b[1;33m,\u001b[0m \u001b[0mtest_size\u001b[0m\u001b[1;33m=\u001b[0m\u001b[1;36m0.2\u001b[0m\u001b[1;33m,\u001b[0m \u001b[0mrandom_state\u001b[0m\u001b[1;33m=\u001b[0m\u001b[1;36m0\u001b[0m\u001b[1;33m,\u001b[0m \u001b[0mshuffle\u001b[0m \u001b[1;33m=\u001b[0m \u001b[1;32mFalse\u001b[0m\u001b[1;33m)\u001b[0m\u001b[1;33m\u001b[0m\u001b[1;33m\u001b[0m\u001b[0m\n\u001b[0;32m      2\u001b[0m \u001b[0mprint\u001b[0m\u001b[1;33m(\u001b[0m\u001b[0mx_train\u001b[0m\u001b[1;33m)\u001b[0m\u001b[1;33m\u001b[0m\u001b[1;33m\u001b[0m\u001b[0m\n\u001b[1;32m----> 3\u001b[1;33m \u001b[0mx_train\u001b[0m\u001b[1;33m=\u001b[0m\u001b[0mx_train\u001b[0m\u001b[1;33m.\u001b[0m\u001b[0mdrop\u001b[0m\u001b[1;33m(\u001b[0m\u001b[1;33m[\u001b[0m\u001b[1;34m'TimeStamp'\u001b[0m\u001b[1;33m]\u001b[0m\u001b[1;33m)\u001b[0m\u001b[1;33m\u001b[0m\u001b[1;33m\u001b[0m\u001b[0m\n\u001b[0m\u001b[0;32m      4\u001b[0m \u001b[0mx_test\u001b[0m\u001b[1;33m=\u001b[0m\u001b[0mx_test\u001b[0m\u001b[1;33m.\u001b[0m\u001b[0mdrop\u001b[0m\u001b[1;33m(\u001b[0m\u001b[1;33m[\u001b[0m\u001b[1;34m'TimeStamp'\u001b[0m\u001b[1;33m]\u001b[0m\u001b[1;33m)\u001b[0m\u001b[1;33m\u001b[0m\u001b[1;33m\u001b[0m\u001b[0m\n\u001b[0;32m      5\u001b[0m \u001b[1;33m\u001b[0m\u001b[0m\n",
      "\u001b[1;32m~\\anaconda3\\lib\\site-packages\\pandas\\core\\frame.py\u001b[0m in \u001b[0;36mdrop\u001b[1;34m(self, labels, axis, index, columns, level, inplace, errors)\u001b[0m\n\u001b[0;32m   4306\u001b[0m                 \u001b[0mweight\u001b[0m  \u001b[1;36m1.0\u001b[0m     \u001b[1;36m0.8\u001b[0m\u001b[1;33m\u001b[0m\u001b[1;33m\u001b[0m\u001b[0m\n\u001b[0;32m   4307\u001b[0m         \"\"\"\n\u001b[1;32m-> 4308\u001b[1;33m         return super().drop(\n\u001b[0m\u001b[0;32m   4309\u001b[0m             \u001b[0mlabels\u001b[0m\u001b[1;33m=\u001b[0m\u001b[0mlabels\u001b[0m\u001b[1;33m,\u001b[0m\u001b[1;33m\u001b[0m\u001b[1;33m\u001b[0m\u001b[0m\n\u001b[0;32m   4310\u001b[0m             \u001b[0maxis\u001b[0m\u001b[1;33m=\u001b[0m\u001b[0maxis\u001b[0m\u001b[1;33m,\u001b[0m\u001b[1;33m\u001b[0m\u001b[1;33m\u001b[0m\u001b[0m\n",
      "\u001b[1;32m~\\anaconda3\\lib\\site-packages\\pandas\\core\\generic.py\u001b[0m in \u001b[0;36mdrop\u001b[1;34m(self, labels, axis, index, columns, level, inplace, errors)\u001b[0m\n\u001b[0;32m   4151\u001b[0m         \u001b[1;32mfor\u001b[0m \u001b[0maxis\u001b[0m\u001b[1;33m,\u001b[0m \u001b[0mlabels\u001b[0m \u001b[1;32min\u001b[0m \u001b[0maxes\u001b[0m\u001b[1;33m.\u001b[0m\u001b[0mitems\u001b[0m\u001b[1;33m(\u001b[0m\u001b[1;33m)\u001b[0m\u001b[1;33m:\u001b[0m\u001b[1;33m\u001b[0m\u001b[1;33m\u001b[0m\u001b[0m\n\u001b[0;32m   4152\u001b[0m             \u001b[1;32mif\u001b[0m \u001b[0mlabels\u001b[0m \u001b[1;32mis\u001b[0m \u001b[1;32mnot\u001b[0m \u001b[1;32mNone\u001b[0m\u001b[1;33m:\u001b[0m\u001b[1;33m\u001b[0m\u001b[1;33m\u001b[0m\u001b[0m\n\u001b[1;32m-> 4153\u001b[1;33m                 \u001b[0mobj\u001b[0m \u001b[1;33m=\u001b[0m \u001b[0mobj\u001b[0m\u001b[1;33m.\u001b[0m\u001b[0m_drop_axis\u001b[0m\u001b[1;33m(\u001b[0m\u001b[0mlabels\u001b[0m\u001b[1;33m,\u001b[0m \u001b[0maxis\u001b[0m\u001b[1;33m,\u001b[0m \u001b[0mlevel\u001b[0m\u001b[1;33m=\u001b[0m\u001b[0mlevel\u001b[0m\u001b[1;33m,\u001b[0m \u001b[0merrors\u001b[0m\u001b[1;33m=\u001b[0m\u001b[0merrors\u001b[0m\u001b[1;33m)\u001b[0m\u001b[1;33m\u001b[0m\u001b[1;33m\u001b[0m\u001b[0m\n\u001b[0m\u001b[0;32m   4154\u001b[0m \u001b[1;33m\u001b[0m\u001b[0m\n\u001b[0;32m   4155\u001b[0m         \u001b[1;32mif\u001b[0m \u001b[0minplace\u001b[0m\u001b[1;33m:\u001b[0m\u001b[1;33m\u001b[0m\u001b[1;33m\u001b[0m\u001b[0m\n",
      "\u001b[1;32m~\\anaconda3\\lib\\site-packages\\pandas\\core\\generic.py\u001b[0m in \u001b[0;36m_drop_axis\u001b[1;34m(self, labels, axis, level, errors)\u001b[0m\n\u001b[0;32m   4186\u001b[0m                 \u001b[0mnew_axis\u001b[0m \u001b[1;33m=\u001b[0m \u001b[0maxis\u001b[0m\u001b[1;33m.\u001b[0m\u001b[0mdrop\u001b[0m\u001b[1;33m(\u001b[0m\u001b[0mlabels\u001b[0m\u001b[1;33m,\u001b[0m \u001b[0mlevel\u001b[0m\u001b[1;33m=\u001b[0m\u001b[0mlevel\u001b[0m\u001b[1;33m,\u001b[0m \u001b[0merrors\u001b[0m\u001b[1;33m=\u001b[0m\u001b[0merrors\u001b[0m\u001b[1;33m)\u001b[0m\u001b[1;33m\u001b[0m\u001b[1;33m\u001b[0m\u001b[0m\n\u001b[0;32m   4187\u001b[0m             \u001b[1;32melse\u001b[0m\u001b[1;33m:\u001b[0m\u001b[1;33m\u001b[0m\u001b[1;33m\u001b[0m\u001b[0m\n\u001b[1;32m-> 4188\u001b[1;33m                 \u001b[0mnew_axis\u001b[0m \u001b[1;33m=\u001b[0m \u001b[0maxis\u001b[0m\u001b[1;33m.\u001b[0m\u001b[0mdrop\u001b[0m\u001b[1;33m(\u001b[0m\u001b[0mlabels\u001b[0m\u001b[1;33m,\u001b[0m \u001b[0merrors\u001b[0m\u001b[1;33m=\u001b[0m\u001b[0merrors\u001b[0m\u001b[1;33m)\u001b[0m\u001b[1;33m\u001b[0m\u001b[1;33m\u001b[0m\u001b[0m\n\u001b[0m\u001b[0;32m   4189\u001b[0m             \u001b[0mresult\u001b[0m \u001b[1;33m=\u001b[0m \u001b[0mself\u001b[0m\u001b[1;33m.\u001b[0m\u001b[0mreindex\u001b[0m\u001b[1;33m(\u001b[0m\u001b[1;33m**\u001b[0m\u001b[1;33m{\u001b[0m\u001b[0maxis_name\u001b[0m\u001b[1;33m:\u001b[0m \u001b[0mnew_axis\u001b[0m\u001b[1;33m}\u001b[0m\u001b[1;33m)\u001b[0m\u001b[1;33m\u001b[0m\u001b[1;33m\u001b[0m\u001b[0m\n\u001b[0;32m   4190\u001b[0m \u001b[1;33m\u001b[0m\u001b[0m\n",
      "\u001b[1;32m~\\anaconda3\\lib\\site-packages\\pandas\\core\\indexes\\base.py\u001b[0m in \u001b[0;36mdrop\u001b[1;34m(self, labels, errors)\u001b[0m\n\u001b[0;32m   5589\u001b[0m         \u001b[1;32mif\u001b[0m \u001b[0mmask\u001b[0m\u001b[1;33m.\u001b[0m\u001b[0many\u001b[0m\u001b[1;33m(\u001b[0m\u001b[1;33m)\u001b[0m\u001b[1;33m:\u001b[0m\u001b[1;33m\u001b[0m\u001b[1;33m\u001b[0m\u001b[0m\n\u001b[0;32m   5590\u001b[0m             \u001b[1;32mif\u001b[0m \u001b[0merrors\u001b[0m \u001b[1;33m!=\u001b[0m \u001b[1;34m\"ignore\"\u001b[0m\u001b[1;33m:\u001b[0m\u001b[1;33m\u001b[0m\u001b[1;33m\u001b[0m\u001b[0m\n\u001b[1;32m-> 5591\u001b[1;33m                 \u001b[1;32mraise\u001b[0m \u001b[0mKeyError\u001b[0m\u001b[1;33m(\u001b[0m\u001b[1;34mf\"{labels[mask]} not found in axis\"\u001b[0m\u001b[1;33m)\u001b[0m\u001b[1;33m\u001b[0m\u001b[1;33m\u001b[0m\u001b[0m\n\u001b[0m\u001b[0;32m   5592\u001b[0m             \u001b[0mindexer\u001b[0m \u001b[1;33m=\u001b[0m \u001b[0mindexer\u001b[0m\u001b[1;33m[\u001b[0m\u001b[1;33m~\u001b[0m\u001b[0mmask\u001b[0m\u001b[1;33m]\u001b[0m\u001b[1;33m\u001b[0m\u001b[1;33m\u001b[0m\u001b[0m\n\u001b[0;32m   5593\u001b[0m         \u001b[1;32mreturn\u001b[0m \u001b[0mself\u001b[0m\u001b[1;33m.\u001b[0m\u001b[0mdelete\u001b[0m\u001b[1;33m(\u001b[0m\u001b[0mindexer\u001b[0m\u001b[1;33m)\u001b[0m\u001b[1;33m\u001b[0m\u001b[1;33m\u001b[0m\u001b[0m\n",
      "\u001b[1;31mKeyError\u001b[0m: \"['TimeStamp'] not found in axis\""
     ]
    }
   ],
   "source": [
    "x_train, x_test, y_train, y_test = train_test_split(x, y, test_size=0.2, random_state=0, shuffle = False)\n",
    "print(x_train)\n",
    "x_train=x_train.drop(['TimeStamp'],axis=1)\n",
    "x_test=x_test.drop(['TimeStamp'],axis=1)\n",
    "\n",
    "scaler = MinMaxScaler(feature_range=(0, 1))\n",
    "scaler_x = MinMaxScaler(feature_range=(0, 1))\n",
    "    \n",
    "x_train =scaler_x.fit_transform(x_train)\n",
    "x_test=scaler_x.fit_transform(x_test)\n",
    "    \n",
    "y_train = scaler.fit_transform(np.array(y_train).reshape(-1,1))\n",
    "y_test= scaler.fit_transform(np.array(y_test).reshape(-1,1))\n",
    "   \n",
    "#y = scaler.fit_transform(y)\n",
    "# frame as supervised learning\n",
    "#reframed = series_to_supervised(scaled, 1, 1)\n",
    "# drop columns we don't want to predict\n",
    "#reframed.drop(reframed.columns[[9,10,11,12,13,14,15]], axis=1, inplace=True)\n",
    "#print(reframed.head())\n",
    "#reframed\n",
    "#scaled = pd.DataFrame(scaled)"
   ]
  },
  {
   "cell_type": "code",
   "execution_count": null,
   "id": "ebe83a37",
   "metadata": {},
   "outputs": [],
   "source": [
    "x"
   ]
  },
  {
   "cell_type": "code",
   "execution_count": null,
   "id": "4e3391e0",
   "metadata": {},
   "outputs": [],
   "source": []
  },
  {
   "cell_type": "code",
   "execution_count": null,
   "id": "6f080511",
   "metadata": {},
   "outputs": [],
   "source": []
  },
  {
   "cell_type": "code",
   "execution_count": null,
   "id": "5efc62d9",
   "metadata": {},
   "outputs": [],
   "source": [
    "def cal(n_inputs, n_hidden, n_classes):\n",
    "    i_weights = n_inputs*n_hidden\n",
    "    i_bias = n_hidden\n",
    "    h_weights = n_hidden * n_classes\n",
    "    h_bias = n_classes\n",
    "    n_params = i_weights + i_bias + h_weights + h_bias\n",
    "    \n",
    "    return i_weights, i_bias, h_weights, h_bias, n_params\n",
    "        "
   ]
  },
  {
   "cell_type": "code",
   "execution_count": null,
   "id": "554e8dd3",
   "metadata": {},
   "outputs": [],
   "source": [
    "n_inputs = 6\n",
    "n_hidden = 20\n",
    "n_classes = 1\n",
    "i_weights , i_bias, h_weights, h_bias, n_params = cal(n_inputs, n_hidden, n_classes)"
   ]
  },
  {
   "cell_type": "code",
   "execution_count": null,
   "id": "645152f8",
   "metadata": {},
   "outputs": [],
   "source": [
    "def forward(params):\n",
    "    w1 = params[:i_weights].reshape((n_inputs, n_hidden))\n",
    "    b1 = params[i_weights:i_weights+i_bias].reshape((n_hidden,))\n",
    "    w2 = params[i_weights+i_bias:i_weights+i_bias+h_weights].reshape((n_hidden, n_classes))\n",
    "    b2 = params[i_weights+i_bias+h_weights:].reshape((n_classes,))\n",
    "    \n",
    "    z1 = x_train.dot(w1) + b1\n",
    "    a1 = np.where(z1 > 0, z1, z1*0.01)\n",
    "    z2 = a1.dot(w2) + b2\n",
    "    \n",
    "    loss = mean_squared_error(y_train, z2)\n",
    "    \n",
    "    return loss"
   ]
  },
  {
   "cell_type": "code",
   "execution_count": null,
   "id": "9290c9bc",
   "metadata": {},
   "outputs": [],
   "source": [
    "def f(x):\n",
    "    n_particles = x.shape[0]\n",
    "    j = [ forward(x[i]) for i in range(n_particles)]\n",
    "    return np.array(j)"
   ]
  },
  {
   "cell_type": "code",
   "execution_count": null,
   "id": "937b223c",
   "metadata": {},
   "outputs": [],
   "source": [
    "def train(options):\n",
    "    optimizer = ps.single.GlobalBestPSO(n_particles = 100, dimensions = n_params, options = options)\n",
    "    cost,pos = optimizer.optimize(f, iters = 50)\n",
    "    return cost, pos, optimizer.cost_history"
   ]
  },
  {
   "cell_type": "code",
   "execution_count": null,
   "id": "5b044e45",
   "metadata": {},
   "outputs": [],
   "source": [
    "def predict(X, pos):\n",
    "    w1 = pos[:i_weights].reshape((n_inputs, n_hidden))\n",
    "    b1 = pos[i_weights:i_weights+i_bias].reshape((n_hidden,))\n",
    "    w2 = pos[i_weights+i_bias:i_weights+i_bias+h_weights].reshape((n_hidden, n_classes))\n",
    "    b2 = pos[i_weights+i_bias+h_weights:].reshape((n_classes,))\n",
    "    \n",
    "    z1 = X.dot(w1) + b1\n",
    "    a1 = np.where(z1 > 0, z1 , z1*0.01)\n",
    "    z2 = a1.dot(w2)\n",
    "    \n",
    "    ypred = z2\n",
    "    return z2"
   ]
  },
  {
   "cell_type": "code",
   "execution_count": null,
   "id": "5065df55",
   "metadata": {},
   "outputs": [],
   "source": [
    "def plot_history(history):\n",
    "    plt.style.use('ggplot')\n",
    "    plt.rcParams['ytick.right'] = True\n",
    "    plt.rcParams['ytick.labelright'] = True\n",
    "    plt.rcParams['ytick.left'] = True\n",
    "    plt.rcParams['ytick.labelleft'] = True\n",
    "    plt.rcParams['font.family'] = 'Arial'\n",
    "    \n",
    "    plt.ylim([min(history)-50, max(history)+50])\n",
    "    plt.title('Cost History')\n",
    "    plt.plot(history)"
   ]
  },
  {
   "cell_type": "code",
   "execution_count": null,
   "id": "86871f4c",
   "metadata": {},
   "outputs": [],
   "source": [
    "checkpoint_state = np.random.get_state()"
   ]
  },
  {
   "cell_type": "code",
   "execution_count": null,
   "id": "bb58a1b8",
   "metadata": {},
   "outputs": [],
   "source": [
    "%%time\n",
    "np.random.set_state(checkpoint_state)\n",
    "options = {'c1':0.9,'c2':0.1,'w': 0.9}\n",
    "cost , pos, history = train(options)"
   ]
  },
  {
   "cell_type": "code",
   "execution_count": null,
   "id": "15877e80",
   "metadata": {
    "scrolled": true
   },
   "outputs": [],
   "source": [
    "print(mean_squared_error(predict(x_test, pos), y_test))"
   ]
  },
  {
   "cell_type": "code",
   "execution_count": null,
   "id": "e4c3a16e",
   "metadata": {},
   "outputs": [],
   "source": [
    "plot_history(history)"
   ]
  },
  {
   "cell_type": "code",
   "execution_count": null,
   "id": "d0c2120b",
   "metadata": {},
   "outputs": [],
   "source": [
    "%%time\n",
    "np.random.set_state(checkpoint_state)\n",
    "options = {'c1':0.1,'c2':0.9,'w': 0.9}\n",
    "cost , pos, history = train(options)"
   ]
  },
  {
   "cell_type": "code",
   "execution_count": null,
   "id": "b65cd0b8",
   "metadata": {},
   "outputs": [],
   "source": [
    "plot_history(history)"
   ]
  },
  {
   "cell_type": "code",
   "execution_count": null,
   "id": "a1adeed4",
   "metadata": {},
   "outputs": [],
   "source": [
    "print(mean_squared_error(predict(x_test, pos), y_test))"
   ]
  },
  {
   "cell_type": "code",
   "execution_count": null,
   "id": "aaff7818",
   "metadata": {},
   "outputs": [],
   "source": [
    "%%time\n",
    "np.random.set_state(checkpoint_state)\n",
    "options = {'c1':0.5,'c2':0.9,'w': 0.9}\n",
    "cost , pos, history = train(options)"
   ]
  },
  {
   "cell_type": "code",
   "execution_count": null,
   "id": "bdc11c36",
   "metadata": {},
   "outputs": [],
   "source": [
    "plot_history(history)"
   ]
  },
  {
   "cell_type": "code",
   "execution_count": null,
   "id": "2b32e7ca",
   "metadata": {},
   "outputs": [],
   "source": [
    "print(mean_squared_error(predict(x_test, pos), y_test))"
   ]
  },
  {
   "cell_type": "code",
   "execution_count": null,
   "id": "bd9fb1d7",
   "metadata": {},
   "outputs": [],
   "source": [
    "#After comparision best value for options is 0.9, 0.1, 0.9"
   ]
  },
  {
   "cell_type": "code",
   "execution_count": null,
   "id": "85eef5e6",
   "metadata": {},
   "outputs": [],
   "source": [
    "%%time\n",
    "np.random.set_state(checkpoint_state)\n",
    "options = {'c1':0.9,'c2':0.1,'w': 0.9}\n",
    "cost , pos, history = train(options)"
   ]
  },
  {
   "cell_type": "code",
   "execution_count": null,
   "id": "811a02b8",
   "metadata": {},
   "outputs": [],
   "source": [
    "print(mean_squared_error(predict(x_test, pos), y_test))"
   ]
  },
  {
   "cell_type": "code",
   "execution_count": null,
   "id": "d3c7dbb8",
   "metadata": {},
   "outputs": [],
   "source": [
    "y_pred = predict(x_test, pos)\n",
    "y_pred"
   ]
  },
  {
   "cell_type": "code",
   "execution_count": null,
   "id": "c961e85a",
   "metadata": {},
   "outputs": [],
   "source": [
    "y_pred= scaler.inverse_transform(y_pred)\n",
    "y_pred"
   ]
  },
  {
   "cell_type": "code",
   "execution_count": null,
   "id": "18aedca1",
   "metadata": {},
   "outputs": [],
   "source": [
    "y_test"
   ]
  },
  {
   "cell_type": "code",
   "execution_count": null,
   "id": "3a03fab6",
   "metadata": {},
   "outputs": [],
   "source": [
    "y_test = scaler.inverse_transform(y_test)\n",
    "y_test"
   ]
  },
  {
   "cell_type": "code",
   "execution_count": null,
   "id": "3bd445c4",
   "metadata": {},
   "outputs": [],
   "source": []
  }
 ],
 "metadata": {
  "kernelspec": {
   "display_name": "Python 3",
   "language": "python",
   "name": "python3"
  },
  "language_info": {
   "codemirror_mode": {
    "name": "ipython",
    "version": 3
   },
   "file_extension": ".py",
   "mimetype": "text/x-python",
   "name": "python",
   "nbconvert_exporter": "python",
   "pygments_lexer": "ipython3",
   "version": "3.8.8"
  }
 },
 "nbformat": 4,
 "nbformat_minor": 5
}
