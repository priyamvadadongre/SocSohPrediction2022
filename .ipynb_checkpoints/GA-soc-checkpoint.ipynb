{
 "cells": [
  {
   "cell_type": "code",
   "execution_count": 1,
   "metadata": {},
   "outputs": [],
   "source": [
    "import numpy as np\n",
    "import keras\n",
    "from keras.models import Sequential\n",
    "from keras.layers import Dense, Dropout, Flatten\n",
    "from keras.layers import Conv2D, MaxPooling2D\n",
    "from keras.models import Model\n",
    "from keras.models import load_model\n",
    "import matplotlib.pyplot as plt"
   ]
  },
  {
   "cell_type": "code",
   "execution_count": 2,
   "metadata": {},
   "outputs": [],
   "source": [
    "import pyswarms as ps\n",
    "from pyswarms.utils.plotters import (plot_cost_history)\n",
    "%matplotlib inline\n",
    "\n",
    "import pandas as pd \n",
    "import numpy as np\n",
    "import matplotlib.pyplot as plt\n",
    "from sklearn.model_selection import train_test_split\n",
    "from keras import Sequential\n",
    "from keras.layers import LSTM, Dropout, Dense, TimeDistributed, Activation"
   ]
  },
  {
   "cell_type": "code",
   "execution_count": 3,
   "metadata": {},
   "outputs": [
    {
     "data": {
      "text/html": [
       "<div>\n",
       "<style scoped>\n",
       "    .dataframe tbody tr th:only-of-type {\n",
       "        vertical-align: middle;\n",
       "    }\n",
       "\n",
       "    .dataframe tbody tr th {\n",
       "        vertical-align: top;\n",
       "    }\n",
       "\n",
       "    .dataframe thead th {\n",
       "        text-align: right;\n",
       "    }\n",
       "</style>\n",
       "<table border=\"1\" class=\"dataframe\">\n",
       "  <thead>\n",
       "    <tr style=\"text-align: right;\">\n",
       "      <th></th>\n",
       "      <th>TimeStamp</th>\n",
       "      <th>Voltage</th>\n",
       "      <th>Current</th>\n",
       "      <th>Relative State of Charge</th>\n",
       "      <th>Full charge Capacity</th>\n",
       "      <th>Remaining Capacity</th>\n",
       "      <th>Cell 1 Voltage</th>\n",
       "      <th>Cell 2 Voltage</th>\n",
       "    </tr>\n",
       "  </thead>\n",
       "  <tbody>\n",
       "    <tr>\n",
       "      <th>0</th>\n",
       "      <td>2021-08-16 16:59:15.766</td>\n",
       "      <td>8472</td>\n",
       "      <td>0</td>\n",
       "      <td>100</td>\n",
       "      <td>4888</td>\n",
       "      <td>4888</td>\n",
       "      <td>4220</td>\n",
       "      <td>4251</td>\n",
       "    </tr>\n",
       "    <tr>\n",
       "      <th>1</th>\n",
       "      <td>2021-08-16 16:59:17.768</td>\n",
       "      <td>8472</td>\n",
       "      <td>0</td>\n",
       "      <td>100</td>\n",
       "      <td>4888</td>\n",
       "      <td>4888</td>\n",
       "      <td>4220</td>\n",
       "      <td>4251</td>\n",
       "    </tr>\n",
       "    <tr>\n",
       "      <th>2</th>\n",
       "      <td>2021-08-16 16:59:19.766</td>\n",
       "      <td>8472</td>\n",
       "      <td>0</td>\n",
       "      <td>100</td>\n",
       "      <td>4888</td>\n",
       "      <td>4888</td>\n",
       "      <td>4220</td>\n",
       "      <td>4251</td>\n",
       "    </tr>\n",
       "    <tr>\n",
       "      <th>3</th>\n",
       "      <td>2021-08-16 16:59:21.766</td>\n",
       "      <td>8471</td>\n",
       "      <td>0</td>\n",
       "      <td>100</td>\n",
       "      <td>4888</td>\n",
       "      <td>4888</td>\n",
       "      <td>4220</td>\n",
       "      <td>4251</td>\n",
       "    </tr>\n",
       "    <tr>\n",
       "      <th>4</th>\n",
       "      <td>2021-08-16 16:59:23.766</td>\n",
       "      <td>8471</td>\n",
       "      <td>0</td>\n",
       "      <td>100</td>\n",
       "      <td>4888</td>\n",
       "      <td>4888</td>\n",
       "      <td>4220</td>\n",
       "      <td>4251</td>\n",
       "    </tr>\n",
       "  </tbody>\n",
       "</table>\n",
       "</div>"
      ],
      "text/plain": [
       "                 TimeStamp  Voltage  Current  Relative State of Charge  \\\n",
       "0  2021-08-16 16:59:15.766     8472        0                       100   \n",
       "1  2021-08-16 16:59:17.768     8472        0                       100   \n",
       "2  2021-08-16 16:59:19.766     8472        0                       100   \n",
       "3  2021-08-16 16:59:21.766     8471        0                       100   \n",
       "4  2021-08-16 16:59:23.766     8471        0                       100   \n",
       "\n",
       "   Full charge Capacity  Remaining Capacity  Cell 1 Voltage  Cell 2 Voltage  \n",
       "0                  4888                4888            4220            4251  \n",
       "1                  4888                4888            4220            4251  \n",
       "2                  4888                4888            4220            4251  \n",
       "3                  4888                4888            4220            4251  \n",
       "4                  4888                4888            4220            4251  "
      ]
     },
     "execution_count": 3,
     "metadata": {},
     "output_type": "execute_result"
    }
   ],
   "source": [
    "from pandas import read_csv\n",
    "from matplotlib import pyplot\n",
    "# load dataset\n",
    "dataset = read_csv('soc.csv', header=0,index_col=False)\n",
    "dataset.head()"
   ]
  },
  {
   "cell_type": "code",
   "execution_count": 4,
   "metadata": {},
   "outputs": [],
   "source": [
    "from pandas import DataFrame\n",
    "from pandas import concat\n",
    "from sklearn.preprocessing import MinMaxScaler\n",
    "\n",
    "# convert series to supervised learning\n",
    "def series_to_supervised(data, n_in=1, n_out=1, dropnan=True):\n",
    "\tn_vars = 1 if type(data) is list else data.shape[1]\n",
    "\tdf = DataFrame(data)\n",
    "\tcols, names = list(), list()\n",
    "\t# input sequence (t-n, ... t-1)\n",
    "\tfor i in range(n_in, 0, -1):\n",
    "\t\tcols.append(df.shift(i))\n",
    "\t\tnames += [('var%d(t-%d)' % (j+1, i)) for j in range(n_vars)]\n",
    "\t# forecast sequence (t, t+1, ... t+n)\n",
    "\tfor i in range(0, n_out):\n",
    "\t\tcols.append(df.shift(-i))\n",
    "\t\tif i == 0:\n",
    "\t\t\tnames += [('var%d(t)' % (j+1)) for j in range(n_vars)]\n",
    "\t\telse:\n",
    "\t\t\tnames += [('var%d(t+%d)' % (j+1, i)) for j in range(n_vars)]\n",
    "\t# put it all together\n",
    "\tagg = concat(cols, axis=1)\n",
    "\tagg.columns = names\n",
    "\t# drop rows with NaN values\n",
    "\tif dropnan:\n",
    "\t\tagg.dropna(inplace=True)\n",
    "\treturn agg"
   ]
  },
  {
   "cell_type": "code",
   "execution_count": 7,
   "metadata": {},
   "outputs": [
    {
     "name": "stdout",
     "output_type": "stream",
     "text": [
      "   var1(t-1)  var2(t-1)  var3(t-1)  var4(t-1)  var5(t-1)  var6(t-1)  \\\n",
      "1   1.000000        1.0        1.0        1.0        1.0        1.0   \n",
      "2   1.000000        1.0        1.0        1.0        1.0        1.0   \n",
      "3   1.000000        1.0        1.0        1.0        1.0        1.0   \n",
      "4   0.999335        1.0        1.0        1.0        1.0        1.0   \n",
      "5   0.999335        1.0        1.0        1.0        1.0        1.0   \n",
      "\n",
      "   var7(t-1)   var1(t)  \n",
      "1        1.0  1.000000  \n",
      "2        1.0  1.000000  \n",
      "3        1.0  0.999335  \n",
      "4        1.0  0.999335  \n",
      "5        1.0  0.889554  \n"
     ]
    },
    {
     "data": {
      "text/html": [
       "<div>\n",
       "<style scoped>\n",
       "    .dataframe tbody tr th:only-of-type {\n",
       "        vertical-align: middle;\n",
       "    }\n",
       "\n",
       "    .dataframe tbody tr th {\n",
       "        vertical-align: top;\n",
       "    }\n",
       "\n",
       "    .dataframe thead th {\n",
       "        text-align: right;\n",
       "    }\n",
       "</style>\n",
       "<table border=\"1\" class=\"dataframe\">\n",
       "  <thead>\n",
       "    <tr style=\"text-align: right;\">\n",
       "      <th></th>\n",
       "      <th>var1(t-1)</th>\n",
       "      <th>var2(t-1)</th>\n",
       "      <th>var3(t-1)</th>\n",
       "      <th>var4(t-1)</th>\n",
       "      <th>var5(t-1)</th>\n",
       "      <th>var6(t-1)</th>\n",
       "      <th>var7(t-1)</th>\n",
       "      <th>var1(t)</th>\n",
       "    </tr>\n",
       "  </thead>\n",
       "  <tbody>\n",
       "    <tr>\n",
       "      <th>1</th>\n",
       "      <td>1.000000</td>\n",
       "      <td>1.0</td>\n",
       "      <td>1.0</td>\n",
       "      <td>1.0</td>\n",
       "      <td>1.0</td>\n",
       "      <td>1.000000</td>\n",
       "      <td>1.000000</td>\n",
       "      <td>1.000000</td>\n",
       "    </tr>\n",
       "    <tr>\n",
       "      <th>2</th>\n",
       "      <td>1.000000</td>\n",
       "      <td>1.0</td>\n",
       "      <td>1.0</td>\n",
       "      <td>1.0</td>\n",
       "      <td>1.0</td>\n",
       "      <td>1.000000</td>\n",
       "      <td>1.000000</td>\n",
       "      <td>1.000000</td>\n",
       "    </tr>\n",
       "    <tr>\n",
       "      <th>3</th>\n",
       "      <td>1.000000</td>\n",
       "      <td>1.0</td>\n",
       "      <td>1.0</td>\n",
       "      <td>1.0</td>\n",
       "      <td>1.0</td>\n",
       "      <td>1.000000</td>\n",
       "      <td>1.000000</td>\n",
       "      <td>0.999335</td>\n",
       "    </tr>\n",
       "    <tr>\n",
       "      <th>4</th>\n",
       "      <td>0.999335</td>\n",
       "      <td>1.0</td>\n",
       "      <td>1.0</td>\n",
       "      <td>1.0</td>\n",
       "      <td>1.0</td>\n",
       "      <td>1.000000</td>\n",
       "      <td>1.000000</td>\n",
       "      <td>0.999335</td>\n",
       "    </tr>\n",
       "    <tr>\n",
       "      <th>5</th>\n",
       "      <td>0.999335</td>\n",
       "      <td>1.0</td>\n",
       "      <td>1.0</td>\n",
       "      <td>1.0</td>\n",
       "      <td>1.0</td>\n",
       "      <td>1.000000</td>\n",
       "      <td>1.000000</td>\n",
       "      <td>0.889554</td>\n",
       "    </tr>\n",
       "    <tr>\n",
       "      <th>...</th>\n",
       "      <td>...</td>\n",
       "      <td>...</td>\n",
       "      <td>...</td>\n",
       "      <td>...</td>\n",
       "      <td>...</td>\n",
       "      <td>...</td>\n",
       "      <td>...</td>\n",
       "      <td>...</td>\n",
       "    </tr>\n",
       "    <tr>\n",
       "      <th>1602</th>\n",
       "      <td>0.115103</td>\n",
       "      <td>1.0</td>\n",
       "      <td>0.0</td>\n",
       "      <td>0.0</td>\n",
       "      <td>0.0</td>\n",
       "      <td>0.115747</td>\n",
       "      <td>0.114473</td>\n",
       "      <td>0.117099</td>\n",
       "    </tr>\n",
       "    <tr>\n",
       "      <th>1603</th>\n",
       "      <td>0.117099</td>\n",
       "      <td>1.0</td>\n",
       "      <td>0.0</td>\n",
       "      <td>0.0</td>\n",
       "      <td>0.0</td>\n",
       "      <td>0.118439</td>\n",
       "      <td>0.117105</td>\n",
       "      <td>0.118430</td>\n",
       "    </tr>\n",
       "    <tr>\n",
       "      <th>1604</th>\n",
       "      <td>0.118430</td>\n",
       "      <td>1.0</td>\n",
       "      <td>0.0</td>\n",
       "      <td>0.0</td>\n",
       "      <td>0.0</td>\n",
       "      <td>0.119784</td>\n",
       "      <td>0.118421</td>\n",
       "      <td>0.121091</td>\n",
       "    </tr>\n",
       "    <tr>\n",
       "      <th>1605</th>\n",
       "      <td>0.121091</td>\n",
       "      <td>1.0</td>\n",
       "      <td>0.0</td>\n",
       "      <td>0.0</td>\n",
       "      <td>0.0</td>\n",
       "      <td>0.122477</td>\n",
       "      <td>0.121052</td>\n",
       "      <td>0.120426</td>\n",
       "    </tr>\n",
       "    <tr>\n",
       "      <th>1606</th>\n",
       "      <td>0.120426</td>\n",
       "      <td>1.0</td>\n",
       "      <td>0.0</td>\n",
       "      <td>0.0</td>\n",
       "      <td>0.0</td>\n",
       "      <td>0.122477</td>\n",
       "      <td>0.121052</td>\n",
       "      <td>0.123753</td>\n",
       "    </tr>\n",
       "  </tbody>\n",
       "</table>\n",
       "<p>1606 rows × 8 columns</p>\n",
       "</div>"
      ],
      "text/plain": [
       "      var1(t-1)  var2(t-1)  var3(t-1)  var4(t-1)  var5(t-1)  var6(t-1)  \\\n",
       "1      1.000000        1.0        1.0        1.0        1.0   1.000000   \n",
       "2      1.000000        1.0        1.0        1.0        1.0   1.000000   \n",
       "3      1.000000        1.0        1.0        1.0        1.0   1.000000   \n",
       "4      0.999335        1.0        1.0        1.0        1.0   1.000000   \n",
       "5      0.999335        1.0        1.0        1.0        1.0   1.000000   \n",
       "...         ...        ...        ...        ...        ...        ...   \n",
       "1602   0.115103        1.0        0.0        0.0        0.0   0.115747   \n",
       "1603   0.117099        1.0        0.0        0.0        0.0   0.118439   \n",
       "1604   0.118430        1.0        0.0        0.0        0.0   0.119784   \n",
       "1605   0.121091        1.0        0.0        0.0        0.0   0.122477   \n",
       "1606   0.120426        1.0        0.0        0.0        0.0   0.122477   \n",
       "\n",
       "      var7(t-1)   var1(t)  \n",
       "1      1.000000  1.000000  \n",
       "2      1.000000  1.000000  \n",
       "3      1.000000  0.999335  \n",
       "4      1.000000  0.999335  \n",
       "5      1.000000  0.889554  \n",
       "...         ...       ...  \n",
       "1602   0.114473  0.117099  \n",
       "1603   0.117105  0.118430  \n",
       "1604   0.118421  0.121091  \n",
       "1605   0.121052  0.120426  \n",
       "1606   0.121052  0.123753  \n",
       "\n",
       "[1606 rows x 8 columns]"
      ]
     },
     "execution_count": 7,
     "metadata": {},
     "output_type": "execute_result"
    }
   ],
   "source": [
    "dataset = read_csv('soc.csv', header=0, index_col=0)\n",
    "values = dataset.values\n",
    "# ensure all data is float\n",
    "values = values.astype('float32')\n",
    "# normalize features\n",
    "scaler = MinMaxScaler(feature_range=(0, 1))\n",
    "scaled = scaler.fit_transform(values)\n",
    "# frame as supervised learning\n",
    "reframed = series_to_supervised(scaled, 1, 1)\n",
    "# drop columns we don't want to predict\n",
    "reframed.drop(reframed.columns[[8,9,10,11,12,13]], axis=1, inplace=True)\n",
    "print(reframed.head())\n",
    "reframed\n"
   ]
  },
  {
   "cell_type": "code",
   "execution_count": 8,
   "metadata": {},
   "outputs": [
    {
     "name": "stdout",
     "output_type": "stream",
     "text": [
      "(1050, 1, 7) (1050,) (556, 1, 7) (556,)\n"
     ]
    }
   ],
   "source": [
    "# split into train and test sets\n",
    "values = reframed.values\n",
    "n_train_hours = 50*21\n",
    "train = values[:n_train_hours, :]\n",
    "test = values[n_train_hours:, :]\n",
    "# split into input and outputs\n",
    "train_X, train_y = train[:, :-1], train[:, 3]\n",
    "test_X, test_y = test[:, :-1], test[:, -]\n",
    "# reshape input to be 3D [samples, timesteps, features]\n",
    "train_X = train_X.reshape((train_X.shape[0], 1, train_X.shape[1]))\n",
    "test_X = test_X.reshape((test_X.shape[0], 1, test_X.shape[1]))\n",
    "print(train_X.shape, train_y.shape, test_X.shape, test_y.shape)"
   ]
  },
  {
   "cell_type": "code",
   "execution_count": 9,
   "metadata": {},
   "outputs": [
    {
     "data": {
      "text/plain": [
       "(1050,)"
      ]
     },
     "execution_count": 9,
     "metadata": {},
     "output_type": "execute_result"
    }
   ],
   "source": [
    "train_y.shape"
   ]
  },
  {
   "cell_type": "code",
   "execution_count": 10,
   "metadata": {},
   "outputs": [
    {
     "data": {
      "text/plain": [
       "(1050, 1, 7)"
      ]
     },
     "execution_count": 10,
     "metadata": {},
     "output_type": "execute_result"
    }
   ],
   "source": [
    "train_X.shape\n"
   ]
  },
  {
   "cell_type": "code",
   "execution_count": 59,
   "metadata": {},
   "outputs": [],
   "source": [
    "model = Sequential()\n",
    "model.add(LSTM(7, return_sequences=False, input_shape=(train_X.shape[1], train_X.shape[2])))\n",
    "model.add(Dense(1,activation='linear'))"
   ]
  },
  {
   "cell_type": "code",
   "execution_count": 60,
   "metadata": {},
   "outputs": [],
   "source": [
    "def rmse_nn(y_true, y_pred):\n",
    "    from keras import backend\n",
    "    return backend.sqrt(backend.mean(backend.square(y_pred - y_true), axis=-1))\n",
    "\n",
    "def r_square_loss(y_true, y_pred):\n",
    "    from keras import backend as K\n",
    "    SS_res =  K.sum(K.square(y_true - y_pred)) \n",
    "    SS_tot = K.sum(K.square(y_true - K.mean(y_true))) \n",
    "    return 1 - ( 1 - SS_res/(SS_tot + K.epsilon()))"
   ]
  },
  {
   "cell_type": "code",
   "execution_count": 61,
   "metadata": {},
   "outputs": [
    {
     "name": "stdout",
     "output_type": "stream",
     "text": [
      "Model: \"sequential_9\"\n",
      "_________________________________________________________________\n",
      " Layer (type)                Output Shape              Param #   \n",
      "=================================================================\n",
      " lstm_8 (LSTM)               (None, 7)                 420       \n",
      "                                                                 \n",
      " dense_8 (Dense)             (None, 1)                 8         \n",
      "                                                                 \n",
      "=================================================================\n",
      "Total params: 428\n",
      "Trainable params: 428\n",
      "Non-trainable params: 0\n",
      "_________________________________________________________________\n"
     ]
    }
   ],
   "source": [
    "model.compile(loss=rmse_nn, optimizer='sgd', metrics=[rmse_nn, r_square_loss])\n",
    "model.summary()"
   ]
  },
  {
   "cell_type": "code",
   "execution_count": 62,
   "metadata": {},
   "outputs": [
    {
     "name": "stdout",
     "output_type": "stream",
     "text": [
      "Epoch 1/20\n",
      "WARNING:tensorflow:AutoGraph could not transform <function Model.make_train_function.<locals>.train_function at 0x7f4aac716440> and will run it as-is.\n",
      "Please report this to the TensorFlow team. When filing the bug, set the verbosity to 10 (on Linux, `export AUTOGRAPH_VERBOSITY=10`) and attach the full output.\n",
      "Cause: 'arguments' object has no attribute 'posonlyargs'\n",
      "To silence this warning, decorate the function with @tf.autograph.experimental.do_not_convert\n"
     ]
    },
    {
     "name": "stderr",
     "output_type": "stream",
     "text": [
      "2022-04-29 20:07:37,363 - tensorflow - WARNING - AutoGraph could not transform <function Model.make_train_function.<locals>.train_function at 0x7f4aac716440> and will run it as-is.\n",
      "Please report this to the TensorFlow team. When filing the bug, set the verbosity to 10 (on Linux, `export AUTOGRAPH_VERBOSITY=10`) and attach the full output.\n",
      "Cause: 'arguments' object has no attribute 'posonlyargs'\n",
      "To silence this warning, decorate the function with @tf.autograph.experimental.do_not_convert\n"
     ]
    },
    {
     "name": "stdout",
     "output_type": "stream",
     "text": [
      "WARNING: AutoGraph could not transform <function Model.make_train_function.<locals>.train_function at 0x7f4aac716440> and will run it as-is.\n",
      "Please report this to the TensorFlow team. When filing the bug, set the verbosity to 10 (on Linux, `export AUTOGRAPH_VERBOSITY=10`) and attach the full output.\n",
      "Cause: 'arguments' object has no attribute 'posonlyargs'\n",
      "To silence this warning, decorate the function with @tf.autograph.experimental.do_not_convert\n",
      "WARNING:tensorflow:AutoGraph could not transform <function rmse_nn at 0x7f4ab47d2440> and will run it as-is.\n",
      "Please report this to the TensorFlow team. When filing the bug, set the verbosity to 10 (on Linux, `export AUTOGRAPH_VERBOSITY=10`) and attach the full output.\n",
      "Cause: 'arguments' object has no attribute 'posonlyargs'\n",
      "To silence this warning, decorate the function with @tf.autograph.experimental.do_not_convert\n"
     ]
    },
    {
     "name": "stderr",
     "output_type": "stream",
     "text": [
      "2022-04-29 20:07:37,541 - tensorflow - WARNING - AutoGraph could not transform <function rmse_nn at 0x7f4ab47d2440> and will run it as-is.\n",
      "Please report this to the TensorFlow team. When filing the bug, set the verbosity to 10 (on Linux, `export AUTOGRAPH_VERBOSITY=10`) and attach the full output.\n",
      "Cause: 'arguments' object has no attribute 'posonlyargs'\n",
      "To silence this warning, decorate the function with @tf.autograph.experimental.do_not_convert\n"
     ]
    },
    {
     "name": "stdout",
     "output_type": "stream",
     "text": [
      "WARNING: AutoGraph could not transform <function rmse_nn at 0x7f4ab47d2440> and will run it as-is.\n",
      "Please report this to the TensorFlow team. When filing the bug, set the verbosity to 10 (on Linux, `export AUTOGRAPH_VERBOSITY=10`) and attach the full output.\n",
      "Cause: 'arguments' object has no attribute 'posonlyargs'\n",
      "To silence this warning, decorate the function with @tf.autograph.experimental.do_not_convert\n",
      "WARNING:tensorflow:AutoGraph could not transform <function r_square_loss at 0x7f4ab47d2560> and will run it as-is.\n",
      "Please report this to the TensorFlow team. When filing the bug, set the verbosity to 10 (on Linux, `export AUTOGRAPH_VERBOSITY=10`) and attach the full output.\n",
      "Cause: 'arguments' object has no attribute 'posonlyargs'\n",
      "To silence this warning, decorate the function with @tf.autograph.experimental.do_not_convert\n"
     ]
    },
    {
     "name": "stderr",
     "output_type": "stream",
     "text": [
      "2022-04-29 20:07:37,715 - tensorflow - WARNING - AutoGraph could not transform <function r_square_loss at 0x7f4ab47d2560> and will run it as-is.\n",
      "Please report this to the TensorFlow team. When filing the bug, set the verbosity to 10 (on Linux, `export AUTOGRAPH_VERBOSITY=10`) and attach the full output.\n",
      "Cause: 'arguments' object has no attribute 'posonlyargs'\n",
      "To silence this warning, decorate the function with @tf.autograph.experimental.do_not_convert\n"
     ]
    },
    {
     "name": "stdout",
     "output_type": "stream",
     "text": [
      "WARNING: AutoGraph could not transform <function r_square_loss at 0x7f4ab47d2560> and will run it as-is.\n",
      "Please report this to the TensorFlow team. When filing the bug, set the verbosity to 10 (on Linux, `export AUTOGRAPH_VERBOSITY=10`) and attach the full output.\n",
      "Cause: 'arguments' object has no attribute 'posonlyargs'\n",
      "To silence this warning, decorate the function with @tf.autograph.experimental.do_not_convert\n",
      " 1/21 [>.............................] - ETA: 20s - loss: 0.1028 - rmse_nn: 0.1028 - r_square_loss: 0.7304WARNING:tensorflow:AutoGraph could not transform <function Model.make_test_function.<locals>.test_function at 0x7f4aa40e0830> and will run it as-is.\n",
      "Please report this to the TensorFlow team. When filing the bug, set the verbosity to 10 (on Linux, `export AUTOGRAPH_VERBOSITY=10`) and attach the full output.\n",
      "Cause: 'arguments' object has no attribute 'posonlyargs'\n",
      "To silence this warning, decorate the function with @tf.autograph.experimental.do_not_convert\n"
     ]
    },
    {
     "name": "stderr",
     "output_type": "stream",
     "text": [
      "2022-04-29 20:07:38,426 - tensorflow - WARNING - AutoGraph could not transform <function Model.make_test_function.<locals>.test_function at 0x7f4aa40e0830> and will run it as-is.\n",
      "Please report this to the TensorFlow team. When filing the bug, set the verbosity to 10 (on Linux, `export AUTOGRAPH_VERBOSITY=10`) and attach the full output.\n",
      "Cause: 'arguments' object has no attribute 'posonlyargs'\n",
      "To silence this warning, decorate the function with @tf.autograph.experimental.do_not_convert\n"
     ]
    },
    {
     "name": "stdout",
     "output_type": "stream",
     "text": [
      "WARNING: AutoGraph could not transform <function Model.make_test_function.<locals>.test_function at 0x7f4aa40e0830> and will run it as-is.\n",
      "Please report this to the TensorFlow team. When filing the bug, set the verbosity to 10 (on Linux, `export AUTOGRAPH_VERBOSITY=10`) and attach the full output.\n",
      "Cause: 'arguments' object has no attribute 'posonlyargs'\n",
      "To silence this warning, decorate the function with @tf.autograph.experimental.do_not_convert\n",
      "21/21 [==============================] - 2s 25ms/step - loss: 0.1156 - rmse_nn: 0.1156 - r_square_loss: 0.5821 - val_loss: 0.1646 - val_rmse_nn: 0.1646 - val_r_square_loss: 1550.4591\n",
      "Epoch 2/20\n",
      "21/21 [==============================] - 0s 3ms/step - loss: 0.1040 - rmse_nn: 0.1040 - r_square_loss: 0.4318 - val_loss: 0.1722 - val_rmse_nn: 0.1722 - val_r_square_loss: 1682.7656\n",
      "Epoch 3/20\n",
      "21/21 [==============================] - 0s 3ms/step - loss: 0.1005 - rmse_nn: 0.1005 - r_square_loss: 0.3950 - val_loss: 0.1655 - val_rmse_nn: 0.1655 - val_r_square_loss: 1558.6089\n",
      "Epoch 4/20\n",
      "21/21 [==============================] - 0s 3ms/step - loss: 0.0972 - rmse_nn: 0.0972 - r_square_loss: 0.3731 - val_loss: 0.1570 - val_rmse_nn: 0.1570 - val_r_square_loss: 1409.3652\n",
      "Epoch 5/20\n",
      "21/21 [==============================] - 0s 3ms/step - loss: 0.0938 - rmse_nn: 0.0938 - r_square_loss: 0.3452 - val_loss: 0.1538 - val_rmse_nn: 0.1538 - val_r_square_loss: 1354.1857\n",
      "Epoch 6/20\n",
      "21/21 [==============================] - 0s 3ms/step - loss: 0.0903 - rmse_nn: 0.0903 - r_square_loss: 0.3231 - val_loss: 0.1461 - val_rmse_nn: 0.1461 - val_r_square_loss: 1228.1570\n",
      "Epoch 7/20\n",
      "21/21 [==============================] - 0s 3ms/step - loss: 0.0867 - rmse_nn: 0.0867 - r_square_loss: 0.2987 - val_loss: 0.1336 - val_rmse_nn: 0.1336 - val_r_square_loss: 1042.1738\n",
      "Epoch 8/20\n",
      "21/21 [==============================] - 0s 3ms/step - loss: 0.0829 - rmse_nn: 0.0829 - r_square_loss: 0.2735 - val_loss: 0.1276 - val_rmse_nn: 0.1276 - val_r_square_loss: 958.1882\n",
      "Epoch 9/20\n",
      "21/21 [==============================] - 0s 4ms/step - loss: 0.0789 - rmse_nn: 0.0789 - r_square_loss: 0.2470 - val_loss: 0.1158 - val_rmse_nn: 0.1158 - val_r_square_loss: 805.7188\n",
      "Epoch 10/20\n",
      "21/21 [==============================] - 0s 4ms/step - loss: 0.0749 - rmse_nn: 0.0749 - r_square_loss: 0.2251 - val_loss: 0.1083 - val_rmse_nn: 0.1083 - val_r_square_loss: 715.7241\n",
      "Epoch 11/20\n",
      "21/21 [==============================] - 0s 3ms/step - loss: 0.0706 - rmse_nn: 0.0706 - r_square_loss: 0.2050 - val_loss: 0.1025 - val_rmse_nn: 0.1025 - val_r_square_loss: 641.4764\n",
      "Epoch 12/20\n",
      "21/21 [==============================] - 0s 3ms/step - loss: 0.0662 - rmse_nn: 0.0662 - r_square_loss: 0.1798 - val_loss: 0.0924 - val_rmse_nn: 0.0924 - val_r_square_loss: 505.3857\n",
      "Epoch 13/20\n",
      "21/21 [==============================] - 0s 3ms/step - loss: 0.0614 - rmse_nn: 0.0614 - r_square_loss: 0.1536 - val_loss: 0.0855 - val_rmse_nn: 0.0855 - val_r_square_loss: 418.8164\n",
      "Epoch 14/20\n",
      "21/21 [==============================] - 0s 3ms/step - loss: 0.0564 - rmse_nn: 0.0564 - r_square_loss: 0.1322 - val_loss: 0.0728 - val_rmse_nn: 0.0728 - val_r_square_loss: 295.2221\n",
      "Epoch 15/20\n",
      "21/21 [==============================] - 0s 2ms/step - loss: 0.0515 - rmse_nn: 0.0515 - r_square_loss: 0.1124 - val_loss: 0.0699 - val_rmse_nn: 0.0699 - val_r_square_loss: 268.5518\n",
      "Epoch 16/20\n",
      "21/21 [==============================] - 0s 2ms/step - loss: 0.0462 - rmse_nn: 0.0462 - r_square_loss: 0.0917 - val_loss: 0.0602 - val_rmse_nn: 0.0602 - val_r_square_loss: 205.8388\n",
      "Epoch 17/20\n",
      "21/21 [==============================] - 0s 2ms/step - loss: 0.0405 - rmse_nn: 0.0405 - r_square_loss: 0.0728 - val_loss: 0.0498 - val_rmse_nn: 0.0498 - val_r_square_loss: 162.1557\n",
      "Epoch 18/20\n",
      "21/21 [==============================] - 0s 2ms/step - loss: 0.0345 - rmse_nn: 0.0345 - r_square_loss: 0.0557 - val_loss: 0.0447 - val_rmse_nn: 0.0447 - val_r_square_loss: 147.6595\n",
      "Epoch 19/20\n",
      "21/21 [==============================] - 0s 3ms/step - loss: 0.0283 - rmse_nn: 0.0283 - r_square_loss: 0.0404 - val_loss: 0.0301 - val_rmse_nn: 0.0301 - val_r_square_loss: 145.3300\n",
      "Epoch 20/20\n",
      "21/21 [==============================] - 0s 2ms/step - loss: 0.0218 - rmse_nn: 0.0218 - r_square_loss: 0.0277 - val_loss: 0.0241 - val_rmse_nn: 0.0241 - val_r_square_loss: 156.2363\n"
     ]
    }
   ],
   "source": [
    "historyNN = model.fit(train_X, train_y, batch_size=50, epochs=20, validation_data=(test_X, test_y))"
   ]
  },
  {
   "cell_type": "code",
   "execution_count": 63,
   "metadata": {},
   "outputs": [
    {
     "data": {
      "image/png": "[encoded data removed]",
      "text/plain": [
       "<Figure size 432x288 with 1 Axes>"
      ]
     },
     "metadata": {
      "needs_background": "light"
     },
     "output_type": "display_data"
    }
   ],
   "source": [
    "plt.plot(historyNN.history['loss'])\n",
    "plt.plot(historyNN.history['val_loss'])\n",
    "plt.title('Model Loss Plot')\n",
    "plt.ylabel('Loss')\n",
    "plt.xlabel('Epoch')\n",
    "plt.legend(['Train', 'Validation'], loc='upper left')\n",
    "plt.show()"
   ]
  },
  {
   "cell_type": "code",
   "execution_count": 64,
   "metadata": {},
   "outputs": [
    {
     "name": "stdout",
     "output_type": "stream",
     "text": [
      "18/18 [==============================] - 0s 1ms/step - loss: 0.0241 - rmse_nn: 0.0241 - r_square_loss: 264.3928\n"
     ]
    }
   ],
   "source": [
    "lossNN = model.evaluate(test_X, test_y)"
   ]
  },
  {
   "cell_type": "code",
   "execution_count": 49,
   "metadata": {},
   "outputs": [
    {
     "name": "stdout",
     "output_type": "stream",
     "text": [
      "The loss output for test dataset is: 0.166683\n"
     ]
    }
   ],
   "source": [
    "print('The loss output for test dataset is: %f' % lossNN[0])"
   ]
  },
  {
   "cell_type": "code",
   "execution_count": 18,
   "metadata": {},
   "outputs": [
    {
     "name": "stdout",
     "output_type": "stream",
     "text": [
      "WARNING:tensorflow:AutoGraph could not transform <function Model.make_predict_function.<locals>.predict_function at 0x7f4aac46d290> and will run it as-is.\n",
      "Please report this to the TensorFlow team. When filing the bug, set the verbosity to 10 (on Linux, `export AUTOGRAPH_VERBOSITY=10`) and attach the full output.\n",
      "Cause: 'arguments' object has no attribute 'posonlyargs'\n",
      "To silence this warning, decorate the function with @tf.autograph.experimental.do_not_convert\n"
     ]
    },
    {
     "name": "stderr",
     "output_type": "stream",
     "text": [
      "2022-04-29 19:40:13,601 - tensorflow - WARNING - AutoGraph could not transform <function Model.make_predict_function.<locals>.predict_function at 0x7f4aac46d290> and will run it as-is.\n",
      "Please report this to the TensorFlow team. When filing the bug, set the verbosity to 10 (on Linux, `export AUTOGRAPH_VERBOSITY=10`) and attach the full output.\n",
      "Cause: 'arguments' object has no attribute 'posonlyargs'\n",
      "To silence this warning, decorate the function with @tf.autograph.experimental.do_not_convert\n"
     ]
    },
    {
     "name": "stdout",
     "output_type": "stream",
     "text": [
      "WARNING: AutoGraph could not transform <function Model.make_predict_function.<locals>.predict_function at 0x7f4aac46d290> and will run it as-is.\n",
      "Please report this to the TensorFlow team. When filing the bug, set the verbosity to 10 (on Linux, `export AUTOGRAPH_VERBOSITY=10`) and attach the full output.\n",
      "Cause: 'arguments' object has no attribute 'posonlyargs'\n",
      "To silence this warning, decorate the function with @tf.autograph.experimental.do_not_convert\n"
     ]
    }
   ],
   "source": [
    "predictY = model.predict(test_X)"
   ]
  },
  {
   "cell_type": "code",
   "execution_count": 19,
   "metadata": {},
   "outputs": [
    {
     "data": {
      "image/png": "[encoded data removed]",
      "text/plain": [
       "<Figure size 432x288 with 1 Axes>"
      ]
     },
     "metadata": {
      "needs_background": "light"
     },
     "output_type": "display_data"
    }
   ],
   "source": [
    "time = np.arange(predictY.shape[0])\n",
    "\n",
    "plt.plot(time, predictY, test_y)\n",
    "plt.xlabel('time')\n",
    "plt.ylabel('amplitude')\n",
    "plt.show()"
   ]
  },
  {
   "cell_type": "markdown",
   "metadata": {},
   "source": [
    "LSTM using GA"
   ]
  },
  {
   "cell_type": "code",
   "execution_count": 20,
   "metadata": {},
   "outputs": [],
   "source": [
    "modelGA = Sequential()\n",
    "modelGA.add(LSTM(32, return_sequences=False, input_shape=(train_X.shape[1], train_X.shape[2]), name='layer_1'))\n",
    "modelGA.add(Dense(1, activation='linear', name='layer_2'))"
   ]
  },
  {
   "cell_type": "code",
   "execution_count": 21,
   "metadata": {},
   "outputs": [
    {
     "name": "stdout",
     "output_type": "stream",
     "text": [
      "Model: \"sequential_1\"\n",
      "_________________________________________________________________\n",
      " Layer (type)                Output Shape              Param #   \n",
      "=================================================================\n",
      " layer_1 (LSTM)              (None, 32)                5120      \n",
      "                                                                 \n",
      " layer_2 (Dense)             (None, 1)                 33        \n",
      "                                                                 \n",
      "=================================================================\n",
      "Total params: 5,153\n",
      "Trainable params: 5,153\n",
      "Non-trainable params: 0\n",
      "_________________________________________________________________\n"
     ]
    }
   ],
   "source": [
    "modelGA.compile(loss=\"mean_squared_error\", optimizer='sgd', metrics=[\"mean_squared_error\", r_square_loss])\n",
    "modelGA.summary()"
   ]
  },
  {
   "cell_type": "code",
   "execution_count": 22,
   "metadata": {},
   "outputs": [],
   "source": [
    "def rmse(y_true, y_pred):\n",
    "    return np.sqrt(np.mean(np.square(y_pred - y_true), axis=-1))"
   ]
  },
  {
   "cell_type": "code",
   "execution_count": 23,
   "metadata": {},
   "outputs": [],
   "source": [
    "def getFitness(params):\n",
    "    layer_1 = modelGA.get_layer('layer_1').get_weights()\n",
    "    layer_2 = modelGA.get_layer('layer_2').get_weights()\n",
    "    \n",
    "    layer1_W1_shape = (layer_1[0].shape[0] * layer_1[0].shape[1])\n",
    "    layer1_W2_shape = layer1_W1_shape + (layer_1[1].shape[0] * layer_1[1].shape[1])\n",
    "    layer1_B_shape = layer1_W2_shape + (layer_1[2].shape[0])\n",
    "    layer2_W_shape = layer1_B_shape + (layer_2[0].shape[0] * layer_2[0].shape[1])\n",
    "    layer2_B_shape = layer2_W_shape + (layer_2[1].shape[0])\n",
    "\n",
    "    layer1_W1 = params[0:layer1_W1_shape].reshape(layer_1[0].shape)\n",
    "    layer1_W2 = params[layer1_W1_shape:layer1_W2_shape].reshape(layer_1[1].shape)\n",
    "    layer1_B = params[layer1_W2_shape:layer1_B_shape].reshape(layer_1[2].shape)\n",
    "    layer2_W = params[layer1_B_shape:layer2_W_shape].reshape(layer_2[0].shape)\n",
    "    layer2_B = params[layer2_W_shape:layer2_B_shape].reshape(layer_2[1].shape)\n",
    "    \n",
    "    modelGA.get_layer('layer_1').set_weights([layer1_W1, layer1_W2, layer1_B])\n",
    "    modelGA.get_layer('layer_2').set_weights([layer2_W, layer2_B])\n",
    "    \n",
    "    predY = modelGA.predict(train_X)\n",
    "    loss = rmse(train_y.reshape(train_y.shape[0]), predY.reshape(train_y.shape[0]))\n",
    "    return loss"
   ]
  },
  {
   "cell_type": "code",
   "execution_count": 24,
   "metadata": {},
   "outputs": [],
   "source": [
    "def f(params):\n",
    "    print('Number of particles: %d' % params.shape[0])\n",
    "    losses = np.array([getFitness(params[i]) for i in range(params.shape[0])])\n",
    "    print('List of losses for all particles')\n",
    "    print(losses)\n",
    "    return losses"
   ]
  },
  {
   "cell_type": "markdown",
   "metadata": {},
   "source": [
    "PySwarm Algorithm"
   ]
  },
  {
   "cell_type": "code",
   "execution_count": 25,
   "metadata": {},
   "outputs": [
    {
     "name": "stderr",
     "output_type": "stream",
     "text": [
      "2022-04-29 19:40:24,614 - pyswarms.single.global_best - INFO - Optimize for 50 iters with {'c1': 0.5, 'c2': 0.3, 'w': 0.9}\n",
      "pyswarms.single.global_best:   0%|          |0/50"
     ]
    },
    {
     "name": "stdout",
     "output_type": "stream",
     "text": [
      "Number of params in Neural Network: 5921\n",
      "Number of particles: 20\n",
      "WARNING:tensorflow:AutoGraph could not transform <function Model.make_predict_function.<locals>.predict_function at 0x7f4aac23e320> and will run it as-is.\n",
      "Please report this to the TensorFlow team. When filing the bug, set the verbosity to 10 (on Linux, `export AUTOGRAPH_VERBOSITY=10`) and attach the full output.\n",
      "Cause: 'arguments' object has no attribute 'posonlyargs'\n",
      "To silence this warning, decorate the function with @tf.autograph.experimental.do_not_convert\n"
     ]
    },
    {
     "name": "stderr",
     "output_type": "stream",
     "text": [
      "2022-04-29 19:40:24,669 - tensorflow - WARNING - AutoGraph could not transform <function Model.make_predict_function.<locals>.predict_function at 0x7f4aac23e320> and will run it as-is.\n",
      "Please report this to the TensorFlow team. When filing the bug, set the verbosity to 10 (on Linux, `export AUTOGRAPH_VERBOSITY=10`) and attach the full output.\n",
      "Cause: 'arguments' object has no attribute 'posonlyargs'\n",
      "To silence this warning, decorate the function with @tf.autograph.experimental.do_not_convert\n"
     ]
    },
    {
     "name": "stdout",
     "output_type": "stream",
     "text": [
      "WARNING: AutoGraph could not transform <function Model.make_predict_function.<locals>.predict_function at 0x7f4aac23e320> and will run it as-is.\n",
      "Please report this to the TensorFlow team. When filing the bug, set the verbosity to 10 (on Linux, `export AUTOGRAPH_VERBOSITY=10`) and attach the full output.\n",
      "Cause: 'arguments' object has no attribute 'posonlyargs'\n",
      "To silence this warning, decorate the function with @tf.autograph.experimental.do_not_convert\n"
     ]
    },
    {
     "name": "stderr",
     "output_type": "stream",
     "text": [
      "pyswarms.single.global_best:   2%|▏         |1/50, best_cost=8.58"
     ]
    },
    {
     "name": "stdout",
     "output_type": "stream",
     "text": [
      "List of losses for all particles\n",
      "[10.452299  10.842693   9.328434  10.702316   9.790842  11.1864195\n",
      " 10.939471   9.534997  11.7062845 11.286183   9.444784  11.196051\n",
      "  8.575437  11.3073    11.272158   8.855115  10.008898   9.213514\n",
      " 10.917857  10.991281 ]\n",
      "Number of particles: 20\n"
     ]
    },
    {
     "name": "stderr",
     "output_type": "stream",
     "text": [
      "pyswarms.single.global_best:   4%|▍         |2/50, best_cost=8.58"
     ]
    },
    {
     "name": "stdout",
     "output_type": "stream",
     "text": [
      "List of losses for all particles\n",
      "[22.21183  25.46327  19.970556 21.341923 21.020931 23.82241  24.503666\n",
      " 22.35488  23.819582 22.95176  22.794128 25.211012 24.03732  22.77489\n",
      " 22.930769 21.436934 22.88631  22.453156 25.578718 23.299479]\n",
      "Number of particles: 20\n"
     ]
    },
    {
     "name": "stderr",
     "output_type": "stream",
     "text": [
      "pyswarms.single.global_best:   6%|▌         |3/50, best_cost=8.58"
     ]
    },
    {
     "name": "stdout",
     "output_type": "stream",
     "text": [
      "List of losses for all particles\n",
      "[26.756626 32.62499  24.686855 25.98093  26.24134  29.430298 30.39284\n",
      " 28.589214 28.852413 27.182909 29.411852 31.443617 31.771906 27.616976\n",
      " 28.099636 27.907942 28.485031 28.668417 32.557903 27.721735]\n",
      "Number of particles: 20\n"
     ]
    },
    {
     "name": "stderr",
     "output_type": "stream",
     "text": [
      "pyswarms.single.global_best:   8%|▊         |4/50, best_cost=8.58"
     ]
    },
    {
     "name": "stdout",
     "output_type": "stream",
     "text": [
      "List of losses for all particles\n",
      "[24.562187 30.205122 22.677542 24.1395   23.161375 27.128315 27.485764\n",
      " 26.09283  26.560701 24.55671  26.372198 29.219555 28.852428 24.746498\n",
      " 25.006462 27.029257 25.84691  27.466465 28.861002 25.48606 ]\n",
      "Number of particles: 20\n"
     ]
    },
    {
     "name": "stderr",
     "output_type": "stream",
     "text": [
      "pyswarms.single.global_best:  10%|█         |5/50, best_cost=8.58"
     ]
    },
    {
     "name": "stdout",
     "output_type": "stream",
     "text": [
      "List of losses for all particles\n",
      "[17.104803 19.617847 15.716321 16.595852 15.382967 18.560785 17.545588\n",
      " 17.16747  18.119102 16.410536 16.45047  20.307728 18.832664 16.187296\n",
      " 16.678947 18.398964 16.83532  18.859816 18.209433 17.215355]\n",
      "Number of particles: 20\n"
     ]
    },
    {
     "name": "stderr",
     "output_type": "stream",
     "text": [
      "pyswarms.single.global_best:  12%|█▏        |6/50, best_cost=4.45"
     ]
    },
    {
     "name": "stdout",
     "output_type": "stream",
     "text": [
      "List of losses for all particles\n",
      "[6.81187   5.2815127 6.2648096 6.24713   5.507281  6.254395  5.482761\n",
      " 5.6632996 6.8197365 6.007052  4.7459874 7.6388526 4.5373225 5.3926735\n",
      " 6.172636  5.942491  5.1083746 6.599992  4.4503756 6.4865627]\n",
      "Number of particles: 20\n"
     ]
    },
    {
     "name": "stderr",
     "output_type": "stream",
     "text": [
      "pyswarms.single.global_best:  14%|█▍        |7/50, best_cost=0.15"
     ]
    },
    {
     "name": "stdout",
     "output_type": "stream",
     "text": [
      "List of losses for all particles\n",
      "[0.15639497 1.3067031  0.15025581 0.17172462 0.21780172 0.81169623\n",
      " 0.68675286 0.91429806 0.7358987  0.8648605  0.9394525  0.24583\n",
      " 1.3330666  1.023485   1.9994996  1.2419175  0.4428834  0.9376967\n",
      " 1.84466    0.6952436 ]\n",
      "Number of particles: 20\n"
     ]
    },
    {
     "name": "stderr",
     "output_type": "stream",
     "text": [
      "pyswarms.single.global_best:  16%|█▌        |8/50, best_cost=0.15"
     ]
    },
    {
     "name": "stdout",
     "output_type": "stream",
     "text": [
      "List of losses for all particles\n",
      "[0.4716272  1.2990206  0.90302056 0.3957945  0.43510073 0.2899269\n",
      " 0.48468852 0.95094776 1.1310529  0.98892504 1.2956465  0.51149285\n",
      " 0.7637428  1.9737427  1.2302992  0.32192758 0.69110215 0.7553489\n",
      " 1.5218325  0.6505886 ]\n",
      "Number of particles: 20\n"
     ]
    },
    {
     "name": "stderr",
     "output_type": "stream",
     "text": [
      "pyswarms.single.global_best:  18%|█▊        |9/50, best_cost=0.15"
     ]
    },
    {
     "name": "stdout",
     "output_type": "stream",
     "text": [
      "List of losses for all particles\n",
      "[0.6412629  2.205635   1.084224   0.70001304 0.76785815 0.5399038\n",
      " 1.0463597  1.2366345  1.5880859  1.37801    1.8738116  0.73250884\n",
      " 1.1007434  2.6459057  1.4078922  1.0833024  1.1444148  1.1242552\n",
      " 2.2291808  1.185069  ]\n",
      "Number of particles: 20\n"
     ]
    },
    {
     "name": "stderr",
     "output_type": "stream",
     "text": [
      "pyswarms.single.global_best:  20%|██        |10/50, best_cost=0.15"
     ]
    },
    {
     "name": "stdout",
     "output_type": "stream",
     "text": [
      "List of losses for all particles\n",
      "[0.681812   2.4140072  0.9521915  0.75821406 0.75951636 0.8863033\n",
      " 1.230151   1.1033483  1.6159011  0.9868942  1.8562703  0.7607877\n",
      " 1.3647208  2.5082347  1.394411   1.5435305  1.0436106  1.3466641\n",
      " 2.303633   1.3242438 ]\n",
      "Number of particles: 20\n"
     ]
    },
    {
     "name": "stderr",
     "output_type": "stream",
     "text": [
      "pyswarms.single.global_best:  22%|██▏       |11/50, best_cost=0.15"
     ]
    },
    {
     "name": "stdout",
     "output_type": "stream",
     "text": [
      "List of losses for all particles\n",
      "[0.43502435 1.9394865  0.55152696 0.7264527  0.29759622 0.9798051\n",
      " 1.2392143  0.7553227  1.2844014  0.23950253 1.2462549  0.65396255\n",
      " 1.2596298  2.2006927  1.2211438  1.3117799  0.6188337  1.2869688\n",
      " 1.5614504  0.9517098 ]\n",
      "Number of particles: 20\n"
     ]
    },
    {
     "name": "stderr",
     "output_type": "stream",
     "text": [
      "pyswarms.single.global_best:  24%|██▍       |12/50, best_cost=0.107"
     ]
    },
    {
     "name": "stdout",
     "output_type": "stream",
     "text": [
      "List of losses for all particles\n",
      "[0.33693883 1.3148905  0.675806   0.30843076 0.5348272  0.7330014\n",
      " 0.83731776 0.17420292 0.10714977 0.49332336 0.7284712  0.6538439\n",
      " 0.59626764 0.8666701  0.8795072  0.6358373  0.34495482 0.9254183\n",
      " 0.82994497 0.40906388]\n",
      "Number of particles: 20\n"
     ]
    },
    {
     "name": "stderr",
     "output_type": "stream",
     "text": [
      "pyswarms.single.global_best:  26%|██▌       |13/50, best_cost=0.107"
     ]
    },
    {
     "name": "stdout",
     "output_type": "stream",
     "text": [
      "List of losses for all particles\n",
      "[4.5672884  1.3431808  4.433948   5.200742   4.5718656  0.51815385\n",
      " 0.8411058  3.8662398  7.01228    2.260797   4.4395533  7.0431013\n",
      " 0.31372708 5.153936   0.40634573 0.41139054 5.482889   0.78013134\n",
      " 1.1267991  0.14084151]\n",
      "Number of particles: 20\n"
     ]
    },
    {
     "name": "stderr",
     "output_type": "stream",
     "text": [
      "pyswarms.single.global_best:  28%|██▊       |14/50, best_cost=0.107"
     ]
    },
    {
     "name": "stdout",
     "output_type": "stream",
     "text": [
      "List of losses for all particles\n",
      "[ 7.1002164   0.37560344  7.155426    7.2449427   7.11597     0.49527013\n",
      "  0.42026     7.4105225  11.580265    2.6549897   8.500051   10.3456955\n",
      "  4.8183427   9.39695     1.0772809   1.375604    9.5950775   0.8578653\n",
      "  0.77395946  2.5814526 ]\n",
      "Number of particles: 20\n"
     ]
    },
    {
     "name": "stderr",
     "output_type": "stream",
     "text": [
      "pyswarms.single.global_best:  30%|███       |15/50, best_cost=0.107"
     ]
    },
    {
     "name": "stdout",
     "output_type": "stream",
     "text": [
      "List of losses for all particles\n",
      "[ 5.3819513   1.9085208   6.1698723   4.453957    5.145725    0.6157274\n",
      "  2.4778965   7.076967   10.454877    0.40216285  8.035139    7.7777653\n",
      "  9.672999    9.115187    3.8564222   1.5637025   9.416355    0.6497417\n",
      "  5.4646263   6.0815268 ]\n",
      "Number of particles: 20\n"
     ]
    },
    {
     "name": "stderr",
     "output_type": "stream",
     "text": [
      "pyswarms.single.global_best:  32%|███▏      |16/50, best_cost=0.107"
     ]
    },
    {
     "name": "stdout",
     "output_type": "stream",
     "text": [
      "List of losses for all particles\n",
      "[1.5038203  3.255492   1.9295237  0.2857002  1.27901    0.30190322\n",
      " 3.8077455  3.235395   4.436562   0.7389461  3.8578057  1.3786819\n",
      " 8.435337   3.8343632  4.4396796  1.2633288  5.133632   0.19668385\n",
      " 8.08935    5.767064  ]\n",
      "Number of particles: 20\n"
     ]
    },
    {
     "name": "stderr",
     "output_type": "stream",
     "text": [
      "pyswarms.single.global_best:  34%|███▍      |17/50, best_cost=0.107"
     ]
    },
    {
     "name": "stdout",
     "output_type": "stream",
     "text": [
      "List of losses for all particles\n",
      "[0.28502104 2.7980006  0.59943384 0.9539085  0.33527833 0.39169747\n",
      " 3.8925495  0.2715046  0.44387063 0.7677683  0.6226597  1.0438993\n",
      " 2.8063078  0.70039916 1.7186667  2.0410364  0.21613708 0.5305343\n",
      " 7.196873   1.4772737 ]\n",
      "Number of particles: 20\n"
     ]
    },
    {
     "name": "stderr",
     "output_type": "stream",
     "text": [
      "pyswarms.single.global_best:  36%|███▌      |18/50, best_cost=0.107"
     ]
    },
    {
     "name": "stdout",
     "output_type": "stream",
     "text": [
      "List of losses for all particles\n",
      "[0.47235793 1.1382028  0.72994804 0.4549618  0.36757085 0.22507153\n",
      " 2.142188   0.70409405 1.4345684  0.7605494  1.0620826  0.6120539\n",
      " 0.6452311  1.0091407  0.47965914 1.2744871  0.52103436 0.45702672\n",
      " 3.0512924  0.92908293]\n",
      "Number of particles: 20\n"
     ]
    },
    {
     "name": "stderr",
     "output_type": "stream",
     "text": [
      "pyswarms.single.global_best:  38%|███▊      |19/50, best_cost=0.107"
     ]
    },
    {
     "name": "stdout",
     "output_type": "stream",
     "text": [
      "List of losses for all particles\n",
      "[0.5035337  0.4594109  0.7837485  0.44990778 0.2193618  0.53715223\n",
      " 0.278195   0.7724396  1.3639523  0.42112792 0.8893783  0.4982145\n",
      " 0.54333735 1.4111714  0.70890814 1.2056923  0.4810407  0.2755982\n",
      " 0.3233793  0.6965399 ]\n",
      "Number of particles: 20\n"
     ]
    },
    {
     "name": "stderr",
     "output_type": "stream",
     "text": [
      "pyswarms.single.global_best:  40%|████      |20/50, best_cost=0.107"
     ]
    },
    {
     "name": "stdout",
     "output_type": "stream",
     "text": [
      "List of losses for all particles\n",
      "[0.33378616 1.152877   0.6459509  0.4130423  0.15655318 0.7200968\n",
      " 0.5466353  0.80165535 1.0374951  0.25595185 0.8853491  0.33010024\n",
      " 0.44235194 1.6813833  0.83629453 1.1108155  0.45261872 0.1199387\n",
      " 1.1137614  0.4217861 ]\n",
      "Number of particles: 20\n"
     ]
    },
    {
     "name": "stderr",
     "output_type": "stream",
     "text": [
      "pyswarms.single.global_best:  42%|████▏     |21/50, best_cost=0.107"
     ]
    },
    {
     "name": "stdout",
     "output_type": "stream",
     "text": [
      "List of losses for all particles\n",
      "[0.17637369 1.5167131  0.49596843 0.21577491 0.31794313 0.73058236\n",
      " 0.70692897 0.39422414 0.57736224 0.5072303  0.9520153  0.2909725\n",
      " 0.38560498 1.4798899  0.90202856 0.6713087  0.5994794  0.12453798\n",
      " 1.2462889  0.24842393]\n",
      "Number of particles: 20\n"
     ]
    },
    {
     "name": "stderr",
     "output_type": "stream",
     "text": [
      "pyswarms.single.global_best:  44%|████▍     |22/50, best_cost=0.0491"
     ]
    },
    {
     "name": "stdout",
     "output_type": "stream",
     "text": [
      "List of losses for all particles\n",
      "[0.8204586  1.4319726  0.5217637  1.7908441  0.63868463 0.8692481\n",
      " 0.76237124 1.0115671  1.1425284  0.60244673 0.5078417  2.3008308\n",
      " 0.33889794 0.42122787 0.68809146 0.66985106 1.0851011  0.04908853\n",
      " 1.3923775  0.3682963 ]\n",
      "Number of particles: 20\n"
     ]
    },
    {
     "name": "stderr",
     "output_type": "stream",
     "text": [
      "pyswarms.single.global_best:  46%|████▌     |23/50, best_cost=0.0491"
     ]
    },
    {
     "name": "stdout",
     "output_type": "stream",
     "text": [
      "List of losses for all particles\n",
      "[2.3996718  0.56919974 2.9210162  3.1310365  0.67935175 0.83121204\n",
      " 0.4244432  3.044808   4.599301   0.31534988 4.1885405  5.3575277\n",
      " 1.2135513  5.004421   0.25965795 0.4840845  4.4442782  0.200312\n",
      " 1.2130046  1.2825602 ]\n",
      "Number of particles: 20\n"
     ]
    },
    {
     "name": "stderr",
     "output_type": "stream",
     "text": [
      "pyswarms.single.global_best:  48%|████▊     |24/50, best_cost=0.0491"
     ]
    },
    {
     "name": "stdout",
     "output_type": "stream",
     "text": [
      "List of losses for all particles\n",
      "[3.0453045  0.6859396  4.0431395  2.404864   0.13297127 0.847117\n",
      " 0.49142736 3.7182126  6.2867746  0.7437011  5.874232   5.179402\n",
      " 2.9112604  7.728144   0.7344919  0.36613443 5.509991   0.28079107\n",
      " 0.06781212 1.8538159 ]\n",
      "Number of particles: 20\n"
     ]
    },
    {
     "name": "stderr",
     "output_type": "stream",
     "text": [
      "pyswarms.single.global_best:  50%|█████     |25/50, best_cost=0.0491"
     ]
    },
    {
     "name": "stdout",
     "output_type": "stream",
     "text": [
      "List of losses for all particles\n",
      "[1.8238163  1.5839026  2.3772717  0.79152584 0.41766056 1.42217\n",
      " 1.7524968  2.0958993  4.5427876  0.85280657 4.9548044  2.710998\n",
      " 4.134179   6.88861    1.9690065  0.730777   3.5932713  0.21070535\n",
      " 2.4017277  1.4985431 ]\n",
      "Number of particles: 20\n"
     ]
    },
    {
     "name": "stderr",
     "output_type": "stream",
     "text": [
      "pyswarms.single.global_best:  52%|█████▏    |26/50, best_cost=0.0491"
     ]
    },
    {
     "name": "stdout",
     "output_type": "stream",
     "text": [
      "List of losses for all particles\n",
      "[0.2294158  1.9447597  0.13193545 0.45415404 0.64883554 1.3327699\n",
      " 2.056356   0.3549667  1.2766966  0.5442313  2.4058194  0.7411053\n",
      " 3.0221949  2.6226652  2.2384303  1.4050355  0.77444637 0.06747052\n",
      " 3.9081967  0.28423792]\n",
      "Number of particles: 20\n"
     ]
    },
    {
     "name": "stderr",
     "output_type": "stream",
     "text": [
      "pyswarms.single.global_best:  54%|█████▍    |27/50, best_cost=0.0491"
     ]
    },
    {
     "name": "stdout",
     "output_type": "stream",
     "text": [
      "List of losses for all particles\n",
      "[0.47628495 1.169656   0.97735065 0.7506932  0.6431449  0.48104322\n",
      " 1.2762743  0.12630732 0.7468731  0.6383202  0.06647864 1.4305656\n",
      " 0.6613203  0.9374967  0.960347   1.1045703  0.36149335 0.05806886\n",
      " 3.2120898  0.94631976]\n",
      "Number of particles: 20\n"
     ]
    },
    {
     "name": "stderr",
     "output_type": "stream",
     "text": [
      "pyswarms.single.global_best:  56%|█████▌    |28/50, best_cost=0.0458"
     ]
    },
    {
     "name": "stdout",
     "output_type": "stream",
     "text": [
      "List of losses for all particles\n",
      "[0.55771285 0.04577033 1.1339179  0.77904624 0.37257454 0.3438013\n",
      " 0.23083301 0.31773412 1.2533932  0.47889015 0.68044734 0.9097686\n",
      " 0.6371627  1.973171   0.33756572 0.8394345  0.3732131  0.10429003\n",
      " 1.073887   1.2817421 ]\n",
      "Number of particles: 20\n"
     ]
    },
    {
     "name": "stderr",
     "output_type": "stream",
     "text": [
      "pyswarms.single.global_best:  58%|█████▊    |29/50, best_cost=0.0458"
     ]
    },
    {
     "name": "stdout",
     "output_type": "stream",
     "text": [
      "List of losses for all particles\n",
      "[0.5253856  0.7679156  1.0030514  0.68769383 0.05426231 0.5654601\n",
      " 0.44768676 0.48118323 1.1973555  0.2655448  0.7047369  0.5948931\n",
      " 0.84749377 1.9085112  0.7369218  0.6172311  0.6112099  0.07753381\n",
      " 0.5552736  0.92935705]\n",
      "Number of particles: 20\n"
     ]
    },
    {
     "name": "stderr",
     "output_type": "stream",
     "text": [
      "pyswarms.single.global_best:  60%|██████    |30/50, best_cost=0.0458"
     ]
    },
    {
     "name": "stdout",
     "output_type": "stream",
     "text": [
      "List of losses for all particles\n",
      "[0.4328864  1.2198627  0.7125851  0.2184297  0.3891703  0.641316\n",
      " 0.64977044 0.79447603 0.86420274 0.13834698 0.7295075  0.3771146\n",
      " 0.7331999  1.0472618  0.96553385 0.3944876  0.69865304 0.11773389\n",
      " 1.0994534  0.59891933]\n",
      "Number of particles: 20\n"
     ]
    },
    {
     "name": "stderr",
     "output_type": "stream",
     "text": [
      "pyswarms.single.global_best:  62%|██████▏   |31/50, best_cost=0.044 "
     ]
    },
    {
     "name": "stdout",
     "output_type": "stream",
     "text": [
      "List of losses for all particles\n",
      "[0.20126878 1.239014   0.30529347 0.65175086 0.43039194 0.50205123\n",
      " 0.6493023  0.9835484  0.09530379 0.5216904  0.5588287  0.07121173\n",
      " 0.71253794 0.19288664 1.0737731  0.45835486 0.24150507 0.04396512\n",
      " 1.1523615  0.24991249]\n",
      "Number of particles: 20\n"
     ]
    },
    {
     "name": "stderr",
     "output_type": "stream",
     "text": [
      "pyswarms.single.global_best:  64%|██████▍   |32/50, best_cost=0.044"
     ]
    },
    {
     "name": "stdout",
     "output_type": "stream",
     "text": [
      "List of losses for all particles\n",
      "[0.97557175 0.7455214  2.132664   1.254329   0.2819817  0.29525432\n",
      " 0.21333593 0.24762301 1.6677094  1.0611471  0.7185711  1.8731625\n",
      " 0.675573   2.3907218  0.8696137  0.8154858  1.2002996  0.07779703\n",
      " 0.73267734 0.4277222 ]\n",
      "Number of particles: 20\n"
     ]
    },
    {
     "name": "stderr",
     "output_type": "stream",
     "text": [
      "pyswarms.single.global_best:  66%|██████▌   |33/50, best_cost=0.0313"
     ]
    },
    {
     "name": "stdout",
     "output_type": "stream",
     "text": [
      "List of losses for all particles\n",
      "[1.8259022  0.07172567 3.008872   1.2076973  0.03133692 0.46470222\n",
      " 0.4503811  0.9443374  2.9419742  1.1227384  2.1997097  3.425576\n",
      " 0.39004847 3.960164   0.26192454 0.9726117  2.6456058  0.16069141\n",
      " 0.21532592 1.1776613 ]\n",
      "Number of particles: 20\n"
     ]
    },
    {
     "name": "stderr",
     "output_type": "stream",
     "text": [
      "pyswarms.single.global_best:  68%|██████▊   |34/50, best_cost=0.0313"
     ]
    },
    {
     "name": "stdout",
     "output_type": "stream",
     "text": [
      "List of losses for all particles\n",
      "[1.7442085  0.8908947  2.3246477  0.6064531  0.25592223 0.61947966\n",
      " 0.84277785 1.1599822  2.5753229  0.48493585 2.5166361  3.0048401\n",
      " 1.810923   3.879923   0.80458486 1.4058253  2.7072492  0.23145542\n",
      " 1.3672662  0.8896473 ]\n",
      "Number of particles: 20\n"
     ]
    },
    {
     "name": "stderr",
     "output_type": "stream",
     "text": [
      "pyswarms.single.global_best:  70%|███████   |35/50, best_cost=0.0313"
     ]
    },
    {
     "name": "stdout",
     "output_type": "stream",
     "text": [
      "List of losses for all particles\n",
      "[0.64248616 1.3516456  0.7546202  0.16399756 0.39434263 0.790239\n",
      " 0.7357312  0.516226   1.1781194  0.3160462  1.6065868  1.6041147\n",
      " 2.024411   1.9503392  1.4962119  1.5750818  1.4776161  0.20158766\n",
      " 2.1867132  0.20589334]\n",
      "Number of particles: 20\n"
     ]
    },
    {
     "name": "stderr",
     "output_type": "stream",
     "text": [
      "pyswarms.single.global_best:  72%|███████▏  |36/50, best_cost=0.0313"
     ]
    },
    {
     "name": "stdout",
     "output_type": "stream",
     "text": [
      "List of losses for all particles\n",
      "[0.23631532 1.0896019  0.6145078  0.42997384 0.28819853 0.7441929\n",
      " 0.33208516 0.1848207  0.12405109 0.675432   0.16168498 0.07110382\n",
      " 0.90020686 0.25351673 1.0765527  0.98588103 0.22523594 0.0686833\n",
      " 1.8958302  0.94403386]\n",
      "Number of particles: 20\n"
     ]
    },
    {
     "name": "stderr",
     "output_type": "stream",
     "text": [
      "pyswarms.single.global_best:  74%|███████▍  |37/50, best_cost=0.0313"
     ]
    },
    {
     "name": "stdout",
     "output_type": "stream",
     "text": [
      "List of losses for all particles\n",
      "[0.48940876 0.4313354  1.0526508  0.64576775 0.08036863 0.7750654\n",
      " 0.19432914 0.05176871 0.6768692  0.74505633 0.6354867  0.60776293\n",
      " 0.45042694 1.1613672  0.06761559 0.6899753  0.44234994 0.14160253\n",
      " 0.846871   1.0177001 ]\n",
      "Number of particles: 20\n"
     ]
    },
    {
     "name": "stderr",
     "output_type": "stream",
     "text": [
      "pyswarms.single.global_best:  76%|███████▌  |38/50, best_cost=0.0313"
     ]
    },
    {
     "name": "stdout",
     "output_type": "stream",
     "text": [
      "List of losses for all particles\n",
      "[0.5049227  0.2741113  0.99822706 0.8654933  0.16438635 0.8411998\n",
      " 0.5270836  0.21582966 0.85533476 0.83130455 0.8862913  0.7082704\n",
      " 0.69308317 1.2100706  0.7792867  0.6625468  0.47943172 0.3047657\n",
      " 0.32910898 0.6822703 ]\n",
      "Number of particles: 20\n"
     ]
    },
    {
     "name": "stderr",
     "output_type": "stream",
     "text": [
      "pyswarms.single.global_best:  78%|███████▊  |39/50, best_cost=0.0313"
     ]
    },
    {
     "name": "stdout",
     "output_type": "stream",
     "text": [
      "List of losses for all particles\n",
      "[0.49781886 0.6892526  0.772902   0.8569047  0.345466   0.88862276\n",
      " 0.64558995 0.57516    0.7230823  0.7974897  0.95516956 0.74702066\n",
      " 0.70433944 0.7890097  1.0472372  0.70178443 0.35272616 0.30736554\n",
      " 0.7613965  0.34590426]\n",
      "Number of particles: 20\n"
     ]
    },
    {
     "name": "stderr",
     "output_type": "stream",
     "text": [
      "pyswarms.single.global_best:  80%|████████  |40/50, best_cost=0.0313"
     ]
    },
    {
     "name": "stdout",
     "output_type": "stream",
     "text": [
      "List of losses for all particles\n",
      "[0.22913042 0.84048975 0.3625623  0.19638044 0.36969197 0.70946413\n",
      " 0.5396686  1.056498   0.47284076 0.37311798 0.757655   0.5097054\n",
      " 0.7035344  0.14536573 1.0684065  0.7483304  0.1751809  0.19180211\n",
      " 0.9636248  0.17401862]\n",
      "Number of particles: 20\n"
     ]
    },
    {
     "name": "stderr",
     "output_type": "stream",
     "text": [
      "pyswarms.single.global_best:  82%|████████▏ |41/50, best_cost=0.027 "
     ]
    },
    {
     "name": "stdout",
     "output_type": "stream",
     "text": [
      "List of losses for all particles\n",
      "[0.54892004 0.5485324  0.3492817  0.47568297 0.30939046 0.4483985\n",
      " 0.28485778 1.1163322  0.24816602 0.21104684 0.07807083 0.2951193\n",
      " 0.47260812 0.8631726  0.7495119  0.7605054  0.23589645 0.0270403\n",
      " 0.7726258  0.47516233]\n",
      "Number of particles: 20\n"
     ]
    },
    {
     "name": "stderr",
     "output_type": "stream",
     "text": [
      "pyswarms.single.global_best:  84%|████████▍ |42/50, best_cost=0.0255"
     ]
    },
    {
     "name": "stdout",
     "output_type": "stream",
     "text": [
      "List of losses for all particles\n",
      "[1.0772665  0.12070636 1.110364   0.68325645 0.09495166 0.36119303\n",
      " 0.02552803 0.5206459  1.0269892  0.6552878  1.0390935  1.3490503\n",
      " 0.12280659 1.4588946  0.06076099 0.68950355 0.36225674 0.16211097\n",
      " 0.41904816 0.5369808 ]\n",
      "Number of particles: 20\n"
     ]
    },
    {
     "name": "stderr",
     "output_type": "stream",
     "text": [
      "pyswarms.single.global_best:  86%|████████▌ |43/50, best_cost=0.0255"
     ]
    },
    {
     "name": "stdout",
     "output_type": "stream",
     "text": [
      "List of losses for all particles\n",
      "[0.93453026 0.32758737 1.3107646  0.46234182 0.17527667 0.5824683\n",
      " 0.30171862 0.16888872 1.3259629  0.57788616 1.6328892  1.6250207\n",
      " 0.7385887  1.4637915  0.90556943 1.1830941  0.34291503 0.21850885\n",
      " 0.25504217 0.04922556]\n",
      "Number of particles: 20\n"
     ]
    },
    {
     "name": "stderr",
     "output_type": "stream",
     "text": [
      "pyswarms.single.global_best:  88%|████████▊ |44/50, best_cost=0.0255"
     ]
    },
    {
     "name": "stdout",
     "output_type": "stream",
     "text": [
      "List of losses for all particles\n",
      "[0.45543188 0.76455635 0.8981851  0.24999736 0.295456   1.0023475\n",
      " 0.5199536  0.22240934 0.9169324  0.33699486 1.4806654  0.9842769\n",
      " 1.2277744  0.64556044 1.4818549  1.4310905  0.06354453 0.27139577\n",
      " 0.84000283 0.68769383]\n",
      "Number of particles: 20\n"
     ]
    },
    {
     "name": "stderr",
     "output_type": "stream",
     "text": [
      "pyswarms.single.global_best:  90%|█████████ |45/50, best_cost=0.0255"
     ]
    },
    {
     "name": "stdout",
     "output_type": "stream",
     "text": [
      "List of losses for all particles\n",
      "[0.11512191 0.76632327 0.05326597 0.17349753 0.29237214 1.1819692\n",
      " 0.5550873  0.05085672 0.35080266 0.11411795 0.6402238  0.08129242\n",
      " 1.1835043  0.33279854 1.5635917  0.91827124 0.42939097 0.25364667\n",
      " 1.1388173  0.8760322 ]\n",
      "Number of particles: 20\n"
     ]
    },
    {
     "name": "stderr",
     "output_type": "stream",
     "text": [
      "pyswarms.single.global_best:  92%|█████████▏|46/50, best_cost=0.0255"
     ]
    },
    {
     "name": "stdout",
     "output_type": "stream",
     "text": [
      "List of losses for all particles\n",
      "[0.32892045 0.35050935 0.80561364 0.2334095  0.17405091 1.0306679\n",
      " 0.28931952 0.21860275 0.26716793 0.30873683 0.21037115 0.49774042\n",
      " 0.48749116 1.0292985  0.99665505 0.78095615 0.6528984  0.10293808\n",
      " 0.8475033  0.6989315 ]\n",
      "Number of particles: 20\n"
     ]
    },
    {
     "name": "stderr",
     "output_type": "stream",
     "text": [
      "pyswarms.single.global_best:  94%|█████████▍|47/50, best_cost=0.0255"
     ]
    },
    {
     "name": "stdout",
     "output_type": "stream",
     "text": [
      "List of losses for all particles\n",
      "[0.36302203 0.14853501 1.1953955  0.3071128  0.02916442 0.89408493\n",
      " 0.05114642 0.44382    0.49962834 0.5758856  0.76889443 0.65935034\n",
      " 0.3115947  1.1002682  0.03968357 1.0377852  0.7516842  0.11353193\n",
      " 0.32873252 0.51301956]\n",
      "Number of particles: 20\n"
     ]
    },
    {
     "name": "stderr",
     "output_type": "stream",
     "text": [
      "pyswarms.single.global_best:  96%|█████████▌|48/50, best_cost=0.0255"
     ]
    },
    {
     "name": "stdout",
     "output_type": "stream",
     "text": [
      "List of losses for all particles\n",
      "[0.2794107  0.3710345  0.9640877  0.5658525  0.16582407 0.71607363\n",
      " 0.27292427 0.47653303 0.56535554 0.61215615 1.1037123  0.60733324\n",
      " 0.5947588  0.7707     0.6648937  1.2342962  0.51400465 0.27573875\n",
      " 0.24614787 0.31576577]\n",
      "Number of particles: 20\n"
     ]
    },
    {
     "name": "stderr",
     "output_type": "stream",
     "text": [
      "pyswarms.single.global_best:  98%|█████████▊|49/50, best_cost=0.0255"
     ]
    },
    {
     "name": "stdout",
     "output_type": "stream",
     "text": [
      "List of losses for all particles\n",
      "[0.04346224 0.3932051  0.37415987 0.6410204  0.23719095 0.59470665\n",
      " 0.35660133 0.25750622 0.46694583 0.41370696 0.90986544 0.4048879\n",
      " 0.4930042  0.24677406 0.8722203  0.81613946 0.03909506 0.28621024\n",
      " 0.5311672  0.0591054 ]\n",
      "Number of particles: 20\n"
     ]
    },
    {
     "name": "stderr",
     "output_type": "stream",
     "text": [
      "pyswarms.single.global_best: 100%|██████████|50/50, best_cost=0.0255\n",
      "2022-04-29 19:41:18,947 - pyswarms.single.global_best - INFO - Optimization finished | best cost: 0.025528034195303917, best pos: [ 0.14242621  1.05672689  0.04916201 ...  0.5220217  -0.16930714\n",
      " -0.13524044]\n"
     ]
    },
    {
     "name": "stdout",
     "output_type": "stream",
     "text": [
      "List of losses for all particles\n",
      "[0.27489576 0.2792905  0.26791245 0.22311778 0.24461144 0.53880394\n",
      " 0.3383683  0.02951854 0.31129238 0.08210512 0.38338688 0.15881431\n",
      " 0.23380136 0.25950763 0.7361399  0.30129647 0.43198323 0.19524169\n",
      " 0.4849434  0.20234391]\n"
     ]
    }
   ],
   "source": [
    "options = {'c1': 0.5, 'c2': 0.3, 'w':0.9}\n",
    "\n",
    "layer_1 = modelGA.get_layer('layer_1').get_weights()\n",
    "layer_2 = modelGA.get_layer('layer_2').get_weights()\n",
    "dimensions = (layer_1[0].shape[0] * layer_1[0].shape[1]) + (layer_1[0].shape[0] * layer_1[0].shape[1]) + (layer_1[1].shape[0] * layer_1[1].shape[1]) + (layer_2[0].shape[0] * layer_2[0].shape[1]) +(layer_2[1].shape[0])\n",
    "\n",
    "print(\"Number of params in Neural Network: %d\" % dimensions)\n",
    "\n",
    "optimizer = ps.single.GlobalBestPSO(n_particles=20, dimensions=dimensions, options=options)\n",
    "\n",
    "cost, pos = optimizer.optimize(f, iters=50)"
   ]
  },
  {
   "cell_type": "code",
   "execution_count": 26,
   "metadata": {},
   "outputs": [
    {
     "data": {
      "image/png": "[encoded data removed]",
      "text/plain": [
       "<Figure size 720x576 with 1 Axes>"
      ]
     },
     "metadata": {
      "needs_background": "light"
     },
     "output_type": "display_data"
    }
   ],
   "source": [
    "plot_cost_history(cost_history=optimizer.cost_history)\n",
    "plt.show()"
   ]
  },
  {
   "cell_type": "markdown",
   "metadata": {},
   "source": [
    "Creating the Neural Network with the final optimized params using GA"
   ]
  },
  {
   "cell_type": "code",
   "execution_count": 27,
   "metadata": {},
   "outputs": [],
   "source": [
    "layer_1 = modelGA.get_layer('layer_1').get_weights()\n",
    "layer_2 = modelGA.get_layer('layer_2').get_weights()\n",
    "\n",
    "layer1_W1_shape = (layer_1[0].shape[0] * layer_1[0].shape[1])\n",
    "layer1_W2_shape = layer1_W1_shape + (layer_1[1].shape[0] * layer_1[1].shape[1])\n",
    "layer1_B_shape = layer1_W2_shape + (layer_1[2].shape[0])\n",
    "layer2_W_shape = layer1_B_shape + (layer_2[0].shape[0] * layer_2[0].shape[1])\n",
    "layer2_B_shape = layer2_W_shape + (layer_2[1].shape[0])\n",
    "\n",
    "layer1_W1 = pos[0:layer1_W1_shape].reshape(layer_1[0].shape)\n",
    "layer1_W2 = pos[layer1_W1_shape:layer1_W2_shape].reshape(layer_1[1].shape)\n",
    "layer1_B = pos[layer1_W2_shape:layer1_B_shape].reshape(layer_1[2].shape)\n",
    "layer2_W = pos[layer1_B_shape:layer2_W_shape].reshape(layer_2[0].shape)\n",
    "layer2_B = pos[layer2_W_shape:layer2_B_shape].reshape(layer_2[1].shape)\n",
    "\n",
    "modelGA.get_layer('layer_1').set_weights([layer1_W1, layer1_W2, layer1_B])\n",
    "modelGA.get_layer('layer_2').set_weights([layer2_W, layer2_B])"
   ]
  },
  {
   "cell_type": "markdown",
   "metadata": {},
   "source": [
    "Checking the performance of the model using GA"
   ]
  },
  {
   "cell_type": "code",
   "execution_count": 28,
   "metadata": {},
   "outputs": [],
   "source": [
    "predictY = modelGA.predict(test_X)"
   ]
  },
  {
   "cell_type": "code",
   "execution_count": 29,
   "metadata": {},
   "outputs": [
    {
     "data": {
      "image/png": "[encoded data removed]",
      "text/plain": [
       "<Figure size 432x288 with 1 Axes>"
      ]
     },
     "metadata": {
      "needs_background": "light"
     },
     "output_type": "display_data"
    }
   ],
   "source": [
    "time = np.arange(predictY.shape[0])\n",
    "\n",
    "plt.plot(time, predictY, test_y)\n",
    "plt.xlabel('time')\n",
    "plt.ylabel('amplitude')\n",
    "plt.show()"
   ]
  },
  {
   "cell_type": "code",
   "execution_count": 30,
   "metadata": {},
   "outputs": [
    {
     "name": "stdout",
     "output_type": "stream",
     "text": [
      "WARNING:tensorflow:AutoGraph could not transform <function Model.make_test_function.<locals>.test_function at 0x7f4aac5bb440> and will run it as-is.\n",
      "Please report this to the TensorFlow team. When filing the bug, set the verbosity to 10 (on Linux, `export AUTOGRAPH_VERBOSITY=10`) and attach the full output.\n",
      "Cause: 'arguments' object has no attribute 'posonlyargs'\n",
      "To silence this warning, decorate the function with @tf.autograph.experimental.do_not_convert\n"
     ]
    },
    {
     "name": "stderr",
     "output_type": "stream",
     "text": [
      "2022-04-29 19:41:21,284 - tensorflow - WARNING - AutoGraph could not transform <function Model.make_test_function.<locals>.test_function at 0x7f4aac5bb440> and will run it as-is.\n",
      "Please report this to the TensorFlow team. When filing the bug, set the verbosity to 10 (on Linux, `export AUTOGRAPH_VERBOSITY=10`) and attach the full output.\n",
      "Cause: 'arguments' object has no attribute 'posonlyargs'\n",
      "To silence this warning, decorate the function with @tf.autograph.experimental.do_not_convert\n"
     ]
    },
    {
     "name": "stdout",
     "output_type": "stream",
     "text": [
      "WARNING: AutoGraph could not transform <function Model.make_test_function.<locals>.test_function at 0x7f4aac5bb440> and will run it as-is.\n",
      "Please report this to the TensorFlow team. When filing the bug, set the verbosity to 10 (on Linux, `export AUTOGRAPH_VERBOSITY=10`) and attach the full output.\n",
      "Cause: 'arguments' object has no attribute 'posonlyargs'\n",
      "To silence this warning, decorate the function with @tf.autograph.experimental.do_not_convert\n",
      "18/18 [==============================] - 1s 1ms/step - loss: 0.0403 - mean_squared_error: 0.0403 - r_square_loss: 6897.0840  \n"
     ]
    }
   ],
   "source": [
    "lossNN_GA = modelGA.evaluate(test_X, test_y)"
   ]
  },
  {
   "cell_type": "code",
   "execution_count": 31,
   "metadata": {},
   "outputs": [
    {
     "name": "stdout",
     "output_type": "stream",
     "text": [
      "The loss output for test dataset is: 0.040348\n"
     ]
    }
   ],
   "source": [
    "print('The loss output for test dataset is: %f' % lossNN_GA[0])"
   ]
  },
  {
   "cell_type": "code",
   "execution_count": 32,
   "metadata": {},
   "outputs": [
    {
     "name": "stdout",
     "output_type": "stream",
     "text": [
      "We see that the loss output for test dataset using Back Propagation is: 0.223176, while the loss output using GA is: 0.040348\n"
     ]
    }
   ],
   "source": [
    "print('We see that the loss output for test dataset using Back Propagation is: %f, while the loss output using GA is: %f' % (lossNN[0], lossNN_GA[0]))"
   ]
  },
  {
   "cell_type": "code",
   "execution_count": null,
   "metadata": {},
   "outputs": [],
   "source": []
  },
  {
   "cell_type": "code",
   "execution_count": null,
   "metadata": {},
   "outputs": [],
   "source": []
  }
 ],
 "metadata": {
  "kernelspec": {
   "display_name": "Python 3",
   "language": "python",
   "name": "python3"
  },
  "language_info": {
   "codemirror_mode": {
    "name": "ipython",
    "version": 3
   },
   "file_extension": ".py",
   "mimetype": "text/x-python",
   "name": "python",
   "nbconvert_exporter": "python",
   "pygments_lexer": "ipython3",
   "version": "3.7.10"
  }
 },
 "nbformat": 4,
 "nbformat_minor": 4
}
