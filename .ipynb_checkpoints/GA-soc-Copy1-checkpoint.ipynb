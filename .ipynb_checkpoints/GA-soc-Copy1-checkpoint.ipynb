{
 "cells": [
  {
   "cell_type": "code",
   "execution_count": 1,
   "metadata": {},
   "outputs": [],
   "source": [
    "import numpy as np\n",
    "import keras\n",
    "from keras.models import Sequential\n",
    "from keras.layers import Dense, Dropout, Flatten\n",
    "from keras.layers import Conv2D, MaxPooling2D\n",
    "from keras.models import Model\n",
    "from keras.models import load_model\n",
    "import matplotlib.pyplot as plt"
   ]
  },
  {
   "cell_type": "code",
   "execution_count": 2,
   "metadata": {},
   "outputs": [],
   "source": [
    "import pyswarms as ps\n",
    "from pyswarms.utils.plotters import (plot_cost_history)\n",
    "%matplotlib inline\n",
    "\n",
    "import pandas as pd \n",
    "import numpy as np\n",
    "import matplotlib.pyplot as plt\n",
    "from sklearn.model_selection import train_test_split\n",
    "from keras import Sequential\n",
    "from keras.layers import LSTM, Dropout, Dense, TimeDistributed, Activation"
   ]
  },
  {
   "cell_type": "code",
   "execution_count": 3,
   "metadata": {},
   "outputs": [
    {
     "data": {
      "text/html": [
       "<div>\n",
       "<style scoped>\n",
       "    .dataframe tbody tr th:only-of-type {\n",
       "        vertical-align: middle;\n",
       "    }\n",
       "\n",
       "    .dataframe tbody tr th {\n",
       "        vertical-align: top;\n",
       "    }\n",
       "\n",
       "    .dataframe thead th {\n",
       "        text-align: right;\n",
       "    }\n",
       "</style>\n",
       "<table border=\"1\" class=\"dataframe\">\n",
       "  <thead>\n",
       "    <tr style=\"text-align: right;\">\n",
       "      <th></th>\n",
       "      <th>TimeStamp</th>\n",
       "      <th>Voltage</th>\n",
       "      <th>Current</th>\n",
       "      <th>Full charge Capacity</th>\n",
       "      <th>Remaining Capacity</th>\n",
       "      <th>Cell 1 Voltage</th>\n",
       "      <th>Cell 2 Voltage</th>\n",
       "      <th>Relative State of Charge</th>\n",
       "    </tr>\n",
       "  </thead>\n",
       "  <tbody>\n",
       "    <tr>\n",
       "      <th>0</th>\n",
       "      <td>2021-08-16 16:59:15.766</td>\n",
       "      <td>8472</td>\n",
       "      <td>0</td>\n",
       "      <td>4888</td>\n",
       "      <td>4888</td>\n",
       "      <td>4220</td>\n",
       "      <td>4251</td>\n",
       "      <td>100</td>\n",
       "    </tr>\n",
       "    <tr>\n",
       "      <th>1</th>\n",
       "      <td>2021-08-16 16:59:17.768</td>\n",
       "      <td>8472</td>\n",
       "      <td>0</td>\n",
       "      <td>4888</td>\n",
       "      <td>4888</td>\n",
       "      <td>4220</td>\n",
       "      <td>4251</td>\n",
       "      <td>100</td>\n",
       "    </tr>\n",
       "    <tr>\n",
       "      <th>2</th>\n",
       "      <td>2021-08-16 16:59:19.766</td>\n",
       "      <td>8472</td>\n",
       "      <td>0</td>\n",
       "      <td>4888</td>\n",
       "      <td>4888</td>\n",
       "      <td>4220</td>\n",
       "      <td>4251</td>\n",
       "      <td>100</td>\n",
       "    </tr>\n",
       "    <tr>\n",
       "      <th>3</th>\n",
       "      <td>2021-08-16 16:59:21.766</td>\n",
       "      <td>8471</td>\n",
       "      <td>0</td>\n",
       "      <td>4888</td>\n",
       "      <td>4888</td>\n",
       "      <td>4220</td>\n",
       "      <td>4251</td>\n",
       "      <td>100</td>\n",
       "    </tr>\n",
       "    <tr>\n",
       "      <th>4</th>\n",
       "      <td>2021-08-16 16:59:23.766</td>\n",
       "      <td>8471</td>\n",
       "      <td>0</td>\n",
       "      <td>4888</td>\n",
       "      <td>4888</td>\n",
       "      <td>4220</td>\n",
       "      <td>4251</td>\n",
       "      <td>100</td>\n",
       "    </tr>\n",
       "  </tbody>\n",
       "</table>\n",
       "</div>"
      ],
      "text/plain": [
       "                 TimeStamp  Voltage  Current  Full charge Capacity  \\\n",
       "0  2021-08-16 16:59:15.766     8472        0                  4888   \n",
       "1  2021-08-16 16:59:17.768     8472        0                  4888   \n",
       "2  2021-08-16 16:59:19.766     8472        0                  4888   \n",
       "3  2021-08-16 16:59:21.766     8471        0                  4888   \n",
       "4  2021-08-16 16:59:23.766     8471        0                  4888   \n",
       "\n",
       "   Remaining Capacity  Cell 1 Voltage  Cell 2 Voltage  \\\n",
       "0                4888            4220            4251   \n",
       "1                4888            4220            4251   \n",
       "2                4888            4220            4251   \n",
       "3                4888            4220            4251   \n",
       "4                4888            4220            4251   \n",
       "\n",
       "   Relative State of Charge  \n",
       "0                       100  \n",
       "1                       100  \n",
       "2                       100  \n",
       "3                       100  \n",
       "4                       100  "
      ]
     },
     "execution_count": 3,
     "metadata": {},
     "output_type": "execute_result"
    }
   ],
   "source": [
    "from pandas import read_csv\n",
    "from matplotlib import pyplot\n",
    "# load dataset\n",
    "dataset = read_csv('soc1.csv', header=0,index_col=False)\n",
    "dataset.head()"
   ]
  },
  {
   "cell_type": "code",
   "execution_count": 4,
   "metadata": {},
   "outputs": [],
   "source": [
    "import random\n",
    "Rand = 42\n",
    "random.seed(Rand)\n",
    "np.random.seed(Rand)"
   ]
  },
  {
   "cell_type": "code",
   "execution_count": 5,
   "metadata": {},
   "outputs": [],
   "source": [
    "from sklearn.preprocessing import MinMaxScaler\n",
    "\n",
    "dataset = read_csv('soc1.csv', header=0, index_col=0)\n",
    "values = dataset.values\n",
    "# ensure all data is float\n",
    "values = values.astype('float32')\n",
    "# normalize features\n",
    "scaler = MinMaxScaler(feature_range=(0, 1))"
   ]
  },
  {
   "cell_type": "code",
   "execution_count": 6,
   "metadata": {},
   "outputs": [],
   "source": [
    "y = values[:, -1]\n",
    "x = values[:,:-1]\n",
    "x = scaler.fit_transform(x)\n",
    "y = scaler.fit_transform(np.array(y).reshape(-1,1))\n",
    "x_train, x_test, y_train, y_test = train_test_split(x, y, test_size=0.2, random_state=0, shuffle = False)\n",
    "x_train = x_train.reshape((x_train.shape[0], 1, x_train.shape[1]))\n",
    "x_test = x_test.reshape((x_test.shape[0], 1, x_test.shape[1]))"
   ]
  },
  {
   "cell_type": "code",
   "execution_count": 7,
   "metadata": {},
   "outputs": [
    {
     "data": {
      "text/plain": [
       "(1202, 1)"
      ]
     },
     "execution_count": 7,
     "metadata": {},
     "output_type": "execute_result"
    }
   ],
   "source": [
    "y_train.shape"
   ]
  },
  {
   "cell_type": "code",
   "execution_count": 8,
   "metadata": {},
   "outputs": [
    {
     "data": {
      "text/plain": [
       "(1202, 1, 6)"
      ]
     },
     "execution_count": 8,
     "metadata": {},
     "output_type": "execute_result"
    }
   ],
   "source": [
    "x_train.shape\n"
   ]
  },
  {
   "cell_type": "code",
   "execution_count": 9,
   "metadata": {},
   "outputs": [],
   "source": [
    "model = Sequential()\n",
    "model.add(LSTM(6, return_sequences=False, input_shape=(x_train.shape[1], x_train.shape[2])))\n",
    "model.add(Dense(1, activation='linear'))"
   ]
  },
  {
   "cell_type": "code",
   "execution_count": 10,
   "metadata": {},
   "outputs": [],
   "source": [
    "def rmse_nn(y_true, y_pred):\n",
    "    from keras import backend\n",
    "    return backend.sqrt(backend.mean(backend.square(y_pred - y_true), axis=-1))\n",
    "\n",
    "def r_square_loss(y_true, y_pred):\n",
    "    from keras import backend as K\n",
    "    SS_res =  K.sum(K.square(y_true - y_pred)) \n",
    "    SS_tot = K.sum(K.square(y_true - K.mean(y_true))) \n",
    "    return 1 - ( 1 - SS_res/(SS_tot + K.epsilon()))"
   ]
  },
  {
   "cell_type": "code",
   "execution_count": 11,
   "metadata": {},
   "outputs": [
    {
     "name": "stdout",
     "output_type": "stream",
     "text": [
      "Model: \"sequential\"\n",
      "_________________________________________________________________\n",
      "Layer (type)                 Output Shape              Param #   \n",
      "=================================================================\n",
      "lstm (LSTM)                  (None, 6)                 312       \n",
      "_________________________________________________________________\n",
      "dense (Dense)                (None, 1)                 7         \n",
      "=================================================================\n",
      "Total params: 319\n",
      "Trainable params: 319\n",
      "Non-trainable params: 0\n",
      "_________________________________________________________________\n"
     ]
    }
   ],
   "source": [
    "model.compile(loss=rmse_nn, optimizer='sgd', metrics=[rmse_nn, r_square_loss])\n",
    "model.summary()"
   ]
  },
  {
   "cell_type": "code",
   "execution_count": 12,
   "metadata": {},
   "outputs": [
    {
     "name": "stdout",
     "output_type": "stream",
     "text": [
      "Epoch 1/20\n",
      "20/20 [==============================] - 32s 70ms/step - loss: 0.8112 - rmse_nn: 0.8112 - r_square_loss: 47.6971 - val_loss: 0.3403 - val_rmse_nn: 0.3403 - val_r_square_loss: 3281.4102\n",
      "Epoch 2/20\n",
      "20/20 [==============================] - 0s 4ms/step - loss: 0.5339 - rmse_nn: 0.5339 - r_square_loss: 22.4265 - val_loss: 0.0819 - val_rmse_nn: 0.0819 - val_r_square_loss: 200.9920\n",
      "Epoch 3/20\n",
      "20/20 [==============================] - 0s 4ms/step - loss: 0.2663 - rmse_nn: 0.2663 - r_square_loss: 6.3175 - val_loss: 0.1388 - val_rmse_nn: 0.1388 - val_r_square_loss: 613.5294\n",
      "Epoch 4/20\n",
      "20/20 [==============================] - 0s 4ms/step - loss: 0.1058 - rmse_nn: 0.1058 - r_square_loss: 1.1513 - val_loss: 0.2142 - val_rmse_nn: 0.2142 - val_r_square_loss: 1396.2600\n",
      "Epoch 5/20\n",
      "20/20 [==============================] - 0s 4ms/step - loss: 0.0883 - rmse_nn: 0.0883 - r_square_loss: 0.7149 - val_loss: 0.2192 - val_rmse_nn: 0.2192 - val_r_square_loss: 1458.3385\n",
      "Epoch 6/20\n",
      "20/20 [==============================] - 0s 4ms/step - loss: 0.0879 - rmse_nn: 0.0879 - r_square_loss: 0.6825 - val_loss: 0.2219 - val_rmse_nn: 0.2219 - val_r_square_loss: 1491.2053\n",
      "Epoch 7/20\n",
      "20/20 [==============================] - 0s 4ms/step - loss: 0.0846 - rmse_nn: 0.0846 - r_square_loss: 0.6502 - val_loss: 0.2262 - val_rmse_nn: 0.2262 - val_r_square_loss: 1546.1633\n",
      "Epoch 8/20\n",
      "20/20 [==============================] - 0s 4ms/step - loss: 0.0818 - rmse_nn: 0.0818 - r_square_loss: 0.6159 - val_loss: 0.2213 - val_rmse_nn: 0.2213 - val_r_square_loss: 1480.7976\n",
      "Epoch 9/20\n",
      "20/20 [==============================] - 0s 4ms/step - loss: 0.0812 - rmse_nn: 0.0812 - r_square_loss: 0.5886 - val_loss: 0.2148 - val_rmse_nn: 0.2148 - val_r_square_loss: 1396.7903\n",
      "Epoch 10/20\n",
      "20/20 [==============================] - 0s 4ms/step - loss: 0.0774 - rmse_nn: 0.0774 - r_square_loss: 0.5695 - val_loss: 0.2067 - val_rmse_nn: 0.2067 - val_r_square_loss: 1295.1866\n",
      "Epoch 11/20\n",
      "20/20 [==============================] - 0s 4ms/step - loss: 0.0770 - rmse_nn: 0.0770 - r_square_loss: 0.5391 - val_loss: 0.2034 - val_rmse_nn: 0.2034 - val_r_square_loss: 1255.3875\n",
      "Epoch 12/20\n",
      "20/20 [==============================] - 0s 4ms/step - loss: 0.0742 - rmse_nn: 0.0742 - r_square_loss: 0.5257 - val_loss: 0.1930 - val_rmse_nn: 0.1930 - val_r_square_loss: 1133.1561\n",
      "Epoch 13/20\n",
      "20/20 [==============================] - 0s 4ms/step - loss: 0.0738 - rmse_nn: 0.0738 - r_square_loss: 0.4890 - val_loss: 0.1961 - val_rmse_nn: 0.1961 - val_r_square_loss: 1167.5438\n",
      "Epoch 14/20\n",
      "20/20 [==============================] - 0s 4ms/step - loss: 0.0711 - rmse_nn: 0.0711 - r_square_loss: 0.4645 - val_loss: 0.1910 - val_rmse_nn: 0.1910 - val_r_square_loss: 1107.7815\n",
      "Epoch 15/20\n",
      "20/20 [==============================] - 0s 4ms/step - loss: 0.0687 - rmse_nn: 0.0687 - r_square_loss: 0.4412 - val_loss: 0.1794 - val_rmse_nn: 0.1794 - val_r_square_loss: 980.8719\n",
      "Epoch 16/20\n",
      "20/20 [==============================] - 0s 4ms/step - loss: 0.0664 - rmse_nn: 0.0664 - r_square_loss: 0.4049 - val_loss: 0.1779 - val_rmse_nn: 0.1779 - val_r_square_loss: 963.7025\n",
      "Epoch 17/20\n",
      "20/20 [==============================] - 0s 4ms/step - loss: 0.0651 - rmse_nn: 0.0651 - r_square_loss: 0.3956 - val_loss: 0.1699 - val_rmse_nn: 0.1699 - val_r_square_loss: 881.7712\n",
      "Epoch 18/20\n",
      "20/20 [==============================] - 0s 4ms/step - loss: 0.0641 - rmse_nn: 0.0641 - r_square_loss: 0.3676 - val_loss: 0.1740 - val_rmse_nn: 0.1740 - val_r_square_loss: 921.2783\n",
      "Epoch 19/20\n",
      "20/20 [==============================] - 0s 5ms/step - loss: 0.0601 - rmse_nn: 0.0601 - r_square_loss: 0.3406 - val_loss: 0.1713 - val_rmse_nn: 0.1713 - val_r_square_loss: 893.7417\n",
      "Epoch 20/20\n",
      "20/20 [==============================] - 0s 4ms/step - loss: 0.0587 - rmse_nn: 0.0587 - r_square_loss: 0.3288 - val_loss: 0.1633 - val_rmse_nn: 0.1633 - val_r_square_loss: 813.9711\n"
     ]
    }
   ],
   "source": [
    "historyNN = model.fit(x_train, y_train, batch_size=50, epochs=20, validation_split = 0.2)"
   ]
  },
  {
   "cell_type": "code",
   "execution_count": 13,
   "metadata": {},
   "outputs": [
    {
     "data": {
      "image/png": "[encoded data removed]",
      "text/plain": [
       "<Figure size 432x288 with 1 Axes>"
      ]
     },
     "metadata": {
      "needs_background": "light"
     },
     "output_type": "display_data"
    }
   ],
   "source": [
    "plt.plot(historyNN.history['loss'])\n",
    "plt.plot(historyNN.history['val_loss'])\n",
    "plt.title('Model Loss Plot')\n",
    "plt.ylabel('Loss')\n",
    "plt.xlabel('Epoch')\n",
    "plt.legend(['Train', 'Validation'], loc='upper left')\n",
    "plt.show()"
   ]
  },
  {
   "cell_type": "code",
   "execution_count": 14,
   "metadata": {},
   "outputs": [
    {
     "name": "stdout",
     "output_type": "stream",
     "text": [
      "10/10 [==============================] - 0s 2ms/step - loss: 0.2539 - rmse_nn: 0.2539 - r_square_loss: 2405.6711\n"
     ]
    }
   ],
   "source": [
    "lossNN = model.evaluate(x_test, y_test)"
   ]
  },
  {
   "cell_type": "code",
   "execution_count": 15,
   "metadata": {},
   "outputs": [
    {
     "name": "stdout",
     "output_type": "stream",
     "text": [
      "The loss output for test dataset is: 0.253912\n"
     ]
    }
   ],
   "source": [
    "print('The loss output for test dataset is: %f' % lossNN[0])"
   ]
  },
  {
   "cell_type": "code",
   "execution_count": 16,
   "metadata": {},
   "outputs": [],
   "source": [
    "predictY = model.predict(x_test)"
   ]
  },
  {
   "cell_type": "code",
   "execution_count": 17,
   "metadata": {},
   "outputs": [
    {
     "data": {
      "image/png": "[encoded data removed]",
      "text/plain": [
       "<Figure size 432x288 with 1 Axes>"
      ]
     },
     "metadata": {
      "needs_background": "light"
     },
     "output_type": "display_data"
    }
   ],
   "source": [
    "time = np.arange(predictY.shape[0])\n",
    "\n",
    "plt.plot(time, predictY, y_test)\n",
    "plt.xlabel('time')\n",
    "plt.ylabel('amplitude')\n",
    "plt.show()"
   ]
  },
  {
   "cell_type": "markdown",
   "metadata": {},
   "source": [
    "#Neural_Network using GA"
   ]
  },
  {
   "cell_type": "code",
   "execution_count": 18,
   "metadata": {},
   "outputs": [],
   "source": [
    "modelGA = Sequential()\n",
    "modelGA.add(LSTM(6, return_sequences=False, input_shape=(x_train.shape[1], x_train.shape[2]), name='layer_1'))\n",
    "modelGA.add(Dense(1, activation='linear', name='layer_2'))"
   ]
  },
  {
   "cell_type": "code",
   "execution_count": 19,
   "metadata": {},
   "outputs": [
    {
     "name": "stdout",
     "output_type": "stream",
     "text": [
      "Model: \"sequential_1\"\n",
      "_________________________________________________________________\n",
      "Layer (type)                 Output Shape              Param #   \n",
      "=================================================================\n",
      "layer_1 (LSTM)               (None, 6)                 312       \n",
      "_________________________________________________________________\n",
      "layer_2 (Dense)              (None, 1)                 7         \n",
      "=================================================================\n",
      "Total params: 319\n",
      "Trainable params: 319\n",
      "Non-trainable params: 0\n",
      "_________________________________________________________________\n"
     ]
    }
   ],
   "source": [
    "modelGA.compile(loss=\"mean_squared_error\", optimizer='sgd', metrics=[\"mean_squared_error\", r_square_loss])\n",
    "modelGA.summary()"
   ]
  },
  {
   "cell_type": "code",
   "execution_count": 20,
   "metadata": {},
   "outputs": [],
   "source": [
    "def rmse(y_true, y_pred):\n",
    "    return np.sqrt(np.mean(np.square(y_pred - y_true), axis=-1))"
   ]
  },
  {
   "cell_type": "code",
   "execution_count": 21,
   "metadata": {},
   "outputs": [],
   "source": [
    "def getFitness(params):\n",
    "    layer_1 = modelGA.get_layer('layer_1').get_weights()\n",
    "    layer_2 = modelGA.get_layer('layer_2').get_weights()\n",
    "    \n",
    "    layer1_W1_shape = (layer_1[0].shape[0] * layer_1[0].shape[1])\n",
    "    layer1_W2_shape = layer1_W1_shape + (layer_1[1].shape[0] * layer_1[1].shape[1])\n",
    "    layer1_B_shape = layer1_W2_shape + (layer_1[2].shape[0])\n",
    "    layer2_W_shape = layer1_B_shape + (layer_2[0].shape[0] * layer_2[0].shape[1])\n",
    "    layer2_B_shape = layer2_W_shape + (layer_2[1].shape[0])\n",
    "\n",
    "    layer1_W1 = params[0:layer1_W1_shape].reshape(layer_1[0].shape)\n",
    "    layer1_W2 = params[layer1_W1_shape:layer1_W2_shape].reshape(layer_1[1].shape)\n",
    "    layer1_B = params[layer1_W2_shape:layer1_B_shape].reshape(layer_1[2].shape)\n",
    "    layer2_W = params[layer1_B_shape:layer2_W_shape].reshape(layer_2[0].shape)\n",
    "    layer2_B = params[layer2_W_shape:layer2_B_shape].reshape(layer_2[1].shape)\n",
    "    \n",
    "    modelGA.get_layer('layer_1').set_weights([layer1_W1, layer1_W2, layer1_B])\n",
    "    modelGA.get_layer('layer_2').set_weights([layer2_W, layer2_B])\n",
    "    \n",
    "    predY = modelGA.predict(x_train)\n",
    "    loss = rmse(y_train.reshape(y_train.shape[0]), predY.reshape(y_train.shape[0]))\n",
    "    return loss"
   ]
  },
  {
   "cell_type": "code",
   "execution_count": 22,
   "metadata": {},
   "outputs": [],
   "source": [
    "def f(params):\n",
    "    print('Number of particles: %d' % params.shape[0])\n",
    "    losses = np.array([getFitness(params[i]) for i in range(params.shape[0])])\n",
    "    print('List of losses for all particles')\n",
    "    print(losses)\n",
    "    return losses"
   ]
  },
  {
   "cell_type": "markdown",
   "metadata": {},
   "source": [
    "PySwarm Algorithm"
   ]
  },
  {
   "cell_type": "code",
   "execution_count": null,
   "metadata": {},
   "outputs": [
    {
     "name": "stderr",
     "output_type": "stream",
     "text": [
      "2022-05-29 21:07:36,565 - pyswarms.single.global_best - INFO - Optimize for 50 iters with {'c1': 0.1, 'c2': 0.9, 'w': 0.9}\n",
      "pyswarms.single.global_best:   0%|                                                                                |0/50"
     ]
    },
    {
     "name": "stdout",
     "output_type": "stream",
     "text": [
      "Number of params in Neural Network: 439\n",
      "Number of particles: 20\n"
     ]
    },
    {
     "name": "stderr",
     "output_type": "stream",
     "text": [
      "pyswarms.single.global_best:   2%|█▎                                                             |1/50, best_cost=0.597"
     ]
    },
    {
     "name": "stdout",
     "output_type": "stream",
     "text": [
      "List of losses for all particles\n",
      "[1.5162314  2.3095117  0.5966168  2.4938672  1.6044437  1.5124626\n",
      " 1.524499   2.0747647  1.4074923  0.9774484  1.4050285  2.2382493\n",
      " 1.5908314  1.4200742  1.1680671  1.288245   0.97795963 2.3126338\n",
      " 1.6263329  1.3282728 ]\n",
      "Number of particles: 20\n"
     ]
    },
    {
     "name": "stderr",
     "output_type": "stream",
     "text": [
      "pyswarms.single.global_best:   4%|██▌                                                            |2/50, best_cost=0.597"
     ]
    },
    {
     "name": "stdout",
     "output_type": "stream",
     "text": [
      "List of losses for all particles\n",
      "[4.664053  4.796237  3.7677991 5.8665075 4.2333364 3.742685  4.256756\n",
      " 3.9049854 5.264062  3.348289  3.4111092 4.0065303 3.314913  3.8140752\n",
      " 2.9385722 2.9537144 2.8509047 4.6767035 3.7632983 4.457289 ]\n",
      "Number of particles: 20\n"
     ]
    },
    {
     "name": "stderr",
     "output_type": "stream",
     "text": [
      "pyswarms.single.global_best:   6%|███▊                                                           |3/50, best_cost=0.597"
     ]
    },
    {
     "name": "stdout",
     "output_type": "stream",
     "text": [
      "List of losses for all particles\n",
      "[5.7554765 5.293768  4.3854175 6.979153  3.7972422 3.813458  5.861847\n",
      " 3.2074382 6.0427794 3.934585  3.7851636 3.2782319 3.5114145 4.520618\n",
      " 3.3059783 3.5621746 3.3602128 4.4350224 3.434034  5.5613256]\n",
      "Number of particles: 20\n"
     ]
    },
    {
     "name": "stderr",
     "output_type": "stream",
     "text": [
      "pyswarms.single.global_best:   8%|█████                                                          |4/50, best_cost=0.597"
     ]
    },
    {
     "name": "stdout",
     "output_type": "stream",
     "text": [
      "List of losses for all particles\n",
      "[4.0063477 2.8812187 2.928234  4.7698603 1.6061543 1.930504  4.7504616\n",
      " 1.5069116 3.6880956 3.2356837 2.428946  1.3478547 2.3927746 3.391973\n",
      " 2.4063797 2.462677  2.3792307 2.173502  1.3589498 4.303609 ]\n",
      "Number of particles: 20\n"
     ]
    },
    {
     "name": "stderr",
     "output_type": "stream",
     "text": [
      "pyswarms.single.global_best:  10%|██████▏                                                       |5/50, best_cost=0.0795"
     ]
    },
    {
     "name": "stdout",
     "output_type": "stream",
     "text": [
      "List of losses for all particles\n",
      "[0.40138948 0.46380514 0.55660164 1.5609242  0.6149484  0.3712992\n",
      " 0.9309742  0.64150196 0.4588067  0.7779419  0.28241387 0.42084938\n",
      " 0.30039686 1.0894393  0.52651817 0.62295365 0.54799    0.07954299\n",
      " 0.6033698  0.9054816 ]\n",
      "Number of particles: 20\n"
     ]
    },
    {
     "name": "stderr",
     "output_type": "stream",
     "text": [
      "pyswarms.single.global_best:  12%|███████▍                                                      |6/50, best_cost=0.0795"
     ]
    },
    {
     "name": "stdout",
     "output_type": "stream",
     "text": [
      "List of losses for all particles\n",
      "[1.9846542  1.7334486  1.3744534  1.4550033  1.5570699  1.6046916\n",
      " 2.203151   1.7175035  1.635183   0.66826946 1.1290144  0.51024985\n",
      " 1.65666    0.6985646  1.4381707  0.8169978  1.2775879  1.3682129\n",
      " 1.9221325  1.6019592 ]\n",
      "Number of particles: 20\n"
     ]
    },
    {
     "name": "stderr",
     "output_type": "stream",
     "text": [
      "pyswarms.single.global_best:  14%|████████▋                                                     |7/50, best_cost=0.0795"
     ]
    },
    {
     "name": "stdout",
     "output_type": "stream",
     "text": [
      "List of losses for all particles\n",
      "[2.3885534 1.9559143 1.1382715 2.5349844 2.292963  2.0640197 3.0898783\n",
      " 1.7234674 1.419408  0.8172979 1.4088429 1.0431432 2.0079348 1.1155826\n",
      " 1.3388076 0.8692164 0.785327  1.9756182 2.2006252 2.8671145]\n",
      "Number of particles: 20\n"
     ]
    },
    {
     "name": "stderr",
     "output_type": "stream",
     "text": [
      "pyswarms.single.global_best:  16%|█████████▉                                                    |8/50, best_cost=0.0795"
     ]
    },
    {
     "name": "stdout",
     "output_type": "stream",
     "text": [
      "List of losses for all particles\n",
      "[1.9080386  1.4638869  1.0347244  3.1399612  1.9858447  1.7998488\n",
      " 3.0950098  0.72527915 1.1551188  0.86435807 1.086921   1.8695346\n",
      " 1.9389234  1.5756795  0.68551177 0.57649744 0.7860444  1.9234854\n",
      " 1.7109321  2.2049422 ]\n",
      "Number of particles: 20\n"
     ]
    },
    {
     "name": "stderr",
     "output_type": "stream",
     "text": [
      "pyswarms.single.global_best:  18%|███████████▏                                                  |9/50, best_cost=0.0795"
     ]
    },
    {
     "name": "stdout",
     "output_type": "stream",
     "text": [
      "List of losses for all particles\n",
      "[0.41285765 0.8439539  1.1098801  2.5194657  0.7892788  0.9575812\n",
      " 1.1950731  0.32031927 0.5230704  0.75781065 0.72467184 0.7785271\n",
      " 0.44608897 2.136353   0.336876   0.86321616 0.68023807 0.8737739\n",
      " 0.16980265 0.8550912 ]\n",
      "Number of particles: 20\n"
     ]
    },
    {
     "name": "stderr",
     "output_type": "stream",
     "text": [
      "pyswarms.single.global_best:  20%|████████████▏                                                |10/50, best_cost=0.0795"
     ]
    },
    {
     "name": "stdout",
     "output_type": "stream",
     "text": [
      "List of losses for all particles\n",
      "[2.1706295  2.6653523  0.31561556 0.509946   2.244971   1.0341744\n",
      " 2.7368937  2.204255   2.0858004  0.69734555 2.3317595  1.6170566\n",
      " 2.9429598  0.5590705  0.7612743  0.64969146 1.0870053  1.1096249\n",
      " 2.293282   0.11065267]\n",
      "Number of particles: 20\n"
     ]
    },
    {
     "name": "stderr",
     "output_type": "stream",
     "text": [
      "pyswarms.single.global_best:  22%|█████████████▍                                               |11/50, best_cost=0.0795"
     ]
    },
    {
     "name": "stdout",
     "output_type": "stream",
     "text": [
      "List of losses for all particles\n",
      "[3.278221  3.7633624 1.6526824 3.5104551 2.233657  2.3874917 4.307282\n",
      " 3.2627432 4.0336576 2.2876759 3.9150732 1.7573401 3.4676652 1.8653319\n",
      " 1.717201  0.6768341 1.4628725 2.0848327 2.8812988 1.1999683]\n",
      "Number of particles: 20\n"
     ]
    }
   ],
   "source": [
    "options = {'c1': 0.1, 'c2': 0.9, 'w':0.9}\n",
    "\n",
    "layer_1 = modelGA.get_layer('layer_1').get_weights()\n",
    "layer_2 = modelGA.get_layer('layer_2').get_weights()\n",
    "dimensions = (layer_1[0].shape[0] * layer_1[0].shape[1]) + (layer_1[0].shape[0] * layer_1[0].shape[1]) + (layer_1[1].shape[0] * layer_1[1].shape[1]) + (layer_2[0].shape[0] * layer_2[0].shape[1]) +(layer_2[1].shape[0])\n",
    "\n",
    "print(\"Number of params in Neural Network: %d\" % dimensions)\n",
    "\n",
    "optimizer = ps.single.GlobalBestPSO(n_particles=20, dimensions=dimensions, options=options)\n",
    "\n",
    "cost, pos = optimizer.optimize(f, iters=50)"
   ]
  },
  {
   "cell_type": "code",
   "execution_count": null,
   "metadata": {},
   "outputs": [],
   "source": [
    "plot_cost_history(cost_history=optimizer.cost_history)\n",
    "plt.show()"
   ]
  },
  {
   "cell_type": "markdown",
   "metadata": {},
   "source": [
    "Creating the Neural Network with the final optimized params using GA"
   ]
  },
  {
   "cell_type": "code",
   "execution_count": null,
   "metadata": {},
   "outputs": [],
   "source": [
    "layer_1 = modelGA.get_layer('layer_1').get_weights()\n",
    "layer_2 = modelGA.get_layer('layer_2').get_weights()\n",
    "\n",
    "layer1_W1_shape = (layer_1[0].shape[0] * layer_1[0].shape[1])\n",
    "layer1_W2_shape = layer1_W1_shape + (layer_1[1].shape[0] * layer_1[1].shape[1])\n",
    "layer1_B_shape = layer1_W2_shape + (layer_1[2].shape[0])\n",
    "layer2_W_shape = layer1_B_shape + (layer_2[0].shape[0] * layer_2[0].shape[1])\n",
    "layer2_B_shape = layer2_W_shape + (layer_2[1].shape[0])\n",
    "\n",
    "layer1_W1 = pos[0:layer1_W1_shape].reshape(layer_1[0].shape)\n",
    "layer1_W2 = pos[layer1_W1_shape:layer1_W2_shape].reshape(layer_1[1].shape)\n",
    "layer1_B = pos[layer1_W2_shape:layer1_B_shape].reshape(layer_1[2].shape)\n",
    "layer2_W = pos[layer1_B_shape:layer2_W_shape].reshape(layer_2[0].shape)\n",
    "layer2_B = pos[layer2_W_shape:layer2_B_shape].reshape(layer_2[1].shape)\n",
    "\n",
    "modelGA.get_layer('layer_1').set_weights([layer1_W1, layer1_W2, layer1_B])\n",
    "modelGA.get_layer('layer_2').set_weights([layer2_W, layer2_B])"
   ]
  },
  {
   "cell_type": "markdown",
   "metadata": {},
   "source": [
    "Checking the performance of the model using GA"
   ]
  },
  {
   "cell_type": "code",
   "execution_count": null,
   "metadata": {},
   "outputs": [],
   "source": [
    "predictY = modelGA.predict(x_test)"
   ]
  },
  {
   "cell_type": "code",
   "execution_count": null,
   "metadata": {},
   "outputs": [],
   "source": [
    "predictY = scaler.inverse_transform(predictY)\n",
    "predictY"
   ]
  },
  {
   "cell_type": "code",
   "execution_count": null,
   "metadata": {},
   "outputs": [],
   "source": [
    "y_test = scaler.inverse_transform(y_test)\n",
    "y_test"
   ]
  },
  {
   "cell_type": "code",
   "execution_count": null,
   "metadata": {},
   "outputs": [],
   "source": [
    "time = np.arange(predictY.shape[0])\n",
    "\n",
    "plt.plot(time, predictY, y_test)\n",
    "plt.xlabel('time')\n",
    "plt.ylabel('amplitude')\n",
    "plt.show()"
   ]
  },
  {
   "cell_type": "code",
   "execution_count": null,
   "metadata": {},
   "outputs": [],
   "source": [
    "lossNN_GA = modelGA.evaluate(x_test, y_test)"
   ]
  },
  {
   "cell_type": "code",
   "execution_count": null,
   "metadata": {},
   "outputs": [],
   "source": [
    "print('The loss output for test dataset is: %f' % lossNN_GA[0])"
   ]
  },
  {
   "cell_type": "code",
   "execution_count": null,
   "metadata": {},
   "outputs": [],
   "source": [
    "print('We see that the loss output for test dataset using Back Propagation is: %f, while the loss output using GA is: %f' % (lossNN[0], lossNN_GA[0]))"
   ]
  },
  {
   "cell_type": "code",
   "execution_count": null,
   "metadata": {},
   "outputs": [],
   "source": []
  }
 ],
 "metadata": {
  "kernelspec": {
   "display_name": "Python 3",
   "language": "python",
   "name": "python3"
  },
  "language_info": {
   "codemirror_mode": {
    "name": "ipython",
    "version": 3
   },
   "file_extension": ".py",
   "mimetype": "text/x-python",
   "name": "python",
   "nbconvert_exporter": "python",
   "pygments_lexer": "ipython3",
   "version": "3.8.8"
  }
 },
 "nbformat": 4,
 "nbformat_minor": 4
}
