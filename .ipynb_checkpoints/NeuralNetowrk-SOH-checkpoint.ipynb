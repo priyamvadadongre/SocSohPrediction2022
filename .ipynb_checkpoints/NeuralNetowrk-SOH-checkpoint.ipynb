{
 "cells": [
  {
   "cell_type": "code",
   "execution_count": 1,
   "id": "01df10a3",
   "metadata": {},
   "outputs": [],
   "source": [
    "import numpy as np\n",
    "import pandas as pd\n",
    "import matplotlib.pyplot as plt\n",
    "import pyswarms as ps\n",
    "import random\n",
    "\n",
    "from scipy.optimize import differential_evolution\n",
    "\n",
    "from sklearn.compose import ColumnTransformer\n",
    "from sklearn.linear_model import LinearRegression\n",
    "from sklearn.model_selection import train_test_split\n",
    "from sklearn.preprocessing import StandardScaler\n",
    "from sklearn.metrics import mean_squared_error"
   ]
  },
  {
   "cell_type": "code",
   "execution_count": 2,
   "id": "2e8c5652",
   "metadata": {},
   "outputs": [],
   "source": [
    "Rand = 42\n",
    "random.seed(Rand)\n",
    "np.random.seed(Rand)"
   ]
  },
  {
   "cell_type": "code",
   "execution_count": 3,
   "id": "cc1b4fad",
   "metadata": {},
   "outputs": [
    {
     "data": {
      "text/html": [
       "<div>\n",
       "<style scoped>\n",
       "    .dataframe tbody tr th:only-of-type {\n",
       "        vertical-align: middle;\n",
       "    }\n",
       "\n",
       "    .dataframe tbody tr th {\n",
       "        vertical-align: top;\n",
       "    }\n",
       "\n",
       "    .dataframe thead th {\n",
       "        text-align: right;\n",
       "    }\n",
       "</style>\n",
       "<table border=\"1\" class=\"dataframe\">\n",
       "  <thead>\n",
       "    <tr style=\"text-align: right;\">\n",
       "      <th></th>\n",
       "      <th>TimeStamp</th>\n",
       "      <th>Voltage</th>\n",
       "      <th>Current</th>\n",
       "      <th>Relative State of Charge</th>\n",
       "      <th>Full charge Capacity</th>\n",
       "      <th>Remaining Capacity</th>\n",
       "      <th>Cell 1 Voltage</th>\n",
       "      <th>Cell 2 Voltage</th>\n",
       "      <th>soh</th>\n",
       "    </tr>\n",
       "  </thead>\n",
       "  <tbody>\n",
       "    <tr>\n",
       "      <th>0</th>\n",
       "      <td>2021-08-16 17:01:27.063</td>\n",
       "      <td>8107</td>\n",
       "      <td>-4194</td>\n",
       "      <td>100</td>\n",
       "      <td>4888</td>\n",
       "      <td>4874</td>\n",
       "      <td>4048</td>\n",
       "      <td>4063</td>\n",
       "      <td>0.985679</td>\n",
       "    </tr>\n",
       "    <tr>\n",
       "      <th>1</th>\n",
       "      <td>2021-08-16 17:01:27.766</td>\n",
       "      <td>8106</td>\n",
       "      <td>-4193</td>\n",
       "      <td>100</td>\n",
       "      <td>4888</td>\n",
       "      <td>4874</td>\n",
       "      <td>4047</td>\n",
       "      <td>4059</td>\n",
       "      <td>0.985679</td>\n",
       "    </tr>\n",
       "    <tr>\n",
       "      <th>2</th>\n",
       "      <td>2021-08-16 17:01:31.064</td>\n",
       "      <td>8105</td>\n",
       "      <td>-4191</td>\n",
       "      <td>100</td>\n",
       "      <td>4888</td>\n",
       "      <td>4870</td>\n",
       "      <td>4046</td>\n",
       "      <td>4059</td>\n",
       "      <td>0.981588</td>\n",
       "    </tr>\n",
       "    <tr>\n",
       "      <th>3</th>\n",
       "      <td>2021-08-16 17:01:31.766</td>\n",
       "      <td>8102</td>\n",
       "      <td>-4190</td>\n",
       "      <td>100</td>\n",
       "      <td>4888</td>\n",
       "      <td>4870</td>\n",
       "      <td>4045</td>\n",
       "      <td>4057</td>\n",
       "      <td>0.981588</td>\n",
       "    </tr>\n",
       "    <tr>\n",
       "      <th>4</th>\n",
       "      <td>2021-08-16 17:01:35.112</td>\n",
       "      <td>8101</td>\n",
       "      <td>-4188</td>\n",
       "      <td>100</td>\n",
       "      <td>4888</td>\n",
       "      <td>4865</td>\n",
       "      <td>4045</td>\n",
       "      <td>4060</td>\n",
       "      <td>0.976473</td>\n",
       "    </tr>\n",
       "  </tbody>\n",
       "</table>\n",
       "</div>"
      ],
      "text/plain": [
       "                 TimeStamp  Voltage  Current  Relative State of Charge  \\\n",
       "0  2021-08-16 17:01:27.063     8107    -4194                       100   \n",
       "1  2021-08-16 17:01:27.766     8106    -4193                       100   \n",
       "2  2021-08-16 17:01:31.064     8105    -4191                       100   \n",
       "3  2021-08-16 17:01:31.766     8102    -4190                       100   \n",
       "4  2021-08-16 17:01:35.112     8101    -4188                       100   \n",
       "\n",
       "   Full charge Capacity  Remaining Capacity  Cell 1 Voltage  Cell 2 Voltage  \\\n",
       "0                  4888                4874            4048            4063   \n",
       "1                  4888                4874            4047            4059   \n",
       "2                  4888                4870            4046            4059   \n",
       "3                  4888                4870            4045            4057   \n",
       "4                  4888                4865            4045            4060   \n",
       "\n",
       "        soh  \n",
       "0  0.985679  \n",
       "1  0.985679  \n",
       "2  0.981588  \n",
       "3  0.981588  \n",
       "4  0.976473  "
      ]
     },
     "execution_count": 3,
     "metadata": {},
     "output_type": "execute_result"
    }
   ],
   "source": [
    "from pandas import read_csv\n",
    "from matplotlib import pyplot\n",
    "# load dataset\n",
    "dataset = read_csv('soh_1.csv', header=0,index_col=False)\n",
    "dataset.head()"
   ]
  },
  {
   "cell_type": "code",
   "execution_count": 4,
   "id": "bb0941be",
   "metadata": {},
   "outputs": [],
   "source": [
    "from pandas import DataFrame\n",
    "from pandas import concat\n",
    "from sklearn.preprocessing import MinMaxScaler\n",
    "\n",
    "# convert series to supervised learning\n",
    "def series_to_supervised(data, n_in=1, n_out=1, dropnan=True):\n",
    "\tn_vars = 1 if type(data) is list else data.shape[1]\n",
    "\tdf = DataFrame(data)\n",
    "\tcols, names = list(), list()\n",
    "\t# input sequence (t-n, ... t-1)\n",
    "\tfor i in range(n_in, 0, -1):\n",
    "\t\tcols.append(df.shift(i))\n",
    "\t\tnames += [('var%d(t-%d)' % (j+1, i)) for j in range(n_vars)]\n",
    "\t# forecast sequence (t, t+1, ... t+n)\n",
    "\tfor i in range(0, n_out):\n",
    "\t\tcols.append(df.shift(-i))\n",
    "\t\tif i == 0:\n",
    "\t\t\tnames += [('var%d(t)' % (j+1)) for j in range(n_vars)]\n",
    "\t\telse:\n",
    "\t\t\tnames += [('var%d(t+%d)' % (j+1, i)) for j in range(n_vars)]\n",
    "\t# put it all together\n",
    "\tagg = concat(cols, axis=1)\n",
    "\tagg.columns = names\n",
    "\t# drop rows with NaN values\n",
    "\tif dropnan:\n",
    "\t\tagg.dropna(inplace=True)\n",
    "\treturn agg\n"
   ]
  },
  {
   "cell_type": "code",
   "execution_count": 5,
   "id": "306e6e10",
   "metadata": {},
   "outputs": [
    {
     "name": "stderr",
     "output_type": "stream",
     "text": [
      "2022-04-22 10:27:48,064 - numexpr.utils - INFO - NumExpr defaulting to 8 threads.\n"
     ]
    },
    {
     "name": "stdout",
     "output_type": "stream",
     "text": [
      "   var1(t-1)  var2(t-1)  var3(t-1)  var4(t-1)  var5(t-1)  var6(t-1)  \\\n",
      "1   1.000000   0.000000        1.0        0.0   1.000000   1.000000   \n",
      "2   0.992699   0.005882        1.0        0.0   1.000000   0.985077   \n",
      "3   0.985401   0.017649        1.0        0.0   0.985662   0.970150   \n",
      "4   0.963505   0.023531        1.0        0.0   0.985662   0.955227   \n",
      "5   0.956203   0.035295        1.0        0.0   0.967743   0.955227   \n",
      "\n",
      "   var7(t-1)  var8(t-1)   var1(t)  \n",
      "1   1.000000   1.000000  0.992699  \n",
      "2   0.946667   1.000000  0.985401  \n",
      "3   0.946667   0.985663  0.963505  \n",
      "4   0.919998   0.985663  0.956203  \n",
      "5   0.959999   0.967742  0.948906  \n"
     ]
    },
    {
     "data": {
      "text/html": [
       "<div>\n",
       "<style scoped>\n",
       "    .dataframe tbody tr th:only-of-type {\n",
       "        vertical-align: middle;\n",
       "    }\n",
       "\n",
       "    .dataframe tbody tr th {\n",
       "        vertical-align: top;\n",
       "    }\n",
       "\n",
       "    .dataframe thead th {\n",
       "        text-align: right;\n",
       "    }\n",
       "</style>\n",
       "<table border=\"1\" class=\"dataframe\">\n",
       "  <thead>\n",
       "    <tr style=\"text-align: right;\">\n",
       "      <th></th>\n",
       "      <th>var1(t-1)</th>\n",
       "      <th>var2(t-1)</th>\n",
       "      <th>var3(t-1)</th>\n",
       "      <th>var4(t-1)</th>\n",
       "      <th>var5(t-1)</th>\n",
       "      <th>var6(t-1)</th>\n",
       "      <th>var7(t-1)</th>\n",
       "      <th>var8(t-1)</th>\n",
       "      <th>var1(t)</th>\n",
       "    </tr>\n",
       "  </thead>\n",
       "  <tbody>\n",
       "    <tr>\n",
       "      <th>1</th>\n",
       "      <td>1.000000</td>\n",
       "      <td>0.000000</td>\n",
       "      <td>1.0</td>\n",
       "      <td>0.0</td>\n",
       "      <td>1.000000</td>\n",
       "      <td>1.000000</td>\n",
       "      <td>1.000000</td>\n",
       "      <td>1.000000</td>\n",
       "      <td>0.992699</td>\n",
       "    </tr>\n",
       "    <tr>\n",
       "      <th>2</th>\n",
       "      <td>0.992699</td>\n",
       "      <td>0.005882</td>\n",
       "      <td>1.0</td>\n",
       "      <td>0.0</td>\n",
       "      <td>1.000000</td>\n",
       "      <td>0.985077</td>\n",
       "      <td>0.946667</td>\n",
       "      <td>1.000000</td>\n",
       "      <td>0.985401</td>\n",
       "    </tr>\n",
       "    <tr>\n",
       "      <th>3</th>\n",
       "      <td>0.985401</td>\n",
       "      <td>0.017649</td>\n",
       "      <td>1.0</td>\n",
       "      <td>0.0</td>\n",
       "      <td>0.985662</td>\n",
       "      <td>0.970150</td>\n",
       "      <td>0.946667</td>\n",
       "      <td>0.985663</td>\n",
       "      <td>0.963505</td>\n",
       "    </tr>\n",
       "    <tr>\n",
       "      <th>4</th>\n",
       "      <td>0.963505</td>\n",
       "      <td>0.023531</td>\n",
       "      <td>1.0</td>\n",
       "      <td>0.0</td>\n",
       "      <td>0.985662</td>\n",
       "      <td>0.955227</td>\n",
       "      <td>0.919998</td>\n",
       "      <td>0.985663</td>\n",
       "      <td>0.956203</td>\n",
       "    </tr>\n",
       "    <tr>\n",
       "      <th>5</th>\n",
       "      <td>0.956203</td>\n",
       "      <td>0.035295</td>\n",
       "      <td>1.0</td>\n",
       "      <td>0.0</td>\n",
       "      <td>0.967743</td>\n",
       "      <td>0.955227</td>\n",
       "      <td>0.959999</td>\n",
       "      <td>0.967742</td>\n",
       "      <td>0.948906</td>\n",
       "    </tr>\n",
       "    <tr>\n",
       "      <th>...</th>\n",
       "      <td>...</td>\n",
       "      <td>...</td>\n",
       "      <td>...</td>\n",
       "      <td>...</td>\n",
       "      <td>...</td>\n",
       "      <td>...</td>\n",
       "      <td>...</td>\n",
       "      <td>...</td>\n",
       "      <td>...</td>\n",
       "    </tr>\n",
       "    <tr>\n",
       "      <th>121</th>\n",
       "      <td>0.029198</td>\n",
       "      <td>0.911766</td>\n",
       "      <td>0.0</td>\n",
       "      <td>0.0</td>\n",
       "      <td>0.032259</td>\n",
       "      <td>0.044777</td>\n",
       "      <td>0.026665</td>\n",
       "      <td>0.032258</td>\n",
       "      <td>0.029198</td>\n",
       "    </tr>\n",
       "    <tr>\n",
       "      <th>122</th>\n",
       "      <td>0.029198</td>\n",
       "      <td>0.923531</td>\n",
       "      <td>0.0</td>\n",
       "      <td>0.0</td>\n",
       "      <td>0.032259</td>\n",
       "      <td>0.044777</td>\n",
       "      <td>0.026665</td>\n",
       "      <td>0.032258</td>\n",
       "      <td>0.021896</td>\n",
       "    </tr>\n",
       "    <tr>\n",
       "      <th>123</th>\n",
       "      <td>0.021896</td>\n",
       "      <td>1.000000</td>\n",
       "      <td>0.0</td>\n",
       "      <td>0.0</td>\n",
       "      <td>0.017921</td>\n",
       "      <td>0.029854</td>\n",
       "      <td>0.026665</td>\n",
       "      <td>0.017921</td>\n",
       "      <td>0.014599</td>\n",
       "    </tr>\n",
       "    <tr>\n",
       "      <th>124</th>\n",
       "      <td>0.014599</td>\n",
       "      <td>0.994118</td>\n",
       "      <td>0.0</td>\n",
       "      <td>0.0</td>\n",
       "      <td>0.017921</td>\n",
       "      <td>0.029854</td>\n",
       "      <td>0.013332</td>\n",
       "      <td>0.017921</td>\n",
       "      <td>0.000000</td>\n",
       "    </tr>\n",
       "    <tr>\n",
       "      <th>125</th>\n",
       "      <td>0.000000</td>\n",
       "      <td>0.982353</td>\n",
       "      <td>0.0</td>\n",
       "      <td>0.0</td>\n",
       "      <td>0.000000</td>\n",
       "      <td>0.000000</td>\n",
       "      <td>0.053333</td>\n",
       "      <td>0.000000</td>\n",
       "      <td>0.000000</td>\n",
       "    </tr>\n",
       "  </tbody>\n",
       "</table>\n",
       "<p>125 rows × 9 columns</p>\n",
       "</div>"
      ],
      "text/plain": [
       "     var1(t-1)  var2(t-1)  var3(t-1)  var4(t-1)  var5(t-1)  var6(t-1)  \\\n",
       "1     1.000000   0.000000        1.0        0.0   1.000000   1.000000   \n",
       "2     0.992699   0.005882        1.0        0.0   1.000000   0.985077   \n",
       "3     0.985401   0.017649        1.0        0.0   0.985662   0.970150   \n",
       "4     0.963505   0.023531        1.0        0.0   0.985662   0.955227   \n",
       "5     0.956203   0.035295        1.0        0.0   0.967743   0.955227   \n",
       "..         ...        ...        ...        ...        ...        ...   \n",
       "121   0.029198   0.911766        0.0        0.0   0.032259   0.044777   \n",
       "122   0.029198   0.923531        0.0        0.0   0.032259   0.044777   \n",
       "123   0.021896   1.000000        0.0        0.0   0.017921   0.029854   \n",
       "124   0.014599   0.994118        0.0        0.0   0.017921   0.029854   \n",
       "125   0.000000   0.982353        0.0        0.0   0.000000   0.000000   \n",
       "\n",
       "     var7(t-1)  var8(t-1)   var1(t)  \n",
       "1     1.000000   1.000000  0.992699  \n",
       "2     0.946667   1.000000  0.985401  \n",
       "3     0.946667   0.985663  0.963505  \n",
       "4     0.919998   0.985663  0.956203  \n",
       "5     0.959999   0.967742  0.948906  \n",
       "..         ...        ...       ...  \n",
       "121   0.026665   0.032258  0.029198  \n",
       "122   0.026665   0.032258  0.021896  \n",
       "123   0.026665   0.017921  0.014599  \n",
       "124   0.013332   0.017921  0.000000  \n",
       "125   0.053333   0.000000  0.000000  \n",
       "\n",
       "[125 rows x 9 columns]"
      ]
     },
     "execution_count": 5,
     "metadata": {},
     "output_type": "execute_result"
    }
   ],
   "source": [
    "dataset = read_csv('soh_1.csv', header=0, index_col=0)\n",
    "values = dataset.values\n",
    "# ensure all data is float\n",
    "values = values.astype('float32')\n",
    "# normalize features\n",
    "scaler = MinMaxScaler(feature_range=(0, 1))\n",
    "scaled = scaler.fit_transform(values)\n",
    "# frame as supervised learning\n",
    "reframed = series_to_supervised(scaled, 1, 1)\n",
    "# drop columns we don't want to predict\n",
    "reframed.drop(reframed.columns[[9,10,11,12,13,14,15]], axis=1, inplace=True)\n",
    "print(reframed.head())\n",
    "reframed\n"
   ]
  },
  {
   "cell_type": "code",
   "execution_count": 26,
   "id": "394ba949",
   "metadata": {},
   "outputs": [],
   "source": [
    "# split into train and test sets\n",
    "values1 = reframed.values\n",
    "n_train_hours = 50*2\n",
    "train = values1[:n_train_hours, :]\n",
    "test = values1[n_train_hours:, :]\n",
    "# split into input and outputs\n",
    "x_train, y_train = train[:, :-1], train[:, -1]\n",
    "x_test, y_test = test[:, :-1], test[:, -1]\n"
   ]
  },
  {
   "cell_type": "code",
   "execution_count": 27,
   "id": "d288ad7e",
   "metadata": {},
   "outputs": [],
   "source": [
    "lr = LinearRegression()\n",
    "lr.fit(x_train, y_train)\n",
    "pred = lr.predict(x_test)"
   ]
  },
  {
   "cell_type": "code",
   "execution_count": 28,
   "id": "9fad26e8",
   "metadata": {},
   "outputs": [
    {
     "name": "stdout",
     "output_type": "stream",
     "text": [
      "RMSE {0.0002055159}\n"
     ]
    }
   ],
   "source": [
    "print(\"RMSE\", {mean_squared_error(y_test, pred)})"
   ]
  },
  {
   "cell_type": "code",
   "execution_count": 29,
   "id": "5efc62d9",
   "metadata": {},
   "outputs": [],
   "source": [
    "def cal(n_inputs, n_hidden, n_classes):\n",
    "    i_weights = n_inputs*n_hidden\n",
    "    i_bias = n_hidden\n",
    "    h_weights = n_hidden * n_classes\n",
    "    h_bias = n_classes\n",
    "    n_params = i_weights + i_bias + h_weights + h_bias\n",
    "    \n",
    "    return i_weights, i_bias, h_weights, h_bias, n_params\n",
    "        "
   ]
  },
  {
   "cell_type": "code",
   "execution_count": 30,
   "id": "554e8dd3",
   "metadata": {},
   "outputs": [],
   "source": [
    "n_inputs = 8\n",
    "n_hidden = 20\n",
    "n_classes = 1\n",
    "i_weights , i_bias, h_weights, h_bias, n_params = cal(n_inputs, n_hidden, n_classes)"
   ]
  },
  {
   "cell_type": "code",
   "execution_count": 31,
   "id": "645152f8",
   "metadata": {},
   "outputs": [],
   "source": [
    "def forward(params):\n",
    "    w1 = params[:i_weights].reshape((n_inputs, n_hidden))\n",
    "    b1 = params[i_weights:i_weights+i_bias].reshape((n_hidden,))\n",
    "    w2 = params[i_weights+i_bias:i_weights+i_bias+h_weights].reshape((n_hidden, n_classes))\n",
    "    b2 = params[i_weights+i_bias+h_weights:].reshape((n_classes,))\n",
    "    \n",
    "    z1 = x_train.dot(w1) + b1\n",
    "    a1 = np.where(z1 > 0, z1, z1*0.01)\n",
    "    z2 = a1.dot(w2) + b2\n",
    "    \n",
    "    loss = mean_squared_error(y_train, z2)\n",
    "    \n",
    "    return loss"
   ]
  },
  {
   "cell_type": "code",
   "execution_count": 32,
   "id": "9290c9bc",
   "metadata": {},
   "outputs": [],
   "source": [
    "def f(x):\n",
    "    n_particles = x.shape[0]\n",
    "    j = [ forward(x[i]) for i in range(n_particles)]\n",
    "    return np.array(j)"
   ]
  },
  {
   "cell_type": "code",
   "execution_count": 33,
   "id": "937b223c",
   "metadata": {},
   "outputs": [],
   "source": [
    "def train(options):\n",
    "    optimizer = ps.single.GlobalBestPSO(n_particles = 100, dimensions = n_params, options = options)\n",
    "    cost,pos = optimizer.optimize(f, iters = 50)\n",
    "    return cost, pos, optimizer.cost_history"
   ]
  },
  {
   "cell_type": "code",
   "execution_count": 34,
   "id": "5b044e45",
   "metadata": {},
   "outputs": [],
   "source": [
    "def predict(X, pos):\n",
    "    w1 = pos[:i_weights].reshape((n_inputs, n_hidden))\n",
    "    b1 = pos[i_weights:i_weights+i_bias].reshape((n_hidden,))\n",
    "    w2 = pos[i_weights+i_bias:i_weights+i_bias+h_weights].reshape((n_hidden, n_classes))\n",
    "    b2 = pos[i_weights+i_bias+h_weights:].reshape((n_classes,))\n",
    "    \n",
    "    z1 = X.dot(w1) + b1\n",
    "    a1 = np.where(z1 > 0, z1 , z1*0.01)\n",
    "    z2 = a1.dot(w2)\n",
    "    \n",
    "    ypred = z2\n",
    "    return z2"
   ]
  },
  {
   "cell_type": "code",
   "execution_count": 35,
   "id": "5065df55",
   "metadata": {},
   "outputs": [],
   "source": [
    "def plot_history(history):\n",
    "    plt.style.use('ggplot')\n",
    "    plt.rcParams['ytick.right'] = True\n",
    "    plt.rcParams['ytick.labelright'] = True\n",
    "    plt.rcParams['ytick.left'] = True\n",
    "    plt.rcParams['ytick.labelleft'] = True\n",
    "    plt.rcParams['font.family'] = 'Arial'\n",
    "    \n",
    "    plt.ylim([min(history)-50, max(history)+50])\n",
    "    plt.title('Cost History')\n",
    "    plt.plot(history)"
   ]
  },
  {
   "cell_type": "code",
   "execution_count": 36,
   "id": "86871f4c",
   "metadata": {},
   "outputs": [],
   "source": [
    "checkpoint_state = np.random.get_state()"
   ]
  },
  {
   "cell_type": "code",
   "execution_count": 37,
   "id": "bb58a1b8",
   "metadata": {},
   "outputs": [
    {
     "name": "stderr",
     "output_type": "stream",
     "text": [
      "2022-04-22 10:32:00,023 - pyswarms.single.global_best - INFO - Optimize for 50 iters with {'c1': 0.9, 'c2': 0.1, 'w': 0.9}\n",
      "pyswarms.single.global_best: 100%|██████████|50/50, best_cost=0.000552\n",
      "2022-04-22 10:32:00,991 - pyswarms.single.global_best - INFO - Optimization finished | best cost: 0.0005520756796851244, best pos: [-1.58672387e+00 -4.79142721e-01 -8.07098390e-01 -4.99958096e-01\n",
      " -9.31408794e-01 -2.21305779e+00 -6.81809339e-02 -1.47875493e+00\n",
      " -1.08081684e+00 -7.44744687e-01 -1.84579159e+00 -7.64054700e-01\n",
      "  3.80027361e-02 -1.55279707e+00 -1.91473374e+00 -1.85392517e+00\n",
      " -1.48733766e+00 -9.53400891e-01 -5.83598442e-01 -2.21024214e-03\n",
      " -3.48714860e-01  1.68913286e-01 -8.93161844e-01 -1.51572593e+00\n",
      " -6.91371387e-01 -6.68645249e-01 -9.03443332e-01 -6.69960724e-01\n",
      " -9.86173655e-01 -9.15685373e-01  3.14252396e-01  7.04717747e-04\n",
      " -9.69759868e-01 -3.46403023e-01 -1.25182551e+00 -1.24097553e+00\n",
      " -1.44194698e+00 -1.21936984e+00 -6.72124793e-01 -2.48559262e-01\n",
      " -1.02207345e+00 -1.56963655e+00  1.00309128e+00 -5.09005297e-01\n",
      " -6.52482493e-01  1.57208148e-02 -1.14090131e+00 -5.85586221e-01\n",
      " -6.52104816e-01 -1.19007785e+00 -1.08880220e+00 -5.68145243e-01\n",
      " -3.83486668e-01 -9.66057129e-01 -1.45343270e+00 -3.96899808e-01\n",
      " -1.79291420e+00  1.82824582e-01 -2.31406842e-01 -6.17960568e-01\n",
      " -1.29960545e-01 -1.32383247e+00 -1.11991626e+00 -9.36418102e-01\n",
      " -1.50943252e-02 -4.51330362e-01 -1.25614709e+00 -8.84778384e-01\n",
      "  5.61683713e-01 -1.41239095e+00 -1.17650856e+00 -1.32030801e+00\n",
      " -1.71318787e-01 -5.72109757e-01 -1.78902418e+00 -1.17855460e+00\n",
      " -1.22020626e+00 -5.04757707e-01 -2.08133501e+00 -1.75434460e+00\n",
      " -8.39887509e-01  6.64972640e-02 -8.61771962e-01 -3.52978449e-01\n",
      " -1.51039520e+00 -4.27577016e-01 -2.49403462e+00 -2.58121992e+00\n",
      "  4.42147517e-01 -3.53927671e-01 -1.31392131e+00 -8.66622924e-01\n",
      " -7.78451852e-01 -8.48943375e-01 -2.28361106e+00 -9.62782559e-01\n",
      "  6.75198603e-02 -9.59493463e-01  9.13936180e-02 -5.94247461e-01\n",
      " -1.27285405e+00  3.07971883e-02 -3.95429733e-01 -3.20236405e-01\n",
      " -1.33845914e+00 -8.71508851e-01 -6.48073192e-01 -3.54495658e-01\n",
      " -4.43391187e-01 -1.41096787e-01 -1.35897440e+00 -2.15074120e+00\n",
      "  9.27664661e-03 -1.35586349e+00  4.30006064e-01 -5.01406922e-01\n",
      " -1.81522687e+00 -7.72566212e-01 -6.90172424e-01 -9.15240307e-01\n",
      " -1.29543822e+00  2.47803179e-03 -8.41879709e-01 -1.11401886e+00\n",
      " -3.28709302e-01 -7.46243149e-01 -1.73500229e+00 -1.48096527e+00\n",
      " -1.94700214e+00 -1.20759958e+00  5.99238706e-02 -2.53425411e-03\n",
      " -5.76981700e-01  2.70247088e-02 -8.33752620e-01 -3.08039422e-01\n",
      " -8.20052011e-01 -1.14147346e+00 -1.47740214e+00 -2.80183063e-01\n",
      " -5.48495488e-01 -9.40927105e-01 -1.55320623e+00 -1.07104439e+00\n",
      " -6.54531902e-01 -9.73571336e-01 -7.76723437e-01 -4.99961060e-01\n",
      " -3.08597352e-01 -6.80412808e-01 -1.43658706e+00 -1.94057904e+00\n",
      " -1.08513118e+00 -1.25160052e+00 -1.83073572e+00 -1.29888513e+00\n",
      " -1.10790237e+00 -2.03682713e+00 -8.13161476e-01 -6.53627634e-01\n",
      " -2.45679690e-01 -9.72813341e-01 -7.46745956e-01 -3.49314651e+00\n",
      " -1.21566296e+00 -7.08593177e-01  7.29155570e-03 -9.12860271e-01\n",
      " -9.81104463e-01  2.20972549e-01 -1.17035611e+00 -3.03958929e-01\n",
      " -1.46199374e+00 -1.48053088e+00 -1.13605994e+00 -1.44310327e+00\n",
      " -1.95352323e+00 -7.06938781e-01 -8.76506174e-01 -6.77677503e-01\n",
      " -6.40596110e-01 -1.17206604e+00 -3.85132370e-01 -5.31362678e-01\n",
      " -3.96594709e-01 -2.85770215e+00 -1.40358344e+00 -4.70565333e-01\n",
      "  4.38736622e-02 -1.22498326e+00 -1.42695816e+00 -2.80676151e+00\n",
      " -9.87551408e-01 -6.52443424e-01 -4.46254420e-01 -1.68072274e-01\n",
      " -1.68698727e+00 -6.81953491e-01 -1.89200710e+00 -9.32017961e-01\n",
      " -3.33818386e-01]\n"
     ]
    },
    {
     "name": "stdout",
     "output_type": "stream",
     "text": [
      "CPU times: user 947 ms, sys: 30.1 ms, total: 977 ms\n",
      "Wall time: 976 ms\n"
     ]
    }
   ],
   "source": [
    "%%time\n",
    "np.random.set_state(checkpoint_state)\n",
    "options = {'c1':0.9,'c2':0.1,'w': 0.9}\n",
    "cost , pos, history = train(options)"
   ]
  },
  {
   "cell_type": "code",
   "execution_count": 38,
   "id": "15877e80",
   "metadata": {
    "scrolled": true
   },
   "outputs": [
    {
     "name": "stdout",
     "output_type": "stream",
     "text": [
      "0.09226874624212027\n"
     ]
    }
   ],
   "source": [
    "print(mean_squared_error(predict(x_test, pos), y_test))"
   ]
  },
  {
   "cell_type": "code",
   "execution_count": null,
   "id": "cc22b93b",
   "metadata": {},
   "outputs": [],
   "source": [
    "#RMSE - 0.3036"
   ]
  },
  {
   "cell_type": "code",
   "execution_count": 39,
   "id": "e4c3a16e",
   "metadata": {},
   "outputs": [
    {
     "name": "stderr",
     "output_type": "stream",
     "text": [
      "2022-04-22 10:32:06,170 - matplotlib.font_manager - WARNING - findfont: Font family ['Arial'] not found. Falling back to DejaVu Sans.\n",
      "2022-04-22 10:32:06,191 - matplotlib.font_manager - WARNING - findfont: Font family ['Arial'] not found. Falling back to DejaVu Sans.\n"
     ]
    },
    {
     "data": {
      "image/png": "[encoded data removed]",
      "text/plain": [
       "<Figure size 432x288 with 1 Axes>"
      ]
     },
     "metadata": {},
     "output_type": "display_data"
    }
   ],
   "source": [
    "plot_history(history)"
   ]
  },
  {
   "cell_type": "code",
   "execution_count": 40,
   "id": "d0c2120b",
   "metadata": {},
   "outputs": [
    {
     "name": "stderr",
     "output_type": "stream",
     "text": [
      "2022-04-22 10:32:09,210 - pyswarms.single.global_best - INFO - Optimize for 50 iters with {'c1': 0.1, 'c2': 0.9, 'w': 0.9}\n",
      "pyswarms.single.global_best: 100%|██████████|50/50, best_cost=0.0923\n",
      "2022-04-22 10:32:10,170 - pyswarms.single.global_best - INFO - Optimization finished | best cost: 0.09233274060660744, best pos: [-1.07026237 -0.87298354  1.16947476  3.44113305 -1.14588962  0.24995512\n",
      "  2.92509315  0.98618358  1.62320205 -0.06212147  1.29163564  1.23130528\n",
      "  0.66239842  1.61302234  2.49888662 -0.97599842 -0.55872749  1.77894786\n",
      "  2.08133218  0.2870309   1.64275931  0.16135741  2.2282968   2.34100173\n",
      "  0.40249538  0.58818523  2.834774    0.02223879 -0.19745774  2.38934534\n",
      "  1.51896845 -0.68097489  1.39609213  1.00069861  0.66070633 -0.53077555\n",
      " -1.16850663  1.31426978 -0.50694435  0.90523749  2.28590726  1.59855295\n",
      " -0.81392806 -0.84125223  2.08278393  0.09213868 -1.13053142  1.99313531\n",
      "  0.87375196  0.59752782 -1.51142418 -0.47592697  1.55150536  1.02810335\n",
      "  1.07607195  1.3218675   1.93451288  0.88407242  3.61651308 -0.08171845\n",
      "  1.27332887  0.14151769  0.87780591  0.58020261 -0.75680476  1.35532952\n",
      "  0.83465003  2.32948411  0.76257641 -1.53451077  3.7159518  -0.08836002\n",
      "  0.89471283  0.435582    0.26413946  1.16812055  1.52952598  0.02873042\n",
      "  1.96511933  0.90098615 -0.84662547  0.05054125 -1.19803999 -0.50045251\n",
      "  1.69182443 -0.86862943 -2.5694446   2.23962088  1.48646092 -0.21570339\n",
      " -2.11921453  2.31883512  0.0111378   2.34881603  1.11541473  1.38406945\n",
      "  1.19324259  4.40385827  3.36382129  0.29721827  1.28904107  0.60051399\n",
      "  2.0308874   1.59770598  3.95939854  0.36298969  3.14650487  0.62481569\n",
      "  1.48769264  0.67991443 -0.3909441   2.69498746  1.25710577  0.68348739\n",
      "  1.1967685  -0.37583147  0.11593606 -0.49987622 -0.69039222  0.26800868\n",
      " -0.02809739 -0.16553958  1.04125336  0.31199535 -1.82246288 -0.27238934\n",
      "  1.05615209  0.83418273  0.72419247  0.30545121  2.12140302  1.33566303\n",
      "  1.80182058  1.17005621 -0.42134463  1.23413079  1.88562685  1.80868258\n",
      "  0.1606948   1.95402857  0.42718411  1.65004308 -1.26793348 -1.59078439\n",
      "  1.25035881  1.49299819  0.26634654  0.73862859  1.3312607   2.98438775\n",
      "  0.38206752  0.37710017  0.19480563  2.29998162  0.39830027  2.39816588\n",
      " -0.35307272 -0.4659053   0.82414214  3.24174325  0.99184497  2.01893917\n",
      "  0.17044743  0.20826835 -0.50343053 -0.77080703 -0.08829824  0.59846867\n",
      " -0.24239979  2.18769075  1.2419047   1.96381213  1.34174758  2.079891\n",
      " -0.39546767  0.29026623  1.76326578  0.41111797  2.41619334  4.65276084\n",
      " -0.45412914  0.66518134 -1.12326752  1.79639158  0.56914239  3.34427249\n",
      " -0.95480327  0.56383297 -0.63782241  1.95610943 -0.66514455  1.29953605\n",
      " -0.42504042 -0.39831092 -0.02271081  0.42846755  0.49521253 -0.01610428\n",
      " -1.68070168 -0.81992573  1.11415986]\n"
     ]
    },
    {
     "name": "stdout",
     "output_type": "stream",
     "text": [
      "CPU times: user 965 ms, sys: 16.3 ms, total: 982 ms\n",
      "Wall time: 964 ms\n"
     ]
    }
   ],
   "source": [
    "%%time\n",
    "np.random.set_state(checkpoint_state)\n",
    "options = {'c1':0.1,'c2':0.9,'w': 0.9}\n",
    "cost , pos, history = train(options)"
   ]
  },
  {
   "cell_type": "code",
   "execution_count": 41,
   "id": "b65cd0b8",
   "metadata": {},
   "outputs": [
    {
     "data": {
      "image/png": "[encoded data removed]",
      "text/plain": [
       "<Figure size 432x288 with 1 Axes>"
      ]
     },
     "metadata": {},
     "output_type": "display_data"
    }
   ],
   "source": [
    "plot_history(history)"
   ]
  },
  {
   "cell_type": "code",
   "execution_count": 42,
   "id": "a1adeed4",
   "metadata": {},
   "outputs": [
    {
     "name": "stdout",
     "output_type": "stream",
     "text": [
      "1.3616279971661402\n"
     ]
    }
   ],
   "source": [
    "print(mean_squared_error(predict(x_test, pos), y_test))"
   ]
  },
  {
   "cell_type": "code",
   "execution_count": 43,
   "id": "aaff7818",
   "metadata": {},
   "outputs": [
    {
     "name": "stderr",
     "output_type": "stream",
     "text": [
      "2022-04-22 10:32:25,076 - pyswarms.single.global_best - INFO - Optimize for 50 iters with {'c1': 0.5, 'c2': 0.9, 'w': 0.9}\n",
      "pyswarms.single.global_best: 100%|██████████|50/50, best_cost=0.00119\n",
      "2022-04-22 10:32:26,024 - pyswarms.single.global_best - INFO - Optimization finished | best cost: 0.0011888731792516689, best pos: [ 2.77501697e-01 -1.54332741e+00  8.99803512e-02  1.22091081e+00\n",
      "  3.24169865e-01  1.70040604e+00 -2.06943835e-01 -4.43616719e-01\n",
      " -9.78652220e-01 -3.29443130e-02  8.38423744e-01  1.68130985e+00\n",
      " -5.74544742e-01 -8.08067094e-02  1.62864508e+00  7.80933514e-01\n",
      " -5.24271077e-01  9.55472172e-01  8.16126071e-03 -8.18002050e-02\n",
      "  1.73838128e-01 -4.74242694e-01 -3.48374425e-01 -3.63560287e-01\n",
      "  1.20878032e+00  6.31655120e-01  3.51625609e-01 -1.16366396e-01\n",
      " -9.73225106e-02  1.20807693e-01  2.44511779e-01 -1.09783347e+00\n",
      "  1.20469089e-01 -1.04299376e+00  1.42512599e-02 -9.02437011e-01\n",
      "  6.25481797e-01  3.84738966e-01 -1.69125850e+00  9.89955027e-01\n",
      " -1.11428504e+00 -1.08323239e+00 -1.82634424e-01 -1.65752307e+00\n",
      " -1.42324343e+00 -1.49948996e-01 -1.59551475e+00 -3.45265384e-01\n",
      "  1.02657650e+00 -6.26565921e-01 -3.63813163e-01 -8.70016955e-01\n",
      "  1.09613751e+00 -1.06555010e+01  5.89065361e-03 -9.93079730e-01\n",
      "  1.07200640e-01  1.42973024e+00  7.07573723e-01 -1.19266020e+00\n",
      "  3.64968756e-01 -8.97786702e-01  1.06877773e+00 -2.03837457e-01\n",
      "  3.63018923e-01  1.75649970e-03  2.01939052e-01  8.68129158e-01\n",
      "  2.31944922e-01 -1.94644985e-01 -1.62569602e-01 -6.07348797e-01\n",
      " -5.57398738e-01 -6.61253222e-01 -4.75125818e-01  2.70322154e-01\n",
      " -1.33996141e+00  9.29746513e-01  7.91853901e-01  1.77927158e+00\n",
      " -1.06673447e-01  1.82060485e-01 -1.52039670e+00 -3.71242895e-01\n",
      " -4.35833253e+00 -7.52501530e-01 -5.17007371e-01 -6.92125127e-01\n",
      " -2.44344767e-01  1.50714961e-01  2.29611884e-01  9.85285998e-01\n",
      "  5.17853903e-01  1.37575471e+00 -1.60085313e+00 -9.55462896e-01\n",
      "  8.00918803e-01 -5.85706396e-01  3.79698846e-01  3.73181255e-01\n",
      "  5.39988391e-02  5.92639757e-02 -3.52067972e-01 -2.39502200e+00\n",
      "  1.44222095e+00 -1.39551780e+00 -1.56330188e+00 -3.08908002e-01\n",
      " -8.34837059e-01  5.86889119e-01  8.35507314e-02 -6.66610265e-01\n",
      "  2.68415829e-01 -4.32661506e-01 -7.74634094e-01 -9.12818712e-01\n",
      " -4.08753670e+00 -3.33851813e+00 -3.42384549e-01 -1.43351787e+00\n",
      " -7.71669476e-01  7.38133890e-01  5.12791899e-01 -9.90635598e-01\n",
      "  8.97777272e-01 -9.27732762e-01  6.48500690e-01 -2.51144959e-01\n",
      " -8.62164941e-01  1.57022862e-01  3.70337978e-01  4.86960748e-01\n",
      "  2.31643664e-01 -3.62372927e-01 -2.13445121e-01 -5.94049548e+00\n",
      " -2.33155983e-01  1.32138905e-01 -9.23319162e-01 -2.56441836e+00\n",
      " -8.88375327e-01 -7.88214770e-01  5.06546542e-02 -5.24644328e-02\n",
      "  7.36013398e-02  4.26538835e-02 -1.36291501e+00  7.16204820e-01\n",
      "  2.29852080e-01  1.93288869e+00 -1.01650404e+00 -7.98500003e-01\n",
      "  2.13418472e-01  1.47967814e-02 -9.46756987e-01  3.33741346e-01\n",
      " -3.38561424e-01 -5.61576682e-01 -1.27036824e-01  1.28601320e-01\n",
      " -5.64736188e-01 -9.65265138e-01 -2.01987372e+00 -1.55070046e+00\n",
      "  1.23473007e-01 -1.12639366e-01  5.44197051e-01  5.03676814e-01\n",
      "  1.91290014e-01  3.95482724e-01 -2.82005627e-01 -1.78150856e+00\n",
      " -7.57310567e-01  9.98841763e-01 -1.09293145e+00 -6.01845120e-01\n",
      " -4.05683713e-01  4.79675245e-01 -7.37940733e-01 -7.66644004e-02\n",
      "  1.11385287e+00  4.61158313e-01 -1.27203164e-01 -5.91097145e-01\n",
      "  1.47910787e-01 -9.52402693e-01 -1.37103661e+00 -2.58306804e-01\n",
      " -1.95586200e-01  3.57064879e-01 -4.77926033e-01  4.00016977e-01\n",
      "  1.57985928e-01  1.79239986e-01 -7.13653019e-02  1.65993315e+00\n",
      "  1.09449109e-01 -5.58093630e-02 -2.97336217e-01 -8.28894594e-01\n",
      " -3.00128711e-02]\n"
     ]
    },
    {
     "name": "stdout",
     "output_type": "stream",
     "text": [
      "CPU times: user 959 ms, sys: 19.7 ms, total: 978 ms\n",
      "Wall time: 957 ms\n"
     ]
    }
   ],
   "source": [
    "%%time\n",
    "np.random.set_state(checkpoint_state)\n",
    "options = {'c1':0.5,'c2':0.9,'w': 0.9}\n",
    "cost , pos, history = train(options)"
   ]
  },
  {
   "cell_type": "code",
   "execution_count": 44,
   "id": "bdc11c36",
   "metadata": {},
   "outputs": [
    {
     "data": {
      "image/png": "[encoded data removed]",
      "text/plain": [
       "<Figure size 432x288 with 1 Axes>"
      ]
     },
     "metadata": {},
     "output_type": "display_data"
    }
   ],
   "source": [
    "plot_history(history)"
   ]
  },
  {
   "cell_type": "code",
   "execution_count": 45,
   "id": "2b32e7ca",
   "metadata": {},
   "outputs": [
    {
     "name": "stdout",
     "output_type": "stream",
     "text": [
      "1.7377933299436945\n"
     ]
    }
   ],
   "source": [
    "print(mean_squared_error(predict(x_test, pos), y_test))"
   ]
  },
  {
   "cell_type": "code",
   "execution_count": null,
   "id": "bd9fb1d7",
   "metadata": {},
   "outputs": [],
   "source": []
  }
 ],
 "metadata": {
  "kernelspec": {
   "display_name": "Python 3",
   "language": "python",
   "name": "python3"
  },
  "language_info": {
   "codemirror_mode": {
    "name": "ipython",
    "version": 3
   },
   "file_extension": ".py",
   "mimetype": "text/x-python",
   "name": "python",
   "nbconvert_exporter": "python",
   "pygments_lexer": "ipython3",
   "version": "3.7.10"
  }
 },
 "nbformat": 4,
 "nbformat_minor": 5
}
