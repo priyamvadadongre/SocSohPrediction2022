{
 "cells": [
  {
   "cell_type": "code",
   "execution_count": 1,
   "id": "481e3146",
   "metadata": {},
   "outputs": [],
   "source": [
    "import pandas as pd\n",
    "import matplotlib.pyplot as plt\n",
    "import numpy as np\n",
    "import math\n",
    "from sklearn.metrics import mean_absolute_error \n",
    "from sklearn.metrics import r2_score\n",
    "from sklearn.metrics import mean_squared_error\n",
    "from sklearn.linear_model import LinearRegression\n",
    "from sklearn.preprocessing import StandardScaler, MinMaxScaler\n",
    "from sklearn.svm import SVR\n",
    "from sklearn.model_selection import train_test_split"
   ]
  },
  {
   "cell_type": "code",
   "execution_count": 2,
   "id": "3362b256",
   "metadata": {},
   "outputs": [],
   "source": [
    "df = pd.read_csv(\"soh_1.csv\",header=0,index_col=0)"
   ]
  },
  {
   "cell_type": "code",
   "execution_count": 3,
   "id": "f6a53ff6",
   "metadata": {},
   "outputs": [
    {
     "data": {
      "text/html": [
       "<div>\n",
       "<style scoped>\n",
       "    .dataframe tbody tr th:only-of-type {\n",
       "        vertical-align: middle;\n",
       "    }\n",
       "\n",
       "    .dataframe tbody tr th {\n",
       "        vertical-align: top;\n",
       "    }\n",
       "\n",
       "    .dataframe thead th {\n",
       "        text-align: right;\n",
       "    }\n",
       "</style>\n",
       "<table border=\"1\" class=\"dataframe\">\n",
       "  <thead>\n",
       "    <tr style=\"text-align: right;\">\n",
       "      <th></th>\n",
       "      <th>Voltage</th>\n",
       "      <th>Current</th>\n",
       "      <th>Relative State of Charge</th>\n",
       "      <th>Full charge Capacity</th>\n",
       "      <th>Remaining Capacity</th>\n",
       "      <th>Cell 1 Voltage</th>\n",
       "      <th>Cell 2 Voltage</th>\n",
       "      <th>soh</th>\n",
       "    </tr>\n",
       "  </thead>\n",
       "  <tbody>\n",
       "    <tr>\n",
       "      <th>count</th>\n",
       "      <td>126.000000</td>\n",
       "      <td>126.000000</td>\n",
       "      <td>126.000000</td>\n",
       "      <td>126.0</td>\n",
       "      <td>126.000000</td>\n",
       "      <td>126.000000</td>\n",
       "      <td>126.000000</td>\n",
       "      <td>126.000000</td>\n",
       "    </tr>\n",
       "    <tr>\n",
       "      <th>mean</th>\n",
       "      <td>8037.539683</td>\n",
       "      <td>-4068.317460</td>\n",
       "      <td>97.380952</td>\n",
       "      <td>4888.0</td>\n",
       "      <td>4734.523810</td>\n",
       "      <td>4014.047619</td>\n",
       "      <td>4023.468254</td>\n",
       "      <td>0.843007</td>\n",
       "    </tr>\n",
       "    <tr>\n",
       "      <th>std</th>\n",
       "      <td>40.956689</td>\n",
       "      <td>33.087194</td>\n",
       "      <td>1.663044</td>\n",
       "      <td>0.0</td>\n",
       "      <td>82.176855</td>\n",
       "      <td>19.724445</td>\n",
       "      <td>21.040413</td>\n",
       "      <td>0.084060</td>\n",
       "    </tr>\n",
       "    <tr>\n",
       "      <th>min</th>\n",
       "      <td>7970.000000</td>\n",
       "      <td>-4194.000000</td>\n",
       "      <td>95.000000</td>\n",
       "      <td>4888.0</td>\n",
       "      <td>4595.000000</td>\n",
       "      <td>3981.000000</td>\n",
       "      <td>3988.000000</td>\n",
       "      <td>0.700286</td>\n",
       "    </tr>\n",
       "    <tr>\n",
       "      <th>25%</th>\n",
       "      <td>8003.000000</td>\n",
       "      <td>-4075.750000</td>\n",
       "      <td>96.000000</td>\n",
       "      <td>4888.0</td>\n",
       "      <td>4663.750000</td>\n",
       "      <td>3996.250000</td>\n",
       "      <td>4005.000000</td>\n",
       "      <td>0.770612</td>\n",
       "    </tr>\n",
       "    <tr>\n",
       "      <th>50%</th>\n",
       "      <td>8035.000000</td>\n",
       "      <td>-4066.000000</td>\n",
       "      <td>97.000000</td>\n",
       "      <td>4888.0</td>\n",
       "      <td>4734.500000</td>\n",
       "      <td>4013.000000</td>\n",
       "      <td>4023.000000</td>\n",
       "      <td>0.842983</td>\n",
       "    </tr>\n",
       "    <tr>\n",
       "      <th>75%</th>\n",
       "      <td>8072.750000</td>\n",
       "      <td>-4046.000000</td>\n",
       "      <td>99.000000</td>\n",
       "      <td>4888.0</td>\n",
       "      <td>4805.250000</td>\n",
       "      <td>4031.000000</td>\n",
       "      <td>4041.000000</td>\n",
       "      <td>0.915354</td>\n",
       "    </tr>\n",
       "    <tr>\n",
       "      <th>max</th>\n",
       "      <td>8107.000000</td>\n",
       "      <td>-4024.000000</td>\n",
       "      <td>100.000000</td>\n",
       "      <td>4888.0</td>\n",
       "      <td>4874.000000</td>\n",
       "      <td>4048.000000</td>\n",
       "      <td>4063.000000</td>\n",
       "      <td>0.985679</td>\n",
       "    </tr>\n",
       "  </tbody>\n",
       "</table>\n",
       "</div>"
      ],
      "text/plain": [
       "           Voltage      Current  Relative State of Charge  \\\n",
       "count   126.000000   126.000000                126.000000   \n",
       "mean   8037.539683 -4068.317460                 97.380952   \n",
       "std      40.956689    33.087194                  1.663044   \n",
       "min    7970.000000 -4194.000000                 95.000000   \n",
       "25%    8003.000000 -4075.750000                 96.000000   \n",
       "50%    8035.000000 -4066.000000                 97.000000   \n",
       "75%    8072.750000 -4046.000000                 99.000000   \n",
       "max    8107.000000 -4024.000000                100.000000   \n",
       "\n",
       "       Full charge Capacity  Remaining Capacity  Cell 1 Voltage  \\\n",
       "count                 126.0          126.000000      126.000000   \n",
       "mean                 4888.0         4734.523810     4014.047619   \n",
       "std                     0.0           82.176855       19.724445   \n",
       "min                  4888.0         4595.000000     3981.000000   \n",
       "25%                  4888.0         4663.750000     3996.250000   \n",
       "50%                  4888.0         4734.500000     4013.000000   \n",
       "75%                  4888.0         4805.250000     4031.000000   \n",
       "max                  4888.0         4874.000000     4048.000000   \n",
       "\n",
       "       Cell 2 Voltage         soh  \n",
       "count      126.000000  126.000000  \n",
       "mean      4023.468254    0.843007  \n",
       "std         21.040413    0.084060  \n",
       "min       3988.000000    0.700286  \n",
       "25%       4005.000000    0.770612  \n",
       "50%       4023.000000    0.842983  \n",
       "75%       4041.000000    0.915354  \n",
       "max       4063.000000    0.985679  "
      ]
     },
     "execution_count": 3,
     "metadata": {},
     "output_type": "execute_result"
    }
   ],
   "source": [
    "df.describe()"
   ]
  },
  {
   "cell_type": "code",
   "execution_count": 4,
   "id": "8a6e65d9",
   "metadata": {},
   "outputs": [],
   "source": [
    "X_data=df.drop(['soh'],axis=1)\n",
    "y_data=df['soh']\n",
    "\n",
    "X_train, X_test, y_train, y_test = train_test_split(X_data, y_data, test_size=0.2,random_state = 1)\n"
   ]
  },
  {
   "cell_type": "code",
   "execution_count": 5,
   "id": "bb484dcf",
   "metadata": {},
   "outputs": [],
   "source": [
    "lm = LinearRegression()"
   ]
  },
  {
   "cell_type": "code",
   "execution_count": 6,
   "id": "40ea5b06",
   "metadata": {},
   "outputs": [
    {
     "data": {
      "text/plain": [
       "LinearRegression()"
      ]
     },
     "execution_count": 6,
     "metadata": {},
     "output_type": "execute_result"
    }
   ],
   "source": [
    "lm.fit(X_train, y_train)"
   ]
  },
  {
   "cell_type": "code",
   "execution_count": 7,
   "id": "6e5d8536",
   "metadata": {},
   "outputs": [
    {
     "name": "stdout",
     "output_type": "stream",
     "text": [
      "Intercept: -4.000\n",
      "Coefficient: 0.000\n",
      "MAE 2.7954001606100335e-08\n"
     ]
    }
   ],
   "source": [
    "print(\"Intercept: {:,.3f}\".format(lm.intercept_))\n",
    "print(\"Coefficient: {:,.3f}\".format(lm.coef_[0]))\n",
    "    \n",
    "mae = mean_absolute_error(y_test, lm.predict(X_test))\n",
    "print(\"MAE\", math.sqrt(mae))"
   ]
  },
  {
   "cell_type": "code",
   "execution_count": 8,
   "id": "417873bb",
   "metadata": {},
   "outputs": [],
   "source": [
    "ypredict = lm.predict(X_test)"
   ]
  },
  {
   "cell_type": "code",
   "execution_count": 9,
   "id": "0ab5ff7c",
   "metadata": {},
   "outputs": [
    {
     "name": "stdout",
     "output_type": "stream",
     "text": [
      "R2 SCORE is 1.0\n",
      "mean_sqrd_error is  8.357943364811561e-31\n",
      "Root mean squared error of is 9.142178823897266e-16\n",
      "Mean Absolute error is 7.814262057938602e-16\n"
     ]
    }
   ],
   "source": [
    "score = r2_score(y_test,ypredict)\n",
    "mean_error = mean_squared_error(y_test,ypredict)\n",
    "mae = mean_absolute_error(y_test,ypredict)\n",
    "print(\"R2 SCORE is\", score)\n",
    "print(\"mean_sqrd_error is \", mean_error)\n",
    "print(\"Root mean squared error of is\",np.sqrt(mean_error))\n",
    "print(\"Mean Absolute error is\", mae)"
   ]
  },
  {
   "cell_type": "markdown",
   "id": "e86d1c93",
   "metadata": {},
   "source": [
    "## SVR"
   ]
  },
  {
   "cell_type": "code",
   "execution_count": 10,
   "id": "42676fac",
   "metadata": {},
   "outputs": [],
   "source": [
    "X_train1, X_test1, y_train1, y_test1 = train_test_split(X_data, y_data, test_size=0.2,random_state = 1)\n"
   ]
  },
  {
   "cell_type": "code",
   "execution_count": 11,
   "id": "dff57874",
   "metadata": {},
   "outputs": [],
   "source": [
    "sc_x = StandardScaler()\n",
    "sc_y = StandardScaler()\n",
    "X_train1 = sc_x.fit_transform(X_train1)\n",
    "X_test1 = sc_x.transform(X_test1)\n",
    "y_train1 = sc_y.fit_transform(np.array(y_train1).reshape(-1,1))\n",
    "y_test1 = sc_y.transform(np.array(y_test1).reshape(-1,1))"
   ]
  },
  {
   "cell_type": "code",
   "execution_count": 12,
   "id": "551f1cb7",
   "metadata": {},
   "outputs": [
    {
     "name": "stderr",
     "output_type": "stream",
     "text": [
      "/home/dell/anaconda3/lib/python3.7/site-packages/sklearn/utils/validation.py:63: DataConversionWarning: A column-vector y was passed when a 1d array was expected. Please change the shape of y to (n_samples, ), for example using ravel().\n",
      "  return f(*args, **kwargs)\n"
     ]
    },
    {
     "data": {
      "text/plain": [
       "SVR()"
      ]
     },
     "execution_count": 12,
     "metadata": {},
     "output_type": "execute_result"
    }
   ],
   "source": [
    "regressor = SVR(kernel = 'rbf')\n",
    "regressor.fit(X_train1,y_train1)"
   ]
  },
  {
   "cell_type": "code",
   "execution_count": 13,
   "id": "a2acf684",
   "metadata": {},
   "outputs": [],
   "source": [
    "y_prediction1 =  regressor.predict(X_test1)"
   ]
  },
  {
   "cell_type": "code",
   "execution_count": 14,
   "id": "deaf5ee1",
   "metadata": {},
   "outputs": [
    {
     "name": "stdout",
     "output_type": "stream",
     "text": [
      "R2 SCORE is 0.9944502098685258\n",
      "mean_sqrd_error is  0.005307769346546898\n",
      "Root mean squared error of is 0.07285443944295295\n",
      "Mean Absolute error is 0.06023195877142607\n"
     ]
    }
   ],
   "source": [
    "score1 = r2_score(y_test1,y_prediction1)\n",
    "mean_error1 = mean_squared_error(y_test1,y_prediction1)\n",
    "mae1 = mean_absolute_error(y_test1,y_prediction1)\n",
    "print(\"R2 SCORE is\", score1)\n",
    "print(\"mean_sqrd_error is \", mean_error1)\n",
    "print(\"Root mean squared error of is\",np.sqrt(mean_error1))\n",
    "print(\"Mean Absolute error is\", mae1)"
   ]
  },
  {
   "cell_type": "code",
   "execution_count": 15,
   "id": "ac496f48",
   "metadata": {},
   "outputs": [
    {
     "data": {
      "text/plain": [
       "TimeStamp\n",
       "2021-08-16 17:05:27.046    0.709493\n",
       "2021-08-16 17:02:59.067    0.880319\n",
       "2021-08-16 17:03:51.766    0.818944\n",
       "2021-08-16 17:04:27.079    0.779051\n",
       "2021-08-16 17:04:51.120    0.751432\n",
       "Name: soh, dtype: float64"
      ]
     },
     "execution_count": 15,
     "metadata": {},
     "output_type": "execute_result"
    }
   ],
   "source": [
    "y_test1 = sc_y.inverse_transform(y_test1)\n",
    "y_test[:5]"
   ]
  },
  {
   "cell_type": "code",
   "execution_count": 16,
   "id": "ccc0b73c",
   "metadata": {},
   "outputs": [
    {
     "data": {
      "text/plain": [
       "array([0.71886633, 0.87481871, 0.82713403, 0.78491594, 0.75447455])"
      ]
     },
     "execution_count": 16,
     "metadata": {},
     "output_type": "execute_result"
    }
   ],
   "source": [
    "y_prediction1 = sc_y.inverse_transform(y_prediction1)\n",
    "y_prediction1[:5]"
   ]
  },
  {
   "cell_type": "code",
   "execution_count": 18,
   "id": "a359eaae",
   "metadata": {},
   "outputs": [
    {
     "data": {
      "image/png": "[encoded data removed]",
      "text/plain": [
       "<Figure size 432x288 with 1 Axes>"
      ]
     },
     "metadata": {
      "needs_background": "light"
     },
     "output_type": "display_data"
    }
   ],
   "source": [
    "df1 = pd.DataFrame({'Actual': y_test1.flatten(), 'Predicted': y_prediction1.flatten()})\n",
    "df1.plot(kind='line')\n",
    "plt.grid(which='major', linestyle='-', linewidth='0.5', color='green')\n",
    "plt.grid(which='minor', linestyle=':', linewidth='0.5', color='black')\n",
    "plt.show()"
   ]
  },
  {
   "cell_type": "code",
   "execution_count": 19,
   "id": "1445140c",
   "metadata": {},
   "outputs": [
    {
     "data": {
      "text/html": [
       "<div>\n",
       "<style scoped>\n",
       "    .dataframe tbody tr th:only-of-type {\n",
       "        vertical-align: middle;\n",
       "    }\n",
       "\n",
       "    .dataframe tbody tr th {\n",
       "        vertical-align: top;\n",
       "    }\n",
       "\n",
       "    .dataframe thead th {\n",
       "        text-align: right;\n",
       "    }\n",
       "</style>\n",
       "<table border=\"1\" class=\"dataframe\">\n",
       "  <thead>\n",
       "    <tr style=\"text-align: right;\">\n",
       "      <th></th>\n",
       "      <th>ACTUAL SOC</th>\n",
       "      <th>PREDICTED SOC</th>\n",
       "      <th>DIFFERENCE</th>\n",
       "      <th>PERCENTAGE ERROR</th>\n",
       "    </tr>\n",
       "  </thead>\n",
       "  <tbody>\n",
       "    <tr>\n",
       "      <th>0</th>\n",
       "      <td>0.709493</td>\n",
       "      <td>0.718866</td>\n",
       "      <td>-0.009374</td>\n",
       "      <td>1.321183</td>\n",
       "    </tr>\n",
       "    <tr>\n",
       "      <th>1</th>\n",
       "      <td>0.880319</td>\n",
       "      <td>0.874819</td>\n",
       "      <td>0.005500</td>\n",
       "      <td>0.624824</td>\n",
       "    </tr>\n",
       "    <tr>\n",
       "      <th>2</th>\n",
       "      <td>0.818944</td>\n",
       "      <td>0.827134</td>\n",
       "      <td>-0.008190</td>\n",
       "      <td>1.000028</td>\n",
       "    </tr>\n",
       "    <tr>\n",
       "      <th>3</th>\n",
       "      <td>0.779051</td>\n",
       "      <td>0.784916</td>\n",
       "      <td>-0.005865</td>\n",
       "      <td>0.752865</td>\n",
       "    </tr>\n",
       "    <tr>\n",
       "      <th>4</th>\n",
       "      <td>0.751432</td>\n",
       "      <td>0.754475</td>\n",
       "      <td>-0.003042</td>\n",
       "      <td>0.404890</td>\n",
       "    </tr>\n",
       "    <tr>\n",
       "      <th>5</th>\n",
       "      <td>0.864975</td>\n",
       "      <td>0.866375</td>\n",
       "      <td>-0.001400</td>\n",
       "      <td>0.161808</td>\n",
       "    </tr>\n",
       "    <tr>\n",
       "      <th>6</th>\n",
       "      <td>0.714607</td>\n",
       "      <td>0.722970</td>\n",
       "      <td>-0.008363</td>\n",
       "      <td>1.170241</td>\n",
       "    </tr>\n",
       "    <tr>\n",
       "      <th>7</th>\n",
       "      <td>0.700286</td>\n",
       "      <td>0.714679</td>\n",
       "      <td>-0.014392</td>\n",
       "      <td>2.055186</td>\n",
       "    </tr>\n",
       "    <tr>\n",
       "      <th>8</th>\n",
       "      <td>0.718699</td>\n",
       "      <td>0.717969</td>\n",
       "      <td>0.000730</td>\n",
       "      <td>0.101509</td>\n",
       "    </tr>\n",
       "    <tr>\n",
       "      <th>9</th>\n",
       "      <td>0.889525</td>\n",
       "      <td>0.884428</td>\n",
       "      <td>0.005097</td>\n",
       "      <td>0.573021</td>\n",
       "    </tr>\n",
       "    <tr>\n",
       "      <th>10</th>\n",
       "      <td>0.778028</td>\n",
       "      <td>0.778876</td>\n",
       "      <td>-0.000848</td>\n",
       "      <td>0.108990</td>\n",
       "    </tr>\n",
       "    <tr>\n",
       "      <th>11</th>\n",
       "      <td>0.870090</td>\n",
       "      <td>0.869877</td>\n",
       "      <td>0.000213</td>\n",
       "      <td>0.024523</td>\n",
       "    </tr>\n",
       "    <tr>\n",
       "      <th>12</th>\n",
       "      <td>0.742226</td>\n",
       "      <td>0.734421</td>\n",
       "      <td>0.007805</td>\n",
       "      <td>1.051597</td>\n",
       "    </tr>\n",
       "    <tr>\n",
       "      <th>13</th>\n",
       "      <td>0.906915</td>\n",
       "      <td>0.909721</td>\n",
       "      <td>-0.002806</td>\n",
       "      <td>0.309378</td>\n",
       "    </tr>\n",
       "    <tr>\n",
       "      <th>14</th>\n",
       "      <td>0.885434</td>\n",
       "      <td>0.879387</td>\n",
       "      <td>0.006047</td>\n",
       "      <td>0.682945</td>\n",
       "    </tr>\n",
       "  </tbody>\n",
       "</table>\n",
       "</div>"
      ],
      "text/plain": [
       "    ACTUAL SOC  PREDICTED SOC  DIFFERENCE  PERCENTAGE ERROR\n",
       "0     0.709493       0.718866   -0.009374          1.321183\n",
       "1     0.880319       0.874819    0.005500          0.624824\n",
       "2     0.818944       0.827134   -0.008190          1.000028\n",
       "3     0.779051       0.784916   -0.005865          0.752865\n",
       "4     0.751432       0.754475   -0.003042          0.404890\n",
       "5     0.864975       0.866375   -0.001400          0.161808\n",
       "6     0.714607       0.722970   -0.008363          1.170241\n",
       "7     0.700286       0.714679   -0.014392          2.055186\n",
       "8     0.718699       0.717969    0.000730          0.101509\n",
       "9     0.889525       0.884428    0.005097          0.573021\n",
       "10    0.778028       0.778876   -0.000848          0.108990\n",
       "11    0.870090       0.869877    0.000213          0.024523\n",
       "12    0.742226       0.734421    0.007805          1.051597\n",
       "13    0.906915       0.909721   -0.002806          0.309378\n",
       "14    0.885434       0.879387    0.006047          0.682945"
      ]
     },
     "execution_count": 19,
     "metadata": {},
     "output_type": "execute_result"
    }
   ],
   "source": [
    "result = pd.DataFrame()\n",
    "result[\"ACTUAL SOC\"] = y_test1.flatten()\n",
    "result[\"PREDICTED SOC\"] = y_prediction1\n",
    "result[\"DIFFERENCE\"] = result[\"ACTUAL SOC\"] - result[\"PREDICTED SOC\"]\n",
    "result[\"PERCENTAGE ERROR\"] = ( abs(result[\"ACTUAL SOC\"] - result[\"PREDICTED SOC\"] ) / result[\"ACTUAL SOC\"] ) * 100\n",
    "result.head(15)"
   ]
  },
  {
   "cell_type": "code",
   "execution_count": null,
   "id": "f23669c5",
   "metadata": {},
   "outputs": [],
   "source": []
  }
 ],
 "metadata": {
  "kernelspec": {
   "display_name": "Python 3",
   "language": "python",
   "name": "python3"
  },
  "language_info": {
   "codemirror_mode": {
    "name": "ipython",
    "version": 3
   },
   "file_extension": ".py",
   "mimetype": "text/x-python",
   "name": "python",
   "nbconvert_exporter": "python",
   "pygments_lexer": "ipython3",
   "version": "3.8.8"
  }
 },
 "nbformat": 4,
 "nbformat_minor": 5
}
