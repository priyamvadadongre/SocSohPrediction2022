{
 "cells": [
  {
   "cell_type": "code",
   "execution_count": 1,
   "metadata": {},
   "outputs": [],
   "source": [
    "import numpy as np\n",
    "import keras\n",
    "from keras.models import Sequential\n",
    "from keras.layers import Dense, Dropout, Flatten\n",
    "from keras.layers import Conv2D, MaxPooling2D\n",
    "from keras.models import Model\n",
    "from keras.models import load_model\n",
    "import matplotlib.pyplot as plt"
   ]
  },
  {
   "cell_type": "code",
   "execution_count": 2,
   "metadata": {},
   "outputs": [],
   "source": [
    "import pyswarms as ps\n",
    "from pyswarms.utils.plotters import (plot_cost_history)\n",
    "%matplotlib inline\n",
    "\n",
    "import pandas as pd \n",
    "import numpy as np\n",
    "import matplotlib.pyplot as plt\n",
    "from sklearn.model_selection import train_test_split\n",
    "from keras import Sequential\n",
    "from keras.layers import LSTM, Dropout, Dense, TimeDistributed, Activation"
   ]
  },
  {
   "cell_type": "code",
   "execution_count": 3,
   "metadata": {},
   "outputs": [
    {
     "data": {
      "text/html": [
       "<div>\n",
       "<style scoped>\n",
       "    .dataframe tbody tr th:only-of-type {\n",
       "        vertical-align: middle;\n",
       "    }\n",
       "\n",
       "    .dataframe tbody tr th {\n",
       "        vertical-align: top;\n",
       "    }\n",
       "\n",
       "    .dataframe thead th {\n",
       "        text-align: right;\n",
       "    }\n",
       "</style>\n",
       "<table border=\"1\" class=\"dataframe\">\n",
       "  <thead>\n",
       "    <tr style=\"text-align: right;\">\n",
       "      <th></th>\n",
       "      <th>TimeStamp</th>\n",
       "      <th>Voltage</th>\n",
       "      <th>Current</th>\n",
       "      <th>Relative State of Charge</th>\n",
       "      <th>Full charge Capacity</th>\n",
       "      <th>Remaining Capacity</th>\n",
       "      <th>Cell 1 Voltage</th>\n",
       "      <th>Cell 2 Voltage</th>\n",
       "      <th>soh</th>\n",
       "    </tr>\n",
       "  </thead>\n",
       "  <tbody>\n",
       "    <tr>\n",
       "      <th>0</th>\n",
       "      <td>2021-08-16 17:01:27.063</td>\n",
       "      <td>8107</td>\n",
       "      <td>-4194</td>\n",
       "      <td>100</td>\n",
       "      <td>4888</td>\n",
       "      <td>4874</td>\n",
       "      <td>4048</td>\n",
       "      <td>4063</td>\n",
       "      <td>0.985679</td>\n",
       "    </tr>\n",
       "    <tr>\n",
       "      <th>1</th>\n",
       "      <td>2021-08-16 17:01:27.766</td>\n",
       "      <td>8106</td>\n",
       "      <td>-4193</td>\n",
       "      <td>100</td>\n",
       "      <td>4888</td>\n",
       "      <td>4874</td>\n",
       "      <td>4047</td>\n",
       "      <td>4059</td>\n",
       "      <td>0.985679</td>\n",
       "    </tr>\n",
       "    <tr>\n",
       "      <th>2</th>\n",
       "      <td>2021-08-16 17:01:31.064</td>\n",
       "      <td>8105</td>\n",
       "      <td>-4191</td>\n",
       "      <td>100</td>\n",
       "      <td>4888</td>\n",
       "      <td>4870</td>\n",
       "      <td>4046</td>\n",
       "      <td>4059</td>\n",
       "      <td>0.981588</td>\n",
       "    </tr>\n",
       "    <tr>\n",
       "      <th>3</th>\n",
       "      <td>2021-08-16 17:01:31.766</td>\n",
       "      <td>8102</td>\n",
       "      <td>-4190</td>\n",
       "      <td>100</td>\n",
       "      <td>4888</td>\n",
       "      <td>4870</td>\n",
       "      <td>4045</td>\n",
       "      <td>4057</td>\n",
       "      <td>0.981588</td>\n",
       "    </tr>\n",
       "    <tr>\n",
       "      <th>4</th>\n",
       "      <td>2021-08-16 17:01:35.112</td>\n",
       "      <td>8101</td>\n",
       "      <td>-4188</td>\n",
       "      <td>100</td>\n",
       "      <td>4888</td>\n",
       "      <td>4865</td>\n",
       "      <td>4045</td>\n",
       "      <td>4060</td>\n",
       "      <td>0.976473</td>\n",
       "    </tr>\n",
       "  </tbody>\n",
       "</table>\n",
       "</div>"
      ],
      "text/plain": [
       "                 TimeStamp  Voltage  Current  Relative State of Charge  \\\n",
       "0  2021-08-16 17:01:27.063     8107    -4194                       100   \n",
       "1  2021-08-16 17:01:27.766     8106    -4193                       100   \n",
       "2  2021-08-16 17:01:31.064     8105    -4191                       100   \n",
       "3  2021-08-16 17:01:31.766     8102    -4190                       100   \n",
       "4  2021-08-16 17:01:35.112     8101    -4188                       100   \n",
       "\n",
       "   Full charge Capacity  Remaining Capacity  Cell 1 Voltage  Cell 2 Voltage  \\\n",
       "0                  4888                4874            4048            4063   \n",
       "1                  4888                4874            4047            4059   \n",
       "2                  4888                4870            4046            4059   \n",
       "3                  4888                4870            4045            4057   \n",
       "4                  4888                4865            4045            4060   \n",
       "\n",
       "        soh  \n",
       "0  0.985679  \n",
       "1  0.985679  \n",
       "2  0.981588  \n",
       "3  0.981588  \n",
       "4  0.976473  "
      ]
     },
     "execution_count": 3,
     "metadata": {},
     "output_type": "execute_result"
    }
   ],
   "source": [
    "from pandas import read_csv\n",
    "from matplotlib import pyplot\n",
    "# load dataset\n",
    "dataset = read_csv('soh_1.csv', header=0,index_col=False)\n",
    "dataset.head()"
   ]
  },
  {
   "cell_type": "code",
   "execution_count": 4,
   "metadata": {},
   "outputs": [],
   "source": [
    "from pandas import DataFrame\n",
    "from pandas import concat\n",
    "from sklearn.preprocessing import MinMaxScaler\n",
    "\n",
    "# convert series to supervised learning\n",
    "def series_to_supervised(data, n_in=1, n_out=1, dropnan=True):\n",
    "\tn_vars = 1 if type(data) is list else data.shape[1]\n",
    "\tdf = DataFrame(data)\n",
    "\tcols, names = list(), list()\n",
    "\t# input sequence (t-n, ... t-1)\n",
    "\tfor i in range(n_in, 0, -1):\n",
    "\t\tcols.append(df.shift(i))\n",
    "\t\tnames += [('var%d(t-%d)' % (j+1, i)) for j in range(n_vars)]\n",
    "\t# forecast sequence (t, t+1, ... t+n)\n",
    "\tfor i in range(0, n_out):\n",
    "\t\tcols.append(df.shift(-i))\n",
    "\t\tif i == 0:\n",
    "\t\t\tnames += [('var%d(t)' % (j+1)) for j in range(n_vars)]\n",
    "\t\telse:\n",
    "\t\t\tnames += [('var%d(t+%d)' % (j+1, i)) for j in range(n_vars)]\n",
    "\t# put it all together\n",
    "\tagg = concat(cols, axis=1)\n",
    "\tagg.columns = names\n",
    "\t# drop rows with NaN values\n",
    "\tif dropnan:\n",
    "\t\tagg.dropna(inplace=True)\n",
    "\treturn agg"
   ]
  },
  {
   "cell_type": "code",
   "execution_count": 5,
   "metadata": {},
   "outputs": [
    {
     "name": "stderr",
     "output_type": "stream",
     "text": [
      "2022-05-20 08:35:13,878 - numexpr.utils - INFO - NumExpr defaulting to 8 threads.\n"
     ]
    },
    {
     "name": "stdout",
     "output_type": "stream",
     "text": [
      "   var1(t-1)  var2(t-1)  var3(t-1)  var4(t-1)  var5(t-1)  var6(t-1)  \\\n",
      "1   1.000000   0.000000        1.0        0.0   1.000000   1.000000   \n",
      "2   0.992699   0.005882        1.0        0.0   1.000000   0.985077   \n",
      "3   0.985401   0.017649        1.0        0.0   0.985662   0.970150   \n",
      "4   0.963505   0.023531        1.0        0.0   0.985662   0.955227   \n",
      "5   0.956203   0.035295        1.0        0.0   0.967743   0.955227   \n",
      "\n",
      "   var7(t-1)  var8(t-1)   var1(t)  \n",
      "1   1.000000   1.000000  0.992699  \n",
      "2   0.946667   1.000000  0.985401  \n",
      "3   0.946667   0.985663  0.963505  \n",
      "4   0.919998   0.985663  0.956203  \n",
      "5   0.959999   0.967742  0.948906  \n"
     ]
    },
    {
     "data": {
      "text/html": [
       "<div>\n",
       "<style scoped>\n",
       "    .dataframe tbody tr th:only-of-type {\n",
       "        vertical-align: middle;\n",
       "    }\n",
       "\n",
       "    .dataframe tbody tr th {\n",
       "        vertical-align: top;\n",
       "    }\n",
       "\n",
       "    .dataframe thead th {\n",
       "        text-align: right;\n",
       "    }\n",
       "</style>\n",
       "<table border=\"1\" class=\"dataframe\">\n",
       "  <thead>\n",
       "    <tr style=\"text-align: right;\">\n",
       "      <th></th>\n",
       "      <th>var1(t-1)</th>\n",
       "      <th>var2(t-1)</th>\n",
       "      <th>var3(t-1)</th>\n",
       "      <th>var4(t-1)</th>\n",
       "      <th>var5(t-1)</th>\n",
       "      <th>var6(t-1)</th>\n",
       "      <th>var7(t-1)</th>\n",
       "      <th>var8(t-1)</th>\n",
       "      <th>var1(t)</th>\n",
       "    </tr>\n",
       "  </thead>\n",
       "  <tbody>\n",
       "    <tr>\n",
       "      <th>1</th>\n",
       "      <td>1.000000</td>\n",
       "      <td>0.000000</td>\n",
       "      <td>1.0</td>\n",
       "      <td>0.0</td>\n",
       "      <td>1.000000</td>\n",
       "      <td>1.000000</td>\n",
       "      <td>1.000000</td>\n",
       "      <td>1.000000</td>\n",
       "      <td>0.992699</td>\n",
       "    </tr>\n",
       "    <tr>\n",
       "      <th>2</th>\n",
       "      <td>0.992699</td>\n",
       "      <td>0.005882</td>\n",
       "      <td>1.0</td>\n",
       "      <td>0.0</td>\n",
       "      <td>1.000000</td>\n",
       "      <td>0.985077</td>\n",
       "      <td>0.946667</td>\n",
       "      <td>1.000000</td>\n",
       "      <td>0.985401</td>\n",
       "    </tr>\n",
       "    <tr>\n",
       "      <th>3</th>\n",
       "      <td>0.985401</td>\n",
       "      <td>0.017649</td>\n",
       "      <td>1.0</td>\n",
       "      <td>0.0</td>\n",
       "      <td>0.985662</td>\n",
       "      <td>0.970150</td>\n",
       "      <td>0.946667</td>\n",
       "      <td>0.985663</td>\n",
       "      <td>0.963505</td>\n",
       "    </tr>\n",
       "    <tr>\n",
       "      <th>4</th>\n",
       "      <td>0.963505</td>\n",
       "      <td>0.023531</td>\n",
       "      <td>1.0</td>\n",
       "      <td>0.0</td>\n",
       "      <td>0.985662</td>\n",
       "      <td>0.955227</td>\n",
       "      <td>0.919998</td>\n",
       "      <td>0.985663</td>\n",
       "      <td>0.956203</td>\n",
       "    </tr>\n",
       "    <tr>\n",
       "      <th>5</th>\n",
       "      <td>0.956203</td>\n",
       "      <td>0.035295</td>\n",
       "      <td>1.0</td>\n",
       "      <td>0.0</td>\n",
       "      <td>0.967743</td>\n",
       "      <td>0.955227</td>\n",
       "      <td>0.959999</td>\n",
       "      <td>0.967742</td>\n",
       "      <td>0.948906</td>\n",
       "    </tr>\n",
       "    <tr>\n",
       "      <th>...</th>\n",
       "      <td>...</td>\n",
       "      <td>...</td>\n",
       "      <td>...</td>\n",
       "      <td>...</td>\n",
       "      <td>...</td>\n",
       "      <td>...</td>\n",
       "      <td>...</td>\n",
       "      <td>...</td>\n",
       "      <td>...</td>\n",
       "    </tr>\n",
       "    <tr>\n",
       "      <th>121</th>\n",
       "      <td>0.029198</td>\n",
       "      <td>0.911766</td>\n",
       "      <td>0.0</td>\n",
       "      <td>0.0</td>\n",
       "      <td>0.032259</td>\n",
       "      <td>0.044777</td>\n",
       "      <td>0.026665</td>\n",
       "      <td>0.032258</td>\n",
       "      <td>0.029198</td>\n",
       "    </tr>\n",
       "    <tr>\n",
       "      <th>122</th>\n",
       "      <td>0.029198</td>\n",
       "      <td>0.923531</td>\n",
       "      <td>0.0</td>\n",
       "      <td>0.0</td>\n",
       "      <td>0.032259</td>\n",
       "      <td>0.044777</td>\n",
       "      <td>0.026665</td>\n",
       "      <td>0.032258</td>\n",
       "      <td>0.021896</td>\n",
       "    </tr>\n",
       "    <tr>\n",
       "      <th>123</th>\n",
       "      <td>0.021896</td>\n",
       "      <td>1.000000</td>\n",
       "      <td>0.0</td>\n",
       "      <td>0.0</td>\n",
       "      <td>0.017921</td>\n",
       "      <td>0.029854</td>\n",
       "      <td>0.026665</td>\n",
       "      <td>0.017921</td>\n",
       "      <td>0.014599</td>\n",
       "    </tr>\n",
       "    <tr>\n",
       "      <th>124</th>\n",
       "      <td>0.014599</td>\n",
       "      <td>0.994118</td>\n",
       "      <td>0.0</td>\n",
       "      <td>0.0</td>\n",
       "      <td>0.017921</td>\n",
       "      <td>0.029854</td>\n",
       "      <td>0.013332</td>\n",
       "      <td>0.017921</td>\n",
       "      <td>0.000000</td>\n",
       "    </tr>\n",
       "    <tr>\n",
       "      <th>125</th>\n",
       "      <td>0.000000</td>\n",
       "      <td>0.982353</td>\n",
       "      <td>0.0</td>\n",
       "      <td>0.0</td>\n",
       "      <td>0.000000</td>\n",
       "      <td>0.000000</td>\n",
       "      <td>0.053333</td>\n",
       "      <td>0.000000</td>\n",
       "      <td>0.000000</td>\n",
       "    </tr>\n",
       "  </tbody>\n",
       "</table>\n",
       "<p>125 rows × 9 columns</p>\n",
       "</div>"
      ],
      "text/plain": [
       "     var1(t-1)  var2(t-1)  var3(t-1)  var4(t-1)  var5(t-1)  var6(t-1)  \\\n",
       "1     1.000000   0.000000        1.0        0.0   1.000000   1.000000   \n",
       "2     0.992699   0.005882        1.0        0.0   1.000000   0.985077   \n",
       "3     0.985401   0.017649        1.0        0.0   0.985662   0.970150   \n",
       "4     0.963505   0.023531        1.0        0.0   0.985662   0.955227   \n",
       "5     0.956203   0.035295        1.0        0.0   0.967743   0.955227   \n",
       "..         ...        ...        ...        ...        ...        ...   \n",
       "121   0.029198   0.911766        0.0        0.0   0.032259   0.044777   \n",
       "122   0.029198   0.923531        0.0        0.0   0.032259   0.044777   \n",
       "123   0.021896   1.000000        0.0        0.0   0.017921   0.029854   \n",
       "124   0.014599   0.994118        0.0        0.0   0.017921   0.029854   \n",
       "125   0.000000   0.982353        0.0        0.0   0.000000   0.000000   \n",
       "\n",
       "     var7(t-1)  var8(t-1)   var1(t)  \n",
       "1     1.000000   1.000000  0.992699  \n",
       "2     0.946667   1.000000  0.985401  \n",
       "3     0.946667   0.985663  0.963505  \n",
       "4     0.919998   0.985663  0.956203  \n",
       "5     0.959999   0.967742  0.948906  \n",
       "..         ...        ...       ...  \n",
       "121   0.026665   0.032258  0.029198  \n",
       "122   0.026665   0.032258  0.021896  \n",
       "123   0.026665   0.017921  0.014599  \n",
       "124   0.013332   0.017921  0.000000  \n",
       "125   0.053333   0.000000  0.000000  \n",
       "\n",
       "[125 rows x 9 columns]"
      ]
     },
     "execution_count": 5,
     "metadata": {},
     "output_type": "execute_result"
    }
   ],
   "source": [
    "dataset = read_csv('soh_1.csv', header=0, index_col=0)\n",
    "values = dataset.values\n",
    "# ensure all data is float\n",
    "values = values.astype('float32')\n",
    "# normalize features\n",
    "scaler = MinMaxScaler(feature_range=(0, 1))\n",
    "scaled = scaler.fit_transform(values)\n",
    "# frame as supervised learning\n",
    "reframed = series_to_supervised(scaled, 1, 1)\n",
    "# drop columns we don't want to predict\n",
    "reframed.drop(reframed.columns[[9,10,11,12,13,14,15]], axis=1, inplace=True)\n",
    "print(reframed.head())\n",
    "reframed\n"
   ]
  },
  {
   "cell_type": "code",
   "execution_count": 6,
   "metadata": {},
   "outputs": [
    {
     "name": "stdout",
     "output_type": "stream",
     "text": [
      "(100, 1, 8) (100,) (25, 1, 8) (25,)\n"
     ]
    }
   ],
   "source": [
    "# split into train and test sets\n",
    "values = reframed.values\n",
    "n_train_hours = 50*2\n",
    "train = values[:n_train_hours, :]\n",
    "test = values[n_train_hours:, :]\n",
    "# split into input and outputs\n",
    "train_X, train_y = train[:, :-1], train[:, -1]\n",
    "test_X, test_y = test[:, :-1], test[:, -1]\n",
    "# reshape input to be 3D [samples, timesteps, features]\n",
    "train_X = train_X.reshape((train_X.shape[0], 1, train_X.shape[1]))\n",
    "test_X = test_X.reshape((test_X.shape[0], 1, test_X.shape[1]))\n",
    "print(train_X.shape, train_y.shape, test_X.shape, test_y.shape)"
   ]
  },
  {
   "cell_type": "code",
   "execution_count": 7,
   "metadata": {},
   "outputs": [
    {
     "data": {
      "text/plain": [
       "(100,)"
      ]
     },
     "execution_count": 7,
     "metadata": {},
     "output_type": "execute_result"
    }
   ],
   "source": [
    "train_y.shape"
   ]
  },
  {
   "cell_type": "code",
   "execution_count": 8,
   "metadata": {},
   "outputs": [
    {
     "data": {
      "text/plain": [
       "(100, 1, 8)"
      ]
     },
     "execution_count": 8,
     "metadata": {},
     "output_type": "execute_result"
    }
   ],
   "source": [
    "train_X.shape\n"
   ]
  },
  {
   "cell_type": "code",
   "execution_count": 9,
   "metadata": {},
   "outputs": [],
   "source": [
    "model = Sequential()\n",
    "model.add(LSTM(6, return_sequences=False, input_shape=(train_X.shape[1], train_X.shape[2])))\n",
    "model.add(Dense(1, activation='linear'))"
   ]
  },
  {
   "cell_type": "code",
   "execution_count": 10,
   "metadata": {},
   "outputs": [],
   "source": [
    "def rmse_nn(y_true, y_pred):\n",
    "    from keras import backend\n",
    "    return backend.sqrt(backend.mean(backend.square(y_pred - y_true), axis=-1))\n",
    "\n",
    "def r_square_loss(y_true, y_pred):\n",
    "    from keras import backend as K\n",
    "    SS_res =  K.sum(K.square(y_true - y_pred)) \n",
    "    SS_tot = K.sum(K.square(y_true - K.mean(y_true))) \n",
    "    return 1 - ( 1 - SS_res/(SS_tot + K.epsilon()))"
   ]
  },
  {
   "cell_type": "code",
   "execution_count": 11,
   "metadata": {},
   "outputs": [
    {
     "name": "stdout",
     "output_type": "stream",
     "text": [
      "Model: \"sequential\"\n",
      "_________________________________________________________________\n",
      " Layer (type)                Output Shape              Param #   \n",
      "=================================================================\n",
      " lstm (LSTM)                 (None, 6)                 360       \n",
      "                                                                 \n",
      " dense (Dense)               (None, 1)                 7         \n",
      "                                                                 \n",
      "=================================================================\n",
      "Total params: 367\n",
      "Trainable params: 367\n",
      "Non-trainable params: 0\n",
      "_________________________________________________________________\n"
     ]
    }
   ],
   "source": [
    "model.compile(loss=rmse_nn, optimizer='sgd', metrics=[rmse_nn, r_square_loss])\n",
    "model.summary()"
   ]
  },
  {
   "cell_type": "code",
   "execution_count": 12,
   "metadata": {},
   "outputs": [
    {
     "name": "stdout",
     "output_type": "stream",
     "text": [
      "Epoch 1/20\n",
      "WARNING:tensorflow:AutoGraph could not transform <function Model.make_train_function.<locals>.train_function at 0x7f28805014d0> and will run it as-is.\n",
      "Please report this to the TensorFlow team. When filing the bug, set the verbosity to 10 (on Linux, `export AUTOGRAPH_VERBOSITY=10`) and attach the full output.\n",
      "Cause: 'arguments' object has no attribute 'posonlyargs'\n",
      "To silence this warning, decorate the function with @tf.autograph.experimental.do_not_convert\n"
     ]
    },
    {
     "name": "stderr",
     "output_type": "stream",
     "text": [
      "2022-05-20 08:35:14,728 - tensorflow - WARNING - AutoGraph could not transform <function Model.make_train_function.<locals>.train_function at 0x7f28805014d0> and will run it as-is.\n",
      "Please report this to the TensorFlow team. When filing the bug, set the verbosity to 10 (on Linux, `export AUTOGRAPH_VERBOSITY=10`) and attach the full output.\n",
      "Cause: 'arguments' object has no attribute 'posonlyargs'\n",
      "To silence this warning, decorate the function with @tf.autograph.experimental.do_not_convert\n"
     ]
    },
    {
     "name": "stdout",
     "output_type": "stream",
     "text": [
      "WARNING: AutoGraph could not transform <function Model.make_train_function.<locals>.train_function at 0x7f28805014d0> and will run it as-is.\n",
      "Please report this to the TensorFlow team. When filing the bug, set the verbosity to 10 (on Linux, `export AUTOGRAPH_VERBOSITY=10`) and attach the full output.\n",
      "Cause: 'arguments' object has no attribute 'posonlyargs'\n",
      "To silence this warning, decorate the function with @tf.autograph.experimental.do_not_convert\n",
      "WARNING:tensorflow:AutoGraph could not transform <function rmse_nn at 0x7f28805e33b0> and will run it as-is.\n",
      "Please report this to the TensorFlow team. When filing the bug, set the verbosity to 10 (on Linux, `export AUTOGRAPH_VERBOSITY=10`) and attach the full output.\n",
      "Cause: 'arguments' object has no attribute 'posonlyargs'\n",
      "To silence this warning, decorate the function with @tf.autograph.experimental.do_not_convert\n"
     ]
    },
    {
     "name": "stderr",
     "output_type": "stream",
     "text": [
      "2022-05-20 08:35:14,904 - tensorflow - WARNING - AutoGraph could not transform <function rmse_nn at 0x7f28805e33b0> and will run it as-is.\n",
      "Please report this to the TensorFlow team. When filing the bug, set the verbosity to 10 (on Linux, `export AUTOGRAPH_VERBOSITY=10`) and attach the full output.\n",
      "Cause: 'arguments' object has no attribute 'posonlyargs'\n",
      "To silence this warning, decorate the function with @tf.autograph.experimental.do_not_convert\n"
     ]
    },
    {
     "name": "stdout",
     "output_type": "stream",
     "text": [
      "WARNING: AutoGraph could not transform <function rmse_nn at 0x7f28805e33b0> and will run it as-is.\n",
      "Please report this to the TensorFlow team. When filing the bug, set the verbosity to 10 (on Linux, `export AUTOGRAPH_VERBOSITY=10`) and attach the full output.\n",
      "Cause: 'arguments' object has no attribute 'posonlyargs'\n",
      "To silence this warning, decorate the function with @tf.autograph.experimental.do_not_convert\n",
      "WARNING:tensorflow:AutoGraph could not transform <function r_square_loss at 0x7f28805e37a0> and will run it as-is.\n",
      "Please report this to the TensorFlow team. When filing the bug, set the verbosity to 10 (on Linux, `export AUTOGRAPH_VERBOSITY=10`) and attach the full output.\n",
      "Cause: 'arguments' object has no attribute 'posonlyargs'\n",
      "To silence this warning, decorate the function with @tf.autograph.experimental.do_not_convert\n"
     ]
    },
    {
     "name": "stderr",
     "output_type": "stream",
     "text": [
      "2022-05-20 08:35:15,150 - tensorflow - WARNING - AutoGraph could not transform <function r_square_loss at 0x7f28805e37a0> and will run it as-is.\n",
      "Please report this to the TensorFlow team. When filing the bug, set the verbosity to 10 (on Linux, `export AUTOGRAPH_VERBOSITY=10`) and attach the full output.\n",
      "Cause: 'arguments' object has no attribute 'posonlyargs'\n",
      "To silence this warning, decorate the function with @tf.autograph.experimental.do_not_convert\n"
     ]
    },
    {
     "name": "stdout",
     "output_type": "stream",
     "text": [
      "WARNING: AutoGraph could not transform <function r_square_loss at 0x7f28805e37a0> and will run it as-is.\n",
      "Please report this to the TensorFlow team. When filing the bug, set the verbosity to 10 (on Linux, `export AUTOGRAPH_VERBOSITY=10`) and attach the full output.\n",
      "Cause: 'arguments' object has no attribute 'posonlyargs'\n",
      "To silence this warning, decorate the function with @tf.autograph.experimental.do_not_convert\n",
      "1/2 [==============>...............] - ETA: 1s - loss: 0.6097 - rmse_nn: 0.6097 - r_square_loss: 11.0522WARNING:tensorflow:AutoGraph could not transform <function Model.make_test_function.<locals>.test_function at 0x7f28800afb90> and will run it as-is.\n",
      "Please report this to the TensorFlow team. When filing the bug, set the verbosity to 10 (on Linux, `export AUTOGRAPH_VERBOSITY=10`) and attach the full output.\n",
      "Cause: 'arguments' object has no attribute 'posonlyargs'\n",
      "To silence this warning, decorate the function with @tf.autograph.experimental.do_not_convert\n"
     ]
    },
    {
     "name": "stderr",
     "output_type": "stream",
     "text": [
      "2022-05-20 08:35:16,193 - tensorflow - WARNING - AutoGraph could not transform <function Model.make_test_function.<locals>.test_function at 0x7f28800afb90> and will run it as-is.\n",
      "Please report this to the TensorFlow team. When filing the bug, set the verbosity to 10 (on Linux, `export AUTOGRAPH_VERBOSITY=10`) and attach the full output.\n",
      "Cause: 'arguments' object has no attribute 'posonlyargs'\n",
      "To silence this warning, decorate the function with @tf.autograph.experimental.do_not_convert\n"
     ]
    },
    {
     "name": "stdout",
     "output_type": "stream",
     "text": [
      "WARNING: AutoGraph could not transform <function Model.make_test_function.<locals>.test_function at 0x7f28800afb90> and will run it as-is.\n",
      "Please report this to the TensorFlow team. When filing the bug, set the verbosity to 10 (on Linux, `export AUTOGRAPH_VERBOSITY=10`) and attach the full output.\n",
      "Cause: 'arguments' object has no attribute 'posonlyargs'\n",
      "To silence this warning, decorate the function with @tf.autograph.experimental.do_not_convert\n",
      "2/2 [==============================] - 2s 374ms/step - loss: 0.5904 - rmse_nn: 0.5904 - r_square_loss: 10.3346 - val_loss: 0.1530 - val_rmse_nn: 0.1530 - val_r_square_loss: 12.0683\n",
      "Epoch 2/20\n",
      "2/2 [==============================] - 0s 22ms/step - loss: 0.5618 - rmse_nn: 0.5618 - r_square_loss: 9.3762 - val_loss: 0.1274 - val_rmse_nn: 0.1274 - val_r_square_loss: 8.6411\n",
      "Epoch 3/20\n",
      "2/2 [==============================] - 0s 26ms/step - loss: 0.5333 - rmse_nn: 0.5333 - r_square_loss: 8.6995 - val_loss: 0.1018 - val_rmse_nn: 0.1018 - val_r_square_loss: 5.8380\n",
      "Epoch 4/20\n",
      "2/2 [==============================] - 0s 23ms/step - loss: 0.5048 - rmse_nn: 0.5048 - r_square_loss: 8.0248 - val_loss: 0.0766 - val_rmse_nn: 0.0766 - val_r_square_loss: 3.6549\n",
      "Epoch 5/20\n",
      "2/2 [==============================] - 0s 25ms/step - loss: 0.4763 - rmse_nn: 0.4763 - r_square_loss: 7.2071 - val_loss: 0.0573 - val_rmse_nn: 0.0573 - val_r_square_loss: 2.0949\n",
      "Epoch 6/20\n",
      "2/2 [==============================] - 0s 22ms/step - loss: 0.4477 - rmse_nn: 0.4477 - r_square_loss: 6.5789 - val_loss: 0.0431 - val_rmse_nn: 0.0431 - val_r_square_loss: 1.1573\n",
      "Epoch 7/20\n",
      "2/2 [==============================] - 0s 23ms/step - loss: 0.4191 - rmse_nn: 0.4191 - r_square_loss: 6.1315 - val_loss: 0.0362 - val_rmse_nn: 0.0362 - val_r_square_loss: 0.8427\n",
      "Epoch 8/20\n",
      "2/2 [==============================] - 0s 22ms/step - loss: 0.3905 - rmse_nn: 0.3905 - r_square_loss: 5.5199 - val_loss: 0.0383 - val_rmse_nn: 0.0383 - val_r_square_loss: 1.1531\n",
      "Epoch 9/20\n",
      "2/2 [==============================] - 0s 22ms/step - loss: 0.3620 - rmse_nn: 0.3620 - r_square_loss: 4.5284 - val_loss: 0.0525 - val_rmse_nn: 0.0525 - val_r_square_loss: 2.0888\n",
      "Epoch 10/20\n",
      "2/2 [==============================] - 0s 23ms/step - loss: 0.3334 - rmse_nn: 0.3334 - r_square_loss: 3.9933 - val_loss: 0.0774 - val_rmse_nn: 0.0774 - val_r_square_loss: 3.6497\n",
      "Epoch 11/20\n",
      "2/2 [==============================] - 0s 22ms/step - loss: 0.3059 - rmse_nn: 0.3059 - r_square_loss: 3.3746 - val_loss: 0.1009 - val_rmse_nn: 0.1009 - val_r_square_loss: 5.6259\n",
      "Epoch 12/20\n",
      "2/2 [==============================] - 0s 23ms/step - loss: 0.2825 - rmse_nn: 0.2825 - r_square_loss: 3.1540 - val_loss: 0.1225 - val_rmse_nn: 0.1225 - val_r_square_loss: 7.9072\n",
      "Epoch 13/20\n",
      "2/2 [==============================] - 0s 21ms/step - loss: 0.2619 - rmse_nn: 0.2619 - r_square_loss: 2.9989 - val_loss: 0.1434 - val_rmse_nn: 0.1434 - val_r_square_loss: 10.5431\n",
      "Epoch 14/20\n",
      "2/2 [==============================] - 0s 36ms/step - loss: 0.2434 - rmse_nn: 0.2434 - r_square_loss: 2.3695 - val_loss: 0.1621 - val_rmse_nn: 0.1621 - val_r_square_loss: 13.2529\n",
      "Epoch 15/20\n",
      "2/2 [==============================] - 0s 23ms/step - loss: 0.2287 - rmse_nn: 0.2287 - r_square_loss: 2.1109 - val_loss: 0.1776 - val_rmse_nn: 0.1776 - val_r_square_loss: 15.7466\n",
      "Epoch 16/20\n",
      "2/2 [==============================] - 0s 21ms/step - loss: 0.2168 - rmse_nn: 0.2168 - r_square_loss: 1.9187 - val_loss: 0.1914 - val_rmse_nn: 0.1914 - val_r_square_loss: 18.1564\n",
      "Epoch 17/20\n",
      "2/2 [==============================] - 0s 19ms/step - loss: 0.2077 - rmse_nn: 0.2077 - r_square_loss: 1.7465 - val_loss: 0.2043 - val_rmse_nn: 0.2043 - val_r_square_loss: 20.5813\n",
      "Epoch 18/20\n",
      "2/2 [==============================] - 0s 19ms/step - loss: 0.1996 - rmse_nn: 0.1996 - r_square_loss: 1.6359 - val_loss: 0.2166 - val_rmse_nn: 0.2166 - val_r_square_loss: 23.0260\n",
      "Epoch 19/20\n",
      "2/2 [==============================] - 0s 18ms/step - loss: 0.1910 - rmse_nn: 0.1910 - r_square_loss: 1.4677 - val_loss: 0.2302 - val_rmse_nn: 0.2302 - val_r_square_loss: 25.9148\n",
      "Epoch 20/20\n",
      "2/2 [==============================] - 0s 18ms/step - loss: 0.1826 - rmse_nn: 0.1826 - r_square_loss: 1.4244 - val_loss: 0.2416 - val_rmse_nn: 0.2416 - val_r_square_loss: 28.4631\n"
     ]
    }
   ],
   "source": [
    "historyNN = model.fit(train_X, train_y, batch_size=50, epochs=20, validation_split = 0.2)"
   ]
  },
  {
   "cell_type": "code",
   "execution_count": 13,
   "metadata": {},
   "outputs": [
    {
     "data": {
      "image/png": "[encoded data removed]",
      "text/plain": [
       "<Figure size 432x288 with 1 Axes>"
      ]
     },
     "metadata": {
      "needs_background": "light"
     },
     "output_type": "display_data"
    }
   ],
   "source": [
    "plt.plot(historyNN.history['loss'])\n",
    "plt.plot(historyNN.history['val_loss'])\n",
    "plt.title('Model Loss Plot')\n",
    "plt.ylabel('Loss')\n",
    "plt.xlabel('Epoch')\n",
    "plt.legend(['Train', 'Validation'], loc='upper left')\n",
    "plt.show()"
   ]
  },
  {
   "cell_type": "code",
   "execution_count": 14,
   "metadata": {},
   "outputs": [
    {
     "name": "stdout",
     "output_type": "stream",
     "text": [
      "1/1 [==============================] - 0s 14ms/step - loss: 0.3797 - rmse_nn: 0.3797 - r_square_loss: 45.1253\n"
     ]
    }
   ],
   "source": [
    "lossNN = model.evaluate(test_X, test_y)"
   ]
  },
  {
   "cell_type": "code",
   "execution_count": 15,
   "metadata": {},
   "outputs": [
    {
     "name": "stdout",
     "output_type": "stream",
     "text": [
      "The loss output for test dataset is: 0.379659\n"
     ]
    }
   ],
   "source": [
    "print('The loss output for test dataset is: %f' % lossNN[0])"
   ]
  },
  {
   "cell_type": "code",
   "execution_count": 16,
   "metadata": {},
   "outputs": [
    {
     "name": "stdout",
     "output_type": "stream",
     "text": [
      "WARNING:tensorflow:AutoGraph could not transform <function Model.make_predict_function.<locals>.predict_function at 0x7f2864f897a0> and will run it as-is.\n",
      "Please report this to the TensorFlow team. When filing the bug, set the verbosity to 10 (on Linux, `export AUTOGRAPH_VERBOSITY=10`) and attach the full output.\n",
      "Cause: 'arguments' object has no attribute 'posonlyargs'\n",
      "To silence this warning, decorate the function with @tf.autograph.experimental.do_not_convert\n"
     ]
    },
    {
     "name": "stderr",
     "output_type": "stream",
     "text": [
      "2022-05-20 08:35:17,901 - tensorflow - WARNING - AutoGraph could not transform <function Model.make_predict_function.<locals>.predict_function at 0x7f2864f897a0> and will run it as-is.\n",
      "Please report this to the TensorFlow team. When filing the bug, set the verbosity to 10 (on Linux, `export AUTOGRAPH_VERBOSITY=10`) and attach the full output.\n",
      "Cause: 'arguments' object has no attribute 'posonlyargs'\n",
      "To silence this warning, decorate the function with @tf.autograph.experimental.do_not_convert\n"
     ]
    },
    {
     "name": "stdout",
     "output_type": "stream",
     "text": [
      "WARNING: AutoGraph could not transform <function Model.make_predict_function.<locals>.predict_function at 0x7f2864f897a0> and will run it as-is.\n",
      "Please report this to the TensorFlow team. When filing the bug, set the verbosity to 10 (on Linux, `export AUTOGRAPH_VERBOSITY=10`) and attach the full output.\n",
      "Cause: 'arguments' object has no attribute 'posonlyargs'\n",
      "To silence this warning, decorate the function with @tf.autograph.experimental.do_not_convert\n"
     ]
    }
   ],
   "source": [
    "predictY = model.predict(test_X)"
   ]
  },
  {
   "cell_type": "code",
   "execution_count": 17,
   "metadata": {},
   "outputs": [
    {
     "data": {
      "image/png": "[encoded data removed]",
      "text/plain": [
       "<Figure size 432x288 with 1 Axes>"
      ]
     },
     "metadata": {
      "needs_background": "light"
     },
     "output_type": "display_data"
    }
   ],
   "source": [
    "time = np.arange(predictY.shape[0])\n",
    "\n",
    "plt.plot(time, predictY, test_y)\n",
    "plt.xlabel('time')\n",
    "plt.ylabel('amplitude')\n",
    "plt.show()"
   ]
  },
  {
   "cell_type": "markdown",
   "metadata": {},
   "source": [
    "#Neural_Network using GA"
   ]
  },
  {
   "cell_type": "code",
   "execution_count": 18,
   "metadata": {},
   "outputs": [],
   "source": [
    "modelGA = Sequential()\n",
    "modelGA.add(LSTM(6, return_sequences=False, input_shape=(train_X.shape[1], train_X.shape[2]), name='layer_1'))\n",
    "modelGA.add(Dense(1, activation='linear', name='layer_2'))"
   ]
  },
  {
   "cell_type": "code",
   "execution_count": 19,
   "metadata": {},
   "outputs": [
    {
     "name": "stdout",
     "output_type": "stream",
     "text": [
      "Model: \"sequential_1\"\n",
      "_________________________________________________________________\n",
      " Layer (type)                Output Shape              Param #   \n",
      "=================================================================\n",
      " layer_1 (LSTM)              (None, 6)                 360       \n",
      "                                                                 \n",
      " layer_2 (Dense)             (None, 1)                 7         \n",
      "                                                                 \n",
      "=================================================================\n",
      "Total params: 367\n",
      "Trainable params: 367\n",
      "Non-trainable params: 0\n",
      "_________________________________________________________________\n"
     ]
    }
   ],
   "source": [
    "modelGA.compile(loss=\"mean_squared_error\", optimizer='sgd', metrics=[\"mean_squared_error\", r_square_loss])\n",
    "modelGA.summary()"
   ]
  },
  {
   "cell_type": "code",
   "execution_count": 20,
   "metadata": {},
   "outputs": [],
   "source": [
    "def rmse(y_true, y_pred):\n",
    "    return np.sqrt(np.mean(np.square(y_pred - y_true), axis=-1))"
   ]
  },
  {
   "cell_type": "code",
   "execution_count": 21,
   "metadata": {},
   "outputs": [],
   "source": [
    "def getFitness(params):\n",
    "    layer_1 = modelGA.get_layer('layer_1').get_weights()\n",
    "    layer_2 = modelGA.get_layer('layer_2').get_weights()\n",
    "    \n",
    "    layer1_W1_shape = (layer_1[0].shape[0] * layer_1[0].shape[1])\n",
    "    layer1_W2_shape = layer1_W1_shape + (layer_1[1].shape[0] * layer_1[1].shape[1])\n",
    "    layer1_B_shape = layer1_W2_shape + (layer_1[2].shape[0])\n",
    "    layer2_W_shape = layer1_B_shape + (layer_2[0].shape[0] * layer_2[0].shape[1])\n",
    "    layer2_B_shape = layer2_W_shape + (layer_2[1].shape[0])\n",
    "\n",
    "    layer1_W1 = params[0:layer1_W1_shape].reshape(layer_1[0].shape)\n",
    "    layer1_W2 = params[layer1_W1_shape:layer1_W2_shape].reshape(layer_1[1].shape)\n",
    "    layer1_B = params[layer1_W2_shape:layer1_B_shape].reshape(layer_1[2].shape)\n",
    "    layer2_W = params[layer1_B_shape:layer2_W_shape].reshape(layer_2[0].shape)\n",
    "    layer2_B = params[layer2_W_shape:layer2_B_shape].reshape(layer_2[1].shape)\n",
    "    \n",
    "    modelGA.get_layer('layer_1').set_weights([layer1_W1, layer1_W2, layer1_B])\n",
    "    modelGA.get_layer('layer_2').set_weights([layer2_W, layer2_B])\n",
    "    \n",
    "    predY = modelGA.predict(train_X)\n",
    "    loss = rmse(train_y.reshape(train_y.shape[0]), predY.reshape(train_y.shape[0]))\n",
    "    return loss"
   ]
  },
  {
   "cell_type": "code",
   "execution_count": 22,
   "metadata": {},
   "outputs": [],
   "source": [
    "def f(params):\n",
    "    print('Number of particles: %d' % params.shape[0])\n",
    "    losses = np.array([getFitness(params[i]) for i in range(params.shape[0])])\n",
    "    print('List of losses for all particles')\n",
    "    print(losses)\n",
    "    return losses"
   ]
  },
  {
   "cell_type": "markdown",
   "metadata": {},
   "source": [
    "PySwarm Algorithm"
   ]
  },
  {
   "cell_type": "code",
   "execution_count": 23,
   "metadata": {},
   "outputs": [
    {
     "name": "stderr",
     "output_type": "stream",
     "text": [
      "2022-05-20 08:35:19,364 - pyswarms.single.global_best - INFO - Optimize for 50 iters with {'c1': 0.1, 'c2': 0.9, 'w': 0.9}\n",
      "pyswarms.single.global_best:   0%|          |0/50"
     ]
    },
    {
     "name": "stdout",
     "output_type": "stream",
     "text": [
      "Number of params in Neural Network: 535\n",
      "Number of particles: 20\n",
      "WARNING:tensorflow:AutoGraph could not transform <function Model.make_predict_function.<locals>.predict_function at 0x7f2864ff3710> and will run it as-is.\n",
      "Please report this to the TensorFlow team. When filing the bug, set the verbosity to 10 (on Linux, `export AUTOGRAPH_VERBOSITY=10`) and attach the full output.\n",
      "Cause: 'arguments' object has no attribute 'posonlyargs'\n",
      "To silence this warning, decorate the function with @tf.autograph.experimental.do_not_convert\n"
     ]
    },
    {
     "name": "stderr",
     "output_type": "stream",
     "text": [
      "2022-05-20 08:35:19,415 - tensorflow - WARNING - AutoGraph could not transform <function Model.make_predict_function.<locals>.predict_function at 0x7f2864ff3710> and will run it as-is.\n",
      "Please report this to the TensorFlow team. When filing the bug, set the verbosity to 10 (on Linux, `export AUTOGRAPH_VERBOSITY=10`) and attach the full output.\n",
      "Cause: 'arguments' object has no attribute 'posonlyargs'\n",
      "To silence this warning, decorate the function with @tf.autograph.experimental.do_not_convert\n"
     ]
    },
    {
     "name": "stdout",
     "output_type": "stream",
     "text": [
      "WARNING: AutoGraph could not transform <function Model.make_predict_function.<locals>.predict_function at 0x7f2864ff3710> and will run it as-is.\n",
      "Please report this to the TensorFlow team. When filing the bug, set the verbosity to 10 (on Linux, `export AUTOGRAPH_VERBOSITY=10`) and attach the full output.\n",
      "Cause: 'arguments' object has no attribute 'posonlyargs'\n",
      "To silence this warning, decorate the function with @tf.autograph.experimental.do_not_convert\n"
     ]
    },
    {
     "name": "stderr",
     "output_type": "stream",
     "text": [
      "pyswarms.single.global_best:   2%|▏         |1/50, best_cost=0.997"
     ]
    },
    {
     "name": "stdout",
     "output_type": "stream",
     "text": [
      "List of losses for all particles\n",
      "[2.8898544  1.3307842  1.7487775  2.096052   0.99659264 1.8632871\n",
      " 1.4207209  1.901852   1.7536601  1.63184    3.0326118  1.3564786\n",
      " 2.0657344  3.6322749  2.1239421  2.5487216  1.6881683  1.7854785\n",
      " 2.4451015  2.632388  ]\n",
      "Number of particles: 20\n"
     ]
    },
    {
     "name": "stderr",
     "output_type": "stream",
     "text": [
      "pyswarms.single.global_best:   4%|▍         |2/50, best_cost=0.997"
     ]
    },
    {
     "name": "stdout",
     "output_type": "stream",
     "text": [
      "List of losses for all particles\n",
      "[4.805736  3.2058783 3.6542323 4.439591  3.76751   4.3097806 3.4968622\n",
      " 4.470379  3.7705393 5.121679  5.2907224 4.9043636 4.373863  5.9429507\n",
      " 4.8704214 5.855448  3.920084  3.890693  3.6716268 4.3645563]\n",
      "Number of particles: 20\n"
     ]
    },
    {
     "name": "stderr",
     "output_type": "stream",
     "text": [
      "pyswarms.single.global_best:   6%|▌         |3/50, best_cost=0.997"
     ]
    },
    {
     "name": "stdout",
     "output_type": "stream",
     "text": [
      "List of losses for all particles\n",
      "[4.450275  3.9302328 4.0493355 5.118757  5.574268  5.1755953 4.8038015\n",
      " 5.141815  4.805845  5.63536   5.1470895 5.600377  5.5496078 4.5415487\n",
      " 5.180277  6.674686  4.01402   4.5110126 3.3322554 3.5473313]\n",
      "Number of particles: 20\n"
     ]
    },
    {
     "name": "stderr",
     "output_type": "stream",
     "text": [
      "pyswarms.single.global_best:   8%|▊         |4/50, best_cost=0.997"
     ]
    },
    {
     "name": "stdout",
     "output_type": "stream",
     "text": [
      "List of losses for all particles\n",
      "[2.4126973 2.7822497 2.929577  4.509616  4.7884083 3.4396055 4.699814\n",
      " 3.5146601 3.778072  4.1248155 3.6995404 3.1313624 4.6396937 1.3247263\n",
      " 3.3248045 4.339237  2.4656339 3.4595327 1.8499321 1.3851538]\n",
      "Number of particles: 20\n"
     ]
    },
    {
     "name": "stderr",
     "output_type": "stream",
     "text": [
      "pyswarms.single.global_best:  10%|█         |5/50, best_cost=0.156"
     ]
    },
    {
     "name": "stdout",
     "output_type": "stream",
     "text": [
      "List of losses for all particles\n",
      "[0.25499296 1.0961226  1.1753341  1.980362   2.1989405  0.5867288\n",
      " 2.0116634  0.46490678 1.4787031  1.0890877  1.0008725  0.2948994\n",
      " 1.8971728  1.4965415  0.39384377 0.6068401  0.18821165 1.3809476\n",
      " 0.15573056 0.8085722 ]\n",
      "Number of particles: 20\n"
     ]
    },
    {
     "name": "stderr",
     "output_type": "stream",
     "text": [
      "pyswarms.single.global_best:  12%|█▏        |6/50, best_cost=0.156"
     ]
    },
    {
     "name": "stdout",
     "output_type": "stream",
     "text": [
      "List of losses for all particles\n",
      "[1.4063568  0.46718594 0.5140047  1.2022244  1.4604683  1.9474788\n",
      " 0.9138276  1.9070101  1.4636154  2.2896101  2.0181012  2.2612996\n",
      " 0.93115985 2.3716302  1.4158708  2.3520465  1.77669    0.77409124\n",
      " 1.2935271  1.6628835 ]\n",
      "Number of particles: 20\n"
     ]
    },
    {
     "name": "stderr",
     "output_type": "stream",
     "text": [
      "pyswarms.single.global_best:  14%|█▍        |7/50, best_cost=0.156"
     ]
    },
    {
     "name": "stdout",
     "output_type": "stream",
     "text": [
      "List of losses for all particles\n",
      "[2.0977979  1.5193459  0.9287153  1.8936584  2.6546578  2.2207274\n",
      " 1.8641301  1.8002313  0.89109004 1.628744   3.2837589  2.2242455\n",
      " 1.7281469  1.8934635  1.3681148  3.1218047  1.4024954  2.4502153\n",
      " 1.0429296  0.8858788 ]\n",
      "Number of particles: 20\n"
     ]
    },
    {
     "name": "stderr",
     "output_type": "stream",
     "text": [
      "pyswarms.single.global_best:  16%|█▌        |8/50, best_cost=0.156"
     ]
    },
    {
     "name": "stdout",
     "output_type": "stream",
     "text": [
      "List of losses for all particles\n",
      "[2.4181712  1.5670973  1.0799176  1.6726427  2.87785    2.8524895\n",
      " 2.3847857  0.95980245 0.4995506  1.371388   3.2326472  3.1278274\n",
      " 1.9837282  1.5017674  1.2182248  2.5768404  0.72910464 2.4197755\n",
      " 1.0656946  0.41800824]\n",
      "Number of particles: 20\n"
     ]
    },
    {
     "name": "stderr",
     "output_type": "stream",
     "text": [
      "pyswarms.single.global_best:  18%|█▊        |9/50, best_cost=0.156"
     ]
    },
    {
     "name": "stdout",
     "output_type": "stream",
     "text": [
      "List of losses for all particles\n",
      "[1.1450244  1.4174035  1.4865386  0.85822564 1.799862   1.6581764\n",
      " 2.728218   0.33143476 0.9763646  0.69567966 2.2652817  1.404245\n",
      " 1.1675676  1.0400758  2.3199532  0.6870461  0.29451892 0.53728193\n",
      " 0.18236326 0.61173964]\n",
      "Number of particles: 20\n"
     ]
    },
    {
     "name": "stderr",
     "output_type": "stream",
     "text": [
      "pyswarms.single.global_best:  20%|██        |10/50, best_cost=0.156"
     ]
    },
    {
     "name": "stdout",
     "output_type": "stream",
     "text": [
      "List of losses for all particles\n",
      "[1.1471606  0.20542715 0.28670067 1.0056864  0.66986084 0.59631574\n",
      " 0.546567   2.217758   0.4090968  1.4564595  0.267463   1.5964853\n",
      " 0.37430418 3.030985   0.35049886 4.1195645  2.674922   1.4847157\n",
      " 1.2391392  1.6234322 ]\n",
      "Number of particles: 20\n"
     ]
    },
    {
     "name": "stderr",
     "output_type": "stream",
     "text": [
      "pyswarms.single.global_best:  22%|██▏       |11/50, best_cost=0.156"
     ]
    },
    {
     "name": "stdout",
     "output_type": "stream",
     "text": [
      "List of losses for all particles\n",
      "[2.6725693 1.6650165 1.8520875 2.2292447 2.7911596 2.627597  2.4894807\n",
      " 2.4081693 0.9077648 3.1145895 2.409367  3.766909  2.272803  3.6895342\n",
      " 2.832916  4.7496557 3.3014543 2.1001089 1.7370355 1.9960207]\n",
      "Number of particles: 20\n"
     ]
    },
    {
     "name": "stderr",
     "output_type": "stream",
     "text": [
      "pyswarms.single.global_best:  24%|██▍       |12/50, best_cost=0.156"
     ]
    },
    {
     "name": "stdout",
     "output_type": "stream",
     "text": [
      "List of losses for all particles\n",
      "[3.4663408 2.276493  2.730969  1.3666838 3.685065  3.5629976 3.836666\n",
      " 1.3680487 1.5903528 2.4782584 3.0262482 4.2984242 2.745393  2.7219188\n",
      " 3.906069  3.0911484 1.707761  1.720184  1.0453824 0.9591571]\n",
      "Number of particles: 20\n"
     ]
    },
    {
     "name": "stderr",
     "output_type": "stream",
     "text": [
      "pyswarms.single.global_best:  26%|██▌       |13/50, best_cost=0.156"
     ]
    },
    {
     "name": "stdout",
     "output_type": "stream",
     "text": [
      "List of losses for all particles\n",
      "[2.3032796  1.4991082  2.349096   0.21819957 2.6004372  2.5345259\n",
      " 2.598214   0.38308463 1.102018   0.8730773  1.7308224  2.7322464\n",
      " 1.8445094  0.44833568 2.656767   0.23444948 0.8388871  0.76303273\n",
      " 0.27397645 0.7268486 ]\n",
      "Number of particles: 20\n"
     ]
    },
    {
     "name": "stderr",
     "output_type": "stream",
     "text": [
      "pyswarms.single.global_best:  28%|██▊       |14/50, best_cost=0.141"
     ]
    },
    {
     "name": "stdout",
     "output_type": "stream",
     "text": [
      "List of losses for all particles\n",
      "[0.3439135  0.20370129 1.4030248  1.2498031  0.31664178 0.301905\n",
      " 0.2628168  1.6324483  0.14110632 1.6365567  0.35347447 0.36776748\n",
      " 0.32981923 1.5592723  0.51241964 2.4440987  1.6638141  0.8208812\n",
      " 1.0182878  1.6473244 ]\n",
      "Number of particles: 20\n"
     ]
    },
    {
     "name": "stderr",
     "output_type": "stream",
     "text": [
      "pyswarms.single.global_best:  30%|███       |15/50, best_cost=0.141"
     ]
    },
    {
     "name": "stdout",
     "output_type": "stream",
     "text": [
      "List of losses for all particles\n",
      "[1.8708062  1.3443426  0.17123082 2.5052319  2.0939693  2.497807\n",
      " 1.4278564  1.9170104  0.83906895 1.3773565  1.6267647  2.6092913\n",
      " 0.9248977  2.5326855  2.252528   2.7784393  1.1820322  2.0074496\n",
      " 1.2902921  1.3688557 ]\n",
      "Number of particles: 20\n"
     ]
    },
    {
     "name": "stderr",
     "output_type": "stream",
     "text": [
      "pyswarms.single.global_best:  32%|███▏      |16/50, best_cost=0.141"
     ]
    },
    {
     "name": "stdout",
     "output_type": "stream",
     "text": [
      "List of losses for all particles\n",
      "[1.8307512  2.2115078  0.45257917 2.4844186  2.974185   2.8337045\n",
      " 1.6235955  1.401675   0.8749362  1.2338196  1.7528197  4.5108814\n",
      " 1.8153187  2.1601355  2.928358   2.5149019  0.87906003 2.8333714\n",
      " 0.57861096 0.54153705]\n",
      "Number of particles: 20\n"
     ]
    },
    {
     "name": "stderr",
     "output_type": "stream",
     "text": [
      "pyswarms.single.global_best:  34%|███▍      |17/50, best_cost=0.141"
     ]
    },
    {
     "name": "stdout",
     "output_type": "stream",
     "text": [
      "List of losses for all particles\n",
      "[1.6393657  1.7362428  0.62460166 0.43683505 2.1272533  1.6735517\n",
      " 1.260409   0.2896139  0.98518586 0.8811029  2.1679099  3.0558424\n",
      " 1.3553334  0.84742963 1.8237054  0.6578413  0.34493265 1.9400675\n",
      " 0.37551773 1.4263407 ]\n",
      "Number of particles: 20\n"
     ]
    },
    {
     "name": "stderr",
     "output_type": "stream",
     "text": [
      "pyswarms.single.global_best:  36%|███▌      |18/50, best_cost=0.141"
     ]
    },
    {
     "name": "stdout",
     "output_type": "stream",
     "text": [
      "List of losses for all particles\n",
      "[1.2846602  0.5221572  0.8531363  1.4949684  1.405146   0.32177517\n",
      " 0.6261338  1.0715449  0.47261316 0.82497555 1.0440806  0.8902324\n",
      " 0.74725777 0.72760904 0.9373332  2.1661968  1.243848   0.96915585\n",
      " 0.665536   2.190565  ]\n",
      "Number of particles: 20\n"
     ]
    },
    {
     "name": "stderr",
     "output_type": "stream",
     "text": [
      "pyswarms.single.global_best:  38%|███▊      |19/50, best_cost=0.141"
     ]
    },
    {
     "name": "stdout",
     "output_type": "stream",
     "text": [
      "List of losses for all particles\n",
      "[0.5553167  0.87623847 0.42307162 1.0202726  0.65355843 1.4108853\n",
      " 0.44297963 1.8278724  0.46185154 1.5249312  0.5019498  2.2547207\n",
      " 0.34845653 1.9417461  2.7890973  2.8043182  2.0639946  0.58951175\n",
      " 1.7191894  1.5865066 ]\n",
      "Number of particles: 20\n"
     ]
    },
    {
     "name": "stderr",
     "output_type": "stream",
     "text": [
      "pyswarms.single.global_best:  40%|████      |20/50, best_cost=0.141"
     ]
    },
    {
     "name": "stdout",
     "output_type": "stream",
     "text": [
      "List of losses for all particles\n",
      "[2.3274567  1.8991569  0.4887962  0.5557275  2.0620694  2.5397832\n",
      " 0.86584514 1.2719035  1.051294   1.5871894  1.1730874  3.9110444\n",
      " 0.71355236 2.1640933  3.998175   1.625512   1.4528633  1.1977253\n",
      " 1.8911349  0.50172925]\n",
      "Number of particles: 20\n"
     ]
    },
    {
     "name": "stderr",
     "output_type": "stream",
     "text": [
      "pyswarms.single.global_best:  42%|████▏     |21/50, best_cost=0.141"
     ]
    },
    {
     "name": "stdout",
     "output_type": "stream",
     "text": [
      "List of losses for all particles\n",
      "[2.8016238  1.4240178  1.2616522  0.22419839 3.1275535  2.343787\n",
      " 0.47830588 0.2758477  0.8255785  0.67828697 0.87709486 3.6130543\n",
      " 0.93607396 1.528223   2.9046843  0.23202558 0.56081986 0.6809759\n",
      " 1.5637883  0.66468096]\n",
      "Number of particles: 20\n"
     ]
    },
    {
     "name": "stderr",
     "output_type": "stream",
     "text": [
      "pyswarms.single.global_best:  44%|████▍     |22/50, best_cost=0.141"
     ]
    },
    {
     "name": "stdout",
     "output_type": "stream",
     "text": [
      "List of losses for all particles\n",
      "[2.8633645  0.26060227 1.326698   0.5344559  2.2660508  0.6721929\n",
      " 0.4022988  0.8521333  0.17702815 1.221411   0.32351518 1.073604\n",
      " 0.44133317 0.28997093 0.5469814  1.0087088  0.286169   0.23064485\n",
      " 0.6653214  1.3051897 ]\n",
      "Number of particles: 20\n"
     ]
    },
    {
     "name": "stderr",
     "output_type": "stream",
     "text": [
      "pyswarms.single.global_best:  46%|████▌     |23/50, best_cost=0.114"
     ]
    },
    {
     "name": "stdout",
     "output_type": "stream",
     "text": [
      "List of losses for all particles\n",
      "[1.7600935  0.9231797  0.80536807 1.5062169  0.11420062 1.1258463\n",
      " 0.96848613 1.3660662  0.57625204 1.0777273  0.15334964 1.3403206\n",
      " 0.31901437 0.9690502  2.4340801  1.6423347  0.4385233  0.7948823\n",
      " 0.68376034 1.2483646 ]\n",
      "Number of particles: 20\n"
     ]
    },
    {
     "name": "stderr",
     "output_type": "stream",
     "text": [
      "pyswarms.single.global_best:  48%|████▊     |24/50, best_cost=0.114"
     ]
    },
    {
     "name": "stdout",
     "output_type": "stream",
     "text": [
      "List of losses for all particles\n",
      "[1.0114232  1.1188096  0.40792426 1.8435739  1.808494   1.5277178\n",
      " 1.0960788  0.94986296 1.0531728  0.84965485 0.66933656 3.1439252\n",
      " 0.7729738  0.7808334  1.4616845  1.5566367  0.39610457 1.4994882\n",
      " 1.6493886  1.3026401 ]\n",
      "Number of particles: 20\n"
     ]
    },
    {
     "name": "stderr",
     "output_type": "stream",
     "text": [
      "pyswarms.single.global_best:  50%|█████     |25/50, best_cost=0.114"
     ]
    },
    {
     "name": "stdout",
     "output_type": "stream",
     "text": [
      "List of losses for all particles\n",
      "[0.28322792 0.8152334  0.15704143 1.2439258  2.3226807  1.7817008\n",
      " 0.84986764 0.51739895 1.2169315  0.46689516 0.23923469 3.4138365\n",
      " 1.0038158  1.1316681  1.0670828  1.6709356  1.0604783  1.8288668\n",
      " 1.7263867  1.3860339 ]\n",
      "Number of particles: 20\n"
     ]
    },
    {
     "name": "stderr",
     "output_type": "stream",
     "text": [
      "pyswarms.single.global_best:  52%|█████▏    |26/50, best_cost=0.114"
     ]
    },
    {
     "name": "stdout",
     "output_type": "stream",
     "text": [
      "List of losses for all particles\n",
      "[0.8077718  0.17218961 0.37142357 0.1750679  2.5715246  0.45546767\n",
      " 0.6552893  0.19376622 0.65605515 0.22585702 1.1459213  1.4003192\n",
      " 0.6852229  0.41929206 0.43462837 1.2434682  0.9879858  1.507853\n",
      " 0.9468527  0.39628348]\n",
      "Number of particles: 20\n"
     ]
    },
    {
     "name": "stderr",
     "output_type": "stream",
     "text": [
      "pyswarms.single.global_best:  54%|█████▍    |27/50, best_cost=0.114"
     ]
    },
    {
     "name": "stdout",
     "output_type": "stream",
     "text": [
      "List of losses for all particles\n",
      "[1.0420657  0.35463092 0.6273022  0.7404667  1.5039912  0.9840424\n",
      " 0.43795276 0.5723917  0.20113003 0.42612883 1.3079143  1.2680275\n",
      " 0.13848849 1.0615402  2.0566778  0.47631323 0.26354548 0.48968956\n",
      " 0.5629149  0.6668469 ]\n",
      "Number of particles: 20\n"
     ]
    },
    {
     "name": "stderr",
     "output_type": "stream",
     "text": [
      "pyswarms.single.global_best:  56%|█████▌    |28/50, best_cost=0.114"
     ]
    },
    {
     "name": "stdout",
     "output_type": "stream",
     "text": [
      "List of losses for all particles\n",
      "[0.75548446 0.73751175 0.22978936 1.2331464  0.3083637  1.795817\n",
      " 0.14514175 0.8287484  0.79138726 0.54435474 0.76603293 3.4091654\n",
      " 0.84966815 1.7709935  3.2415452  1.0040619  0.5697164  1.6752647\n",
      " 1.5460558  0.96787965]\n",
      "Number of particles: 20\n"
     ]
    },
    {
     "name": "stderr",
     "output_type": "stream",
     "text": [
      "pyswarms.single.global_best:  58%|█████▊    |29/50, best_cost=0.114"
     ]
    },
    {
     "name": "stdout",
     "output_type": "stream",
     "text": [
      "List of losses for all particles\n",
      "[0.266729   1.1779959  0.22778402 0.8343691  1.6011629  2.2109866\n",
      " 0.94496053 0.67388886 1.3634676  1.0704656  0.48186934 3.8863235\n",
      " 1.02434    1.3382779  1.8900553  1.5773352  0.55640125 1.9308355\n",
      " 1.3730574  0.5377346 ]\n",
      "Number of particles: 20\n"
     ]
    },
    {
     "name": "stderr",
     "output_type": "stream",
     "text": [
      "pyswarms.single.global_best:  60%|██████    |30/50, best_cost=0.0633"
     ]
    },
    {
     "name": "stdout",
     "output_type": "stream",
     "text": [
      "List of losses for all particles\n",
      "[0.06332538 0.6578463  0.60042703 0.3019409  2.0951412  1.4177153\n",
      " 1.1432159  0.11591268 1.1009853  0.7749152  0.8106161  2.701324\n",
      " 0.80785143 0.110306   0.604032   1.2868456  0.31879005 1.1222992\n",
      " 0.6562417  0.21523923]\n",
      "Number of particles: 20\n"
     ]
    },
    {
     "name": "stderr",
     "output_type": "stream",
     "text": [
      "pyswarms.single.global_best:  62%|██████▏   |31/50, best_cost=0.0633"
     ]
    },
    {
     "name": "stdout",
     "output_type": "stream",
     "text": [
      "List of losses for all particles\n",
      "[0.18048067 0.7726939  0.585714   1.6088418  1.1229061  0.906988\n",
      " 1.0416931  0.6421988  0.12597692 0.7848305  1.0737045  0.7896252\n",
      " 0.5404447  0.7012591  2.4014263  1.1188288  0.8130104  0.6004745\n",
      " 0.32961255 0.74953437]\n",
      "Number of particles: 20\n"
     ]
    },
    {
     "name": "stderr",
     "output_type": "stream",
     "text": [
      "pyswarms.single.global_best:  64%|██████▍   |32/50, best_cost=0.0633"
     ]
    },
    {
     "name": "stdout",
     "output_type": "stream",
     "text": [
      "List of losses for all particles\n",
      "[0.18057534 1.7155471  0.3171189  2.1390152  0.38040468 2.6330729\n",
      " 0.26447743 0.8788764  0.7073893  0.73678243 0.50425386 0.3582602\n",
      " 0.18036516 0.4823321  3.0177462  0.28072163 0.61093056 2.095332\n",
      " 1.1259696  0.9489278 ]\n",
      "Number of particles: 20\n"
     ]
    },
    {
     "name": "stderr",
     "output_type": "stream",
     "text": [
      "pyswarms.single.global_best:  66%|██████▌   |33/50, best_cost=0.0633"
     ]
    },
    {
     "name": "stdout",
     "output_type": "stream",
     "text": [
      "List of losses for all particles\n",
      "[0.08513013 2.3438041  1.0678923  1.8329748  1.3572594  2.459792\n",
      " 0.5022214  0.56461674 1.2855388  0.7375392  0.66629356 0.55382705\n",
      " 0.75519454 0.24899666 2.6983328  1.546931   0.48633453 2.2115834\n",
      " 1.7076821  0.6169761 ]\n",
      "Number of particles: 20\n"
     ]
    },
    {
     "name": "stderr",
     "output_type": "stream",
     "text": [
      "pyswarms.single.global_best:  68%|██████▊   |34/50, best_cost=0.0633"
     ]
    },
    {
     "name": "stdout",
     "output_type": "stream",
     "text": [
      "List of losses for all particles\n",
      "[0.26777494 2.4329941  1.2024525  0.8796586  1.3786492  2.1121783\n",
      " 0.8969321  0.31069335 1.5328138  0.5252701  0.79720616 0.3345675\n",
      " 1.0779603  0.09476252 1.1671492  1.7756406  0.20914766 1.6478221\n",
      " 1.0156764  0.06832851]\n",
      "Number of particles: 20\n"
     ]
    },
    {
     "name": "stderr",
     "output_type": "stream",
     "text": [
      "pyswarms.single.global_best:  70%|███████   |35/50, best_cost=0.0495"
     ]
    },
    {
     "name": "stdout",
     "output_type": "stream",
     "text": [
      "List of losses for all particles\n",
      "[0.5584991  1.4522732  0.9402511  0.2645705  0.3807512  1.2599745\n",
      " 0.87357473 0.04953527 0.79671156 0.3578555  1.1238055  0.8493048\n",
      " 0.9461103  0.11202519 0.7888558  0.88604844 0.15465558 0.17335677\n",
      " 0.10506471 0.41117153]\n",
      "Number of particles: 20\n"
     ]
    },
    {
     "name": "stderr",
     "output_type": "stream",
     "text": [
      "pyswarms.single.global_best:  72%|███████▏  |36/50, best_cost=0.0495"
     ]
    },
    {
     "name": "stdout",
     "output_type": "stream",
     "text": [
      "List of losses for all particles\n",
      "[0.4409785  0.12793349 0.38836482 1.0867411  0.61217403 0.5630261\n",
      " 0.44623616 0.12964098 0.13283165 0.12445065 0.8116687  0.68453574\n",
      " 0.49260896 0.07192054 2.7369945  0.20741506 0.46657827 1.3989692\n",
      " 1.1628699  0.41501707]\n",
      "Number of particles: 20\n"
     ]
    },
    {
     "name": "stderr",
     "output_type": "stream",
     "text": [
      "pyswarms.single.global_best:  74%|███████▍  |37/50, best_cost=0.0495"
     ]
    },
    {
     "name": "stdout",
     "output_type": "stream",
     "text": [
      "List of losses for all particles\n",
      "[0.07046371 0.8536089  0.18058461 0.94665563 1.0583651  2.0912845\n",
      " 0.40654176 0.35178712 0.70731944 0.5026456  0.6905265  0.21602856\n",
      " 0.20273301 0.12771727 3.3912165  1.4135172  0.6846885  1.997751\n",
      " 1.4323364  0.28017834]\n",
      "Number of particles: 20\n"
     ]
    },
    {
     "name": "stderr",
     "output_type": "stream",
     "text": [
      "pyswarms.single.global_best:  76%|███████▌  |38/50, best_cost=0.0495"
     ]
    },
    {
     "name": "stdout",
     "output_type": "stream",
     "text": [
      "List of losses for all particles\n",
      "[0.39555144 0.7490856  0.59351337 0.3401352  0.9421439  1.4019437\n",
      " 0.75000125 0.3017766  0.7426195  0.8812226  1.8176501  0.959608\n",
      " 0.71003836 0.14857131 2.7804153  2.2806172  0.18925624 1.9482092\n",
      " 0.535394   0.07723027]\n",
      "Number of particles: 20\n"
     ]
    },
    {
     "name": "stderr",
     "output_type": "stream",
     "text": [
      "pyswarms.single.global_best:  78%|███████▊  |39/50, best_cost=0.0495"
     ]
    },
    {
     "name": "stdout",
     "output_type": "stream",
     "text": [
      "List of losses for all particles\n",
      "[0.6854219  0.708094   0.6490031  0.42330742 0.69374985 0.17835456\n",
      " 0.6291882  0.28803703 0.3004386  0.74194795 1.8416193  1.051864\n",
      " 0.42092273 0.11434877 0.9463424  1.3738843  0.4168548  0.75346756\n",
      " 0.37173155 0.43961263]\n",
      "Number of particles: 20\n"
     ]
    },
    {
     "name": "stderr",
     "output_type": "stream",
     "text": [
      "pyswarms.single.global_best:  80%|████████  |40/50, best_cost=0.0495"
     ]
    },
    {
     "name": "stdout",
     "output_type": "stream",
     "text": [
      "List of losses for all particles\n",
      "[0.41012153 0.78238785 0.22284861 0.5656469  0.3095242  1.341801\n",
      " 0.1974214  0.13738334 0.4013424  0.22749436 0.84424007 0.45665303\n",
      " 0.3585218  0.12922199 0.8566008  0.2713796  0.61293894 0.943426\n",
      " 0.6534663  0.69726014]\n",
      "Number of particles: 20\n"
     ]
    },
    {
     "name": "stderr",
     "output_type": "stream",
     "text": [
      "pyswarms.single.global_best:  82%|████████▏ |41/50, best_cost=0.0495"
     ]
    },
    {
     "name": "stdout",
     "output_type": "stream",
     "text": [
      "List of losses for all particles\n",
      "[0.11602367 0.3350339  0.4933319  0.45563462 0.17058013 2.1559246\n",
      " 0.2243535  0.597704   0.9136894  0.45785642 0.18672879 0.32402056\n",
      " 0.6290562  0.26355994 2.3298142  1.3948569  0.36928684 1.9753629\n",
      " 0.54069805 0.66441745]\n",
      "Number of particles: 20\n"
     ]
    },
    {
     "name": "stderr",
     "output_type": "stream",
     "text": [
      "pyswarms.single.global_best:  84%|████████▍ |42/50, best_cost=0.0495"
     ]
    },
    {
     "name": "stdout",
     "output_type": "stream",
     "text": [
      "List of losses for all particles\n",
      "[0.49710366 0.3757281  0.9637458  0.16687275 0.1878231  1.7350764\n",
      " 0.82802385 0.7613268  0.9169729  0.637833   1.2183019  1.0140876\n",
      " 0.6015744  0.35527536 1.9752486  1.0775651  0.31437498 2.3086102\n",
      " 0.08064803 0.31255597]\n",
      "Number of particles: 20\n"
     ]
    },
    {
     "name": "stderr",
     "output_type": "stream",
     "text": [
      "pyswarms.single.global_best:  86%|████████▌ |43/50, best_cost=0.0495"
     ]
    },
    {
     "name": "stdout",
     "output_type": "stream",
     "text": [
      "List of losses for all particles\n",
      "[0.75064135 0.6248732  0.79734015 0.5509944  0.10750902 0.49767205\n",
      " 1.1742712  0.5439877  0.6425769  0.5147166  1.329216   1.1410068\n",
      " 0.4108384  0.32642815 0.4501336  1.1251131  0.83030313 0.76986957\n",
      " 0.34980893 0.1327977 ]\n",
      "Number of particles: 20\n"
     ]
    },
    {
     "name": "stderr",
     "output_type": "stream",
     "text": [
      "pyswarms.single.global_best:  88%|████████▊ |44/50, best_cost=0.0495"
     ]
    },
    {
     "name": "stdout",
     "output_type": "stream",
     "text": [
      "List of losses for all particles\n",
      "[0.5069925  0.43792206 0.22606544 0.5665714  0.33210427 0.84756947\n",
      " 1.0264492  0.1045864  0.16782512 0.27129647 1.4834175  0.6264891\n",
      " 0.05932916 0.23458934 1.4887041  1.5311184  1.2633215  0.8718846\n",
      " 0.69310427 0.41954097]\n",
      "Number of particles: 20\n"
     ]
    },
    {
     "name": "stderr",
     "output_type": "stream",
     "text": [
      "pyswarms.single.global_best:  90%|█████████ |45/50, best_cost=0.0495"
     ]
    },
    {
     "name": "stdout",
     "output_type": "stream",
     "text": [
      "List of losses for all particles\n",
      "[0.25414726 0.43017852 0.34161538 0.45371923 0.3589722  1.1842896\n",
      " 0.517505   0.49668983 0.66089636 0.7724703  1.6928487  0.3725514\n",
      " 0.24161157 0.15911612 2.1409333  0.22067598 1.1628779  1.2665854\n",
      " 0.739508   0.4716589 ]\n",
      "Number of particles: 20\n"
     ]
    },
    {
     "name": "stderr",
     "output_type": "stream",
     "text": [
      "pyswarms.single.global_best:  92%|█████████▏|46/50, best_cost=0.0495"
     ]
    },
    {
     "name": "stdout",
     "output_type": "stream",
     "text": [
      "List of losses for all particles\n",
      "[0.07796974 0.43002933 0.79302865 0.38619998 0.15350106 0.968096\n",
      " 0.42098445 0.7351034  1.2196617  0.91688514 0.84354764 0.4065933\n",
      " 0.38806647 0.25898653 2.5162094  0.5959882  0.09221426 1.598045\n",
      " 0.61942697 0.39896545]\n",
      "Number of particles: 20\n"
     ]
    },
    {
     "name": "stderr",
     "output_type": "stream",
     "text": [
      "pyswarms.single.global_best:  94%|█████████▍|47/50, best_cost=0.0495"
     ]
    },
    {
     "name": "stdout",
     "output_type": "stream",
     "text": [
      "List of losses for all particles\n",
      "[0.2112934  0.26280835 0.8345109  0.06634071 0.26205844 0.16271181\n",
      " 0.6779809  0.5783189  0.9845308  0.16436476 0.58781296 0.08916122\n",
      " 0.5600734  0.2648989  2.0424042  0.91116893 1.0077388  1.2852508\n",
      " 0.4258546  0.17316191]\n",
      "Number of particles: 20\n"
     ]
    },
    {
     "name": "stderr",
     "output_type": "stream",
     "text": [
      "pyswarms.single.global_best:  96%|█████████▌|48/50, best_cost=0.0495"
     ]
    },
    {
     "name": "stdout",
     "output_type": "stream",
     "text": [
      "List of losses for all particles\n",
      "[0.30746025 0.33497187 0.77470565 0.07215907 0.45521763 1.3588471\n",
      " 0.58139443 0.15820198 0.23145686 0.57446176 1.4678305  0.68542576\n",
      " 0.12027524 0.21768388 1.0079923  1.5978651  1.2937427  0.10961406\n",
      " 0.31773072 0.22850966]\n",
      "Number of particles: 20\n"
     ]
    },
    {
     "name": "stderr",
     "output_type": "stream",
     "text": [
      "pyswarms.single.global_best:  98%|█████████▊|49/50, best_cost=0.0495"
     ]
    },
    {
     "name": "stdout",
     "output_type": "stream",
     "text": [
      "List of losses for all particles\n",
      "[0.05492672 0.3746854  0.1620186  0.18065237 0.36775047 1.8145086\n",
      " 0.07765424 0.7717333  0.6615313  0.7105789  1.4072373  0.95996755\n",
      " 0.37255332 0.13080294 0.60558856 1.6575466  0.49189252 1.1147474\n",
      " 0.9018717  0.29220328]\n",
      "Number of particles: 20\n"
     ]
    },
    {
     "name": "stderr",
     "output_type": "stream",
     "text": [
      "pyswarms.single.global_best: 100%|██████████|50/50, best_cost=0.0495\n",
      "2022-05-20 08:35:56,168 - pyswarms.single.global_best - INFO - Optimization finished | best cost: 0.04953526705503464, best pos: [-4.77448434e-02  4.91584165e-01  3.05519823e+00 -1.92658080e-01\n",
      "  1.47385832e+00  1.45419404e+00  1.15446606e+00  1.55803280e+00\n",
      "  1.33051803e+00  1.29399359e-01 -6.89672434e-01  5.66699673e-02\n",
      "  1.23078471e+00 -4.77450257e-01  8.52924389e-01  1.03701187e+00\n",
      "  1.20845668e+00  1.38212222e+00  8.97041121e-01  1.50525312e+00\n",
      " -3.12927996e-01  8.62616904e-01  1.39200839e+00  7.47866700e-01\n",
      " -6.69201641e-03 -3.40894693e-01  4.07577789e-01  4.91879667e-01\n",
      "  6.41616062e-01 -1.17327037e-01  8.10212129e-01  7.18393897e-01\n",
      "  2.15398103e-01  7.70111614e-01  1.19084700e+00  3.82012811e-01\n",
      "  1.88420183e+00  2.37301643e+00  1.61209031e+00  9.93496369e-01\n",
      "  4.51072768e-01  1.85939593e-01  8.60064648e-01  1.54973883e+00\n",
      "  9.46529429e-01  9.07855225e-02  1.47684662e+00  1.30384367e-02\n",
      "  5.17103936e-01  1.86490725e+00 -6.11675396e-01  1.09031759e+00\n",
      "  6.05697334e-01  1.05256821e+00  1.71062095e+00  1.36263836e-02\n",
      "  6.18144497e-01  8.43735524e-01  5.31758046e-01  5.11435775e-01\n",
      " -4.78312319e-01  1.20522476e-01  2.96039853e-01  7.68182121e-01\n",
      "  9.60802331e-01  1.79931778e+00  7.83943651e-01 -1.09946047e-01\n",
      "  1.02243827e+00  1.31161053e+00  2.09195119e+00 -3.92494027e-01\n",
      "  9.14323259e-01 -2.27669496e-01 -8.38296208e-01  9.26310588e-01\n",
      "  8.69175875e-01  3.68934459e-01  1.06771364e-01 -2.72629916e-01\n",
      "  1.77012979e-01 -2.45560468e-01  3.42901827e-01 -2.43422274e-01\n",
      " -4.34902861e-01  2.13303787e+00 -4.79745339e-02  5.50328030e-01\n",
      "  4.27610561e-01  2.28792930e+00 -5.67049170e-01 -6.28562707e-01\n",
      "  8.10993517e-01  2.75066716e+00 -3.79764053e-01 -5.74753667e-01\n",
      "  1.12249127e+00 -6.92787857e-02  1.99038067e+00 -1.30867168e+00\n",
      "  5.38370191e-01  1.71918109e+00  7.32980446e-01  2.58359005e+00\n",
      "  1.83691027e+00 -7.30983559e-01  1.33044542e+00  4.72344651e-01\n",
      "  2.66053130e-01  4.20734957e+00  1.95645427e+00  1.74900536e+00\n",
      " -8.34129976e-02 -2.15945311e-01  5.96659144e-01  1.60455983e+00\n",
      "  1.63650138e+00  1.50111470e+00  5.77410471e-01  2.41302322e-01\n",
      " -8.35343515e-02  4.15212867e-01  1.38004678e+00  1.99532602e+00\n",
      "  4.54906935e-01  4.34019957e-01  1.15772563e+00  7.85996617e-02\n",
      "  2.03845728e-01  8.52989226e-01  8.00185956e-01  1.02881418e+00\n",
      "  3.41299069e+00  8.57728153e-01  2.44764706e-01 -7.70463223e-02\n",
      "  4.05725817e-01  1.81793216e+00  6.10030842e-01  2.90007870e-01\n",
      "  2.59638757e-01  1.49322895e+00  5.19689737e-01  3.11883809e-01\n",
      " -5.60992545e-01  1.47500499e+00 -4.10273429e-01  1.10092991e+00\n",
      " -3.04253257e-01  5.34026582e-01  6.44459982e-01 -2.34896823e-01\n",
      "  1.81372594e+00 -5.86805642e-01  3.60302122e-01 -3.53897609e-01\n",
      "  8.83387456e-01  7.24107146e-01  1.74220284e+00  7.30550877e-04\n",
      "  3.65807054e-01  4.22023808e-01  5.16138659e-01  2.21771707e+00\n",
      "  2.08060248e+00  5.17518382e-01 -8.79714701e-01  9.43985114e-02\n",
      "  1.06060048e+00  1.15455577e+00  6.26295871e-01 -9.03994095e-01\n",
      "  1.54772911e+00 -4.64546844e-01  5.39778314e-01  1.00049933e+00\n",
      "  2.19460181e+00  4.23183929e-01 -9.55319866e-01 -5.99474699e-01\n",
      "  6.55995512e-01  3.05257743e+00  1.13152937e+00  1.01779275e+00\n",
      " -4.80311625e-01  9.96253744e-01  2.36091268e+00  2.02999261e+00\n",
      "  3.59311457e-01  2.55342933e+00  1.24002154e-01  7.86149403e-01\n",
      "  1.26151729e+00  8.20062019e-01 -1.16983397e+00  6.25849699e-01\n",
      "  2.54196619e-01  1.28415442e+00  3.86983653e+00  1.07651416e+00\n",
      "  9.77031894e-01  8.72066505e-01  3.47669869e-01  8.41945764e-01\n",
      " -6.47360823e-01  1.83048810e+00  1.23774055e+00  1.46457341e+00\n",
      "  2.24193219e-02  9.23962394e-01 -3.46117435e-02 -2.15081203e-01\n",
      " -8.91358859e-02  2.31843189e+00  6.30155934e-01 -8.93160314e-01\n",
      "  1.27553993e+00  7.96104386e-01  5.27197217e-01  4.89592389e-01\n",
      "  7.35944827e-01  5.89394635e-01  3.81595440e-01  8.62959982e-01\n",
      "  2.00691690e+00 -9.73764868e-01  2.09377124e+00  3.75509729e-01\n",
      "  8.13125097e-01 -6.64738907e-01  2.37174906e-01 -1.01282645e-01\n",
      " -1.02973764e+00  1.66446046e+00  1.04962333e+00  3.04957713e+00\n",
      "  1.45910408e+00  2.09391332e+00  3.43123037e-01 -9.80976747e-01\n",
      "  1.12473839e+00  1.35989401e+00  1.13146344e+00 -1.28244601e-01\n",
      " -3.19392530e-01  1.20639708e+00  2.18236010e-01  2.03665036e-01\n",
      "  8.90599128e-01 -4.34801629e-01 -9.73391772e-02 -1.87591991e+00\n",
      "  1.03541416e+00  8.29046203e-01  3.96409645e-01  1.77256340e+00\n",
      "  1.63373432e+00 -1.08194287e+00  2.74170543e-01  1.64484785e-01\n",
      "  2.06523290e+00  1.14913919e+00 -7.82231081e-01  1.18336582e+00\n",
      "  1.56328207e+00  5.79092086e-01  1.66812743e+00 -9.41942048e-01\n",
      " -1.70133207e+00  1.92219125e+00  1.41788344e-02  1.26500470e+00\n",
      "  7.16883668e-01 -8.63689118e-02  1.55726856e+00  1.39735254e+00\n",
      " -1.97422602e-01  1.12381664e+00  2.10406904e+00  1.90059154e+00\n",
      " -1.88066203e-03  2.19260293e+00 -2.15714557e-01 -2.87393530e-02\n",
      "  8.21614557e-01  1.75175957e+00  1.38106033e-01  7.08470015e-01\n",
      "  1.49604054e+00 -4.17748527e-01  4.52936797e-01  8.36646228e-01\n",
      "  7.43997136e-01  1.14411941e+00 -1.33791230e+00  1.09883695e+00\n",
      " -4.78869181e-01  9.40465257e+00  1.49296356e+00 -5.51246928e-01\n",
      " -1.63708116e+00 -4.86301503e-01  1.40287679e+00  4.30893035e-01\n",
      " -2.66601058e-01  9.44632705e-01  3.60870217e-01  6.58831933e-01\n",
      "  5.81551855e-01  1.90115935e+00  9.28742995e-01  1.63326506e+00\n",
      "  1.03927094e+00 -7.25646829e-02 -9.45213115e-02  2.29254915e-01\n",
      "  1.00629905e+00  7.98879464e-01  7.10340464e-01  1.22883536e+00\n",
      "  5.45802174e-03  3.53742307e-01  1.25689824e+00  1.57451340e-01\n",
      "  3.14045108e-01  1.91441236e+00 -4.10548158e-02  8.85053039e-01\n",
      " -2.53126742e-01  1.87545840e+00  1.10000788e+00 -2.62686331e-01\n",
      "  6.00226969e-01  1.05715994e+00  1.88321925e-01  4.66284720e-01\n",
      "  8.24533522e-01  1.01692441e+00  2.05881363e+00 -6.86560812e-01\n",
      "  1.14417620e+00  1.49876648e+00  4.71688200e-01  1.47577181e-01\n",
      "  8.00452852e-01  5.75740258e-01  2.07122996e+00  7.50202485e-01\n",
      "  2.21871672e-01  1.04225960e+00  1.36187438e+00  6.52160937e-01\n",
      "  1.67257312e+00 -6.77576267e-02 -3.11677636e-01 -8.57072133e-01\n",
      "  5.81905163e-01  3.48163371e-01 -6.75911818e-01 -1.14461347e+00\n",
      "  4.91956328e-01 -4.65265019e-01  4.55144217e-01  3.74090669e-01\n",
      "  1.76177253e+00  1.32273639e+00 -1.63302053e+00  1.88365444e+00\n",
      "  2.46850972e-01  1.88117190e+00  7.53580074e-01 -1.23231296e+00\n",
      "  2.17201037e+00  3.57374934e-01 -5.16904840e-01  1.14438532e+00\n",
      "  1.49952666e+00 -3.68586410e-01  2.33132560e+00  2.45547543e+00\n",
      " -1.12570112e-01  1.50814432e+00  3.43233159e-01  7.17177892e-01\n",
      "  3.17078050e+00  2.08653351e+00 -1.28529489e+00  1.47017244e+00\n",
      "  4.58438754e-01  7.51611772e-01  9.79519485e-01  4.07333075e-01\n",
      "  4.80974583e-01  1.40062179e+00  1.36834350e-01  1.08672311e+00\n",
      "  3.01073295e+00  4.65513899e-01  2.24640477e+00  8.83007697e-01\n",
      " -8.10003649e-02 -8.89153318e-01  6.10747404e-01  1.01252175e+00\n",
      "  2.66868883e-01  1.60171216e+00  6.81659110e-01  2.06702945e+00\n",
      "  6.08826640e-01  6.96539385e-01 -8.96223127e-01  2.28301897e-01\n",
      " -1.96797528e-01  1.52529010e+00  7.63476596e-01  9.47336022e-01\n",
      "  4.93529462e-01  3.67733102e-01  2.97065552e+00  1.19217593e+00\n",
      "  1.73039561e+00  2.48802968e+00  1.63283166e-02  1.74569193e+00\n",
      "  1.96187848e-01  5.30061216e-01  2.26798762e+00 -7.86369939e+00\n",
      "  1.07021725e+00  1.18830098e+00  1.61631668e+00  6.62143413e-01\n",
      "  2.20084622e+00  1.69190177e+00 -4.55507091e-01  7.83798549e-01\n",
      "  1.89723334e+00  1.63688533e+00 -1.86396242e-01 -6.11122525e-01\n",
      "  7.91336949e-01  7.73870434e-01  5.82448634e-01  1.23288691e+00\n",
      " -6.14241158e-01  9.65621535e-01  2.50190960e+00  7.97821175e-01\n",
      " -6.71382559e-01  7.14609904e-01 -1.45649585e+00 -8.70305420e-01\n",
      "  1.39342802e+00  4.04910290e-01  3.10075227e-01  1.09856346e-01\n",
      "  2.84785704e-02  8.73019178e-01 -2.78198511e-01  2.09930163e+00\n",
      "  1.30189930e+00 -4.37742908e-01 -1.26257091e-01  1.87628951e+00\n",
      "  1.41840120e+00 -7.89184333e-01  2.71959764e+00  7.97808635e-01\n",
      "  1.77188931e+00  8.34071447e-01  1.46380182e+00  8.12260802e-01\n",
      "  5.68131554e-02  3.06546726e-01  1.25047752e+00  1.21753339e-01\n",
      "  1.04461144e+00 -1.20773779e+00  8.68311598e-01 -8.42712283e-01\n",
      " -4.93324468e-02  2.76480669e+00  9.56652256e-01  1.14824430e+00\n",
      "  6.36263059e-01  2.69753152e-01 -4.92919426e-01 -3.88207669e-01\n",
      "  1.90385306e+00  6.42528029e-01  1.31953329e+00 -1.55664171e-01\n",
      "  5.62425544e-01 -1.67955869e-01  1.70764648e+00  1.16221943e+00\n",
      "  8.16858958e-01  7.72481318e-01 -7.62651452e-01  2.58176377e-01\n",
      "  1.61049573e+00 -5.58665187e-01  1.49582060e+00  1.38264283e+00\n",
      "  3.90713570e-01 -5.73827051e-01  1.42014286e-01  9.52885239e-01\n",
      "  1.33447676e-01 -2.12714849e-01 -2.44120167e+00  9.47840328e-01\n",
      "  6.07482539e-01 -3.27695430e-01 -1.12890728e-02  1.59665295e+00\n",
      "  1.27356033e+00  1.44447131e+00  6.19004032e-01  1.03082478e+00\n",
      "  4.59096976e-01 -1.01029512e+00 -1.48125753e-02  1.47364806e+00\n",
      "  6.67136251e-01 -1.35911634e+00  2.31385491e-01  6.44844687e-02\n",
      "  3.18629967e-01  1.11484131e+00 -4.21136767e-01  5.46901976e-01\n",
      "  1.06931384e+00  6.80266498e-01  3.36698729e-01]\n"
     ]
    },
    {
     "name": "stdout",
     "output_type": "stream",
     "text": [
      "List of losses for all particles\n",
      "[0.37015307 0.58521783 0.3959978  0.22113714 0.10068334 1.7494667\n",
      " 0.62072426 1.020621   1.106534   0.67917633 0.12076813 1.2999791\n",
      " 0.44817016 0.08054601 1.661886   0.6099095  0.23313366 1.9290316\n",
      " 0.91755587 0.2025186 ]\n"
     ]
    }
   ],
   "source": [
    "options = {'c1': 0.1, 'c2': 0.9, 'w':0.9}\n",
    "\n",
    "layer_1 = modelGA.get_layer('layer_1').get_weights()\n",
    "layer_2 = modelGA.get_layer('layer_2').get_weights()\n",
    "dimensions = (layer_1[0].shape[0] * layer_1[0].shape[1]) + (layer_1[0].shape[0] * layer_1[0].shape[1]) + (layer_1[1].shape[0] * layer_1[1].shape[1]) + (layer_2[0].shape[0] * layer_2[0].shape[1]) +(layer_2[1].shape[0])\n",
    "\n",
    "print(\"Number of params in Neural Network: %d\" % dimensions)\n",
    "\n",
    "optimizer = ps.single.GlobalBestPSO(n_particles=20, dimensions=dimensions, options=options)\n",
    "\n",
    "cost, pos = optimizer.optimize(f, iters=50)"
   ]
  },
  {
   "cell_type": "code",
   "execution_count": 24,
   "metadata": {},
   "outputs": [
    {
     "data": {
      "image/png": "[encoded data removed]",
      "text/plain": [
       "<Figure size 720x576 with 1 Axes>"
      ]
     },
     "metadata": {
      "needs_background": "light"
     },
     "output_type": "display_data"
    }
   ],
   "source": [
    "plot_cost_history(cost_history=optimizer.cost_history)\n",
    "plt.show()"
   ]
  },
  {
   "cell_type": "markdown",
   "metadata": {},
   "source": [
    "Creating the Neural Network with the final optimized params using GA"
   ]
  },
  {
   "cell_type": "code",
   "execution_count": 25,
   "metadata": {},
   "outputs": [],
   "source": [
    "layer_1 = modelGA.get_layer('layer_1').get_weights()\n",
    "layer_2 = modelGA.get_layer('layer_2').get_weights()\n",
    "\n",
    "layer1_W1_shape = (layer_1[0].shape[0] * layer_1[0].shape[1])\n",
    "layer1_W2_shape = layer1_W1_shape + (layer_1[1].shape[0] * layer_1[1].shape[1])\n",
    "layer1_B_shape = layer1_W2_shape + (layer_1[2].shape[0])\n",
    "layer2_W_shape = layer1_B_shape + (layer_2[0].shape[0] * layer_2[0].shape[1])\n",
    "layer2_B_shape = layer2_W_shape + (layer_2[1].shape[0])\n",
    "\n",
    "layer1_W1 = pos[0:layer1_W1_shape].reshape(layer_1[0].shape)\n",
    "layer1_W2 = pos[layer1_W1_shape:layer1_W2_shape].reshape(layer_1[1].shape)\n",
    "layer1_B = pos[layer1_W2_shape:layer1_B_shape].reshape(layer_1[2].shape)\n",
    "layer2_W = pos[layer1_B_shape:layer2_W_shape].reshape(layer_2[0].shape)\n",
    "layer2_B = pos[layer2_W_shape:layer2_B_shape].reshape(layer_2[1].shape)\n",
    "\n",
    "modelGA.get_layer('layer_1').set_weights([layer1_W1, layer1_W2, layer1_B])\n",
    "modelGA.get_layer('layer_2').set_weights([layer2_W, layer2_B])"
   ]
  },
  {
   "cell_type": "markdown",
   "metadata": {},
   "source": [
    "Checking the performance of the model using GA"
   ]
  },
  {
   "cell_type": "code",
   "execution_count": 26,
   "metadata": {},
   "outputs": [],
   "source": [
    "predictY = modelGA.predict(test_X)"
   ]
  },
  {
   "cell_type": "code",
   "execution_count": 27,
   "metadata": {},
   "outputs": [
    {
     "data": {
      "image/png": "[encoded data removed]",
      "text/plain": [
       "<Figure size 432x288 with 1 Axes>"
      ]
     },
     "metadata": {
      "needs_background": "light"
     },
     "output_type": "display_data"
    }
   ],
   "source": [
    "time = np.arange(predictY.shape[0])\n",
    "\n",
    "plt.plot(time, predictY, test_y)\n",
    "plt.xlabel('time')\n",
    "plt.ylabel('amplitude')\n",
    "plt.show()"
   ]
  },
  {
   "cell_type": "code",
   "execution_count": 28,
   "metadata": {},
   "outputs": [
    {
     "name": "stdout",
     "output_type": "stream",
     "text": [
      "WARNING:tensorflow:AutoGraph could not transform <function Model.make_test_function.<locals>.test_function at 0x7f28640c50e0> and will run it as-is.\n",
      "Please report this to the TensorFlow team. When filing the bug, set the verbosity to 10 (on Linux, `export AUTOGRAPH_VERBOSITY=10`) and attach the full output.\n",
      "Cause: 'arguments' object has no attribute 'posonlyargs'\n",
      "To silence this warning, decorate the function with @tf.autograph.experimental.do_not_convert\n"
     ]
    },
    {
     "name": "stderr",
     "output_type": "stream",
     "text": [
      "2022-05-20 08:35:58,888 - tensorflow - WARNING - AutoGraph could not transform <function Model.make_test_function.<locals>.test_function at 0x7f28640c50e0> and will run it as-is.\n",
      "Please report this to the TensorFlow team. When filing the bug, set the verbosity to 10 (on Linux, `export AUTOGRAPH_VERBOSITY=10`) and attach the full output.\n",
      "Cause: 'arguments' object has no attribute 'posonlyargs'\n",
      "To silence this warning, decorate the function with @tf.autograph.experimental.do_not_convert\n"
     ]
    },
    {
     "name": "stdout",
     "output_type": "stream",
     "text": [
      "WARNING: AutoGraph could not transform <function Model.make_test_function.<locals>.test_function at 0x7f28640c50e0> and will run it as-is.\n",
      "Please report this to the TensorFlow team. When filing the bug, set the verbosity to 10 (on Linux, `export AUTOGRAPH_VERBOSITY=10`) and attach the full output.\n",
      "Cause: 'arguments' object has no attribute 'posonlyargs'\n",
      "To silence this warning, decorate the function with @tf.autograph.experimental.do_not_convert\n",
      "1/1 [==============================] - 1s 558ms/step - loss: 0.0966 - mean_squared_error: 0.0966 - r_square_loss: 29.7874\n"
     ]
    }
   ],
   "source": [
    "lossNN_GA = modelGA.evaluate(test_X, test_y)"
   ]
  },
  {
   "cell_type": "code",
   "execution_count": 29,
   "metadata": {},
   "outputs": [
    {
     "name": "stdout",
     "output_type": "stream",
     "text": [
      "The loss output for test dataset is: 0.096558\n"
     ]
    }
   ],
   "source": [
    "print('The loss output for test dataset is: %f' % lossNN_GA[0])"
   ]
  },
  {
   "cell_type": "code",
   "execution_count": 30,
   "metadata": {},
   "outputs": [
    {
     "name": "stdout",
     "output_type": "stream",
     "text": [
      "We see that the loss output for test dataset using Back Propagation is: 0.379659, while the loss output using GA is: 0.096558\n"
     ]
    }
   ],
   "source": [
    "print('We see that the loss output for test dataset using Back Propagation is: %f, while the loss output using GA is: %f' % (lossNN[0], lossNN_GA[0]))"
   ]
  },
  {
   "cell_type": "code",
   "execution_count": null,
   "metadata": {},
   "outputs": [],
   "source": []
  },
  {
   "cell_type": "code",
   "execution_count": null,
   "metadata": {},
   "outputs": [],
   "source": []
  }
 ],
 "metadata": {
  "kernelspec": {
   "display_name": "Python 3",
   "language": "python",
   "name": "python3"
  },
  "language_info": {
   "codemirror_mode": {
    "name": "ipython",
    "version": 3
   },
   "file_extension": ".py",
   "mimetype": "text/x-python",
   "name": "python",
   "nbconvert_exporter": "python",
   "pygments_lexer": "ipython3",
   "version": "3.7.10"
  }
 },
 "nbformat": 4,
 "nbformat_minor": 4
}
