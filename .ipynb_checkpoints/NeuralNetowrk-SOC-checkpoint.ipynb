{
 "cells": [
  {
   "cell_type": "code",
   "execution_count": 2,
   "id": "01df10a3",
   "metadata": {},
   "outputs": [],
   "source": [
    "import numpy as np\n",
    "import pandas as pd\n",
    "import matplotlib.pyplot as plt\n",
    "import pyswarms as ps\n",
    "import random\n",
    "\n",
    "from scipy.optimize import differential_evolution\n",
    "\n",
    "from sklearn.compose import ColumnTransformer\n",
    "from sklearn.linear_model import LinearRegression\n",
    "from sklearn.model_selection import train_test_split\n",
    "from sklearn.preprocessing import StandardScaler\n",
    "from sklearn.metrics import mean_squared_error"
   ]
  },
  {
   "cell_type": "code",
   "execution_count": 3,
   "id": "2e8c5652",
   "metadata": {},
   "outputs": [],
   "source": [
    "Rand = 42\n",
    "random.seed(Rand)\n",
    "np.random.seed(Rand)"
   ]
  },
  {
   "cell_type": "code",
   "execution_count": 4,
   "id": "cc1b4fad",
   "metadata": {},
   "outputs": [
    {
     "data": {
      "text/html": [
       "<div>\n",
       "<style scoped>\n",
       "    .dataframe tbody tr th:only-of-type {\n",
       "        vertical-align: middle;\n",
       "    }\n",
       "\n",
       "    .dataframe tbody tr th {\n",
       "        vertical-align: top;\n",
       "    }\n",
       "\n",
       "    .dataframe thead th {\n",
       "        text-align: right;\n",
       "    }\n",
       "</style>\n",
       "<table border=\"1\" class=\"dataframe\">\n",
       "  <thead>\n",
       "    <tr style=\"text-align: right;\">\n",
       "      <th></th>\n",
       "      <th>TimeStamp</th>\n",
       "      <th>Voltage</th>\n",
       "      <th>Current</th>\n",
       "      <th>Full charge Capacity</th>\n",
       "      <th>Remaining Capacity</th>\n",
       "      <th>Cell 1 Voltage</th>\n",
       "      <th>Cell 2 Voltage</th>\n",
       "      <th>Relative State of Charge</th>\n",
       "    </tr>\n",
       "  </thead>\n",
       "  <tbody>\n",
       "    <tr>\n",
       "      <th>0</th>\n",
       "      <td>2021-08-16 16:59:15.766</td>\n",
       "      <td>8472</td>\n",
       "      <td>0</td>\n",
       "      <td>4888</td>\n",
       "      <td>4888</td>\n",
       "      <td>4220</td>\n",
       "      <td>4251</td>\n",
       "      <td>100</td>\n",
       "    </tr>\n",
       "    <tr>\n",
       "      <th>1</th>\n",
       "      <td>2021-08-16 16:59:17.768</td>\n",
       "      <td>8472</td>\n",
       "      <td>0</td>\n",
       "      <td>4888</td>\n",
       "      <td>4888</td>\n",
       "      <td>4220</td>\n",
       "      <td>4251</td>\n",
       "      <td>100</td>\n",
       "    </tr>\n",
       "    <tr>\n",
       "      <th>2</th>\n",
       "      <td>2021-08-16 16:59:19.766</td>\n",
       "      <td>8472</td>\n",
       "      <td>0</td>\n",
       "      <td>4888</td>\n",
       "      <td>4888</td>\n",
       "      <td>4220</td>\n",
       "      <td>4251</td>\n",
       "      <td>100</td>\n",
       "    </tr>\n",
       "    <tr>\n",
       "      <th>3</th>\n",
       "      <td>2021-08-16 16:59:21.766</td>\n",
       "      <td>8471</td>\n",
       "      <td>0</td>\n",
       "      <td>4888</td>\n",
       "      <td>4888</td>\n",
       "      <td>4220</td>\n",
       "      <td>4251</td>\n",
       "      <td>100</td>\n",
       "    </tr>\n",
       "    <tr>\n",
       "      <th>4</th>\n",
       "      <td>2021-08-16 16:59:23.766</td>\n",
       "      <td>8471</td>\n",
       "      <td>0</td>\n",
       "      <td>4888</td>\n",
       "      <td>4888</td>\n",
       "      <td>4220</td>\n",
       "      <td>4251</td>\n",
       "      <td>100</td>\n",
       "    </tr>\n",
       "  </tbody>\n",
       "</table>\n",
       "</div>"
      ],
      "text/plain": [
       "                 TimeStamp  Voltage  Current  Full charge Capacity  \\\n",
       "0  2021-08-16 16:59:15.766     8472        0                  4888   \n",
       "1  2021-08-16 16:59:17.768     8472        0                  4888   \n",
       "2  2021-08-16 16:59:19.766     8472        0                  4888   \n",
       "3  2021-08-16 16:59:21.766     8471        0                  4888   \n",
       "4  2021-08-16 16:59:23.766     8471        0                  4888   \n",
       "\n",
       "   Remaining Capacity  Cell 1 Voltage  Cell 2 Voltage  \\\n",
       "0                4888            4220            4251   \n",
       "1                4888            4220            4251   \n",
       "2                4888            4220            4251   \n",
       "3                4888            4220            4251   \n",
       "4                4888            4220            4251   \n",
       "\n",
       "   Relative State of Charge  \n",
       "0                       100  \n",
       "1                       100  \n",
       "2                       100  \n",
       "3                       100  \n",
       "4                       100  "
      ]
     },
     "execution_count": 4,
     "metadata": {},
     "output_type": "execute_result"
    }
   ],
   "source": [
    "from pandas import read_csv\n",
    "from matplotlib import pyplot\n",
    "# load dataset\n",
    "dataset = read_csv('soc1.csv', header=0,index_col=False)\n",
    "dataset.head()"
   ]
  },
  {
   "cell_type": "code",
   "execution_count": 5,
   "id": "bb0941be",
   "metadata": {},
   "outputs": [],
   "source": [
    "from pandas import DataFrame\n",
    "from pandas import concat\n",
    "from sklearn.preprocessing import MinMaxScaler\n",
    "\n",
    "# convert series to supervised learning\n",
    "def series_to_supervised(data, n_in=1, n_out=1, dropnan=True):\n",
    "\tn_vars = 1 if type(data) is list else data.shape[1]\n",
    "\tdf = DataFrame(data)\n",
    "\tcols, names = list(), list()\n",
    "\t# input sequence (t-n, ... t-1)\n",
    "\tfor i in range(n_in, 0, -1):\n",
    "\t\tcols.append(df.shift(i))\n",
    "\t\tnames += [('var%d(t-%d)' % (j+1, i)) for j in range(n_vars)]\n",
    "\t# forecast sequence (t, t+1, ... t+n)\n",
    "\tfor i in range(0, n_out):\n",
    "\t\tcols.append(df.shift(-i))\n",
    "\t\tif i == 0:\n",
    "\t\t\tnames += [('var%d(t)' % (j+1)) for j in range(n_vars)]\n",
    "\t\telse:\n",
    "\t\t\tnames += [('var%d(t+%d)' % (j+1, i)) for j in range(n_vars)]\n",
    "\t# put it all together\n",
    "\tagg = concat(cols, axis=1)\n",
    "\tagg.columns = names\n",
    "\t# drop rows with NaN values\n",
    "\tif dropnan:\n",
    "\t\tagg.dropna(inplace=True)\n",
    "\treturn agg\n"
   ]
  },
  {
   "cell_type": "code",
   "execution_count": 30,
   "id": "306e6e10",
   "metadata": {},
   "outputs": [
    {
     "name": "stdout",
     "output_type": "stream",
     "text": [
      "[[ 8472     0  4888 ...  4220  4251   100]\n",
      " [ 8472     0  4888 ...  4220  4251   100]\n",
      " [ 8472     0  4888 ...  4220  4251   100]\n",
      " ...\n",
      " [ 7000 -3625  3045 ...  3493  3507     0]\n",
      " [ 7000 -3626  3045 ...  3493  3506     0]\n",
      " [ 7001 -3625  3045 ...  3492  3506     0]]\n",
      "   var1(t-1)  var2(t-1)  var3(t-1)  var4(t-1)  var5(t-1)  var6(t-1)  \\\n",
      "1   1.000000        1.0        1.0        1.0        1.0        1.0   \n",
      "2   1.000000        1.0        1.0        1.0        1.0        1.0   \n",
      "3   1.000000        1.0        1.0        1.0        1.0        1.0   \n",
      "4   0.999321        1.0        1.0        1.0        1.0        1.0   \n",
      "5   0.999321        1.0        1.0        1.0        1.0        1.0   \n",
      "\n",
      "   var7(t-1)   var1(t)  \n",
      "1        1.0  1.000000  \n",
      "2        1.0  1.000000  \n",
      "3        1.0  0.999321  \n",
      "4        1.0  0.999321  \n",
      "5        1.0  0.887228  \n"
     ]
    },
    {
     "data": {
      "text/html": [
       "<div>\n",
       "<style scoped>\n",
       "    .dataframe tbody tr th:only-of-type {\n",
       "        vertical-align: middle;\n",
       "    }\n",
       "\n",
       "    .dataframe tbody tr th {\n",
       "        vertical-align: top;\n",
       "    }\n",
       "\n",
       "    .dataframe thead th {\n",
       "        text-align: right;\n",
       "    }\n",
       "</style>\n",
       "<table border=\"1\" class=\"dataframe\">\n",
       "  <thead>\n",
       "    <tr style=\"text-align: right;\">\n",
       "      <th></th>\n",
       "      <th>var1(t-1)</th>\n",
       "      <th>var2(t-1)</th>\n",
       "      <th>var3(t-1)</th>\n",
       "      <th>var4(t-1)</th>\n",
       "      <th>var5(t-1)</th>\n",
       "      <th>var6(t-1)</th>\n",
       "      <th>var7(t-1)</th>\n",
       "      <th>var1(t)</th>\n",
       "    </tr>\n",
       "  </thead>\n",
       "  <tbody>\n",
       "    <tr>\n",
       "      <th>1</th>\n",
       "      <td>1.000000</td>\n",
       "      <td>1.000000</td>\n",
       "      <td>1.0</td>\n",
       "      <td>1.000000</td>\n",
       "      <td>1.000000</td>\n",
       "      <td>1.000000</td>\n",
       "      <td>1.00</td>\n",
       "      <td>1.000000</td>\n",
       "    </tr>\n",
       "    <tr>\n",
       "      <th>2</th>\n",
       "      <td>1.000000</td>\n",
       "      <td>1.000000</td>\n",
       "      <td>1.0</td>\n",
       "      <td>1.000000</td>\n",
       "      <td>1.000000</td>\n",
       "      <td>1.000000</td>\n",
       "      <td>1.00</td>\n",
       "      <td>1.000000</td>\n",
       "    </tr>\n",
       "    <tr>\n",
       "      <th>3</th>\n",
       "      <td>1.000000</td>\n",
       "      <td>1.000000</td>\n",
       "      <td>1.0</td>\n",
       "      <td>1.000000</td>\n",
       "      <td>1.000000</td>\n",
       "      <td>1.000000</td>\n",
       "      <td>1.00</td>\n",
       "      <td>0.999321</td>\n",
       "    </tr>\n",
       "    <tr>\n",
       "      <th>4</th>\n",
       "      <td>0.999321</td>\n",
       "      <td>1.000000</td>\n",
       "      <td>1.0</td>\n",
       "      <td>1.000000</td>\n",
       "      <td>1.000000</td>\n",
       "      <td>1.000000</td>\n",
       "      <td>1.00</td>\n",
       "      <td>0.999321</td>\n",
       "    </tr>\n",
       "    <tr>\n",
       "      <th>5</th>\n",
       "      <td>0.999321</td>\n",
       "      <td>1.000000</td>\n",
       "      <td>1.0</td>\n",
       "      <td>1.000000</td>\n",
       "      <td>1.000000</td>\n",
       "      <td>1.000000</td>\n",
       "      <td>1.00</td>\n",
       "      <td>0.887228</td>\n",
       "    </tr>\n",
       "    <tr>\n",
       "      <th>...</th>\n",
       "      <td>...</td>\n",
       "      <td>...</td>\n",
       "      <td>...</td>\n",
       "      <td>...</td>\n",
       "      <td>...</td>\n",
       "      <td>...</td>\n",
       "      <td>...</td>\n",
       "      <td>...</td>\n",
       "    </tr>\n",
       "    <tr>\n",
       "      <th>1498</th>\n",
       "      <td>0.001359</td>\n",
       "      <td>0.162780</td>\n",
       "      <td>1.0</td>\n",
       "      <td>0.377864</td>\n",
       "      <td>0.002748</td>\n",
       "      <td>0.001342</td>\n",
       "      <td>0.38</td>\n",
       "      <td>0.001359</td>\n",
       "    </tr>\n",
       "    <tr>\n",
       "      <th>1499</th>\n",
       "      <td>0.001359</td>\n",
       "      <td>0.162549</td>\n",
       "      <td>1.0</td>\n",
       "      <td>0.377250</td>\n",
       "      <td>0.002748</td>\n",
       "      <td>0.001342</td>\n",
       "      <td>0.38</td>\n",
       "      <td>0.000679</td>\n",
       "    </tr>\n",
       "    <tr>\n",
       "      <th>1500</th>\n",
       "      <td>0.000679</td>\n",
       "      <td>0.163011</td>\n",
       "      <td>0.0</td>\n",
       "      <td>0.000000</td>\n",
       "      <td>0.001374</td>\n",
       "      <td>0.001342</td>\n",
       "      <td>0.00</td>\n",
       "      <td>0.000000</td>\n",
       "    </tr>\n",
       "    <tr>\n",
       "      <th>1501</th>\n",
       "      <td>0.000000</td>\n",
       "      <td>0.163011</td>\n",
       "      <td>0.0</td>\n",
       "      <td>0.000000</td>\n",
       "      <td>0.001374</td>\n",
       "      <td>0.001342</td>\n",
       "      <td>0.00</td>\n",
       "      <td>0.000000</td>\n",
       "    </tr>\n",
       "    <tr>\n",
       "      <th>1502</th>\n",
       "      <td>0.000000</td>\n",
       "      <td>0.162780</td>\n",
       "      <td>0.0</td>\n",
       "      <td>0.000000</td>\n",
       "      <td>0.001374</td>\n",
       "      <td>0.000000</td>\n",
       "      <td>0.00</td>\n",
       "      <td>0.000679</td>\n",
       "    </tr>\n",
       "  </tbody>\n",
       "</table>\n",
       "<p>1502 rows × 8 columns</p>\n",
       "</div>"
      ],
      "text/plain": [
       "      var1(t-1)  var2(t-1)  var3(t-1)  var4(t-1)  var5(t-1)  var6(t-1)  \\\n",
       "1      1.000000   1.000000        1.0   1.000000   1.000000   1.000000   \n",
       "2      1.000000   1.000000        1.0   1.000000   1.000000   1.000000   \n",
       "3      1.000000   1.000000        1.0   1.000000   1.000000   1.000000   \n",
       "4      0.999321   1.000000        1.0   1.000000   1.000000   1.000000   \n",
       "5      0.999321   1.000000        1.0   1.000000   1.000000   1.000000   \n",
       "...         ...        ...        ...        ...        ...        ...   \n",
       "1498   0.001359   0.162780        1.0   0.377864   0.002748   0.001342   \n",
       "1499   0.001359   0.162549        1.0   0.377250   0.002748   0.001342   \n",
       "1500   0.000679   0.163011        0.0   0.000000   0.001374   0.001342   \n",
       "1501   0.000000   0.163011        0.0   0.000000   0.001374   0.001342   \n",
       "1502   0.000000   0.162780        0.0   0.000000   0.001374   0.000000   \n",
       "\n",
       "      var7(t-1)   var1(t)  \n",
       "1          1.00  1.000000  \n",
       "2          1.00  1.000000  \n",
       "3          1.00  0.999321  \n",
       "4          1.00  0.999321  \n",
       "5          1.00  0.887228  \n",
       "...         ...       ...  \n",
       "1498       0.38  0.001359  \n",
       "1499       0.38  0.000679  \n",
       "1500       0.00  0.000000  \n",
       "1501       0.00  0.000000  \n",
       "1502       0.00  0.000679  \n",
       "\n",
       "[1502 rows x 8 columns]"
      ]
     },
     "execution_count": 30,
     "metadata": {},
     "output_type": "execute_result"
    }
   ],
   "source": [
    "dataset = read_csv('soc1.csv', header=0, index_col=0)\n",
    "values = dataset.values\n",
    "print(values)\n",
    "# ensure all data is float\n",
    "values = values.astype('float32')\n",
    "# normalize features\n",
    "scaler = MinMaxScaler(feature_range=(0, 1))\n",
    "scaled = scaler.fit_transform(values)\n",
    "# frame as supervised learning\n",
    "reframed = series_to_supervised(scaled, 1, 1)\n",
    "# drop columns we don't want to predict\n",
    "reframed.drop(reframed.columns[[8,9,10,11,12,13]], axis=1, inplace=True)\n",
    "print(reframed.head())\n",
    "reframed\n"
   ]
  },
  {
   "cell_type": "code",
   "execution_count": 7,
   "id": "394ba949",
   "metadata": {},
   "outputs": [
    {
     "name": "stdout",
     "output_type": "stream",
     "text": [
      "<class 'numpy.ndarray'>\n",
      "[[1.4198351e-01 1.4823365e-01 1.0000001e+00 ... 1.4697790e-01\n",
      "  1.3959742e-01 5.6999999e-01]\n",
      " [1.4470100e-01 1.4846450e-01 1.0000001e+00 ... 1.4697790e-01\n",
      "  1.3959742e-01 5.6999999e-01]\n",
      " [1.4062500e-01 1.4800274e-01 1.0000001e+00 ... 1.4560461e-01\n",
      "  1.4228201e-01 5.6999999e-01]\n",
      " ...\n",
      " [6.7901611e-04 1.6301084e-01 0.0000000e+00 ... 1.3737679e-03\n",
      "  1.3422966e-03 0.0000000e+00]\n",
      " [0.0000000e+00 1.6301084e-01 0.0000000e+00 ... 1.3737679e-03\n",
      "  1.3422966e-03 0.0000000e+00]\n",
      " [0.0000000e+00 1.6277993e-01 0.0000000e+00 ... 1.3737679e-03\n",
      "  0.0000000e+00 0.0000000e+00]]\n"
     ]
    }
   ],
   "source": [
    "# split into train and test sets\n",
    "values1 = reframed.values\n",
    "n_train_hours = 50*21\n",
    "train = values1[:n_train_hours, :]\n",
    "test = values1[n_train_hours:, :]\n",
    "# split into input and outputs\n",
    "x_train, y_train = train[:, :-1], train[:, -1]\n",
    "x_test, y_test = test[:, :-1], test[:, -1]\n",
    "print(type(y_test))\n",
    "print((y_test))"
   ]
  },
  {
   "cell_type": "code",
   "execution_count": 8,
   "id": "d288ad7e",
   "metadata": {},
   "outputs": [],
   "source": [
    "lr = LinearRegression()\n",
    "lr.fit(x_train, y_train)\n",
    "pred = lr.predict(x_test)"
   ]
  },
  {
   "cell_type": "code",
   "execution_count": 9,
   "id": "9fad26e8",
   "metadata": {},
   "outputs": [
    {
     "name": "stdout",
     "output_type": "stream",
     "text": [
      "RMSE {9.909381e-06}\n"
     ]
    }
   ],
   "source": [
    "print(\"RMSE\", {mean_squared_error(y_test, pred)})"
   ]
  },
  {
   "cell_type": "code",
   "execution_count": 10,
   "id": "5efc62d9",
   "metadata": {},
   "outputs": [],
   "source": [
    "def cal(n_inputs, n_hidden, n_classes):\n",
    "    i_weights = n_inputs*n_hidden\n",
    "    i_bias = n_hidden\n",
    "    h_weights = n_hidden * n_classes\n",
    "    h_bias = n_classes\n",
    "    n_params = i_weights + i_bias + h_weights + h_bias\n",
    "    \n",
    "    return i_weights, i_bias, h_weights, h_bias, n_params\n",
    "        "
   ]
  },
  {
   "cell_type": "code",
   "execution_count": 11,
   "id": "554e8dd3",
   "metadata": {},
   "outputs": [],
   "source": [
    "n_inputs = 7\n",
    "n_hidden = 20\n",
    "n_classes = 1\n",
    "i_weights , i_bias, h_weights, h_bias, n_params = cal(n_inputs, n_hidden, n_classes)"
   ]
  },
  {
   "cell_type": "code",
   "execution_count": 12,
   "id": "645152f8",
   "metadata": {},
   "outputs": [],
   "source": [
    "def forward(params):\n",
    "    w1 = params[:i_weights].reshape((n_inputs, n_hidden))\n",
    "    b1 = params[i_weights:i_weights+i_bias].reshape((n_hidden,))\n",
    "    w2 = params[i_weights+i_bias:i_weights+i_bias+h_weights].reshape((n_hidden, n_classes))\n",
    "    b2 = params[i_weights+i_bias+h_weights:].reshape((n_classes,))\n",
    "    \n",
    "    z1 = x_train.dot(w1) + b1\n",
    "    a1 = np.where(z1 > 0, z1, z1*0.01)\n",
    "    z2 = a1.dot(w2) + b2\n",
    "    \n",
    "    loss = mean_squared_error(y_train, z2)\n",
    "    \n",
    "    return loss"
   ]
  },
  {
   "cell_type": "code",
   "execution_count": 13,
   "id": "9290c9bc",
   "metadata": {},
   "outputs": [],
   "source": [
    "def f(x):\n",
    "    n_particles = x.shape[0]\n",
    "    j = [ forward(x[i]) for i in range(n_particles)]\n",
    "    return np.array(j)"
   ]
  },
  {
   "cell_type": "code",
   "execution_count": 14,
   "id": "937b223c",
   "metadata": {},
   "outputs": [],
   "source": [
    "def train(options):\n",
    "    optimizer = ps.single.GlobalBestPSO(n_particles = 100, dimensions = n_params, options = options)\n",
    "    cost,pos = optimizer.optimize(f, iters = 50)\n",
    "    return cost, pos, optimizer.cost_history"
   ]
  },
  {
   "cell_type": "code",
   "execution_count": 15,
   "id": "5b044e45",
   "metadata": {},
   "outputs": [],
   "source": [
    "def predict(X, pos):\n",
    "    w1 = pos[:i_weights].reshape((n_inputs, n_hidden))\n",
    "    b1 = pos[i_weights:i_weights+i_bias].reshape((n_hidden,))\n",
    "    w2 = pos[i_weights+i_bias:i_weights+i_bias+h_weights].reshape((n_hidden, n_classes))\n",
    "    b2 = pos[i_weights+i_bias+h_weights:].reshape((n_classes,))\n",
    "    \n",
    "    z1 = X.dot(w1) + b1\n",
    "    a1 = np.where(z1 > 0, z1 , z1*0.01)\n",
    "    z2 = a1.dot(w2)\n",
    "    \n",
    "    ypred = z2\n",
    "    return z2"
   ]
  },
  {
   "cell_type": "code",
   "execution_count": 16,
   "id": "5065df55",
   "metadata": {},
   "outputs": [],
   "source": [
    "def plot_history(history):\n",
    "    plt.style.use('ggplot')\n",
    "    plt.rcParams['ytick.right'] = True\n",
    "    plt.rcParams['ytick.labelright'] = True\n",
    "    plt.rcParams['ytick.left'] = True\n",
    "    plt.rcParams['ytick.labelleft'] = True\n",
    "    plt.rcParams['font.family'] = 'Arial'\n",
    "    \n",
    "    plt.ylim([min(history)-50, max(history)+50])\n",
    "    plt.title('Cost History')\n",
    "    plt.plot(history)"
   ]
  },
  {
   "cell_type": "code",
   "execution_count": 17,
   "id": "86871f4c",
   "metadata": {},
   "outputs": [],
   "source": [
    "checkpoint_state = np.random.get_state()"
   ]
  },
  {
   "cell_type": "code",
   "execution_count": 18,
   "id": "bb58a1b8",
   "metadata": {},
   "outputs": [
    {
     "name": "stderr",
     "output_type": "stream",
     "text": [
      "2022-05-26 13:45:52,674 - pyswarms.single.global_best - INFO - Optimize for 50 iters with {'c1': 0.9, 'c2': 0.1, 'w': 0.9}\n",
      "pyswarms.single.global_best: 100%|███████████████████████████████████████████████████████████|50/50, best_cost=0.000178\n",
      "2022-05-26 13:45:56,850 - pyswarms.single.global_best - INFO - Optimization finished | best cost: 0.00017788692138943405, best pos: [-3.80074319e-01 -1.13814148e+00 -6.76986558e-01  2.90068415e-01\n",
      " -8.92474189e-01 -4.14925326e-01 -1.95329448e+00 -3.42230112e-01\n",
      " -2.39619339e+00 -9.84110116e-01 -1.03258729e+00 -1.02316986e+00\n",
      " -1.30294704e-02 -9.15740888e-01 -5.97740018e-01 -2.43660961e-01\n",
      " -1.14598455e+00 -1.25232168e+00 -1.03383996e+00 -1.94442699e-01\n",
      " -3.59204797e-01  1.06786943e-01 -8.30569121e-01  3.24429090e-01\n",
      " -1.03082673e-01 -1.72061095e-01 -2.08738270e+00 -3.47373861e-01\n",
      " -1.33696060e+00 -1.38557722e+00 -2.02212540e+00 -8.05374956e-01\n",
      " -1.02582583e+00 -1.86131088e+00 -6.44088547e-01 -5.67743100e-01\n",
      "  5.95162131e-02 -3.07283265e-01 -4.89378786e-01 -4.66562013e-01\n",
      " -7.40198405e-01 -2.25196715e+00 -1.45406311e+00 -1.24552507e-01\n",
      " -1.15863424e+00 -2.14443268e+00 -7.48197846e-01 -1.23063063e+00\n",
      " -2.38838262e+00 -6.85620950e-01 -2.25525229e+00 -1.17874000e-01\n",
      " -4.06873738e-01 -2.20717966e+00 -1.04546328e+00 -1.11045949e+00\n",
      " -2.66116726e-03 -1.87302890e+00 -4.40708407e-01 -1.31167547e+00\n",
      " -7.82151641e-01 -4.87482715e-01 -7.86400929e-01 -2.43874402e+00\n",
      " -1.19548946e+00 -7.17829947e-01 -5.51509289e-01 -6.52364887e-01\n",
      " -8.66605457e-02 -2.21158096e-01 -7.08682395e-01 -4.35773365e-01\n",
      " -1.59200488e+00 -5.30791343e-01 -1.75652077e+00 -2.87667032e+00\n",
      " -3.42571440e-01 -2.05483969e+00 -2.48791969e+00 -4.80568290e-01\n",
      " -2.45666479e-01 -2.32887563e+00 -6.78601069e-01 -5.08738451e-01\n",
      " -1.62451869e+00 -1.27001052e+00 -1.44422896e+00 -5.27881565e-01\n",
      " -2.31094485e+00 -2.90869953e-01 -2.33532638e+00 -2.72076968e-01\n",
      " -3.75983359e+00  2.46198045e-01 -7.60377312e-01 -1.90245124e+00\n",
      " -3.05160168e+00 -7.24933467e-01 -5.70606256e-01 -1.06183854e-01\n",
      "  4.19737833e-02 -1.37926329e-01 -8.36145110e-01 -1.43378974e+00\n",
      " -1.65057311e+00 -5.94228809e-01 -1.69092388e+00 -1.74033332e+00\n",
      " -4.79742753e-01 -8.35953216e-01  5.31597439e-02  1.73894680e-01\n",
      " -1.33047854e+00 -5.56936119e-02 -5.28648780e-01 -2.05293158e+00\n",
      " -1.25282133e+00 -3.26450971e-01 -6.04759960e-01 -1.44679278e-01\n",
      " -1.15692623e+00 -8.74596792e-01 -1.56287502e+00 -1.51475023e+00\n",
      " -2.20439805e+00 -7.62022691e-01  2.41426954e-01 -3.90299602e-01\n",
      " -1.05889287e+00 -1.20015506e+00 -2.05674871e-01 -1.31754030e+00\n",
      " -8.81560197e-01 -1.07370496e+00 -9.75986843e-01 -1.20461515e+00\n",
      " -5.87393910e-01 -5.38875225e-01 -3.58492073e-01 -1.28726193e+00\n",
      " -3.22152416e-01 -7.60609138e-01 -6.27236376e-01 -3.39936708e+00\n",
      " -5.48684181e-01 -1.00320727e+00 -3.98827402e+00 -6.62515637e-01\n",
      " -4.69596566e-01 -1.50662929e+00 -1.41390443e+00 -1.10314307e+00\n",
      " -5.35926704e-01 -1.61443450e+00 -1.77283654e+00 -5.28537395e-01\n",
      " -1.16658846e+00 -2.70783773e+00 -8.20449659e-01 -9.48889640e-01\n",
      "  6.35945503e-02  2.71346009e-02 -1.11835052e+00 -3.47372557e-01\n",
      " -5.53585748e-01 -2.69922109e+00 -2.11868822e+00 -1.03076877e+00\n",
      " -1.18547971e+00 -1.53220272e+00 -3.26183142e-01 -1.13662780e-01\n",
      " -2.08924818e+00 -7.41729149e-02 -3.73514806e-02 -2.48800416e+00\n",
      " -2.09235943e+00 -8.10997400e-02 -2.13843134e+00 -9.52693300e-01\n",
      " -7.03374098e-01]\n"
     ]
    },
    {
     "name": "stdout",
     "output_type": "stream",
     "text": [
      "Wall time: 4.21 s\n"
     ]
    }
   ],
   "source": [
    "%%time\n",
    "np.random.set_state(checkpoint_state)\n",
    "options = {'c1':0.9,'c2':0.1,'w': 0.9}\n",
    "cost , pos, history = train(options)"
   ]
  },
  {
   "cell_type": "code",
   "execution_count": 19,
   "id": "15877e80",
   "metadata": {},
   "outputs": [
    {
     "name": "stdout",
     "output_type": "stream",
     "text": [
      "0.44979007978994845\n"
     ]
    }
   ],
   "source": [
    "print(mean_squared_error(predict(x_test, pos), y_test))"
   ]
  },
  {
   "cell_type": "code",
   "execution_count": 20,
   "id": "e4c3a16e",
   "metadata": {},
   "outputs": [
    {
     "data": {
      "image/png": "[encoded data removed]",
      "text/plain": [
       "<Figure size 432x288 with 1 Axes>"
      ]
     },
     "metadata": {},
     "output_type": "display_data"
    }
   ],
   "source": [
    "plot_history(history)"
   ]
  },
  {
   "cell_type": "code",
   "execution_count": 21,
   "id": "d0c2120b",
   "metadata": {},
   "outputs": [
    {
     "name": "stderr",
     "output_type": "stream",
     "text": [
      "2022-05-26 13:45:57,729 - pyswarms.single.global_best - INFO - Optimize for 50 iters with {'c1': 0.1, 'c2': 0.9, 'w': 0.9}\n",
      "pyswarms.single.global_best: 100%|█████████████████████████████████████████████████████████████|50/50, best_cost=0.0191\n",
      "2022-05-26 13:46:01,851 - pyswarms.single.global_best - INFO - Optimization finished | best cost: 0.01905629871632832, best pos: [-0.09655056  0.24705161 -0.19024587 -0.27614429 -0.08379132  0.25612945\n",
      " -1.02809073 -1.36454921  0.82190497  1.29647998 -1.17759125  0.72999332\n",
      "  0.15933576  0.96350238 -0.2312666  -0.57829215  0.10694339 -0.74035598\n",
      "  0.92290838 -0.57036541  0.62524276 -0.18082501  0.36204967 -0.19352094\n",
      "  1.16155886  0.27220664  0.6150137  -0.95437033  0.42985301 -0.03865692\n",
      " -0.5136931  -0.01959691 -0.2524785  -0.70096572 -0.61228558  0.35500094\n",
      " -0.55444359  0.43644405  0.68115923  1.40439843 -0.6612215  -0.59503617\n",
      "  0.7630551   0.85202362  0.00555975 -0.28338198  0.65063681 -1.33560302\n",
      " -1.36839766  0.47784453 -1.35098965 -0.84208164 -0.31458829 -0.79337998\n",
      " -0.04069341  1.44666639  1.45987143 -0.13090056 -2.32659807  0.95950098\n",
      " -0.08189586 -0.14857573  1.14458401  1.42865939 -1.46990001  0.5446609\n",
      "  1.0034493  -0.16197516  1.62292416  2.93373441  1.06383206 -0.22919717\n",
      " -0.32029087  0.15147824  1.12097323 -0.80199328 -0.58676571  0.95646017\n",
      "  1.5821254  -0.31132468 -0.00387312  1.15995869  0.16421808  0.09664521\n",
      "  0.36637305  0.24123454 -0.80509407 -0.48246514 -0.60020927  1.34187532\n",
      " -0.72504023 -0.17255167  0.21593424 -0.0628423  -0.88647156  1.00123536\n",
      " -1.00290886  0.29978519  0.13108214  1.11969686 -1.01418875  2.24117562\n",
      "  1.2016096   0.02643303 -0.60441952 -0.12627971  0.76913156  0.64839547\n",
      " -1.38040197  0.63106771  0.76565367 -0.01324978 -0.34482233  0.0888338\n",
      " -0.98183566  0.41014785  0.24589527 -1.28415259  0.61891718 -1.04295463\n",
      " -0.30567953  0.03579674 -0.09736947  1.44039382  0.38386377  1.01769331\n",
      "  1.9620081  -1.23134562 -0.10587204 -0.01510749  1.46440534 -0.03600471\n",
      " -0.49692891  0.2551286   0.49941726 -0.33549092  0.48517266 -0.19040366\n",
      "  0.51615875  1.12535655 -0.46288694  0.60211692 -1.16991307 -0.36477208\n",
      "  0.5917265   0.78555955 -0.85670724 -0.44391794  1.28700312 -0.44904849\n",
      " -0.70588332 -1.33944469 -1.16604784 -0.20678369  0.04614871  0.27769543\n",
      "  0.33482186  0.49246681 -0.98897918  1.60043092 -0.20914349 -0.06228121\n",
      "  0.49862088  0.88497555 -0.55390908  0.1905711   2.03702529 -0.73588995\n",
      "  0.17711502 -0.87622783 -0.78183771 -0.28717446 -1.07054619 -0.78911915\n",
      " -0.35438576  0.42695225 -1.46479109 -0.01190729 -0.54938935 -0.50987049\n",
      "  0.08623891]\n"
     ]
    },
    {
     "name": "stdout",
     "output_type": "stream",
     "text": [
      "Wall time: 4.14 s\n"
     ]
    }
   ],
   "source": [
    "%%time\n",
    "np.random.set_state(checkpoint_state)\n",
    "options = {'c1':0.1,'c2':0.9,'w': 0.9}\n",
    "cost , pos, history = train(options)"
   ]
  },
  {
   "cell_type": "code",
   "execution_count": 22,
   "id": "b65cd0b8",
   "metadata": {},
   "outputs": [
    {
     "data": {
      "image/png": "[encoded data removed]",
      "text/plain": [
       "<Figure size 432x288 with 1 Axes>"
      ]
     },
     "metadata": {},
     "output_type": "display_data"
    }
   ],
   "source": [
    "plot_history(history)"
   ]
  },
  {
   "cell_type": "code",
   "execution_count": 23,
   "id": "a1adeed4",
   "metadata": {},
   "outputs": [
    {
     "name": "stdout",
     "output_type": "stream",
     "text": [
      "0.40894147352197\n"
     ]
    }
   ],
   "source": [
    "print(mean_squared_error(predict(x_test, pos), y_test))"
   ]
  },
  {
   "cell_type": "code",
   "execution_count": 24,
   "id": "22102770",
   "metadata": {},
   "outputs": [],
   "source": [
    "#RMSE - 0.6394"
   ]
  },
  {
   "cell_type": "code",
   "execution_count": 25,
   "id": "aaff7818",
   "metadata": {},
   "outputs": [
    {
     "name": "stderr",
     "output_type": "stream",
     "text": [
      "2022-05-26 13:46:02,495 - pyswarms.single.global_best - INFO - Optimize for 50 iters with {'c1': 0.5, 'c2': 0.9, 'w': 0.9}\n",
      "pyswarms.single.global_best: 100%|████████████████████████████████████████████████████████████|50/50, best_cost=0.00096\n",
      "2022-05-26 13:46:06,567 - pyswarms.single.global_best - INFO - Optimization finished | best cost: 0.0009601845762323023, best pos: [-0.33236873 -0.09319714 -0.11682172 -0.97703314 -1.57361635 -0.61034462\n",
      " -1.33524969 -0.71115315 -0.83462144 -0.27863591 -0.9356289  -1.03059228\n",
      " -0.1995054   0.3965182  -0.3021429  -0.25702549 -0.77319683 -0.90982076\n",
      "  0.27342027  0.37401871  0.01771526 -0.6939409  -0.98652602  0.47263489\n",
      " -0.87326779 -0.97373745 -0.14923756  0.14039941 -0.85061474  0.24642258\n",
      " -0.90318669 -2.35534958  0.19207581 -0.24325617 -0.32872501 -1.25034995\n",
      " -1.62658872 -0.31995485  0.24371268  0.10363594 -0.06118338  0.97841891\n",
      " -1.98170445  0.97888417 -0.62569217 -0.56835494 -2.92844853  0.13076218\n",
      " -0.68007678  0.07594557 -0.38411017 -0.1817776  -0.84695794 -0.46485485\n",
      " -0.22707175  0.42864907  0.97950934 -0.20091996  0.1628238  -2.68348413\n",
      " -2.23208923 -2.33660222  0.07797282  0.3755641  -0.9837415  -0.1609432\n",
      "  0.14055923 -0.00326175  0.34350101  0.59230908  0.29842407  0.19814395\n",
      " -0.86987711 -0.54537655 -1.11215304 -0.82635704 -0.92445865 -0.53704119\n",
      " -0.33478798 -0.05784374  0.13680953  0.62138932  0.54314628  0.57241713\n",
      "  0.44306186  0.18520169 -0.48179241 -0.52326521 -0.54259057  0.54763352\n",
      " -0.50283894  0.75841918  0.54486016  1.83481993 -0.89712987  0.21487426\n",
      " -0.3966141  -0.16911126  0.17080453 -0.32596591  0.1902333  -0.61147521\n",
      " -0.11246039 -0.41487765 -0.54553008 -0.67186299  0.13234893 -0.26182707\n",
      "  0.009879   -1.27363616 -0.39605261  1.18028438 -1.26019082 -0.46786826\n",
      " -0.10388839  1.70369399 -0.99193486  0.60743798 -0.25558032 -0.24509856\n",
      " -0.86381565 -0.15972188 -0.52626714 -0.01052691 -0.55096145 -0.45963056\n",
      "  0.06233862 -1.99582198 -0.42653244 -0.06619176  0.0182929  -1.20022661\n",
      " -1.85325585 -2.1321337  -0.13651798 -0.07593003 -0.71911606  0.32801293\n",
      " -0.08080318  0.40862067  1.15490058 -0.18034514  0.8811565  -0.00503873\n",
      " -0.25113575 -0.12715839 -1.58116103 -0.65774964  1.40369648  0.25075446\n",
      " -0.45555004  0.95119819 -0.57718582  1.09892836 -0.71572898  0.67633766\n",
      "  0.30601116 -0.74726359 -0.71017605 -1.39856669 -0.35099898 -1.05858459\n",
      " -1.58752465  0.27957421 -0.80714233 -0.39561389 -0.13786462 -0.01548599\n",
      " -0.14762904 -0.89198031 -1.63095882 -0.50460494 -0.28190974 -0.59339332\n",
      " -0.28556656  0.46570963 -1.15977754  0.22098966 -0.40439006  0.04709491\n",
      " -0.04399098]\n"
     ]
    },
    {
     "name": "stdout",
     "output_type": "stream",
     "text": [
      "Wall time: 4.11 s\n"
     ]
    }
   ],
   "source": [
    "%%time\n",
    "np.random.set_state(checkpoint_state)\n",
    "options = {'c1':0.5,'c2':0.9,'w': 0.9}\n",
    "cost , pos, history = train(options)"
   ]
  },
  {
   "cell_type": "code",
   "execution_count": 26,
   "id": "bdc11c36",
   "metadata": {},
   "outputs": [
    {
     "data": {
      "image/png": "[encoded data removed]",
      "text/plain": [
       "<Figure size 432x288 with 1 Axes>"
      ]
     },
     "metadata": {},
     "output_type": "display_data"
    }
   ],
   "source": [
    "plot_history(history)"
   ]
  },
  {
   "cell_type": "code",
   "execution_count": 27,
   "id": "2b32e7ca",
   "metadata": {},
   "outputs": [
    {
     "name": "stdout",
     "output_type": "stream",
     "text": [
      "0.0780339943626721\n"
     ]
    }
   ],
   "source": [
    "print(mean_squared_error(predict(x_test, pos), y_test))"
   ]
  }
 ],
 "metadata": {
  "kernelspec": {
   "display_name": "Python 3",
   "language": "python",
   "name": "python3"
  },
  "language_info": {
   "codemirror_mode": {
    "name": "ipython",
    "version": 3
   },
   "file_extension": ".py",
   "mimetype": "text/x-python",
   "name": "python",
   "nbconvert_exporter": "python",
   "pygments_lexer": "ipython3",
   "version": "3.8.8"
  }
 },
 "nbformat": 4,
 "nbformat_minor": 5
}
