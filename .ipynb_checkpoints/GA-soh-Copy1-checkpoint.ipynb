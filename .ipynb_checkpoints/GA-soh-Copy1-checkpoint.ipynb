{
 "cells": [
  {
   "cell_type": "code",
   "execution_count": 1,
   "metadata": {},
   "outputs": [],
   "source": [
    "import numpy as np\n",
    "import keras\n",
    "from keras.models import Sequential\n",
    "from keras.layers import Dense, Dropout, Flatten\n",
    "from keras.layers import Conv2D, MaxPooling2D\n",
    "from keras.models import Model\n",
    "from keras.models import load_model\n",
    "import matplotlib.pyplot as plt"
   ]
  },
  {
   "cell_type": "code",
   "execution_count": 2,
   "metadata": {},
   "outputs": [],
   "source": [
    "import pyswarms as ps\n",
    "from pyswarms.utils.plotters import (plot_cost_history)\n",
    "%matplotlib inline\n",
    "\n",
    "import pandas as pd \n",
    "import numpy as np\n",
    "import matplotlib.pyplot as plt\n",
    "from sklearn.model_selection import train_test_split\n",
    "from keras import Sequential\n",
    "from keras.layers import LSTM, Dropout, Dense, TimeDistributed, Activation"
   ]
  },
  {
   "cell_type": "code",
   "execution_count": 3,
   "metadata": {},
   "outputs": [
    {
     "data": {
      "text/html": [
       "<div>\n",
       "<style scoped>\n",
       "    .dataframe tbody tr th:only-of-type {\n",
       "        vertical-align: middle;\n",
       "    }\n",
       "\n",
       "    .dataframe tbody tr th {\n",
       "        vertical-align: top;\n",
       "    }\n",
       "\n",
       "    .dataframe thead th {\n",
       "        text-align: right;\n",
       "    }\n",
       "</style>\n",
       "<table border=\"1\" class=\"dataframe\">\n",
       "  <thead>\n",
       "    <tr style=\"text-align: right;\">\n",
       "      <th></th>\n",
       "      <th>TimeStamp</th>\n",
       "      <th>Voltage</th>\n",
       "      <th>Current</th>\n",
       "      <th>Relative State of Charge</th>\n",
       "      <th>Full charge Capacity</th>\n",
       "      <th>Remaining Capacity</th>\n",
       "      <th>Cell 1 Voltage</th>\n",
       "      <th>Cell 2 Voltage</th>\n",
       "      <th>soh</th>\n",
       "    </tr>\n",
       "  </thead>\n",
       "  <tbody>\n",
       "    <tr>\n",
       "      <th>0</th>\n",
       "      <td>2021-08-16 17:01:27.063</td>\n",
       "      <td>8107</td>\n",
       "      <td>-4194</td>\n",
       "      <td>100</td>\n",
       "      <td>4888</td>\n",
       "      <td>4874</td>\n",
       "      <td>4048</td>\n",
       "      <td>4063</td>\n",
       "      <td>0.985679</td>\n",
       "    </tr>\n",
       "    <tr>\n",
       "      <th>1</th>\n",
       "      <td>2021-08-16 17:01:27.766</td>\n",
       "      <td>8106</td>\n",
       "      <td>-4193</td>\n",
       "      <td>100</td>\n",
       "      <td>4888</td>\n",
       "      <td>4874</td>\n",
       "      <td>4047</td>\n",
       "      <td>4059</td>\n",
       "      <td>0.985679</td>\n",
       "    </tr>\n",
       "    <tr>\n",
       "      <th>2</th>\n",
       "      <td>2021-08-16 17:01:31.064</td>\n",
       "      <td>8105</td>\n",
       "      <td>-4191</td>\n",
       "      <td>100</td>\n",
       "      <td>4888</td>\n",
       "      <td>4870</td>\n",
       "      <td>4046</td>\n",
       "      <td>4059</td>\n",
       "      <td>0.981588</td>\n",
       "    </tr>\n",
       "    <tr>\n",
       "      <th>3</th>\n",
       "      <td>2021-08-16 17:01:31.766</td>\n",
       "      <td>8102</td>\n",
       "      <td>-4190</td>\n",
       "      <td>100</td>\n",
       "      <td>4888</td>\n",
       "      <td>4870</td>\n",
       "      <td>4045</td>\n",
       "      <td>4057</td>\n",
       "      <td>0.981588</td>\n",
       "    </tr>\n",
       "    <tr>\n",
       "      <th>4</th>\n",
       "      <td>2021-08-16 17:01:35.112</td>\n",
       "      <td>8101</td>\n",
       "      <td>-4188</td>\n",
       "      <td>100</td>\n",
       "      <td>4888</td>\n",
       "      <td>4865</td>\n",
       "      <td>4045</td>\n",
       "      <td>4060</td>\n",
       "      <td>0.976473</td>\n",
       "    </tr>\n",
       "  </tbody>\n",
       "</table>\n",
       "</div>"
      ],
      "text/plain": [
       "                 TimeStamp  Voltage  Current  Relative State of Charge  \\\n",
       "0  2021-08-16 17:01:27.063     8107    -4194                       100   \n",
       "1  2021-08-16 17:01:27.766     8106    -4193                       100   \n",
       "2  2021-08-16 17:01:31.064     8105    -4191                       100   \n",
       "3  2021-08-16 17:01:31.766     8102    -4190                       100   \n",
       "4  2021-08-16 17:01:35.112     8101    -4188                       100   \n",
       "\n",
       "   Full charge Capacity  Remaining Capacity  Cell 1 Voltage  Cell 2 Voltage  \\\n",
       "0                  4888                4874            4048            4063   \n",
       "1                  4888                4874            4047            4059   \n",
       "2                  4888                4870            4046            4059   \n",
       "3                  4888                4870            4045            4057   \n",
       "4                  4888                4865            4045            4060   \n",
       "\n",
       "        soh  \n",
       "0  0.985679  \n",
       "1  0.985679  \n",
       "2  0.981588  \n",
       "3  0.981588  \n",
       "4  0.976473  "
      ]
     },
     "execution_count": 3,
     "metadata": {},
     "output_type": "execute_result"
    }
   ],
   "source": [
    "from pandas import read_csv\n",
    "from matplotlib import pyplot\n",
    "# load dataset\n",
    "dataset = read_csv('soh_1.csv', header=0,index_col=False)\n",
    "dataset.head()"
   ]
  },
  {
   "cell_type": "code",
   "execution_count": 4,
   "metadata": {},
   "outputs": [],
   "source": [
    "import random\n",
    "Rand = 42\n",
    "random.seed(Rand)\n",
    "np.random.seed(Rand)"
   ]
  },
  {
   "cell_type": "code",
   "execution_count": 5,
   "metadata": {},
   "outputs": [],
   "source": [
    "from sklearn.preprocessing import MinMaxScaler\n",
    "\n",
    "dataset = read_csv('soh_1.csv', header=0, index_col=0)\n",
    "values = dataset.values\n",
    "# ensure all data is float\n",
    "values = values.astype('float32')\n",
    "# normalize features\n",
    "scaler = MinMaxScaler(feature_range=(0, 1))"
   ]
  },
  {
   "cell_type": "code",
   "execution_count": 6,
   "metadata": {},
   "outputs": [],
   "source": [
    "y = values[:, -1]\n",
    "x = values[:,:-1]\n",
    "x = scaler.fit_transform(x)\n",
    "y = scaler.fit_transform(np.array(y).reshape(-1,1))\n",
    "x_train, x_test, y_train, y_test = train_test_split(x, y, test_size=0.2, random_state=0, shuffle = False)\n",
    "x_train = x_train.reshape((x_train.shape[0], 1, x_train.shape[1]))\n",
    "x_test = x_test.reshape((x_test.shape[0], 1, x_test.shape[1]))"
   ]
  },
  {
   "cell_type": "code",
   "execution_count": 7,
   "metadata": {},
   "outputs": [
    {
     "data": {
      "text/plain": [
       "(100, 1)"
      ]
     },
     "execution_count": 7,
     "metadata": {},
     "output_type": "execute_result"
    }
   ],
   "source": [
    "y_train.shape"
   ]
  },
  {
   "cell_type": "code",
   "execution_count": 8,
   "metadata": {},
   "outputs": [
    {
     "data": {
      "text/plain": [
       "(100, 1, 7)"
      ]
     },
     "execution_count": 8,
     "metadata": {},
     "output_type": "execute_result"
    }
   ],
   "source": [
    "x_train.shape\n"
   ]
  },
  {
   "cell_type": "code",
   "execution_count": 9,
   "metadata": {},
   "outputs": [],
   "source": [
    "model = Sequential()\n",
    "model.add(LSTM(7, return_sequences=False, input_shape=(x_train.shape[1], x_train.shape[2])))\n",
    "model.add(Dense(1, activation='linear'))"
   ]
  },
  {
   "cell_type": "code",
   "execution_count": 10,
   "metadata": {},
   "outputs": [],
   "source": [
    "def rmse_nn(y_true, y_pred):\n",
    "    from keras import backend\n",
    "    return backend.sqrt(backend.mean(backend.square(y_pred - y_true), axis=-1))\n",
    "\n",
    "def r_square_loss(y_true, y_pred):\n",
    "    from keras import backend as K\n",
    "    SS_res =  K.sum(K.square(y_true - y_pred)) \n",
    "    SS_tot = K.sum(K.square(y_true - K.mean(y_true))) \n",
    "    return 1 - ( 1 - SS_res/(SS_tot + K.epsilon()))"
   ]
  },
  {
   "cell_type": "code",
   "execution_count": 11,
   "metadata": {},
   "outputs": [
    {
     "name": "stdout",
     "output_type": "stream",
     "text": [
      "Model: \"sequential\"\n",
      "_________________________________________________________________\n",
      " Layer (type)                Output Shape              Param #   \n",
      "=================================================================\n",
      " lstm (LSTM)                 (None, 7)                 420       \n",
      "                                                                 \n",
      " dense (Dense)               (None, 1)                 8         \n",
      "                                                                 \n",
      "=================================================================\n",
      "Total params: 428\n",
      "Trainable params: 428\n",
      "Non-trainable params: 0\n",
      "_________________________________________________________________\n"
     ]
    }
   ],
   "source": [
    "model.compile(loss=rmse_nn, optimizer='sgd', metrics=[rmse_nn, r_square_loss])\n",
    "model.summary()"
   ]
  },
  {
   "cell_type": "code",
   "execution_count": 12,
   "metadata": {},
   "outputs": [
    {
     "name": "stdout",
     "output_type": "stream",
     "text": [
      "Epoch 1/20\n",
      "WARNING:tensorflow:AutoGraph could not transform <function Model.make_train_function.<locals>.train_function at 0x7fcfc8742290> and will run it as-is.\n",
      "Please report this to the TensorFlow team. When filing the bug, set the verbosity to 10 (on Linux, `export AUTOGRAPH_VERBOSITY=10`) and attach the full output.\n",
      "Cause: 'arguments' object has no attribute 'posonlyargs'\n",
      "To silence this warning, decorate the function with @tf.autograph.experimental.do_not_convert\n"
     ]
    },
    {
     "name": "stderr",
     "output_type": "stream",
     "text": [
      "2022-05-29 20:38:14,063 - tensorflow - WARNING - AutoGraph could not transform <function Model.make_train_function.<locals>.train_function at 0x7fcfc8742290> and will run it as-is.\n",
      "Please report this to the TensorFlow team. When filing the bug, set the verbosity to 10 (on Linux, `export AUTOGRAPH_VERBOSITY=10`) and attach the full output.\n",
      "Cause: 'arguments' object has no attribute 'posonlyargs'\n",
      "To silence this warning, decorate the function with @tf.autograph.experimental.do_not_convert\n"
     ]
    },
    {
     "name": "stdout",
     "output_type": "stream",
     "text": [
      "WARNING: AutoGraph could not transform <function Model.make_train_function.<locals>.train_function at 0x7fcfc8742290> and will run it as-is.\n",
      "Please report this to the TensorFlow team. When filing the bug, set the verbosity to 10 (on Linux, `export AUTOGRAPH_VERBOSITY=10`) and attach the full output.\n",
      "Cause: 'arguments' object has no attribute 'posonlyargs'\n",
      "To silence this warning, decorate the function with @tf.autograph.experimental.do_not_convert\n",
      "WARNING:tensorflow:AutoGraph could not transform <function rmse_nn at 0x7fcfd80c88c0> and will run it as-is.\n",
      "Please report this to the TensorFlow team. When filing the bug, set the verbosity to 10 (on Linux, `export AUTOGRAPH_VERBOSITY=10`) and attach the full output.\n",
      "Cause: 'arguments' object has no attribute 'posonlyargs'\n",
      "To silence this warning, decorate the function with @tf.autograph.experimental.do_not_convert\n"
     ]
    },
    {
     "name": "stderr",
     "output_type": "stream",
     "text": [
      "2022-05-29 20:38:14,281 - tensorflow - WARNING - AutoGraph could not transform <function rmse_nn at 0x7fcfd80c88c0> and will run it as-is.\n",
      "Please report this to the TensorFlow team. When filing the bug, set the verbosity to 10 (on Linux, `export AUTOGRAPH_VERBOSITY=10`) and attach the full output.\n",
      "Cause: 'arguments' object has no attribute 'posonlyargs'\n",
      "To silence this warning, decorate the function with @tf.autograph.experimental.do_not_convert\n"
     ]
    },
    {
     "name": "stdout",
     "output_type": "stream",
     "text": [
      "WARNING: AutoGraph could not transform <function rmse_nn at 0x7fcfd80c88c0> and will run it as-is.\n",
      "Please report this to the TensorFlow team. When filing the bug, set the verbosity to 10 (on Linux, `export AUTOGRAPH_VERBOSITY=10`) and attach the full output.\n",
      "Cause: 'arguments' object has no attribute 'posonlyargs'\n",
      "To silence this warning, decorate the function with @tf.autograph.experimental.do_not_convert\n",
      "WARNING:tensorflow:AutoGraph could not transform <function r_square_loss at 0x7fcfd80c89e0> and will run it as-is.\n",
      "Please report this to the TensorFlow team. When filing the bug, set the verbosity to 10 (on Linux, `export AUTOGRAPH_VERBOSITY=10`) and attach the full output.\n",
      "Cause: 'arguments' object has no attribute 'posonlyargs'\n",
      "To silence this warning, decorate the function with @tf.autograph.experimental.do_not_convert\n"
     ]
    },
    {
     "name": "stderr",
     "output_type": "stream",
     "text": [
      "2022-05-29 20:38:14,658 - tensorflow - WARNING - AutoGraph could not transform <function r_square_loss at 0x7fcfd80c89e0> and will run it as-is.\n",
      "Please report this to the TensorFlow team. When filing the bug, set the verbosity to 10 (on Linux, `export AUTOGRAPH_VERBOSITY=10`) and attach the full output.\n",
      "Cause: 'arguments' object has no attribute 'posonlyargs'\n",
      "To silence this warning, decorate the function with @tf.autograph.experimental.do_not_convert\n"
     ]
    },
    {
     "name": "stdout",
     "output_type": "stream",
     "text": [
      "WARNING: AutoGraph could not transform <function r_square_loss at 0x7fcfd80c89e0> and will run it as-is.\n",
      "Please report this to the TensorFlow team. When filing the bug, set the verbosity to 10 (on Linux, `export AUTOGRAPH_VERBOSITY=10`) and attach the full output.\n",
      "Cause: 'arguments' object has no attribute 'posonlyargs'\n",
      "To silence this warning, decorate the function with @tf.autograph.experimental.do_not_convert\n",
      "1/2 [==============>...............] - ETA: 1s - loss: 0.6962 - rmse_nn: 0.6962 - r_square_loss: 13.5451WARNING:tensorflow:AutoGraph could not transform <function Model.make_test_function.<locals>.test_function at 0x7fcfc82fc9e0> and will run it as-is.\n",
      "Please report this to the TensorFlow team. When filing the bug, set the verbosity to 10 (on Linux, `export AUTOGRAPH_VERBOSITY=10`) and attach the full output.\n",
      "Cause: 'arguments' object has no attribute 'posonlyargs'\n",
      "To silence this warning, decorate the function with @tf.autograph.experimental.do_not_convert\n"
     ]
    },
    {
     "name": "stderr",
     "output_type": "stream",
     "text": [
      "2022-05-29 20:38:15,582 - tensorflow - WARNING - AutoGraph could not transform <function Model.make_test_function.<locals>.test_function at 0x7fcfc82fc9e0> and will run it as-is.\n",
      "Please report this to the TensorFlow team. When filing the bug, set the verbosity to 10 (on Linux, `export AUTOGRAPH_VERBOSITY=10`) and attach the full output.\n",
      "Cause: 'arguments' object has no attribute 'posonlyargs'\n",
      "To silence this warning, decorate the function with @tf.autograph.experimental.do_not_convert\n"
     ]
    },
    {
     "name": "stdout",
     "output_type": "stream",
     "text": [
      "WARNING: AutoGraph could not transform <function Model.make_test_function.<locals>.test_function at 0x7fcfc82fc9e0> and will run it as-is.\n",
      "Please report this to the TensorFlow team. When filing the bug, set the verbosity to 10 (on Linux, `export AUTOGRAPH_VERBOSITY=10`) and attach the full output.\n",
      "Cause: 'arguments' object has no attribute 'posonlyargs'\n",
      "To silence this warning, decorate the function with @tf.autograph.experimental.do_not_convert\n",
      "2/2 [==============================] - 2s 358ms/step - loss: 0.7096 - rmse_nn: 0.7096 - r_square_loss: 16.9793 - val_loss: 0.3168 - val_rmse_nn: 0.3168 - val_r_square_loss: 48.4593\n",
      "Epoch 2/20\n",
      "2/2 [==============================] - 0s 17ms/step - loss: 0.6785 - rmse_nn: 0.6785 - r_square_loss: 14.1643 - val_loss: 0.2889 - val_rmse_nn: 0.2889 - val_r_square_loss: 40.4345\n",
      "Epoch 3/20\n",
      "2/2 [==============================] - 0s 18ms/step - loss: 0.6475 - rmse_nn: 0.6475 - r_square_loss: 12.7946 - val_loss: 0.2610 - val_rmse_nn: 0.2610 - val_r_square_loss: 33.1432\n",
      "Epoch 4/20\n",
      "2/2 [==============================] - 0s 20ms/step - loss: 0.6165 - rmse_nn: 0.6165 - r_square_loss: 12.4505 - val_loss: 0.2331 - val_rmse_nn: 0.2331 - val_r_square_loss: 26.5890\n",
      "Epoch 5/20\n",
      "2/2 [==============================] - 0s 19ms/step - loss: 0.5855 - rmse_nn: 0.5855 - r_square_loss: 10.8983 - val_loss: 0.2052 - val_rmse_nn: 0.2052 - val_r_square_loss: 20.7831\n",
      "Epoch 6/20\n",
      "2/2 [==============================] - 0s 21ms/step - loss: 0.5545 - rmse_nn: 0.5545 - r_square_loss: 9.5579 - val_loss: 0.1773 - val_rmse_nn: 0.1773 - val_r_square_loss: 15.7096\n",
      "Epoch 7/20\n",
      "2/2 [==============================] - 0s 20ms/step - loss: 0.5235 - rmse_nn: 0.5235 - r_square_loss: 8.6341 - val_loss: 0.1495 - val_rmse_nn: 0.1495 - val_r_square_loss: 11.3732\n",
      "Epoch 8/20\n",
      "2/2 [==============================] - 0s 21ms/step - loss: 0.4926 - rmse_nn: 0.4926 - r_square_loss: 7.7386 - val_loss: 0.1216 - val_rmse_nn: 0.1216 - val_r_square_loss: 7.7773\n",
      "Epoch 9/20\n",
      "2/2 [==============================] - 0s 21ms/step - loss: 0.4617 - rmse_nn: 0.4617 - r_square_loss: 7.6312 - val_loss: 0.0937 - val_rmse_nn: 0.0937 - val_r_square_loss: 4.9166\n",
      "Epoch 10/20\n",
      "2/2 [==============================] - 0s 21ms/step - loss: 0.4308 - rmse_nn: 0.4308 - r_square_loss: 6.0598 - val_loss: 0.0658 - val_rmse_nn: 0.0658 - val_r_square_loss: 2.7912\n",
      "Epoch 11/20\n",
      "2/2 [==============================] - 0s 20ms/step - loss: 0.3999 - rmse_nn: 0.3999 - r_square_loss: 5.2740 - val_loss: 0.0442 - val_rmse_nn: 0.0442 - val_r_square_loss: 1.4033\n",
      "Epoch 12/20\n",
      "2/2 [==============================] - 0s 21ms/step - loss: 0.3690 - rmse_nn: 0.3690 - r_square_loss: 4.7388 - val_loss: 0.0341 - val_rmse_nn: 0.0341 - val_r_square_loss: 0.7538\n",
      "Epoch 13/20\n",
      "2/2 [==============================] - 0s 22ms/step - loss: 0.3380 - rmse_nn: 0.3380 - r_square_loss: 4.3636 - val_loss: 0.0364 - val_rmse_nn: 0.0364 - val_r_square_loss: 0.8416\n",
      "Epoch 14/20\n",
      "2/2 [==============================] - 0s 22ms/step - loss: 0.3071 - rmse_nn: 0.3071 - r_square_loss: 3.3802 - val_loss: 0.0482 - val_rmse_nn: 0.0482 - val_r_square_loss: 1.6686\n",
      "Epoch 15/20\n",
      "2/2 [==============================] - 0s 22ms/step - loss: 0.2762 - rmse_nn: 0.2762 - r_square_loss: 2.9820 - val_loss: 0.0737 - val_rmse_nn: 0.0737 - val_r_square_loss: 3.2338\n",
      "Epoch 16/20\n",
      "2/2 [==============================] - 0s 22ms/step - loss: 0.2461 - rmse_nn: 0.2461 - r_square_loss: 2.5076 - val_loss: 0.1001 - val_rmse_nn: 0.1001 - val_r_square_loss: 5.3978\n",
      "Epoch 17/20\n",
      "2/2 [==============================] - 0s 22ms/step - loss: 0.2210 - rmse_nn: 0.2210 - r_square_loss: 2.0269 - val_loss: 0.1224 - val_rmse_nn: 0.1224 - val_r_square_loss: 7.7359\n",
      "Epoch 18/20\n",
      "2/2 [==============================] - 0s 22ms/step - loss: 0.2014 - rmse_nn: 0.2014 - r_square_loss: 1.8792 - val_loss: 0.1426 - val_rmse_nn: 0.1426 - val_r_square_loss: 10.2623\n",
      "Epoch 19/20\n",
      "2/2 [==============================] - 0s 23ms/step - loss: 0.1853 - rmse_nn: 0.1853 - r_square_loss: 1.5627 - val_loss: 0.1608 - val_rmse_nn: 0.1608 - val_r_square_loss: 12.8549\n",
      "Epoch 20/20\n",
      "2/2 [==============================] - 0s 21ms/step - loss: 0.1723 - rmse_nn: 0.1723 - r_square_loss: 1.2823 - val_loss: 0.1751 - val_rmse_nn: 0.1751 - val_r_square_loss: 15.1307\n"
     ]
    }
   ],
   "source": [
    "historyNN = model.fit(x_train, y_train, batch_size=50, epochs=20, validation_split = 0.2)"
   ]
  },
  {
   "cell_type": "code",
   "execution_count": 13,
   "metadata": {},
   "outputs": [
    {
     "data": {
      "image/png": "[encoded data removed]",
      "text/plain": [
       "<Figure size 432x288 with 1 Axes>"
      ]
     },
     "metadata": {
      "needs_background": "light"
     },
     "output_type": "display_data"
    }
   ],
   "source": [
    "plt.plot(historyNN.history['loss'])\n",
    "plt.plot(historyNN.history['val_loss'])\n",
    "plt.title('Model Loss Plot')\n",
    "plt.ylabel('Loss')\n",
    "plt.xlabel('Epoch')\n",
    "plt.legend(['Train', 'Validation'], loc='upper left')\n",
    "plt.show()"
   ]
  },
  {
   "cell_type": "code",
   "execution_count": 14,
   "metadata": {},
   "outputs": [
    {
     "name": "stdout",
     "output_type": "stream",
     "text": [
      "1/1 [==============================] - 0s 18ms/step - loss: 0.3056 - rmse_nn: 0.3056 - r_square_loss: 26.1457\n"
     ]
    }
   ],
   "source": [
    "lossNN = model.evaluate(x_test, y_test)"
   ]
  },
  {
   "cell_type": "code",
   "execution_count": 15,
   "metadata": {},
   "outputs": [
    {
     "name": "stdout",
     "output_type": "stream",
     "text": [
      "The loss output for test dataset is: 0.305604\n"
     ]
    }
   ],
   "source": [
    "print('The loss output for test dataset is: %f' % lossNN[0])"
   ]
  },
  {
   "cell_type": "code",
   "execution_count": 16,
   "metadata": {},
   "outputs": [
    {
     "name": "stdout",
     "output_type": "stream",
     "text": [
      "WARNING:tensorflow:AutoGraph could not transform <function Model.make_predict_function.<locals>.predict_function at 0x7fcfa56a8dd0> and will run it as-is.\n",
      "Please report this to the TensorFlow team. When filing the bug, set the verbosity to 10 (on Linux, `export AUTOGRAPH_VERBOSITY=10`) and attach the full output.\n",
      "Cause: 'arguments' object has no attribute 'posonlyargs'\n",
      "To silence this warning, decorate the function with @tf.autograph.experimental.do_not_convert\n"
     ]
    },
    {
     "name": "stderr",
     "output_type": "stream",
     "text": [
      "2022-05-29 20:38:16,721 - tensorflow - WARNING - AutoGraph could not transform <function Model.make_predict_function.<locals>.predict_function at 0x7fcfa56a8dd0> and will run it as-is.\n",
      "Please report this to the TensorFlow team. When filing the bug, set the verbosity to 10 (on Linux, `export AUTOGRAPH_VERBOSITY=10`) and attach the full output.\n",
      "Cause: 'arguments' object has no attribute 'posonlyargs'\n",
      "To silence this warning, decorate the function with @tf.autograph.experimental.do_not_convert\n"
     ]
    },
    {
     "name": "stdout",
     "output_type": "stream",
     "text": [
      "WARNING: AutoGraph could not transform <function Model.make_predict_function.<locals>.predict_function at 0x7fcfa56a8dd0> and will run it as-is.\n",
      "Please report this to the TensorFlow team. When filing the bug, set the verbosity to 10 (on Linux, `export AUTOGRAPH_VERBOSITY=10`) and attach the full output.\n",
      "Cause: 'arguments' object has no attribute 'posonlyargs'\n",
      "To silence this warning, decorate the function with @tf.autograph.experimental.do_not_convert\n"
     ]
    }
   ],
   "source": [
    "predictY = model.predict(x_test)"
   ]
  },
  {
   "cell_type": "code",
   "execution_count": 17,
   "metadata": {},
   "outputs": [
    {
     "data": {
      "image/png": "[encoded data removed]",
      "text/plain": [
       "<Figure size 432x288 with 1 Axes>"
      ]
     },
     "metadata": {
      "needs_background": "light"
     },
     "output_type": "display_data"
    }
   ],
   "source": [
    "time = np.arange(predictY.shape[0])\n",
    "\n",
    "plt.plot(time, predictY, y_test)\n",
    "plt.xlabel('time')\n",
    "plt.ylabel('amplitude')\n",
    "plt.show()"
   ]
  },
  {
   "cell_type": "markdown",
   "metadata": {},
   "source": [
    "#Neural_Network using GA"
   ]
  },
  {
   "cell_type": "code",
   "execution_count": 18,
   "metadata": {},
   "outputs": [],
   "source": [
    "modelGA = Sequential()\n",
    "modelGA.add(LSTM(7, return_sequences=False, input_shape=(x_train.shape[1], x_train.shape[2]), name='layer_1'))\n",
    "modelGA.add(Dense(1, activation='linear', name='layer_2'))"
   ]
  },
  {
   "cell_type": "code",
   "execution_count": 19,
   "metadata": {},
   "outputs": [
    {
     "name": "stdout",
     "output_type": "stream",
     "text": [
      "Model: \"sequential_1\"\n",
      "_________________________________________________________________\n",
      " Layer (type)                Output Shape              Param #   \n",
      "=================================================================\n",
      " layer_1 (LSTM)              (None, 7)                 420       \n",
      "                                                                 \n",
      " layer_2 (Dense)             (None, 1)                 8         \n",
      "                                                                 \n",
      "=================================================================\n",
      "Total params: 428\n",
      "Trainable params: 428\n",
      "Non-trainable params: 0\n",
      "_________________________________________________________________\n"
     ]
    }
   ],
   "source": [
    "modelGA.compile(loss=\"mean_squared_error\", optimizer='sgd', metrics=[\"mean_squared_error\", r_square_loss])\n",
    "modelGA.summary()"
   ]
  },
  {
   "cell_type": "code",
   "execution_count": 20,
   "metadata": {},
   "outputs": [],
   "source": [
    "def rmse(y_true, y_pred):\n",
    "    return np.sqrt(np.mean(np.square(y_pred - y_true), axis=-1))"
   ]
  },
  {
   "cell_type": "code",
   "execution_count": 21,
   "metadata": {},
   "outputs": [],
   "source": [
    "def getFitness(params):\n",
    "    layer_1 = modelGA.get_layer('layer_1').get_weights()\n",
    "    layer_2 = modelGA.get_layer('layer_2').get_weights()\n",
    "    \n",
    "    layer1_W1_shape = (layer_1[0].shape[0] * layer_1[0].shape[1])\n",
    "    layer1_W2_shape = layer1_W1_shape + (layer_1[1].shape[0] * layer_1[1].shape[1])\n",
    "    layer1_B_shape = layer1_W2_shape + (layer_1[2].shape[0])\n",
    "    layer2_W_shape = layer1_B_shape + (layer_2[0].shape[0] * layer_2[0].shape[1])\n",
    "    layer2_B_shape = layer2_W_shape + (layer_2[1].shape[0])\n",
    "\n",
    "    layer1_W1 = params[0:layer1_W1_shape].reshape(layer_1[0].shape)\n",
    "    layer1_W2 = params[layer1_W1_shape:layer1_W2_shape].reshape(layer_1[1].shape)\n",
    "    layer1_B = params[layer1_W2_shape:layer1_B_shape].reshape(layer_1[2].shape)\n",
    "    layer2_W = params[layer1_B_shape:layer2_W_shape].reshape(layer_2[0].shape)\n",
    "    layer2_B = params[layer2_W_shape:layer2_B_shape].reshape(layer_2[1].shape)\n",
    "    \n",
    "    modelGA.get_layer('layer_1').set_weights([layer1_W1, layer1_W2, layer1_B])\n",
    "    modelGA.get_layer('layer_2').set_weights([layer2_W, layer2_B])\n",
    "    \n",
    "    predY = modelGA.predict(x_train)\n",
    "    loss = rmse(y_train.reshape(y_train.shape[0]), predY.reshape(y_train.shape[0]))\n",
    "    return loss"
   ]
  },
  {
   "cell_type": "code",
   "execution_count": 22,
   "metadata": {},
   "outputs": [],
   "source": [
    "def f(params):\n",
    "    print('Number of particles: %d' % params.shape[0])\n",
    "    losses = np.array([getFitness(params[i]) for i in range(params.shape[0])])\n",
    "    print('List of losses for all particles')\n",
    "    print(losses)\n",
    "    return losses"
   ]
  },
  {
   "cell_type": "markdown",
   "metadata": {},
   "source": [
    "PySwarm Algorithm"
   ]
  },
  {
   "cell_type": "code",
   "execution_count": 23,
   "metadata": {},
   "outputs": [
    {
     "name": "stderr",
     "output_type": "stream",
     "text": [
      "2022-05-29 20:38:17,577 - pyswarms.single.global_best - INFO - Optimize for 50 iters with {'c1': 0.1, 'c2': 0.9, 'w': 0.9}\n",
      "pyswarms.single.global_best:   0%|          |0/50"
     ]
    },
    {
     "name": "stdout",
     "output_type": "stream",
     "text": [
      "Number of params in Neural Network: 596\n",
      "Number of particles: 20\n",
      "WARNING:tensorflow:AutoGraph could not transform <function Model.make_predict_function.<locals>.predict_function at 0x7fcfa4d665f0> and will run it as-is.\n",
      "Please report this to the TensorFlow team. When filing the bug, set the verbosity to 10 (on Linux, `export AUTOGRAPH_VERBOSITY=10`) and attach the full output.\n",
      "Cause: 'arguments' object has no attribute 'posonlyargs'\n",
      "To silence this warning, decorate the function with @tf.autograph.experimental.do_not_convert\n"
     ]
    },
    {
     "name": "stderr",
     "output_type": "stream",
     "text": [
      "2022-05-29 20:38:17,637 - tensorflow - WARNING - AutoGraph could not transform <function Model.make_predict_function.<locals>.predict_function at 0x7fcfa4d665f0> and will run it as-is.\n",
      "Please report this to the TensorFlow team. When filing the bug, set the verbosity to 10 (on Linux, `export AUTOGRAPH_VERBOSITY=10`) and attach the full output.\n",
      "Cause: 'arguments' object has no attribute 'posonlyargs'\n",
      "To silence this warning, decorate the function with @tf.autograph.experimental.do_not_convert\n"
     ]
    },
    {
     "name": "stdout",
     "output_type": "stream",
     "text": [
      "WARNING: AutoGraph could not transform <function Model.make_predict_function.<locals>.predict_function at 0x7fcfa4d665f0> and will run it as-is.\n",
      "Please report this to the TensorFlow team. When filing the bug, set the verbosity to 10 (on Linux, `export AUTOGRAPH_VERBOSITY=10`) and attach the full output.\n",
      "Cause: 'arguments' object has no attribute 'posonlyargs'\n",
      "To silence this warning, decorate the function with @tf.autograph.experimental.do_not_convert\n"
     ]
    },
    {
     "name": "stderr",
     "output_type": "stream",
     "text": [
      "pyswarms.single.global_best:   2%|▏         |1/50, best_cost=0.974"
     ]
    },
    {
     "name": "stdout",
     "output_type": "stream",
     "text": [
      "List of losses for all particles\n",
      "[2.6696403  2.1445246  2.1810436  0.97360134 2.2030199  1.7179296\n",
      " 2.1781838  2.339048   2.0867007  2.3598833  2.3048713  2.2300267\n",
      " 1.6953923  1.8488337  2.6558585  2.2760305  1.5542316  1.8201697\n",
      " 1.5265849  2.2289858 ]\n",
      "Number of particles: 20\n"
     ]
    },
    {
     "name": "stderr",
     "output_type": "stream",
     "text": [
      "pyswarms.single.global_best:   4%|▍         |2/50, best_cost=0.974"
     ]
    },
    {
     "name": "stdout",
     "output_type": "stream",
     "text": [
      "List of losses for all particles\n",
      "[6.331892  4.742037  4.378395  4.8729224 4.060271  3.9588094 3.9570587\n",
      " 5.045615  5.238474  4.9551635 5.4383206 4.9906783 4.6317463 4.541588\n",
      " 4.8652267 3.858558  4.5889378 3.850938  4.789554  5.2847533]\n",
      "Number of particles: 20\n"
     ]
    },
    {
     "name": "stderr",
     "output_type": "stream",
     "text": [
      "pyswarms.single.global_best:   6%|▌         |3/50, best_cost=0.974"
     ]
    },
    {
     "name": "stdout",
     "output_type": "stream",
     "text": [
      "List of losses for all particles\n",
      "[6.8949018 6.0352607 4.1169677 6.758086  3.595209  4.3690777 3.737595\n",
      " 4.911411  6.9608192 4.083031  5.195773  5.309898  4.746266  4.684033\n",
      " 4.349448  3.4505968 5.3241167 3.9947064 6.0080957 6.0129147]\n",
      "Number of particles: 20\n"
     ]
    },
    {
     "name": "stderr",
     "output_type": "stream",
     "text": [
      "pyswarms.single.global_best:   8%|▊         |4/50, best_cost=0.974"
     ]
    },
    {
     "name": "stdout",
     "output_type": "stream",
     "text": [
      "List of losses for all particles\n",
      "[4.6087947 5.282449  2.3724463 5.4080124 2.169966  2.9482546 2.8156912\n",
      " 2.977589  5.0430856 2.1459997 2.9844556 3.0514474 2.7717667 3.145955\n",
      " 2.4778295 1.7715701 3.3031328 2.5145655 4.793077  4.181137 ]\n",
      "Number of particles: 20\n"
     ]
    },
    {
     "name": "stderr",
     "output_type": "stream",
     "text": [
      "pyswarms.single.global_best:  10%|█         |5/50, best_cost=0.11 "
     ]
    },
    {
     "name": "stdout",
     "output_type": "stream",
     "text": [
      "List of losses for all particles\n",
      "[1.4742982  2.6484308  0.15951657 2.5584888  0.8514632  0.5730402\n",
      " 0.8284173  0.33086455 0.8961262  0.19557643 0.11019402 0.1605329\n",
      " 0.78356576 0.868118   0.15338705 0.51920027 0.389627   0.66109186\n",
      " 2.3677714  1.2677445 ]\n",
      "Number of particles: 20\n"
     ]
    },
    {
     "name": "stderr",
     "output_type": "stream",
     "text": [
      "pyswarms.single.global_best:  12%|█▏        |6/50, best_cost=0.11"
     ]
    },
    {
     "name": "stdout",
     "output_type": "stream",
     "text": [
      "List of losses for all particles\n",
      "[0.84158707 0.33589572 1.258053   1.5399638  1.0114671  1.5665159\n",
      " 0.8385458  0.9274838  2.18748    1.6168576  1.7638327  2.066756\n",
      " 0.76095647 1.3165044  1.1981308  0.4963136  1.5268251  1.3371029\n",
      " 0.524203   1.5457063 ]\n",
      "Number of particles: 20\n"
     ]
    },
    {
     "name": "stderr",
     "output_type": "stream",
     "text": [
      "pyswarms.single.global_best:  14%|█▍        |7/50, best_cost=0.11"
     ]
    },
    {
     "name": "stdout",
     "output_type": "stream",
     "text": [
      "List of losses for all particles\n",
      "[1.8390495  1.8271055  1.4734896  2.4679847  1.9053361  2.5097928\n",
      " 1.4955469  1.3291692  2.9415555  1.8997324  1.7361264  2.071299\n",
      " 1.5857173  1.6318928  1.2476501  0.94368625 1.6467822  1.6875802\n",
      " 2.1045105  2.7311761 ]\n",
      "Number of particles: 20\n"
     ]
    },
    {
     "name": "stderr",
     "output_type": "stream",
     "text": [
      "pyswarms.single.global_best:  16%|█▌        |8/50, best_cost=0.11"
     ]
    },
    {
     "name": "stdout",
     "output_type": "stream",
     "text": [
      "List of losses for all particles\n",
      "[2.83772   2.0802686 2.6492612 2.6488504 1.8152304 2.9679303 1.4564582\n",
      " 1.2316278 2.8239503 1.5690712 1.3363947 1.5290158 2.1457684 1.7308496\n",
      " 1.0992764 1.3007101 1.9274902 0.7319311 3.3662593 2.5013893]\n",
      "Number of particles: 20\n"
     ]
    },
    {
     "name": "stderr",
     "output_type": "stream",
     "text": [
      "pyswarms.single.global_best:  18%|█▊        |9/50, best_cost=0.0701"
     ]
    },
    {
     "name": "stdout",
     "output_type": "stream",
     "text": [
      "List of losses for all particles\n",
      "[1.9293389  1.4270437  1.8141677  0.5660706  1.338174   2.4670563\n",
      " 0.40995565 0.15652524 1.0508114  0.66881645 0.36511332 0.47847432\n",
      " 0.8655067  0.07007487 0.20053296 1.0029914  0.6587558  0.34254295\n",
      " 3.3688483  0.32264125]\n",
      "Number of particles: 20\n"
     ]
    },
    {
     "name": "stderr",
     "output_type": "stream",
     "text": [
      "pyswarms.single.global_best:  20%|██        |10/50, best_cost=0.0561"
     ]
    },
    {
     "name": "stdout",
     "output_type": "stream",
     "text": [
      "List of losses for all particles\n",
      "[0.6055848  0.05606078 0.7128453  3.1789675  0.5877013  0.20642717\n",
      " 0.32974187 1.0934335  1.5940062  1.0868028  1.0874255  1.5138568\n",
      " 0.5199799  1.6802663  1.1953292  0.35191804 1.2844962  1.1119361\n",
      " 0.35394272 2.9409997 ]\n",
      "Number of particles: 20\n"
     ]
    },
    {
     "name": "stderr",
     "output_type": "stream",
     "text": [
      "pyswarms.single.global_best:  22%|██▏       |11/50, best_cost=0.0561"
     ]
    },
    {
     "name": "stdout",
     "output_type": "stream",
     "text": [
      "List of losses for all particles\n",
      "[2.7357996  2.3656518  1.7477553  5.543401   0.4247277  1.9687613\n",
      " 0.90111494 1.4224955  3.1985009  1.5826006  1.3230017  2.6570187\n",
      " 0.8438871  2.1790364  2.055996   0.2659865  2.3768077  2.5367007\n",
      " 3.2657611  3.8322723 ]\n",
      "Number of particles: 20\n"
     ]
    },
    {
     "name": "stderr",
     "output_type": "stream",
     "text": [
      "pyswarms.single.global_best:  24%|██▍       |12/50, best_cost=0.0561"
     ]
    },
    {
     "name": "stdout",
     "output_type": "stream",
     "text": [
      "List of losses for all particles\n",
      "[3.118608   2.7416594  1.7640635  3.7918816  1.1529677  2.761926\n",
      " 1.4112463  0.32164058 3.3727992  1.3752705  0.84698385 2.529074\n",
      " 0.78460205 2.3749733  1.5582532  1.0802153  2.2401826  2.3868747\n",
      " 4.866776   3.172623  ]\n",
      "Number of particles: 20\n"
     ]
    },
    {
     "name": "stderr",
     "output_type": "stream",
     "text": [
      "pyswarms.single.global_best:  26%|██▌       |13/50, best_cost=0.0561"
     ]
    },
    {
     "name": "stdout",
     "output_type": "stream",
     "text": [
      "List of losses for all particles\n",
      "[1.1448109  1.6527458  0.24529296 0.13817059 1.4772339  2.2807899\n",
      " 1.7416878  0.8376246  2.423942   0.7766745  0.12413239 0.48134187\n",
      " 0.15259068 1.3560084  0.8803468  1.1619939  1.0175136  0.9940954\n",
      " 3.722664   1.4073042 ]\n",
      "Number of particles: 20\n"
     ]
    },
    {
     "name": "stderr",
     "output_type": "stream",
     "text": [
      "pyswarms.single.global_best:  28%|██▊       |14/50, best_cost=0.0412"
     ]
    },
    {
     "name": "stdout",
     "output_type": "stream",
     "text": [
      "List of losses for all particles\n",
      "[0.89005643 0.04115295 1.3273786  3.0693157  1.6949952  0.5896113\n",
      " 0.38132304 0.9763524  0.37689462 1.1717975  1.4815649  1.4610618\n",
      " 0.4989698  0.55066144 0.4348599  0.87471735 0.7154623  1.0481436\n",
      " 1.4805756  0.5789914 ]\n",
      "Number of particles: 20\n"
     ]
    },
    {
     "name": "stderr",
     "output_type": "stream",
     "text": [
      "pyswarms.single.global_best:  30%|███       |15/50, best_cost=0.0412"
     ]
    },
    {
     "name": "stdout",
     "output_type": "stream",
     "text": [
      "List of losses for all particles\n",
      "[1.9634346  0.92577076 1.7500784  3.873727   1.0274135  0.602321\n",
      " 0.8331175  0.7452269  0.46672237 1.949621   1.5169051  1.5397899\n",
      " 0.5371859  2.5156813  0.8580062  0.4464978  1.1743985  3.3277729\n",
      " 0.975516   1.5047774 ]\n",
      "Number of particles: 20\n"
     ]
    },
    {
     "name": "stderr",
     "output_type": "stream",
     "text": [
      "pyswarms.single.global_best:  32%|███▏      |16/50, best_cost=0.0412"
     ]
    },
    {
     "name": "stdout",
     "output_type": "stream",
     "text": [
      "List of losses for all particles\n",
      "[2.8200498  0.996741   1.3089044  2.6399786  0.32150286 2.4587662\n",
      " 1.0355623  0.11842052 1.7891833  1.4590367  1.1093361  1.6169747\n",
      " 0.35243675 3.2469676  1.0379182  0.48403215 1.3686556  2.5859292\n",
      " 2.1234128  2.5607142 ]\n",
      "Number of particles: 20\n"
     ]
    },
    {
     "name": "stderr",
     "output_type": "stream",
     "text": [
      "pyswarms.single.global_best:  34%|███▍      |17/50, best_cost=0.0412"
     ]
    },
    {
     "name": "stdout",
     "output_type": "stream",
     "text": [
      "List of losses for all particles\n",
      "[1.5717394  0.53717035 0.8578904  0.5403802  0.99456507 2.2952232\n",
      " 0.8432671  1.217331   1.7413492  0.08101024 0.40900517 0.96770495\n",
      " 0.0957969  2.2570646  0.38034654 1.2702466  0.6477443  1.3090774\n",
      " 2.050473   1.6480939 ]\n",
      "Number of particles: 20\n"
     ]
    },
    {
     "name": "stderr",
     "output_type": "stream",
     "text": [
      "pyswarms.single.global_best:  36%|███▌      |18/50, best_cost=0.0412"
     ]
    },
    {
     "name": "stdout",
     "output_type": "stream",
     "text": [
      "List of losses for all particles\n",
      "[0.54832274 0.3772556  0.4033665  4.403426   1.1499271  1.258517\n",
      " 0.7771129  2.0496476  0.50329036 1.5781041  0.48176795 0.12880296\n",
      " 0.70461303 0.22171122 0.5399698  0.7930061  1.2199737  0.65054303\n",
      " 1.3914716  0.2156449 ]\n",
      "Number of particles: 20\n"
     ]
    },
    {
     "name": "stderr",
     "output_type": "stream",
     "text": [
      "pyswarms.single.global_best:  38%|███▊      |19/50, best_cost=0.0412"
     ]
    },
    {
     "name": "stdout",
     "output_type": "stream",
     "text": [
      "List of losses for all particles\n",
      "[2.3081925  0.2732158  1.0564095  4.352374   0.68534744 0.15326327\n",
      " 0.15220396 1.497078   2.4719055  2.2419412  1.1566086  1.087493\n",
      " 1.1598128  1.4867828  0.6734235  0.41365135 3.304368   2.1151888\n",
      " 0.44441167 1.4619137 ]\n",
      "Number of particles: 20\n"
     ]
    },
    {
     "name": "stderr",
     "output_type": "stream",
     "text": [
      "pyswarms.single.global_best:  40%|████      |20/50, best_cost=0.0412"
     ]
    },
    {
     "name": "stdout",
     "output_type": "stream",
     "text": [
      "List of losses for all particles\n",
      "[2.9842284  1.0942963  0.7608258  1.4555725  0.25791645 1.2639257\n",
      " 1.2447846  0.3408345  3.566234   1.2835516  0.9279853  1.8346008\n",
      " 0.9420078  2.2253394  0.89028895 1.4333065  3.5449953  2.2586465\n",
      " 2.3102806  1.1892723 ]\n",
      "Number of particles: 20\n"
     ]
    },
    {
     "name": "stderr",
     "output_type": "stream",
     "text": [
      "pyswarms.single.global_best:  42%|████▏     |21/50, best_cost=0.0412"
     ]
    },
    {
     "name": "stdout",
     "output_type": "stream",
     "text": [
      "List of losses for all particles\n",
      "[2.4017725  1.5348417  0.18630654 2.4939713  1.4217986  1.8289074\n",
      " 2.0239508  1.9969231  3.1740842  0.24178219 0.20924966 1.9187043\n",
      " 0.21272139 1.3154626  0.46706742 1.2362393  2.116119   1.0162561\n",
      " 3.0475087  0.777312  ]\n",
      "Number of particles: 20\n"
     ]
    },
    {
     "name": "stderr",
     "output_type": "stream",
     "text": [
      "pyswarms.single.global_best:  44%|████▍     |22/50, best_cost=0.0412"
     ]
    },
    {
     "name": "stdout",
     "output_type": "stream",
     "text": [
      "List of losses for all particles\n",
      "[0.53874433 1.5367576  0.2170579  4.218182   1.8704457  1.432222\n",
      " 1.5173025  2.3194213  0.23643799 1.8394581  0.5139833  0.7014394\n",
      " 0.48065424 0.5918256  0.0960777  0.8956968  0.46979472 1.0487736\n",
      " 2.0645056  0.39098594]\n",
      "Number of particles: 20\n"
     ]
    },
    {
     "name": "stderr",
     "output_type": "stream",
     "text": [
      "pyswarms.single.global_best:  46%|████▌     |23/50, best_cost=0.0412"
     ]
    },
    {
     "name": "stdout",
     "output_type": "stream",
     "text": [
      "List of losses for all particles\n",
      "[1.2837976  1.1230167  0.26262918 4.830744   1.4210274  0.7019907\n",
      " 0.37034386 1.9577554  0.23735905 2.710169   0.93506694 1.1783081\n",
      " 0.49806273 2.165649   0.5672602  0.19192898 1.6348737  2.6617131\n",
      " 0.50427145 0.5785983 ]\n",
      "Number of particles: 20\n"
     ]
    },
    {
     "name": "stderr",
     "output_type": "stream",
     "text": [
      "pyswarms.single.global_best:  48%|████▊     |24/50, best_cost=0.0412"
     ]
    },
    {
     "name": "stdout",
     "output_type": "stream",
     "text": [
      "List of losses for all particles\n",
      "[1.820573   0.16269445 0.4142806  2.2437027  0.89426494 0.7938753\n",
      " 0.73409283 0.94791186 1.7837249  2.0941844  0.8683813  1.9940472\n",
      " 0.4931411  2.5245905  0.45695892 0.52035517 1.4878896  2.8518815\n",
      " 0.60512936 0.96584785]\n",
      "Number of particles: 20\n"
     ]
    },
    {
     "name": "stderr",
     "output_type": "stream",
     "text": [
      "pyswarms.single.global_best:  50%|█████     |25/50, best_cost=0.0412"
     ]
    },
    {
     "name": "stdout",
     "output_type": "stream",
     "text": [
      "List of losses for all particles\n",
      "[1.6052477  0.8624126  0.15530212 2.1477232  0.22886719 1.4227622\n",
      " 0.90110815 0.7224225  2.4588223  0.660145   0.35473892 1.3649224\n",
      " 0.12787692 1.5810571  0.45668504 0.6971534  0.58970135 1.8902892\n",
      " 1.5777764  0.5447544 ]\n",
      "Number of particles: 20\n"
     ]
    },
    {
     "name": "stderr",
     "output_type": "stream",
     "text": [
      "pyswarms.single.global_best:  52%|█████▏    |26/50, best_cost=0.0412"
     ]
    },
    {
     "name": "stdout",
     "output_type": "stream",
     "text": [
      "List of losses for all particles\n",
      "[0.63523537 1.67363    0.14758812 5.184604   0.4021286  1.0227387\n",
      " 0.6827489  2.592071   1.3017806  1.085081   0.6633223  0.56905484\n",
      " 0.81557345 0.5332271  0.7188414  0.98113847 0.8132191  0.47062537\n",
      " 1.4674636  0.11106125]\n",
      "Number of particles: 20\n"
     ]
    },
    {
     "name": "stderr",
     "output_type": "stream",
     "text": [
      "pyswarms.single.global_best:  54%|█████▍    |27/50, best_cost=0.0412"
     ]
    },
    {
     "name": "stdout",
     "output_type": "stream",
     "text": [
      "List of losses for all particles\n",
      "[1.1541108  1.85997    0.15353113 3.8992245  0.49077493 0.2921798\n",
      " 0.23759584 3.6524322  0.38414514 2.0080826  0.8582679  0.60130805\n",
      " 1.082892   1.6058347  0.7137545  0.9707652  1.6532058  1.3759092\n",
      " 0.9311493  0.30565092]\n",
      "Number of particles: 20\n"
     ]
    },
    {
     "name": "stderr",
     "output_type": "stream",
     "text": [
      "pyswarms.single.global_best:  56%|█████▌    |28/50, best_cost=0.0412"
     ]
    },
    {
     "name": "stdout",
     "output_type": "stream",
     "text": [
      "List of losses for all particles\n",
      "[1.9831893  1.2546678  0.87539464 0.9426204  0.29301244 0.59131587\n",
      " 0.27904204 2.2044034  2.1657813  2.0832024  0.71296734 1.5702741\n",
      " 0.8848052  1.8685974  0.6388889  0.08631861 1.4431183  2.0524602\n",
      " 0.62260574 1.0257114 ]\n",
      "Number of particles: 20\n"
     ]
    },
    {
     "name": "stderr",
     "output_type": "stream",
     "text": [
      "pyswarms.single.global_best:  58%|█████▊    |29/50, best_cost=0.0412"
     ]
    },
    {
     "name": "stdout",
     "output_type": "stream",
     "text": [
      "List of losses for all particles\n",
      "[1.6160263  0.27934343 0.88953733 2.1640232  0.05790639 0.7512861\n",
      " 0.46090764 0.4610527  3.0233786  1.0591304  0.09074407 2.023072\n",
      " 0.1729421  1.3844995  0.36315727 1.064921   0.22257425 1.1888638\n",
      " 2.0038266  0.9666666 ]\n",
      "Number of particles: 20\n"
     ]
    },
    {
     "name": "stderr",
     "output_type": "stream",
     "text": [
      "pyswarms.single.global_best:  60%|██████    |30/50, best_cost=0.0391"
     ]
    },
    {
     "name": "stdout",
     "output_type": "stream",
     "text": [
      "List of losses for all particles\n",
      "[0.11774884 1.4749677  0.53611535 3.1114388  0.1415602  0.53175247\n",
      " 0.6646143  1.8399854  1.5905173  0.03912609 0.588013   1.7365041\n",
      " 0.4415274  0.7578245  0.55943817 0.99525166 0.7728943  0.45603508\n",
      " 2.62531    0.46954006]\n",
      "Number of particles: 20\n"
     ]
    },
    {
     "name": "stderr",
     "output_type": "stream",
     "text": [
      "pyswarms.single.global_best:  62%|██████▏   |31/50, best_cost=0.0391"
     ]
    },
    {
     "name": "stdout",
     "output_type": "stream",
     "text": [
      "List of losses for all particles\n",
      "[1.1341025  1.6581433  0.2634848  3.5455916  0.24643461 0.23025414\n",
      " 0.46756175 1.772606   0.13243172 0.6182844  0.47047138 0.15942465\n",
      " 0.78156334 0.16498704 0.70843077 0.50711805 0.9368552  1.5384881\n",
      " 0.9006761  0.2721786 ]\n",
      "Number of particles: 20\n"
     ]
    },
    {
     "name": "stderr",
     "output_type": "stream",
     "text": [
      "pyswarms.single.global_best:  64%|██████▍   |32/50, best_cost=0.0391"
     ]
    },
    {
     "name": "stdout",
     "output_type": "stream",
     "text": [
      "List of losses for all particles\n",
      "[1.2917895  1.1784419  1.576103   1.2887943  0.3011122  0.2023596\n",
      " 0.29507583 1.1350256  0.59851366 0.8575801  0.6349903  0.56193405\n",
      " 0.36308566 1.035204   0.18207732 0.1063859  0.4630485  1.564392\n",
      " 0.8875     0.41827095]\n",
      "Number of particles: 20\n"
     ]
    },
    {
     "name": "stderr",
     "output_type": "stream",
     "text": [
      "pyswarms.single.global_best:  66%|██████▌   |33/50, best_cost=0.0391"
     ]
    },
    {
     "name": "stdout",
     "output_type": "stream",
     "text": [
      "List of losses for all particles\n",
      "[0.89308184 0.63564706 2.1644137  2.868045   0.6443708  0.24699879\n",
      " 0.46890825 0.21619035 1.2381223  0.9627612  0.8708601  0.5139679\n",
      " 0.17147668 1.6768305  0.2596889  0.30762827 0.23782273 0.8022575\n",
      " 1.5630697  0.07077941]\n",
      "Number of particles: 20\n"
     ]
    },
    {
     "name": "stderr",
     "output_type": "stream",
     "text": [
      "pyswarms.single.global_best:  68%|██████▊   |34/50, best_cost=0.0391"
     ]
    },
    {
     "name": "stdout",
     "output_type": "stream",
     "text": [
      "List of losses for all particles\n",
      "[0.2819545  0.2812245  1.7437636  5.9948487  0.9605448  0.2719038\n",
      " 0.36398712 1.0543131  2.1144972  0.5469499  1.1265787  0.40793577\n",
      " 0.58834934 1.2682669  0.5118299  0.49238533 0.14039181 0.16513908\n",
      " 1.3848124  0.88338935]\n",
      "Number of particles: 20\n"
     ]
    },
    {
     "name": "stderr",
     "output_type": "stream",
     "text": [
      "pyswarms.single.global_best:  70%|███████   |35/50, best_cost=0.0391"
     ]
    },
    {
     "name": "stdout",
     "output_type": "stream",
     "text": [
      "List of losses for all particles\n",
      "[0.84983915 0.98507464 0.60314304 6.2822237  0.7153255  0.2835706\n",
      " 0.53615713 1.4884698  1.4082978  0.20598766 1.0460016  0.1076811\n",
      " 1.0396503  0.35028923 0.60787314 0.23461723 0.2527885  1.0768871\n",
      " 0.41986084 1.403597  ]\n",
      "Number of particles: 20\n"
     ]
    },
    {
     "name": "stderr",
     "output_type": "stream",
     "text": [
      "pyswarms.single.global_best:  72%|███████▏  |36/50, best_cost=0.0391"
     ]
    },
    {
     "name": "stdout",
     "output_type": "stream",
     "text": [
      "List of losses for all particles\n",
      "[1.9105791  0.9335717  0.57148176 1.746036   0.30747613 0.2753527\n",
      " 0.49803445 0.9498524  0.80449307 0.79663914 1.2730604  0.30631423\n",
      " 1.1469058  1.0017157  0.513029   0.35840452 0.74327284 2.1907744\n",
      " 0.5502207  1.6462168 ]\n",
      "Number of particles: 20\n"
     ]
    },
    {
     "name": "stderr",
     "output_type": "stream",
     "text": [
      "pyswarms.single.global_best:  74%|███████▍  |37/50, best_cost=0.0391"
     ]
    },
    {
     "name": "stdout",
     "output_type": "stream",
     "text": [
      "List of losses for all particles\n",
      "[1.4420866  0.37025347 1.599358   2.905586   0.12441448 0.3157819\n",
      " 0.33643216 0.34995255 1.7815799  0.8188601  0.69067734 0.6280334\n",
      " 0.5285966  0.8416049  0.26675996 0.7586683  0.13576736 2.9503872\n",
      " 1.5614518  0.5956659 ]\n",
      "Number of particles: 20\n"
     ]
    },
    {
     "name": "stderr",
     "output_type": "stream",
     "text": [
      "pyswarms.single.global_best:  76%|███████▌  |38/50, best_cost=0.0391"
     ]
    },
    {
     "name": "stdout",
     "output_type": "stream",
     "text": [
      "List of losses for all particles\n",
      "[0.39621997 0.43960112 2.4915445  4.0405245  0.17559236 0.47502157\n",
      " 0.34596184 0.57401544 1.8045356  0.56783885 0.74882233 0.6272798\n",
      " 0.4212855  0.48703888 0.4750123  1.0433122  0.7538272  2.1418636\n",
      " 1.4812827  0.65059954]\n",
      "Number of particles: 20\n"
     ]
    },
    {
     "name": "stderr",
     "output_type": "stream",
     "text": [
      "pyswarms.single.global_best:  78%|███████▊  |39/50, best_cost=0.0391"
     ]
    },
    {
     "name": "stdout",
     "output_type": "stream",
     "text": [
      "List of losses for all particles\n",
      "[0.64694405 0.91511077 2.2755728  1.3308233  0.3060949  0.40981013\n",
      " 0.47176436 0.672217   1.0890263  0.29849342 1.274597   0.39032295\n",
      " 0.9523517  0.48436725 0.22516048 0.32370868 0.96708614 0.8596245\n",
      " 0.7302474  1.2351605 ]\n",
      "Number of particles: 20\n"
     ]
    },
    {
     "name": "stderr",
     "output_type": "stream",
     "text": [
      "pyswarms.single.global_best:  80%|████████  |40/50, best_cost=0.0391"
     ]
    },
    {
     "name": "stdout",
     "output_type": "stream",
     "text": [
      "List of losses for all particles\n",
      "[0.8140524  1.3683167  1.2834135  1.9777756  0.66016793 0.15792811\n",
      " 0.35457647 0.45468837 0.49087617 0.1225078  0.63896596 0.5040318\n",
      " 0.9513135  1.2314554  0.09766816 0.2979219  0.4645396  0.6507775\n",
      " 0.2906505  1.3794376 ]\n",
      "Number of particles: 20\n"
     ]
    },
    {
     "name": "stderr",
     "output_type": "stream",
     "text": [
      "pyswarms.single.global_best:  82%|████████▏ |41/50, best_cost=0.0391"
     ]
    },
    {
     "name": "stdout",
     "output_type": "stream",
     "text": [
      "List of losses for all particles\n",
      "[0.6227126  0.8601782  0.4671784  2.2478974  0.83383286 0.22945721\n",
      " 0.47775072 0.14016162 0.5372816  0.17989585 0.5078456  0.3608906\n",
      " 0.63398397 1.2842451  0.4082392  0.56443876 0.26191327 1.4059911\n",
      " 0.9869137  0.56839615]\n",
      "Number of particles: 20\n"
     ]
    },
    {
     "name": "stderr",
     "output_type": "stream",
     "text": [
      "pyswarms.single.global_best:  84%|████████▍ |42/50, best_cost=0.0391"
     ]
    },
    {
     "name": "stdout",
     "output_type": "stream",
     "text": [
      "List of losses for all particles\n",
      "[0.2467419  0.24927114 0.6349278  1.0844538  0.70990664 0.14339384\n",
      " 0.5515829  0.40986523 1.1808773  0.33406255 1.2094356  0.28479427\n",
      " 0.35789928 0.8768983  0.61114955 0.60595065 0.14479987 1.5814115\n",
      " 0.7304935  0.57304645]\n",
      "Number of particles: 20\n"
     ]
    },
    {
     "name": "stderr",
     "output_type": "stream",
     "text": [
      "pyswarms.single.global_best:  86%|████████▌ |43/50, best_cost=0.0391"
     ]
    },
    {
     "name": "stdout",
     "output_type": "stream",
     "text": [
      "List of losses for all particles\n",
      "[0.28387016 0.28969595 1.1864774  1.426914   0.3790448  0.05381063\n",
      " 0.45645556 0.7637847  0.9816211  0.23902638 1.6612401  0.8085439\n",
      " 0.4534533  0.58245295 0.44381297 0.35864922 0.13139488 0.726473\n",
      " 0.3570447  1.2087152 ]\n",
      "Number of particles: 20\n"
     ]
    },
    {
     "name": "stderr",
     "output_type": "stream",
     "text": [
      "pyswarms.single.global_best:  88%|████████▊ |44/50, best_cost=0.0391"
     ]
    },
    {
     "name": "stdout",
     "output_type": "stream",
     "text": [
      "List of losses for all particles\n",
      "[0.77282226 0.8394556  0.55167055 1.6006348  0.08524776 0.14714397\n",
      " 0.41297367 0.13753127 0.20496207 0.07147826 1.4593234  0.92612517\n",
      " 0.92099214 0.26074064 0.19693162 0.06752083 0.21923006 0.52829534\n",
      " 0.28294203 0.90613157]\n",
      "Number of particles: 20\n"
     ]
    },
    {
     "name": "stderr",
     "output_type": "stream",
     "text": [
      "pyswarms.single.global_best:  90%|█████████ |45/50, best_cost=0.034 "
     ]
    },
    {
     "name": "stdout",
     "output_type": "stream",
     "text": [
      "List of losses for all particles\n",
      "[1.712995   1.0585155  0.22692797 0.15861055 0.15539345 0.28564495\n",
      " 0.14141421 0.56677663 0.6854689  0.29643056 0.43600494 1.1103479\n",
      " 0.9321981  0.04667174 0.03396582 0.39431345 0.09296947 0.93934005\n",
      " 0.77558315 0.1037173 ]\n",
      "Number of particles: 20\n"
     ]
    },
    {
     "name": "stderr",
     "output_type": "stream",
     "text": [
      "pyswarms.single.global_best:  92%|█████████▏|46/50, best_cost=0.034"
     ]
    },
    {
     "name": "stdout",
     "output_type": "stream",
     "text": [
      "List of losses for all particles\n",
      "[1.7553728  0.7442976  0.6405343  1.5033541  0.18520871 0.670453\n",
      " 0.37501982 1.0244493  0.8187358  0.43198586 0.6685859  0.878384\n",
      " 0.20705509 0.8086164  0.13812283 0.91600233 0.6283646  0.6835763\n",
      " 1.2006439  0.6378506 ]\n",
      "Number of particles: 20\n"
     ]
    },
    {
     "name": "stderr",
     "output_type": "stream",
     "text": [
      "pyswarms.single.global_best:  94%|█████████▍|47/50, best_cost=0.034"
     ]
    },
    {
     "name": "stdout",
     "output_type": "stream",
     "text": [
      "List of losses for all particles\n",
      "[0.5823344  0.2943448  1.0167758  1.6576492  0.36969945 0.661184\n",
      " 0.5961034  1.485455   0.7516446  0.39638072 1.2694618  0.2284332\n",
      " 0.47497675 1.4483147  0.22866622 1.101753   0.619771   0.10670216\n",
      " 0.657703   0.97210914]\n",
      "Number of particles: 20\n"
     ]
    },
    {
     "name": "stderr",
     "output_type": "stream",
     "text": [
      "pyswarms.single.global_best:  96%|█████████▌|48/50, best_cost=0.034"
     ]
    },
    {
     "name": "stdout",
     "output_type": "stream",
     "text": [
      "List of losses for all particles\n",
      "[0.6659015  0.09098617 0.44843292 0.543438   0.30597237 0.29666853\n",
      " 0.5174256  1.6840832  0.69501626 0.28967965 0.39857325 0.32458282\n",
      " 0.81797105 1.620884   0.20415242 0.9379604  0.27915373 0.9430422\n",
      " 0.30059436 0.89798737]\n",
      "Number of particles: 20\n"
     ]
    },
    {
     "name": "stderr",
     "output_type": "stream",
     "text": [
      "pyswarms.single.global_best:  98%|█████████▊|49/50, best_cost=0.034"
     ]
    },
    {
     "name": "stdout",
     "output_type": "stream",
     "text": [
      "List of losses for all particles\n",
      "[0.67507887 0.09211145 0.47372097 0.30432066 0.18888812 0.7448622\n",
      " 0.6868836  0.85195816 0.36960244 0.07043383 0.69779706 0.5549205\n",
      " 0.5357166  0.9590193  0.10956378 0.5599601  0.09780321 1.0365602\n",
      " 0.91099894 0.15356605]\n",
      "Number of particles: 20\n"
     ]
    },
    {
     "name": "stderr",
     "output_type": "stream",
     "text": [
      "pyswarms.single.global_best: 100%|██████████|50/50, best_cost=0.034\n",
      "2022-05-29 20:38:54,171 - pyswarms.single.global_best - INFO - Optimization finished | best cost: 0.0339658223092556, best pos: [ 6.96516748e-01  3.14508519e+00  1.53099530e+00  1.09090318e+00\n",
      "  6.37291562e-01 -2.69269954e+00  8.30914138e-01  9.82423233e-01\n",
      " -8.75926174e-01 -6.38358605e-01  8.25325297e-01 -4.88409370e-01\n",
      "  2.80090286e-01 -6.39497112e-02  5.26838611e-01  6.28665566e-01\n",
      "  2.79803509e+00  1.78496585e+00  2.77855120e+00 -1.55596640e-01\n",
      " -4.76710941e-02  2.68449331e+00  4.10201848e+00  2.08788022e+00\n",
      "  1.01172102e+00  1.53122202e+00  2.18917737e+00  1.92942349e+00\n",
      " -3.69699850e-01  8.44708968e-01 -4.66133844e-01 -1.11552352e+00\n",
      "  1.90435871e+00  1.86563518e+00  1.15596542e+00  5.14474956e-01\n",
      "  1.91165196e+00  2.92931183e-01 -7.58060005e-01 -1.45093213e-01\n",
      "  1.06442867e+00  1.00917247e+00  1.08740505e+00  3.53289780e+00\n",
      "  2.05047012e+00  5.44938992e-01  4.90701975e-01  2.71371294e+00\n",
      " -4.41645276e-01 -4.65470132e-02  1.76424159e+00  2.08639438e+00\n",
      "  1.45821036e+00  8.68746874e-01  4.86240244e-01  4.77279370e-01\n",
      " -8.28864866e-02  7.32480114e-01  2.38476281e+00  8.90796108e-01\n",
      " -4.46178970e-02  2.67782491e+00  1.34545463e+00  1.08852950e+00\n",
      " -2.70282410e-01  1.93627800e+00  1.59616364e+00  2.19081732e+00\n",
      "  4.96541107e+00  5.37950444e-01  1.50003928e+00  2.34178007e-01\n",
      "  1.24790400e+00  2.32356775e+00  8.78023634e-01  1.25485239e+00\n",
      "  1.53930147e+00 -6.61152237e-01  2.03316988e+00  1.61118137e-01\n",
      "  7.25085866e-01 -1.03012995e+00  1.46012971e-01 -9.35457026e-01\n",
      "  8.83211637e-01  2.26645103e-01  1.12510921e+00  2.13608464e+00\n",
      " -9.09329724e-02 -1.22766572e-01 -4.07614496e-01  1.27214799e+00\n",
      " -6.72066842e-01 -1.68124726e+00  1.06533556e+00  1.46396243e+00\n",
      "  9.63727616e-01  1.08462406e+00 -1.22411553e+00 -1.07952307e+00\n",
      "  1.85952174e-01  1.92729222e+00  2.96920158e+00  2.05231856e+00\n",
      " -1.23893356e+00  7.21295181e-01  1.12623613e+00  3.44906746e-01\n",
      "  1.09486589e-01  8.37909620e-01  2.86487670e+00  4.02691095e+00\n",
      " -1.40372377e+00 -2.23767893e+00  2.31022791e-01 -3.98427355e-02\n",
      "  1.89766344e+00  1.09138801e+00 -9.57100803e-02  1.69030103e+00\n",
      "  2.51955740e+00  4.92163500e-01  2.18337522e+00  9.01963532e-01\n",
      "  2.41820642e+00  4.91336099e-01  9.71322978e-01  6.78547483e-01\n",
      "  1.37273852e+00 -2.54640464e-01  2.00015470e+00 -1.71082178e+00\n",
      "  1.15388844e+00  4.32992966e-01  1.35936705e+00  6.25667215e-01\n",
      "  1.68734078e+00  4.87801239e-01 -1.01195912e+00  6.48016408e-01\n",
      "  1.00275758e+00  3.81779176e-01  2.15543225e-01 -5.45820646e-01\n",
      " -1.97984913e+00 -1.20539321e+00  1.73601649e-02 -2.85643887e-01\n",
      "  1.55859130e+00  3.04335363e-01  3.40070710e+00  2.11460707e-01\n",
      "  1.96844005e+00  2.01762590e+00 -5.08771709e-01  1.32692354e+00\n",
      "  1.80561428e-01  8.63669606e-01  4.95792585e-01  1.21555601e+00\n",
      "  1.97177868e+00  1.30824664e+00  4.00415048e+00  1.33434663e+00\n",
      "  9.91913600e-01  2.97115524e+00 -4.19924786e-01  6.95949040e-01\n",
      "  9.02556861e-01  4.38031730e-01  1.09410113e+00  1.09909031e+00\n",
      "  6.59004711e-01  2.37527083e-01  6.20466137e-01  1.65854726e+00\n",
      "  1.27643214e+00  1.21228899e-01  1.99452387e+00  5.57076559e-03\n",
      "  1.22483588e+00  1.80921243e+00  6.60986271e-03  2.02682355e+00\n",
      "  5.95322867e-01  5.60258512e-01  1.11033447e+00  7.26582084e-01\n",
      "  7.81455958e-01  1.18509266e+00  2.07107752e+00  1.05430114e-01\n",
      "  8.58548288e-01  2.11976148e+00  1.95089396e+00 -7.81247792e-01\n",
      "  9.57213432e-01  1.33094958e+00 -1.40455125e+00  2.87939535e+00\n",
      "  1.65549778e+00  1.07007056e+00  1.54629967e+00  1.96659664e+00\n",
      "  2.78688291e-01 -1.07125277e+00 -6.39598038e-01  7.32395885e-01\n",
      "  1.08858850e+00  1.91252581e+00  1.72344254e+00 -3.01497502e-01\n",
      "  1.76046273e+00  7.81255577e-01  9.10659045e-01 -1.14743735e+00\n",
      "  1.75718686e+00  1.45453115e+00  7.42157401e-02  1.25757543e+00\n",
      "  2.01863764e-01 -9.28984298e-01  1.47056295e+00 -1.48930183e-01\n",
      "  1.86324355e-01 -6.92244415e-01  1.78046574e+00 -2.21697598e-02\n",
      "  2.72119928e-01  2.60256270e+00  1.89583497e+00  1.30757464e+00\n",
      "  8.99792527e-01 -6.19000597e+00  1.10428043e+00 -3.62988911e-01\n",
      "  2.06233070e+00  1.31362305e-01  1.49895542e+00  4.31498516e-01\n",
      "  1.40957325e+00  4.95326883e+00 -4.45690631e-01  4.32419749e-01\n",
      "  3.58187051e+00  1.65565349e+00  1.16900548e+00  4.79558236e-01\n",
      "  1.80868312e+00  5.98885671e-02  2.30818356e+00  7.19964328e-01\n",
      " -4.07763589e-02  4.01527974e-01  9.22555595e-01 -1.07136842e+00\n",
      "  1.05265982e+00 -7.23324828e-01  1.06165071e+00 -2.55942430e-01\n",
      " -6.34691647e-01  3.66926608e+00  1.50430480e+00  2.30931041e+00\n",
      "  1.48411730e-01  1.88718261e+00  3.08859018e-01  1.08726282e+00\n",
      "  1.03968523e+00  4.54660383e+00  2.52218087e+00  1.46553541e+00\n",
      "  6.66149139e-01  1.57343639e-01  2.50880825e+00 -6.54511021e-01\n",
      "  1.94892998e+00  1.83455746e+00  2.56720714e+00  1.68236168e+00\n",
      " -5.05353568e-01 -2.39453669e+00  4.11976626e-01  1.47838052e+00\n",
      " -4.29355423e-01  1.84835464e+00  5.79337090e-02  8.29878212e-01\n",
      "  4.04557798e+00  1.23642124e+00  1.68589213e+00  3.70867879e-01\n",
      "  6.26330136e-01  1.56077824e+00 -4.32689478e-01  1.77045214e+00\n",
      "  1.06009085e+00 -7.06036206e-01 -8.45383793e-01  4.01573243e-01\n",
      "  2.15357593e+00  2.12440665e+00  6.87036175e-01  1.68380716e+00\n",
      " -7.11802127e-01  2.13476838e+00  3.01007321e+00  1.38971490e+00\n",
      " -1.51132574e+00  9.81533318e-01  3.41131454e-01  1.43604573e+00\n",
      "  9.89687550e-01  8.54231184e-01  2.16435361e+00  1.91702909e+00\n",
      "  9.36228369e-01 -2.15038846e+00  1.59211022e+00  1.30164091e+00\n",
      " -3.70730627e-01  1.21507727e+00  1.10079800e+00  1.17181743e+00\n",
      " -1.23025078e+00  2.92333881e+00 -1.23127984e-01  7.08104106e-03\n",
      " -2.16236730e-01  2.01590518e+00  1.22845549e+00  2.55575823e+00\n",
      "  2.85463148e+00  3.31995967e+00  1.51691581e+00  1.15262460e+00\n",
      " -1.55517604e+00  7.43386477e+00 -1.24849786e+00  7.59382266e-01\n",
      " -3.42549912e-01  9.37904935e-01 -2.29644787e-01  1.51570193e+00\n",
      "  8.58518845e-01 -3.88293846e-01  7.41160380e-01  6.62750689e-01\n",
      "  2.18684608e+00  2.74771280e+00  1.24696002e+00  1.27661994e+00\n",
      "  1.73596810e+00  8.73319785e-01  8.19406663e-01  1.51620456e+00\n",
      "  9.22336598e-01  1.61170617e+00  1.77334357e+00  1.61208554e+00\n",
      "  2.37655951e+00  1.08906170e+00  7.13730954e-01  1.67036532e+00\n",
      "  4.81703168e-01  2.42955167e+00 -3.39222755e+00 -3.12650951e-01\n",
      "  7.52191367e-01  2.26774752e+00 -1.76422584e-01 -2.21045986e+00\n",
      "  3.56511507e-01  4.63168132e-02  1.81089070e+00  5.85744793e-01\n",
      " -8.84448970e-01  1.52602736e+00  1.19613491e+00 -5.42737462e-02\n",
      "  5.59970293e-01 -2.54519248e-01  3.39205732e-01  1.92962595e+00\n",
      " -7.72627461e-01 -8.72853968e-01  8.94442831e-01  7.39407329e-01\n",
      " -9.59661379e-01  2.74916549e+00 -6.55238517e-02  3.46214941e+00\n",
      "  2.86064099e+00  3.46406465e-01 -2.30551181e-01 -1.00803481e+00\n",
      "  1.67462311e+00 -3.06080656e+00  2.74530124e+00  1.93183372e+00\n",
      "  7.91881899e-01  3.17909818e+00 -1.76213521e-02  1.18469989e+00\n",
      "  1.32251523e+00 -6.53810319e-02  5.15902234e-01  2.89287074e+00\n",
      "  1.07693915e-01 -3.97976663e-01  2.17404010e-01  8.18075232e-01\n",
      " -5.87598864e-01 -8.47858297e-01 -2.75709693e+00  2.20866148e+00\n",
      "  2.29911100e+00 -1.50477915e-02  1.22499897e+00  2.40711347e+00\n",
      "  1.78401132e+00  4.98169698e-01 -9.78951968e-01  8.19139514e-01\n",
      "  9.23966559e-01  2.28442107e-01 -3.98675917e-01 -9.10689225e-01\n",
      " -6.23096132e-01  1.44521455e+00  2.47015560e+00 -1.02526855e-01\n",
      "  7.60953022e-01  6.03727498e+00  3.08508759e-01  1.40877352e+00\n",
      "  1.33368724e+00 -3.13294341e-01  2.43956250e+00  1.62273775e+00\n",
      "  5.92359819e-01  1.26758865e+00  2.84731866e+00  1.46419598e-01\n",
      " -4.38172271e-01  1.93386049e+00  5.02017308e-01  7.51975519e-01\n",
      "  1.12593655e+00  6.04935816e-01  4.38667104e-01  1.87587590e+00\n",
      "  1.73218041e-02 -3.35717203e-01  3.66428221e-02  1.47571376e+00\n",
      "  1.44752980e+00 -3.74154123e-01  3.29042208e+00  1.62802202e+00\n",
      "  1.15882976e+00  3.60680952e-01 -4.08246789e-01  1.77239924e+00\n",
      "  1.00399551e+00  1.32486013e+00  2.48358646e+00 -1.69030360e+00\n",
      "  1.79709966e+00  1.03770845e+00  1.06641831e+00  7.74232720e-01\n",
      "  1.91323479e+00  2.57755936e+00  1.30868063e-01 -1.33097011e+00\n",
      "  2.30574219e-01 -7.88824190e-01  2.07131694e+00  2.18166549e+00\n",
      "  3.27191689e+00  1.44343416e+00  2.31009530e+00  4.26746919e+00\n",
      "  2.38325841e+00  2.75699313e+00  1.31160368e+00  7.43733057e-01\n",
      " -6.55160680e-02 -1.77128815e+00  1.08363972e+00  2.57842432e-01\n",
      "  2.05053679e+00 -6.60946523e-01  1.27929469e+00  2.57391520e+00\n",
      "  7.64108889e-01 -9.89139442e-01 -1.97921316e-01 -3.70574222e-01\n",
      "  1.16557715e+00  7.83604792e-01  3.16532070e-01  5.08581917e-01\n",
      "  8.76360406e-01  2.80456369e-01  9.17314622e-01  9.25286874e-01\n",
      " -1.07220547e+00 -1.26437782e+00  8.35909758e-03 -1.11345669e+00\n",
      "  3.48048879e-01  1.13416063e+00  1.56969287e+00  1.03221639e+00\n",
      "  3.01902945e-01  7.76450680e-02  8.31666415e-01 -2.82542630e-01\n",
      "  5.33627336e-01 -6.84838778e-01  1.45691262e+00  1.79693080e+00\n",
      "  4.70756865e-01  3.76102942e-01  1.02323526e+00  6.88949863e-01\n",
      "  2.14592636e+00 -8.90514542e-01  4.77193642e+00  1.83559465e-01\n",
      "  1.85273745e+00 -1.94539844e-01  1.60836701e+00 -3.75823803e-01\n",
      "  8.61297271e-01 -5.41351295e-01  1.43238278e+00 -2.66565473e+00\n",
      "  8.08438748e-01  1.83401739e+00 -5.65044666e-01  9.95160455e-03\n",
      "  1.25429182e+00  1.41510689e+00 -1.41761984e+00  3.18595649e+00\n",
      "  3.60875374e+00 -1.26832561e-01  7.37435760e-01  1.91498107e+00\n",
      " -2.25227551e-01  9.12843002e-01  9.80289369e-01 -2.47773509e+00\n",
      "  9.84076067e-01 -3.90619075e-02  1.00441987e+00  4.43354045e-01\n",
      "  1.18393071e+00  2.31760281e+00  1.62623324e+00  1.22397914e+00\n",
      "  1.66969912e+00  2.58549106e+00 -3.30312763e-01  7.24882575e-02\n",
      "  3.50967327e+00  6.08588065e-01 -3.12600564e+00  1.93194425e+00\n",
      "  2.65988186e-01 -2.10061289e-01  1.67038258e+00  1.48590675e+00\n",
      "  2.34759778e+00  6.94648452e-01  8.40990380e-01  1.72215751e+00\n",
      "  2.84846015e+00  3.04664128e+00 -2.09694264e-02 -5.63784067e-01\n",
      "  8.34223689e-01  5.21254693e-02  1.76992059e+00 -2.79607051e-01\n",
      " -1.92522229e-01 -4.28530287e-01  6.06981447e-01  8.25080176e-01\n",
      "  3.32103970e-01  9.11723957e-01  9.29491717e-01 -1.07289788e-01]\n"
     ]
    },
    {
     "name": "stdout",
     "output_type": "stream",
     "text": [
      "List of losses for all particles\n",
      "[0.7115828  0.13545527 0.9291446  0.66876566 0.19892031 0.718966\n",
      " 0.21579598 0.55831236 1.1833353  0.17098145 1.122684   0.25158265\n",
      " 0.10724586 0.22605869 0.09814031 0.26074383 0.1328493  0.40349036\n",
      " 0.76893055 0.6373897 ]\n"
     ]
    }
   ],
   "source": [
    "options = {'c1': 0.1, 'c2': 0.9, 'w':0.9}\n",
    "\n",
    "layer_1 = modelGA.get_layer('layer_1').get_weights()\n",
    "layer_2 = modelGA.get_layer('layer_2').get_weights()\n",
    "dimensions = (layer_1[0].shape[0] * layer_1[0].shape[1]) + (layer_1[0].shape[0] * layer_1[0].shape[1]) + (layer_1[1].shape[0] * layer_1[1].shape[1]) + (layer_2[0].shape[0] * layer_2[0].shape[1]) +(layer_2[1].shape[0])\n",
    "\n",
    "print(\"Number of params in Neural Network: %d\" % dimensions)\n",
    "\n",
    "optimizer = ps.single.GlobalBestPSO(n_particles=20, dimensions=dimensions, options=options)\n",
    "\n",
    "cost, pos = optimizer.optimize(f, iters=50)"
   ]
  },
  {
   "cell_type": "code",
   "execution_count": 24,
   "metadata": {},
   "outputs": [
    {
     "data": {
      "image/png": "[encoded data removed]",
      "text/plain": [
       "<Figure size 720x576 with 1 Axes>"
      ]
     },
     "metadata": {
      "needs_background": "light"
     },
     "output_type": "display_data"
    }
   ],
   "source": [
    "plot_cost_history(cost_history=optimizer.cost_history)\n",
    "plt.show()"
   ]
  },
  {
   "cell_type": "markdown",
   "metadata": {},
   "source": [
    "Creating the Neural Network with the final optimized params using GA"
   ]
  },
  {
   "cell_type": "code",
   "execution_count": 25,
   "metadata": {},
   "outputs": [],
   "source": [
    "layer_1 = modelGA.get_layer('layer_1').get_weights()\n",
    "layer_2 = modelGA.get_layer('layer_2').get_weights()\n",
    "\n",
    "layer1_W1_shape = (layer_1[0].shape[0] * layer_1[0].shape[1])\n",
    "layer1_W2_shape = layer1_W1_shape + (layer_1[1].shape[0] * layer_1[1].shape[1])\n",
    "layer1_B_shape = layer1_W2_shape + (layer_1[2].shape[0])\n",
    "layer2_W_shape = layer1_B_shape + (layer_2[0].shape[0] * layer_2[0].shape[1])\n",
    "layer2_B_shape = layer2_W_shape + (layer_2[1].shape[0])\n",
    "\n",
    "layer1_W1 = pos[0:layer1_W1_shape].reshape(layer_1[0].shape)\n",
    "layer1_W2 = pos[layer1_W1_shape:layer1_W2_shape].reshape(layer_1[1].shape)\n",
    "layer1_B = pos[layer1_W2_shape:layer1_B_shape].reshape(layer_1[2].shape)\n",
    "layer2_W = pos[layer1_B_shape:layer2_W_shape].reshape(layer_2[0].shape)\n",
    "layer2_B = pos[layer2_W_shape:layer2_B_shape].reshape(layer_2[1].shape)\n",
    "\n",
    "modelGA.get_layer('layer_1').set_weights([layer1_W1, layer1_W2, layer1_B])\n",
    "modelGA.get_layer('layer_2').set_weights([layer2_W, layer2_B])"
   ]
  },
  {
   "cell_type": "markdown",
   "metadata": {},
   "source": [
    "Checking the performance of the model using GA"
   ]
  },
  {
   "cell_type": "code",
   "execution_count": 26,
   "metadata": {},
   "outputs": [],
   "source": [
    "predictY = modelGA.predict(x_test)"
   ]
  },
  {
   "cell_type": "code",
   "execution_count": 27,
   "metadata": {},
   "outputs": [
    {
     "data": {
      "image/png": "[encoded data removed]",
      "text/plain": [
       "<Figure size 432x288 with 1 Axes>"
      ]
     },
     "metadata": {
      "needs_background": "light"
     },
     "output_type": "display_data"
    }
   ],
   "source": [
    "time = np.arange(predictY.shape[0])\n",
    "\n",
    "plt.plot(time, predictY, y_test)\n",
    "plt.xlabel('time')\n",
    "plt.ylabel('amplitude')\n",
    "plt.show()"
   ]
  },
  {
   "cell_type": "code",
   "execution_count": 28,
   "metadata": {},
   "outputs": [
    {
     "name": "stdout",
     "output_type": "stream",
     "text": [
      "WARNING:tensorflow:AutoGraph could not transform <function Model.make_test_function.<locals>.test_function at 0x7fcfa51280e0> and will run it as-is.\n",
      "Please report this to the TensorFlow team. When filing the bug, set the verbosity to 10 (on Linux, `export AUTOGRAPH_VERBOSITY=10`) and attach the full output.\n",
      "Cause: 'arguments' object has no attribute 'posonlyargs'\n",
      "To silence this warning, decorate the function with @tf.autograph.experimental.do_not_convert\n"
     ]
    },
    {
     "name": "stderr",
     "output_type": "stream",
     "text": [
      "2022-05-29 20:38:54,707 - tensorflow - WARNING - AutoGraph could not transform <function Model.make_test_function.<locals>.test_function at 0x7fcfa51280e0> and will run it as-is.\n",
      "Please report this to the TensorFlow team. When filing the bug, set the verbosity to 10 (on Linux, `export AUTOGRAPH_VERBOSITY=10`) and attach the full output.\n",
      "Cause: 'arguments' object has no attribute 'posonlyargs'\n",
      "To silence this warning, decorate the function with @tf.autograph.experimental.do_not_convert\n"
     ]
    },
    {
     "name": "stdout",
     "output_type": "stream",
     "text": [
      "WARNING: AutoGraph could not transform <function Model.make_test_function.<locals>.test_function at 0x7fcfa51280e0> and will run it as-is.\n",
      "Please report this to the TensorFlow team. When filing the bug, set the verbosity to 10 (on Linux, `export AUTOGRAPH_VERBOSITY=10`) and attach the full output.\n",
      "Cause: 'arguments' object has no attribute 'posonlyargs'\n",
      "To silence this warning, decorate the function with @tf.autograph.experimental.do_not_convert\n",
      "1/1 [==============================] - 1s 520ms/step - loss: 0.0069 - mean_squared_error: 0.0069 - r_square_loss: 1.8821\n"
     ]
    }
   ],
   "source": [
    "lossNN_GA = modelGA.evaluate(x_test, y_test)"
   ]
  },
  {
   "cell_type": "code",
   "execution_count": 29,
   "metadata": {},
   "outputs": [
    {
     "name": "stdout",
     "output_type": "stream",
     "text": [
      "The loss output for test dataset is: 0.006856\n"
     ]
    }
   ],
   "source": [
    "print('The loss output for test dataset is: %f' % lossNN_GA[0])"
   ]
  },
  {
   "cell_type": "code",
   "execution_count": 30,
   "metadata": {},
   "outputs": [
    {
     "name": "stdout",
     "output_type": "stream",
     "text": [
      "We see that the loss output for test dataset using Back Propagation is: 0.305604, while the loss output using GA is: 0.006856\n"
     ]
    }
   ],
   "source": [
    "print('We see that the loss output for test dataset using Back Propagation is: %f, while the loss output using GA is: %f' % (lossNN[0], lossNN_GA[0]))"
   ]
  },
  {
   "cell_type": "code",
   "execution_count": null,
   "metadata": {},
   "outputs": [],
   "source": []
  }
 ],
 "metadata": {
  "kernelspec": {
   "display_name": "Python 3",
   "language": "python",
   "name": "python3"
  },
  "language_info": {
   "codemirror_mode": {
    "name": "ipython",
    "version": 3
   },
   "file_extension": ".py",
   "mimetype": "text/x-python",
   "name": "python",
   "nbconvert_exporter": "python",
   "pygments_lexer": "ipython3",
   "version": "3.8.8"
  }
 },
 "nbformat": 4,
 "nbformat_minor": 4
}
